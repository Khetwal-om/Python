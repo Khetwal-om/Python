{
 "cells": [
  {
   "cell_type": "markdown",
   "metadata": {},
   "source": [
    "# Format"
   ]
  },
  {
   "cell_type": "code",
   "execution_count": 2,
   "metadata": {},
   "outputs": [
    {
     "name": "stdout",
     "output_type": "stream",
     "text": [
      "10 is less than 20\n"
     ]
    }
   ],
   "source": [
    "a=10\n",
    "b=20\n",
    "if a<b:\n",
    "    print('{} is less than {}'.format(a,b))\n",
    "elif a==b:\n",
    "    print('{} is equal to {}'.format(a,b))\n",
    "else:\n",
    "    print('{} is greater than {}'.format(a,b))"
   ]
  },
  {
   "cell_type": "markdown",
   "metadata": {},
   "source": [
    "# fibonacci"
   ]
  },
  {
   "cell_type": "code",
   "execution_count": 4,
   "metadata": {},
   "outputs": [
    {
     "name": "stdout",
     "output_type": "stream",
     "text": [
      "0\n",
      "1\n",
      "1\n",
      "2\n",
      "3\n",
      "5\n",
      "8\n",
      "13\n",
      "21\n",
      "34\n"
     ]
    }
   ],
   "source": [
    "a,b=0,1\n",
    "for i in range(0,10):\n",
    "    print(a)\n",
    "    a,b=b,a+b"
   ]
  },
  {
   "cell_type": "markdown",
   "metadata": {},
   "source": [
    "# List comprehensions"
   ]
  },
  {
   "cell_type": "code",
   "execution_count": 5,
   "metadata": {},
   "outputs": [
    {
     "name": "stdout",
     "output_type": "stream",
     "text": [
      "[1, 4, 9, 16, 25, 36, 49, 64, 81, 100]\n"
     ]
    }
   ],
   "source": [
    "list_a=[1,2,3,4,5,6,7,8,9,10]\n",
    "squares=[num*num for num in list_a]\n",
    "print(squares)"
   ]
  },
  {
   "cell_type": "markdown",
   "metadata": {},
   "source": [
    "# generators"
   ]
  },
  {
   "cell_type": "code",
   "execution_count": 6,
   "metadata": {},
   "outputs": [
    {
     "name": "stdout",
     "output_type": "stream",
     "text": [
      "1:0\n",
      "2:1\n",
      "3:1\n",
      "4:2\n",
      "5:3\n",
      "6:5\n",
      "7:8\n",
      "8:13\n",
      "9:21\n",
      "10:34\n"
     ]
    }
   ],
   "source": [
    "def fib(num):\n",
    "    a,b=0,1\n",
    "    for i in range(0,num):\n",
    "        yield '{}:{}'.format(i+1,a)\n",
    "        a,b=b,a+b\n",
    "        \n",
    "        \n",
    "for item in fib(10):\n",
    "    print(item)"
   ]
  },
  {
   "cell_type": "markdown",
   "metadata": {},
   "source": [
    "# iteritems() gives one item at a time"
   ]
  },
  {
   "cell_type": "code",
   "execution_count": 9,
   "metadata": {},
   "outputs": [
    {
     "name": "stdout",
     "output_type": "stream",
     "text": [
      "my name is Joey\n",
      "my age is 28\n",
      "my occupation is actor\n"
     ]
    }
   ],
   "source": [
    "my={'name':'Joey','age':'28','occupation':'actor'}\n",
    "for key,val in my.items():\n",
    "    print('my {} is {}'.format(key,val))"
   ]
  },
  {
   "cell_type": "markdown",
   "metadata": {},
   "source": [
    "# inheritance"
   ]
  },
  {
   "cell_type": "code",
   "execution_count": 13,
   "metadata": {},
   "outputs": [
    {
     "name": "stdout",
     "output_type": "stream",
     "text": [
      "My name is Robert Downy Jr.\n",
      "I am Ironman\n",
      "My name is Wade wilson\n",
      "I am Deadpool\n"
     ]
    }
   ],
   "source": [
    "class Person(object):\n",
    "    def __init__(self,name):\n",
    "        self.name=name\n",
    "    \n",
    "    def reveal_identity(self):\n",
    "        print(\"My name is {}\".format(self.name))\n",
    "        \n",
    "class SuperHero(Person):\n",
    "    def __init__(self,name,hero_name):\n",
    "        super(SuperHero,self).__init__(name)\n",
    "        self.hero_name=hero_name\n",
    "        \n",
    "    def reveal_identity(self):\n",
    "        super(SuperHero,self).reveal_identity()\n",
    "        print(\"I am {}\".format(self.hero_name))\n",
    "        \n",
    "obj=SuperHero('Robert Downy Jr.','Ironman')\n",
    "obj.reveal_identity()\n",
    "\n",
    "\n",
    "obj=SuperHero('Wade wilson','Deadpool')\n",
    "obj.reveal_identity()"
   ]
  },
  {
   "cell_type": "code",
   "execution_count": null,
   "metadata": {},
   "outputs": [],
   "source": []
  }
 ],
 "metadata": {
  "kernelspec": {
   "display_name": "Python 3",
   "language": "python",
   "name": "python3"
  },
  "language_info": {
   "codemirror_mode": {
    "name": "ipython",
    "version": 3
   },
   "file_extension": ".py",
   "mimetype": "text/x-python",
   "name": "python",
   "nbconvert_exporter": "python",
   "pygments_lexer": "ipython3",
   "version": "3.7.2"
  }
 },
 "nbformat": 4,
 "nbformat_minor": 2
}
