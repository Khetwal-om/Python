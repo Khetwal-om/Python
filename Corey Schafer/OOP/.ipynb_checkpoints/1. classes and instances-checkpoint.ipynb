{
 "cells": [
  {
   "cell_type": "code",
   "execution_count": 6,
   "metadata": {},
   "outputs": [
    {
     "name": "stdout",
     "output_type": "stream",
     "text": [
      "Ooo\n",
      "mmmm\n",
      "50000\n",
      "Ooo.mmmm@gmail.com\n",
      "<bound method Employee.full_name of <__main__.Employee object at 0x0000014F056C71D0>>\n",
      "Ooommmm\n"
     ]
    },
    {
     "data": {
      "text/plain": [
       "'Ooommmm'"
      ]
     },
     "execution_count": 6,
     "metadata": {},
     "output_type": "execute_result"
    }
   ],
   "source": [
    "class Employee(object):\n",
    "    def __init__(self,first,last,pay):\n",
    "        self.first=first\n",
    "        self.last=last\n",
    "        self.pay=pay\n",
    "        self.email=first+'.'+last+'@gmail.com'\n",
    "        \n",
    "    def display(self):\n",
    "        print(self.first)\n",
    "        print(self.last)\n",
    "        print(self.pay)\n",
    "        print(self.email)\n",
    "        \n",
    "    def full_name(self):\n",
    "        return '{}{}'.format(self.first,self.last)\n",
    "        \n",
    "obj=Employee('Ooo','mmmm',50000)\n",
    "obj.display()\n",
    "\n",
    "print(obj.full_name)\n",
    "print(obj.full_name())\n",
    "\n",
    "Employee.full_name(obj)\n"
   ]
  },
  {
   "cell_type": "code",
   "execution_count": null,
   "metadata": {},
   "outputs": [],
   "source": []
  }
 ],
 "metadata": {
  "kernelspec": {
   "display_name": "Python 3",
   "language": "python",
   "name": "python3"
  },
  "language_info": {
   "codemirror_mode": {
    "name": "ipython",
    "version": 3
   },
   "file_extension": ".py",
   "mimetype": "text/x-python",
   "name": "python",
   "nbconvert_exporter": "python",
   "pygments_lexer": "ipython3",
   "version": "3.7.2"
  }
 },
 "nbformat": 4,
 "nbformat_minor": 2
}
