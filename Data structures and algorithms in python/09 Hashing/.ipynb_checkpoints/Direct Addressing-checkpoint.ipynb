{
 "cells": [
  {
   "cell_type": "markdown",
   "metadata": {},
   "source": [
    "# Hash Functions\n",
    "\n",
    "* Generate a hash address from a key\n",
    "* Hash table of size m- Hash function should generate addresses in the range[0,m-1]\n",
    "* determinitic\n",
    "* easily coputable\n",
    "* generate addresses with minimum collision\n"
   ]
  },
  {
   "cell_type": "markdown",
   "metadata": {},
   "source": [
    "## Constructing a Hash function\n",
    "\n",
    "1. Truncation\n",
    "2. Midsquare Method\n",
    "3. Folding Method\n",
    "4. Division Method"
   ]
  },
  {
   "cell_type": "markdown",
   "metadata": {},
   "source": [
    "#### Truncation\n",
    "\n",
    "* Extraction or Digit Selection\n",
    "* Generate an address from a key by selecting some digits from the key.\n",
    "\n",
    "> Hash table of size 1000  Addresses in range[0,999]\n",
    "\n",
    "* random selection\n",
    "\n",
    "\n",
    "Keys       |   Hash address\n",
    "-----------|------------\n",
    "5345       |   45\n",
    "4364       |64"
   ]
  },
  {
   "cell_type": "markdown",
   "metadata": {},
   "source": [
    " #### Midsquare method\n",
    " \n",
    " * Square the key\n",
    " * Take some  digits from the middle of the square as address\n",
    " * Hash table of size 100  Addresses in the range[0,99]\n",
    " \n",
    "keys  | Hash values      | Address\n",
    "------------|------------ | ------------\n",
    "1235   |  1525225  | 25"
   ]
  },
  {
   "cell_type": "markdown",
   "metadata": {},
   "source": [
    "#### Folding Method\n",
    "\n",
    "* Break the key into different groups length of each group is same as that of the required address .\n",
    "\n",
    "  * Shift folding\n",
    "  * Boundary folding\n",
    "\n",
    "6811233243  -> 681 123 324\n",
    "\n",
    "> Add all above\\\n",
    "> Now ignore the least significant digit."
   ]
  },
  {
   "cell_type": "markdown",
   "metadata": {},
   "source": [
    "#### Division\n",
    "\n",
    "* Divide the key by table size  ,Take  the remainder as the hash address\n",
    "* H(key)=key mod m  | __range[0,m-1]\n",
    "* Take size of table as prime number (minimise collisions)\n",
    "\n",
    "* Number of record - n\n",
    "* Size of Table - m\n",
    "* Load factor = Number of records / Size of table"
   ]
  },
  {
   "cell_type": "code",
   "execution_count": null,
   "metadata": {},
   "outputs": [],
   "source": []
  }
 ],
 "metadata": {
  "kernelspec": {
   "display_name": "Python 3",
   "language": "python",
   "name": "python3"
  },
  "language_info": {
   "codemirror_mode": {
    "name": "ipython",
    "version": 3
   },
   "file_extension": ".py",
   "mimetype": "text/x-python",
   "name": "python",
   "nbconvert_exporter": "python",
   "pygments_lexer": "ipython3",
   "version": "3.7.2"
  }
 },
 "nbformat": 4,
 "nbformat_minor": 2
}
