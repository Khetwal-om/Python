{
 "cells": [
  {
   "cell_type": "markdown",
   "metadata": {},
   "source": [
    "### Collision -> A key(Alternate place) is mapped to an address that is already occupied.\n",
    "\n",
    "### Collision resolution techniques\n",
    "\n",
    "1. __Open Addressing__ -> Place the colliding key at some empty location inside the hash table itself\n",
    "  * Linear Probing\n",
    "  * Quadratic Probing\n",
    "  * Double Hashing\n",
    "  \n",
    "2. __Separate Chaining__"
   ]
  },
  {
   "cell_type": "markdown",
   "metadata": {},
   "source": [
    "### Linear Probing\n",
    "\n",
    "* Place the colliding key at the next empty location in the table\n",
    "\n",
    "* h(k)=a\n",
    "\n",
    "* h(key)=key%11\n",
    "\n",
    "#### Retrieving a record\n",
    "\n",
    "* Get the hash address by applying hash function to the key\n",
    "* If the key is not found at the hash address : Search linearly after the hash address.\n",
    "* Search is successful - find the key \n",
    "* Search is unsuccessful - Reach an empty location or reach the location where we started"
   ]
  },
  {
   "cell_type": "markdown",
   "metadata": {},
   "source": []
  },
  {
   "cell_type": "markdown",
   "metadata": {},
   "source": []
  },
  {
   "cell_type": "markdown",
   "metadata": {},
   "source": []
  },
  {
   "cell_type": "markdown",
   "metadata": {},
   "source": []
  },
  {
   "cell_type": "markdown",
   "metadata": {},
   "source": []
  },
  {
   "cell_type": "markdown",
   "metadata": {},
   "source": []
  }
 ],
 "metadata": {
  "kernelspec": {
   "display_name": "Python 3",
   "language": "python",
   "name": "python3"
  },
  "language_info": {
   "codemirror_mode": {
    "name": "ipython",
    "version": 3
   },
   "file_extension": ".py",
   "mimetype": "text/x-python",
   "name": "python",
   "nbconvert_exporter": "python",
   "pygments_lexer": "ipython3",
   "version": "3.7.2"
  }
 },
 "nbformat": 4,
 "nbformat_minor": 2
}
