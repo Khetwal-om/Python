{
 "cells": [
  {
   "cell_type": "markdown",
   "metadata": {},
   "source": [
    "# Heap sort.\n",
    "\n",
    "1. Phase 1 - Convert the array to a max heap.\n",
    "2. Phase 2 - Root is successively deleted till there is only one element left in the tree."
   ]
  },
  {
   "cell_type": "markdown",
   "metadata": {},
   "source": [
    "a[1],a[2],......a[n] __Build a max heap of size n__\n",
    "\n",
    "* Heap of size n   a[1],a[2],......a[n]\n",
    "\n",
    "> Root is deleted : Element deleted from root is stored in a[n]\n",
    "\n",
    "* Heap of size n-1  a[1],a[2],......a[n-1]\n",
    "> Root is deleted : Element deleted from root is stored in a[n-1]\n",
    "\n",
    ".............\n",
    "\n",
    "* Heap of size 2   a[1],a[2]\n",
    "> Root is deleted : Element deleted from root is stored in a[2]"
   ]
  },
  {
   "cell_type": "code",
   "execution_count": null,
   "metadata": {},
   "outputs": [],
   "source": [
    "def heap_sort(a,n):\n",
    "    build_heap_bottom_up(a,n)\n",
    "    \n",
    "    while n>1:\n",
    "        maxValue=a[1]\n",
    "        a[1]=a[n]\n",
    "        a[n]=maxValue\n",
    "        n=n-1\n",
    "        restore_down(1,a,n)\n",
    "        \n",
    "def build_heap_bottom_up(a,n):\n",
    "    i=n//2\n",
    "    while i>=1:\n",
    "        restore_down(i,a,n)\n",
    "        i=i-1\n",
    "        \n",
    "def restore_down(i,a,n):\n",
    "    k=a[i]\n",
    "    lchild=2*i\n",
    "    rchild=lchild+1\n",
    "    \n",
    "    while rchild<=n:\n",
    "        if k>=a[lchild] and k>=a[rchild]:\n",
    "            a[i]=k\n",
    "            return \n",
    "        elif a[lchild]>a[rchild]:\n",
    "            a[i]=a[lchild]\n",
    "            i=lchild\n",
    "            \n",
    "        else:\n",
    "            a[i]=a[rchild]\n",
    "            i=rchild\n",
    "            \n",
    "        lchild=2*i\n",
    "        rchild=lchild+1\n",
    "        \n",
    "    #if number of nodes is even \n",
    "    if lchild==n and k<a[lchild]:\n",
    "        a[i]=a[lchild]\n",
    "        i=lchild\n",
    "    a[i]=k\n",
    "    \n",
    "    \n",
    "n=int(input(\"Enter the number of elements\"))\n",
    "a=[None]*(n+1)\n",
    "for i in range(1,n+1):\n",
    "    a[i]=int(input(\"Enter element\"))\n",
    "    \n",
    "heap_sort(a,n)\n",
    "\n",
    "for i in range(1,n+1):\n",
    "    print(a[i],\"  \",end='')\n",
    "print()"
   ]
  },
  {
   "cell_type": "markdown",
   "metadata": {},
   "source": [
    "# Analysis of heap sort\n",
    "\n",
    "* First Phase -heap is built __O(n)__\n",
    "* Delete operation in a heap takes __O(logn)__ time.\n",
    "* Called n-1 times.\n",
    "* Complexity of second phase is __O(nlogn)__\n",
    "* Worst case : __O(nlogn)__\n",
    "* Average case,best case : __O(nlogn)__\n",
    "* Not a stable sort.\n",
    "* In-place sort,space complexity is __O(1)__"
   ]
  },
  {
   "cell_type": "code",
   "execution_count": null,
   "metadata": {},
   "outputs": [],
   "source": []
  }
 ],
 "metadata": {
  "kernelspec": {
   "display_name": "Python 3",
   "language": "python",
   "name": "python3"
  },
  "language_info": {
   "codemirror_mode": {
    "name": "ipython",
    "version": 3
   },
   "file_extension": ".py",
   "mimetype": "text/x-python",
   "name": "python",
   "nbconvert_exporter": "python",
   "pygments_lexer": "ipython3",
   "version": "3.7.2"
  }
 },
 "nbformat": 4,
 "nbformat_minor": 2
}
