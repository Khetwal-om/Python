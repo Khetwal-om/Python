{
 "cells": [
  {
   "cell_type": "markdown",
   "metadata": {},
   "source": [
    " # Shell Short (Diminishing Increment Sort)\n",
    " \n",
    "* Improvement over Insertion SOrt\n",
    "\n",
    "* Increment (h) ->1\n",
    "* h sublists -> Elements that are a distance of h from each other.\n"
   ]
  },
  {
   "cell_type": "markdown",
   "metadata": {},
   "source": []
  },
  {
   "cell_type": "code",
   "execution_count": 2,
   "metadata": {},
   "outputs": [
    {
     "name": "stdout",
     "output_type": "stream",
     "text": [
      "Enter maximum increment (odd value)5\n",
      "[2, 4, 7, 11, 11, 19, 22, 33, 34, 43, 45, 65, 65, 322]\n"
     ]
    }
   ],
   "source": [
    "def shell_sort(a):\n",
    "    h=int(input(\"Enter maximum increment (odd value)\"))\n",
    "    while h>=1:\n",
    "        for i in range(h,len(a)):\n",
    "            temp=a[i]\n",
    "            j=i-h\n",
    "            while j>=0 and a[j]>temp:\n",
    "                a[j+h]=a[j]\n",
    "                j=j-h\n",
    "            a[j+h]=temp\n",
    "        h=h-2\n",
    "    \n",
    "list_a=[65,34,45,322,2,4,65,43,22,11,33,19,7,11]\n",
    "shell_sort(list_a)\n",
    "print(list_a)\n",
    "    "
   ]
  },
  {
   "cell_type": "markdown",
   "metadata": {},
   "source": [
    "### Analysis of shell short\n",
    "\n",
    "1. Running time dependent on number of increments and their values\n",
    "> O(n(log n)\\**2)\\\n",
    "> O(n\\**1.23)\n",
    "> Unstable sort(might change relative order of duplicate elements)\n",
    "> In-place sort ( space complexity O(1))\n",
    "\n",
    "---\n",
    "\n",
    "\n",
    "* Insertion sort is efficient \n",
    ">  When size of list is small\\\n",
    "> when list is almost sorted\n",
    "\n",
    "* Increment is large: size of sublist is small (so sorting is efficient)\n",
    "* Increment is small: size of sublists increases but then also sorting is efficient because sublists are sorted."
   ]
  },
  {
   "cell_type": "markdown",
   "metadata": {},
   "source": [
    "# # Choice of increment in shell sort\n",
    "\n",
    "* Increments which are relatively prime are a good choice.\n",
    "* knuth\n",
    "\n",
    "> h1=1,h(i+1)=3hi+1\\\n",
    "stop at hi when hi>(n-1)/9\\\n",
    "n=10000\n",
    "Increments are - 1,4,13,40,121,364,1093,3280"
   ]
  },
  {
   "cell_type": "code",
   "execution_count": null,
   "metadata": {},
   "outputs": [],
   "source": []
  }
 ],
 "metadata": {
  "kernelspec": {
   "display_name": "Python 3",
   "language": "python",
   "name": "python3"
  },
  "language_info": {
   "codemirror_mode": {
    "name": "ipython",
    "version": 3
   },
   "file_extension": ".py",
   "mimetype": "text/x-python",
   "name": "python",
   "nbconvert_exporter": "python",
   "pygments_lexer": "ipython3",
   "version": "3.7.2"
  }
 },
 "nbformat": 4,
 "nbformat_minor": 2
}
