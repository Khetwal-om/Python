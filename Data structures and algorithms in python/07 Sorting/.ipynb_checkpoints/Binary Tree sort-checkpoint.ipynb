{
 "cells": [
  {
   "cell_type": "markdown",
   "metadata": {},
   "source": [
    "# Binary Tree sort\n",
    "\n",
    "1. Construction phase\n",
    "> Create a binary search tree from the given data.\n",
    "\n",
    "2. Traversal Phase\n",
    "> Traverse the binary search tree in inorder.\n",
    "(inorder gives data in ascending order)."
   ]
  },
  {
   "cell_type": "code",
   "execution_count": 1,
   "metadata": {},
   "outputs": [
    {
     "name": "stdout",
     "output_type": "stream",
     "text": [
      "Enter the numbe of elements to be sorted5\n",
      "Enter element23\n",
      "Enter element45\n",
      "Enter element2\n",
      "Enter element4\n",
      "Enter element95\n",
      "2   \n",
      "4   \n",
      "23   \n",
      "45   \n",
      "95   \n",
      "\n"
     ]
    }
   ],
   "source": [
    "class Node:\n",
    "    def __init__(self,value):\n",
    "        self.info=value\n",
    "        self.lchild=None\n",
    "        self.rchild=None\n",
    "        \n",
    "class BinarySearchTree:\n",
    "    def __init__(self):\n",
    "        self.root=None\n",
    "        \n",
    "    def is_empty(self):\n",
    "        return self.root==None\n",
    "    \n",
    "    def insert(self,x):\n",
    "        self.root=self._insert(self.root,x)\n",
    "        \n",
    "    def _insert(self,p,x):\n",
    "        if p is None:\n",
    "            p=Node(x)\n",
    "        elif x<p.info:\n",
    "            p.lchild=self._insert(p.lchild,x)\n",
    "        else:\n",
    "            p.rchild=self._insert(p.rchild,x)\n",
    "        return p\n",
    "    \n",
    "    \n",
    "    def inorder(self):\n",
    "        self._inorder(self.root)\n",
    "        print()\n",
    "        \n",
    "        \n",
    "    def _inorder(self,p):\n",
    "        if p is None:\n",
    "            return \n",
    "        self._inorder(p.lchild)\n",
    "        print(p.info,'  ')\n",
    "        self._inorder(p.rchild)\n",
    "        \n",
    "        \n",
    "n=int(input(\"Enter the numbe of elements to be sorted\"))\n",
    "tree=BinarySearchTree()\n",
    "for i in range(n):\n",
    "    x=int(input(\"Enter element\"))\n",
    "    tree.insert(x)\n",
    "    \n",
    "tree.inorder()"
   ]
  },
  {
   "cell_type": "markdown",
   "metadata": {},
   "source": [
    "* Maximum height possible n   tree reduces to a chain  __O(n**2)__\n",
    "* Minimum height possible [log(n+1)]  Tree is balanced. __O(nlogn)__\n",
    "* All basic operations in binary search tree run in order **O(h)**\n",
    "* Insertion of an element is **O(h)**.\n",
    "* Insertion of n elements will be **O(nh)**."
   ]
  },
  {
   "cell_type": "markdown",
   "metadata": {},
   "source": [
    "* Stable sort - maintains relative order of duplicate elements in sorted output.\n",
    "* Not an in-place sort.(we need memory for creating tree).\n",
    "* Can use Threaded Binary search tree.( no need of stack in traversal phase)\n"
   ]
  },
  {
   "cell_type": "code",
   "execution_count": null,
   "metadata": {},
   "outputs": [],
   "source": []
  }
 ],
 "metadata": {
  "kernelspec": {
   "display_name": "Python 3",
   "language": "python",
   "name": "python3"
  },
  "language_info": {
   "codemirror_mode": {
    "name": "ipython",
    "version": 3
   },
   "file_extension": ".py",
   "mimetype": "text/x-python",
   "name": "python",
   "nbconvert_exporter": "python",
   "pygments_lexer": "ipython3",
   "version": "3.7.2"
  }
 },
 "nbformat": 4,
 "nbformat_minor": 2
}
