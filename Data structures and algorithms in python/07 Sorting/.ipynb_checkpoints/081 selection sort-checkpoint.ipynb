{
 "cells": [
  {
   "cell_type": "markdown",
   "metadata": {},
   "source": [
    "# Selection sort."
   ]
  },
  {
   "cell_type": "markdown",
   "metadata": {},
   "source": [
    "* pass 1 : Find smallest element from a[0] .... a[n-1]\n",
    "> swap with a[0]\n",
    "* pass 2: Find smallest element from a[1]...a[n-1]\n",
    "> swap with a[1]\n",
    "* pass 3: Find smallest element from a[2]...a[n-1]\n",
    "> swap with a[2]]\n",
    ".\n",
    ".\n",
    ".\n",
    "* pass n-1: Find smallest element from a[n-1] and a[n]\n",
    "> swap with a[n-1]"
   ]
  },
  {
   "cell_type": "markdown",
   "metadata": {},
   "source": [
    "---\n",
    "\n",
    "[45,38,59,12,66,23]\n",
    "\n",
    "* pass 1: [12,38,59,45,66,23]\n",
    "* pass 2: [12,23,59,45,66,38]\n",
    "* pass 3: [12,23,38,45,66,59]\n",
    "* pass 4: [12,23,38,45,66,59]\n",
    "* pass 5: [12,23,38,45,59,66]\n",
    "---"
   ]
  },
  {
   "cell_type": "code",
   "execution_count": 8,
   "metadata": {},
   "outputs": [
    {
     "name": "stdout",
     "output_type": "stream",
     "text": [
      "9,8,7,6\n",
      "[6, 7, 8, 9]\n",
      "23,45,2\n",
      "[2, 23, 45]\n",
      "1,34,2,0\n",
      "[0, 1, 2, 34]\n",
      "1,2,3\n",
      "[1, 2, 3]\n"
     ]
    }
   ],
   "source": [
    "def selection_sort(array):\n",
    "    for i in range(len(array)-1):\n",
    "        minIndex=i\n",
    "        for j in range(i+1,len(array)):\n",
    "            if array[j]<array[minIndex]:\n",
    "                minIndex=j\n",
    "        if i!=minIndex:\n",
    "            array[i],array[minIndex]=array[minIndex],array[i]\n",
    "            \n",
    "list_a=list(map(int,input().split(',')))\n",
    "selection_sort(list_a)\n",
    "print(list_a)\n",
    "\n",
    "\n",
    "list_b=list(map(int,input().split(',')))\n",
    "selection_sort(list_b)\n",
    "print(list_b)\n",
    "\n",
    "\n",
    "list_c=list(map(int,input().split(',')))\n",
    "selection_sort(list_c)\n",
    "print(list_c)\n",
    "\n",
    "list_d=list(map(int,input().split(',')))\n",
    "selection_sort(list_d)\n",
    "print(list_d)"
   ]
  },
  {
   "cell_type": "code",
   "execution_count": null,
   "metadata": {},
   "outputs": [],
   "source": []
  },
  {
   "cell_type": "markdown",
   "metadata": {},
   "source": [
    "---\n",
    "## Analysis of selection sort\n",
    "---\n",
    "\n",
    "* Pass1 : a[minIndex] is compared with a[1]...a[n-1] n-1\n",
    "* Pass2 : a[minIndex] is compared with a[2]...a[n-1] n-2\n",
    "* Pass3 : a[minIndex] is compared with a[3]...a[n-1] n-3\n",
    "* Pass4 : a[minIndex] is compared with a[4]...a[n-1] n-4\n",
    "\\.\n",
    "\\.\n",
    "\\.\n",
    "* Pass n-2 : a[minIndex] is compared with a[n-2],a[n-1] 2\n",
    "* Pass n-1 : a[minIndex] is compared with a[n-1] 1\n",
    "\n",
    "\n",
    "---\n",
    "\n",
    "**Total Comparisions** \n",
    "> n(n-1)/2 = O(n*n)   (probe me)\n",
    "\n",
    "---\n",
    "---"
   ]
  },
  {
   "cell_type": "markdown",
   "metadata": {},
   "source": [
    "## Aanlysis of selection sort\n",
    "\n",
    "* Not a data sensitive sort( Number of comparisons is same in all the three cases. viz\n",
    "> sorted\\\n",
    "> reversed sorted\\\n",
    "> unsorted\n",
    "* Less data movement \n",
    "> Only one swap in a single pass(that swap isn't required if the element is at its right place.\n",
    "* In-place movement\n",
    "> means space complexity is of O(1) ,only one single variable is required for swapping\n",
    "* unstable sort\n",
    "> it might change the relative order of duplicate elements."
   ]
  },
  {
   "cell_type": "markdown",
   "metadata": {},
   "source": [
    "### Why unstable sort...\n",
    "\n",
    "[14,24,44,24,8,10,24]\n",
    " \n",
    "say *24a *24b *24c\n",
    "\n",
    "**Inspect this . bac will be the resultant.**"
   ]
  },
  {
   "cell_type": "code",
   "execution_count": null,
   "metadata": {},
   "outputs": [],
   "source": []
  }
 ],
 "metadata": {
  "kernelspec": {
   "display_name": "Python 3",
   "language": "python",
   "name": "python3"
  },
  "language_info": {
   "codemirror_mode": {
    "name": "ipython",
    "version": 3
   },
   "file_extension": ".py",
   "mimetype": "text/x-python",
   "name": "python",
   "nbconvert_exporter": "python",
   "pygments_lexer": "ipython3",
   "version": "3.7.2"
  }
 },
 "nbformat": 4,
 "nbformat_minor": 2
}
