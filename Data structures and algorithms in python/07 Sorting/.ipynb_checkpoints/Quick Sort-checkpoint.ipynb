{
 "cells": [
  {
   "cell_type": "markdown",
   "metadata": {},
   "source": [
    "# Quick Sort(Partition-Exchange technique)\n",
    "\n",
    "---\n",
    "* Hoare in 1959\n",
    "* Divide and conquer technique\n",
    "* An element from the list- Place it at proper postion in the list.\n",
    "\n",
    "> All elements left of pivot are less than or equal to the pivot.\\\n",
    "> All elements right of pivot are greater than or equal to the pivot.\n",
    "\n",
    "---\n",
    "\n",
    "* 5,3,1,9,6,4,7,2 -> 3,1,4,2,5,9,6,7\n",
    "* Repeat for all subjects that contain two or more elements."
   ]
  },
  {
   "cell_type": "markdown",
   "metadata": {},
   "source": [
    "---"
   ]
  },
  {
   "cell_type": "markdown",
   "metadata": {},
   "source": [
    "1. Take the first element of list as pivot.\n",
    "2. Rearrange the list so that pivot comes at proper place . Pivot is placed at index p\n",
    "> low ........p..............up\n",
    "> again split\\\n",
    "  low.........p-1 p p+1...........up\n",
    "\n",
    "3. Left sublist is sorted using quick sort recursively.\n",
    "4. Right sublist is sorted using quick sort recursively.\n",
    "5. Terminating condition for recursion \n",
    "> When the sublist formed contains only one element or no element.\\\n",
    "> low==up ,one element\\\n",
    "> low<up , no element"
   ]
  },
  {
   "cell_type": "markdown",
   "metadata": {},
   "source": [
    "1. Left sublist : low=low,up=p-1\n",
    "2. Right sublist: low=p+1,up=up"
   ]
  },
  {
   "cell_type": "code",
   "execution_count": 1,
   "metadata": {},
   "outputs": [
    {
     "name": "stdout",
     "output_type": "stream",
     "text": [
      "[3, 34, 46, 54, 234]\n"
     ]
    }
   ],
   "source": [
    "def quick_sort(a):\n",
    "    sort(a,0,len(a)-1)\n",
    "    \n",
    "def sort(a,low,up):\n",
    "    if low>=up:\n",
    "        return\n",
    "    p=partition(a,low,up)\n",
    "    sort(a,low,p-1)\n",
    "    sort(a,p+1,up)\n",
    "    \n",
    "def partition(a,low,up):\n",
    "    pivot=a[low]\n",
    "    i=low+1       #moves from left to right\n",
    "    j=up\n",
    "    \n",
    "    while i<=j:\n",
    "        while a[i]<pivot and i<up:\n",
    "            i+=1\n",
    "        while a[j]>pivot:\n",
    "            j-=1\n",
    "            \n",
    "        if i<j:  #swap a[i] and a[j]    \n",
    "            temp=a[i]\n",
    "            a[i]=a[j]\n",
    "            a[j]=temp\n",
    "            i+=1\n",
    "            j-=1\n",
    "        else:   #found proper place for pivot\n",
    "            break\n",
    "            \n",
    "    a[low]=a[j]\n",
    "    a[j]=pivot\n",
    "    \n",
    "    return j\n",
    "\n",
    "\n",
    "list_a=[34,54,3,46,234]\n",
    "quick_sort(list_a)\n",
    "print(list_a)"
   ]
  },
  {
   "cell_type": "markdown",
   "metadata": {},
   "source": [
    "# Analysis of Quick Sort\n",
    "\n",
    "1. Partition is balanced ---> Sorting is fast.\n",
    "2. Partition is unbalanced--> Sorting is slow.\n",
    "\n",
    "### Best case for quick sort.\n",
    "\n",
    "* For each sublist,pivot is placed in the middle of the list.\n",
    "> List of size n\\\n",
    " > 2 sublists of size approximately n/2\\\n",
    " > 4 sublists of size approximately n/4\\\n",
    " > 8 sublists of size approximately n/8\\\n",
    " ................\\\n",
    " > n sublists of size 1\n",
    "\n",
    "\n",
    "* n elements can be repeatedly divided into half approximately __logn__ times.\n",
    "* After having the list __logn__ times we get n sublists of size 1.\n",
    "* Number of comparisions \n",
    "> n+2*(n/2)+4*(n/4)+...+n*(n/n)\\\n",
    "> n+n+n+................+**logn** terms\\\n",
    "> __nlogn__\n",
    "\n",
    "\n",
    "\n",
    "\n",
    "\n",
    "\n",
    "## Worst case for quick sort\n",
    "\n",
    "\n",
    "* If pivot is the smallest or largest element of the list.\n",
    "* One empty sublist and other has n-1 elements.\n",
    "* Worst case occurs if this happens for every sublist.\n",
    "* if first element is pivot\n",
    "> This worst case occurs when the list is fully sorted (or reverse sorted)\n",
    "\n",
    "---\n",
    "\n",
    "* List of n elements\n",
    "> sublists of sizes 0 and n-1 \\\n",
    "> sublists of sizes 0 and n-2  \\\n",
    "> sublists of sizes 0 and n-3\\\n",
    "..............\\\n",
    "> sublists of sizes 0 and 2 \n",
    "\n",
    "* Total number of lists that are sorted = n-1\n",
    "* These lists are of sizes n,n-1,n-2,....2\n",
    "* Total comparisons \n",
    "> n-1+ n-2+n-3+...+1\n",
    "> n(n-1)/2\n",
    "> O(n\\**2)\n",
    "\n",
    "\n",
    "---\n",
    "* Unstable sort : This doesn't maintain the relative order of duplicate elements.\n",
    "*  Space complexity is **O(logn)**"
   ]
  },
  {
   "cell_type": "code",
   "execution_count": null,
   "metadata": {},
   "outputs": [],
   "source": []
  }
 ],
 "metadata": {
  "kernelspec": {
   "display_name": "Python 3",
   "language": "python",
   "name": "python3"
  },
  "language_info": {
   "codemirror_mode": {
    "name": "ipython",
    "version": 3
   },
   "file_extension": ".py",
   "mimetype": "text/x-python",
   "name": "python",
   "nbconvert_exporter": "python",
   "pygments_lexer": "ipython3",
   "version": "3.7.2"
  }
 },
 "nbformat": 4,
 "nbformat_minor": 2
}
