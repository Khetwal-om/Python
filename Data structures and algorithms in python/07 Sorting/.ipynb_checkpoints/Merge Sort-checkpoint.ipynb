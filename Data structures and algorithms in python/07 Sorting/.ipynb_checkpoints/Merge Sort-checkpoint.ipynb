{
 "cells": [
  {
   "cell_type": "markdown",
   "metadata": {},
   "source": [
    "## Merging two sorted arrays"
   ]
  },
  {
   "cell_type": "code",
   "execution_count": 6,
   "metadata": {},
   "outputs": [
    {
     "name": "stdout",
     "output_type": "stream",
     "text": [
      "Enter the number of elements in list one4\n",
      "Enter the elements in sorted order\n",
      "Enter the element3\n",
      "Enter the element4\n",
      "Enter the element6\n",
      "Enter the element7\n",
      "Enter the number of elements in list two4\n",
      "Enter the elements in sorted order\n",
      "Enter the element1\n",
      "Enter the element66\n",
      "Enter the element77\n",
      "Enter the element79\n",
      "----------------------------------\n",
      "[1, 3, 4, 6, 7, 66, 77, 79]\n"
     ]
    }
   ],
   "source": [
    "def merge(a1,a2,temp):\n",
    "    i=0\n",
    "    j=0\n",
    "    k=0\n",
    "    n1=len(a1)\n",
    "    n2=len(a2)\n",
    "    \n",
    "    while i<=n1-1 and j<=n2-1:\n",
    "        if a1[i]<a2[j]:\n",
    "            temp[k]=a1[i]\n",
    "            i+=1\n",
    "        else:\n",
    "            temp[k]=a2[j]\n",
    "            j+=1\n",
    "        k+=1\n",
    "        \n",
    "    \n",
    "    while i<=n1-1:\n",
    "        temp[k]=a1[i]\n",
    "        i+=1\n",
    "        k+=1\n",
    "        \n",
    "    while j<=n2-1:\n",
    "        temp[k]=a2[j]\n",
    "        j+=1\n",
    "        k+=1\n",
    "        \n",
    "\n",
    "\n",
    "\n",
    "\n",
    "\n",
    "\n",
    "n1=int(input(\"Enter the number of elements in list one\"))\n",
    "print(\"Enter the elements in sorted order\")\n",
    "a1=[None]*n1\n",
    "for i in range(n1):\n",
    "    a1[i]=int(input(\"Enter the element\")) #can use append too\n",
    "    \n",
    "n2=int(input(\"Enter the number of elements in list two\"))\n",
    "print(\"Enter the elements in sorted order\")\n",
    "a2=[None]*n2\n",
    "for i in range(n2):\n",
    "    a2[i]=int(input(\"Enter the element\")) #can use append too\n",
    "    \n",
    "temp=[None]*(n1+n2) #the third list in which the resultant will be stored.\n",
    "merge(a1,a2,temp)\n",
    "\n",
    "print(\"----------------------------------\")\n",
    "print(temp)\n"
   ]
  },
  {
   "cell_type": "markdown",
   "metadata": {},
   "source": [
    "---\n",
    "# Merging sorted parts of an array into another array\n",
    "---"
   ]
  },
  {
   "cell_type": "code",
   "execution_count": 13,
   "metadata": {},
   "outputs": [
    {
     "name": "stdout",
     "output_type": "stream",
     "text": [
      "--------------------\n",
      "[1, 2, 4, 7, 45, 67, 82, 86]\n"
     ]
    }
   ],
   "source": [
    "def merge(a,temp,low1,up1,low2,up2):\n",
    "    i=low1\n",
    "    j=low2\n",
    "    k=low1\n",
    "    \n",
    "    while i<=up1 and j<=up2:\n",
    "        if a[i]<=a[j]:\n",
    "            temp[k]=a[i]\n",
    "            i+=1\n",
    "        else:\n",
    "            temp[k]=a[j]\n",
    "            j+=1\n",
    "        k+=1\n",
    "        \n",
    "    while i<=up1:\n",
    "        temp[k]=a[i]\n",
    "        i+=1\n",
    "        k+=1\n",
    "        \n",
    "    while j<=up2:\n",
    "        temp[k]=a[j]\n",
    "        j+=1\n",
    "        k+=1\n",
    "        \n",
    "        \n",
    "        \n",
    "a=[1,2,4,86,7,45,67,82]\n",
    "temp=[None]*len(a)\n",
    "\n",
    "merge(a,temp,0,3,4,7)\n",
    "print(\"--------------------\")\n",
    "print(temp)"
   ]
  },
  {
   "cell_type": "markdown",
   "metadata": {},
   "source": [
    "---\n",
    "### Recursive merge sort.\n",
    "\n",
    "\n",
    "\n",
    "1. Divide and conquer technique\n",
    "2. Divide the list into two sublists of almost equal size.\n",
    "3. Sort the left sublist recursively through merge sort.\n",
    "4. Sort the right sublist recursively through merge sort.\n",
    "4. Merge the two sorted sublists\n",
    "\n",
    "**Terminating condition for recursion - sublist contains only one element.**\n",
    "\n",
    "---"
   ]
  },
  {
   "cell_type": "code",
   "execution_count": 5,
   "metadata": {},
   "outputs": [
    {
     "name": "stdout",
     "output_type": "stream",
     "text": [
      "[1, 3, 22, 23, 34, 56, 67, 90]\n"
     ]
    }
   ],
   "source": [
    "def merge_sort(a):\n",
    "    n=len(a)\n",
    "    temp=[None]*n\n",
    "    sort(a,temp,0,n-1)\n",
    "    \n",
    "def sort(a,temp,low,up): \n",
    "    if low==up:\n",
    "        return\n",
    "    mid=(low+up)//2\n",
    "    \n",
    "    sort(a,temp,low,mid) #sort a[low]....a[mid]\n",
    "    sort(a,temp,mid+1,up)#sort a[mid+1]...a[up]\n",
    "    \n",
    "    #merge a[low]....a[mid] and a[mid+1]...a[up] to temp[low]...temp[up]\n",
    "    merge(a,temp,low,mid,mid+1,up)\n",
    "    \n",
    "    #copy temp[low],low,mid,mid+1,up\n",
    "    copy(a,temp,low,up)\n",
    "    \n",
    "def merge(a,temp,low1,up1,low2,up2):\n",
    "    i=low1\n",
    "    j=low2\n",
    "    k=low1\n",
    "    \n",
    "    while i<=up1 and j<=up2:\n",
    "        if a[i]<=a[j]:\n",
    "            temp[k]=a[i]\n",
    "            i+=1\n",
    "        else:\n",
    "            temp[k]=a[j]\n",
    "            j+=1\n",
    "        k+=1\n",
    "    while i<=up1:\n",
    "        temp[k]=a[i]\n",
    "        i+=1\n",
    "        k+=1\n",
    "        \n",
    "    while j<=up2:\n",
    "        temp[k]=a[j]\n",
    "        j+=1\n",
    "        k+=1\n",
    "        \n",
    "        \n",
    "def copy(a,temp,low,up):\n",
    "    for i in range(low,up+1):\n",
    "        a[i]=temp[i]\n",
    "        \n",
    "list_a=[34,56,23,67,3,22,1,90]\n",
    "merge_sort(list_a)\n",
    "print(list_a)"
   ]
  },
  {
   "cell_type": "raw",
   "metadata": {},
   "source": []
  },
  {
   "cell_type": "markdown",
   "metadata": {},
   "source": [
    "## Analysis of merge sort\n",
    "\n",
    "* n elements can be repeatedly divided into half approximately **logn** times.\n",
    "* After having the list **logn** times we get n sublists of size 1.\n",
    "* In each pass ,n elements are merged which is **O(n)**.\n",
    "* Performance of merge sort is **O(nlogn)**.\n",
    "* Stable sort (maintains relative order of duplicate elements).\n",
    "* Not an in-place sort,needs **O(n)** extra space."
   ]
  },
  {
   "cell_type": "code",
   "execution_count": null,
   "metadata": {},
   "outputs": [],
   "source": []
  },
  {
   "cell_type": "markdown",
   "metadata": {},
   "source": [
    "### Bottom up Merge sort(iterative)\n",
    "\n",
    "* List of n elements ----> n sorted sublists of size 1\n",
    "* Adjacent sublists of size 1 are merged ---> n/2 sublists of size 2 one more list of size 1\n",
    "* Adjacent sublists of size 2 are merged ---> n/4 sublists of size 4 one more list of size 1,2 or 3\\\n",
    "........................................\n",
    "*                           one sublist of size n"
   ]
  },
  {
   "cell_type": "code",
   "execution_count": 6,
   "metadata": {},
   "outputs": [
    {
     "name": "stdout",
     "output_type": "stream",
     "text": [
      "[1, 2, 3, 34, 45, 435]\n"
     ]
    }
   ],
   "source": [
    "def merge_sort(a):\n",
    "    n=len(a)\n",
    "    temp=[None]*n\n",
    "    size=1\n",
    "    while size<=n-1:\n",
    "        sort_pass(a,temp,size,n)\n",
    "        size=size*2\n",
    "        \n",
    "def sort_pass(a,temp,size,n):\n",
    "    low1=0\n",
    "    while low1+size<=n-1:\n",
    "        up1=low1+size-1\n",
    "        low2=low1+size\n",
    "        up2=low2+size-1\n",
    "        \n",
    "        if up2>=n:  #if length of last sublist is smaller than the size\n",
    "            up2=n-1\n",
    "            \n",
    "        merge(a,temp,low1,up1,low2,up2)\n",
    "        low1=up2+1 #take next two sublists for merging\n",
    "        \n",
    "    for i in range(low1,n):\n",
    "        temp[i]=a[i]  #if any sublist is left alone\n",
    "     \n",
    "    copy(a,temp,n)\n",
    "    \n",
    "#a[low1]...a[up2] and a[low2]...a[up2] merged to temp[low1]...temp[up2]\n",
    "\n",
    "def merge(a,temp,low1,up1,low2,up2):\n",
    "    i=low1\n",
    "    j=low2\n",
    "    k=low1\n",
    "    \n",
    "    while i<=up1 and j<=up2:\n",
    "        if a[i]<=a[j]:\n",
    "            temp[k]=a[i]\n",
    "            i+=1\n",
    "        else:\n",
    "            temp[k]=a[j]\n",
    "            j+=1\n",
    "        k+=1\n",
    "        \n",
    "    while i<=up1:\n",
    "        temp[k]=a[i]\n",
    "        i+=1\n",
    "        k+=1\n",
    "        \n",
    "    while j<=up2:\n",
    "        temp[k]=a[j]\n",
    "        j+=1\n",
    "        k+=1\n",
    "\n",
    "#copies temp[low]....temp[up] to a[low]...a[up]\n",
    "def copy(a,temp,n):        \n",
    "    for i in range(n):\n",
    "        a[i]=temp[i]\n",
    "        \n",
    "list_a=[3,34,2,1,435,45]\n",
    "merge_sort(list_a)\n",
    "print(list_a)"
   ]
  },
  {
   "cell_type": "code",
   "execution_count": null,
   "metadata": {},
   "outputs": [],
   "source": []
  }
 ],
 "metadata": {
  "kernelspec": {
   "display_name": "Python 3",
   "language": "python",
   "name": "python3"
  },
  "language_info": {
   "codemirror_mode": {
    "name": "ipython",
    "version": 3
   },
   "file_extension": ".py",
   "mimetype": "text/x-python",
   "name": "python",
   "nbconvert_exporter": "python",
   "pygments_lexer": "ipython3",
   "version": "3.7.2"
  }
 },
 "nbformat": 4,
 "nbformat_minor": 2
}
