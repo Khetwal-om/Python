{
 "cells": [
  {
   "cell_type": "markdown",
   "metadata": {},
   "source": [
    "---\n",
    "\n",
    "\n",
    "* n elements : a[0],a[1]...,a[n-2],a[n-1]\n",
    "\n",
    "---\n"
   ]
  },
  {
   "cell_type": "markdown",
   "metadata": {},
   "source": [
    "### Pass1:\n",
    "\n",
    "* Sorted part : a[0]\n",
    "* Unsorted part : a[1],a[2],a[3],....,a[n-1]\n",
    "* Element inserted in sorted part: a[1]\n",
    "\n",
    "**First two elements are sorted...as only first two elements were compared.**\n",
    "\n",
    "---\n",
    "\n",
    "### Pass2:\n",
    "\n",
    "* Sorted part : a[0],a[1]\n",
    "* Unsorted part : a[2]...,a[n-2],a[n-1]\n",
    "* Element inserted in sorted part : a[2]\n",
    "\n",
    "**3 elements are sorted**\n",
    "\n",
    "---\n",
    "\n",
    "### Pass3:\n",
    "\n",
    ".\n",
    ".\n",
    ".\n",
    "\n",
    "---\n",
    "\n",
    "### Pass n-1:\n",
    "\n",
    "* Sorted part: a[0],a[1],a[2]...,a[n-2]\n",
    "* Unsorted part: a[n-1]\n",
    "* Element inserted in sorted part: a[n-1]\n",
    "\n",
    "---"
   ]
  },
  {
   "cell_type": "code",
   "execution_count": 1,
   "metadata": {},
   "outputs": [
    {
     "name": "stdout",
     "output_type": "stream",
     "text": [
      "[2, 3, 12, 23, 34, 53]\n"
     ]
    }
   ],
   "source": [
    "def insertion_sort(a):\n",
    "    for i in range(1,len(a)):\n",
    "        temp=a[i]\n",
    "        j=i-1\n",
    "        while j>=0 and a[j]>temp:\n",
    "            a[j+1]=a[j]\n",
    "            j=j-1\n",
    "        a[j+1]=temp\n",
    "        \n",
    "array=[12,34,2,3,53,23]\n",
    "insertion_sort(array)\n",
    "print(array)"
   ]
  },
  {
   "cell_type": "code",
   "execution_count": null,
   "metadata": {},
   "outputs": [],
   "source": []
  },
  {
   "cell_type": "markdown",
   "metadata": {},
   "source": [
    "# Analysis of insertion sort\n",
    "\n",
    "* Outer loop -> n-1 iterations\n",
    "* Inner loop -> 0 to i iterations\n",
    " > Minimum 0 iterations\\\n",
    " > Maximum i iterations"
   ]
  },
  {
   "cell_type": "markdown",
   "metadata": {},
   "source": []
  },
  {
   "cell_type": "markdown",
   "metadata": {},
   "source": [
    "1. Data in sorted orted\n",
    "\n",
    "> In each iteration of for loop -> a[i] is in proper place -> 1 comparison ,  Two moves\n",
    "---\n",
    "\n",
    "> Total comparisons = n-1  O(n)\\\n",
    "> Total moves = 2(n-1)\n",
    "\n"
   ]
  },
  {
   "cell_type": "markdown",
   "metadata": {},
   "source": [
    "2. Data in reverse sorted order\n",
    "\n",
    "> a[i]< a[0],a[1]....a[i-1]\n",
    "> a[i]-> index 0 ->  i comparisons\\\n",
    "            i+2 moves\n",
    "> Total comparisons = 1+2+3+....+(n-1)=n(n-1)/2 =O(n\\**n)\n",
    "\n",
    "> Total moves  = n(n-1)/2+2(n-1)=O(n\\**2)"
   ]
  },
  {
   "cell_type": "markdown",
   "metadata": {},
   "source": [
    "3. Data in random order\n",
    "\n",
    "> Equal probability of occupying all array locations\n",
    "> Average comparisons in ith iteration of for loop= (1+2+3.....+i +i)/i+1\n",
    "= i/2+1-1/(i+1)\n",
    "> Average moves in ith iteration of for loop =\n",
    "    (0+1+2.... +(i-1)+i)/(i+1)=i/2\n",
    "    \n",
    "> Total comparisons : O(n\\**2)\n",
    "> Total Moves : O(n\\**2)\n"
   ]
  },
  {
   "cell_type": "code",
   "execution_count": null,
   "metadata": {},
   "outputs": [],
   "source": []
  }
 ],
 "metadata": {
  "kernelspec": {
   "display_name": "Python 3",
   "language": "python",
   "name": "python3"
  },
  "language_info": {
   "codemirror_mode": {
    "name": "ipython",
    "version": 3
   },
   "file_extension": ".py",
   "mimetype": "text/x-python",
   "name": "python",
   "nbconvert_exporter": "python",
   "pygments_lexer": "ipython3",
   "version": "3.7.2"
  }
 },
 "nbformat": 4,
 "nbformat_minor": 2
}
