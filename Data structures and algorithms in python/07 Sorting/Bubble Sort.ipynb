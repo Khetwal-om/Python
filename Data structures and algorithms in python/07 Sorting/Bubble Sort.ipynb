{
 "cells": [
  {
   "cell_type": "markdown",
   "metadata": {},
   "source": [
    "# Bubble sort\n",
    "\n",
    "* Adjacent elements are compared and swapped if they are not in order.\n",
    "\n"
   ]
  },
  {
   "cell_type": "markdown",
   "metadata": {},
   "source": [
    "* n elements: a[0],a[1],a[2]....,a[n-2],a[n-1]\n",
    "\n",
    "---\n",
    "**pass 1**:\n",
    "\n",
    "__compare__\n",
    "\n",
    "> a[0] and a[1] ,if a[0]>a[1]- Swap them\\\n",
    "> a[1] and a[2] ,if a[1]>a[2]- Swap them\\\n",
    "> a[2] and a[3] ,if a[2]>a[3]- Swap them\\\n",
    "> a[3] and a[4] ,if a[3]>a[4]- Swap them\\\n",
    "> a[4] and a[5] ,if a[4]>a[5]- Swap them\\\n",
    ">.\\\n",
    ">.\\\n",
    ">.\\\n",
    "> a[n-2] and a[n-1] ,if a[n-2]>a[n-1]- Swap them\n",
    "---\n",
    "\n",
    "### At the end of pass1 the biggest element will come at (n-1)th position.\n",
    "\n",
    "\n",
    "---\n",
    "**pass 2**:\n",
    "\n",
    "__compare__\n",
    "\n",
    "> a[0] and a[1] ,if a[0]>a[1]- Swap them\\\n",
    "> a[1] and a[2] ,if a[1]>a[2]- Swap them\\\n",
    "> a[2] and a[3] ,if a[2]>a[3]- Swap them\\\n",
    "> a[3] and a[4] ,if a[3]>a[4]- Swap them\\\n",
    "> a[4] and a[5] ,if a[4]>a[5]- Swap them\\\n",
    ">.\\\n",
    ">.\\\n",
    ">.\\\n",
    "> a[n-3] and a[n-2] ,if a[n-3]>a[n-2]- Swap them __n-1__ is already sorted in pass1\n",
    "\n",
    "---\n",
    "\n",
    "### At the end of pass2 the second biggest element will come at (n-2)th position.\n",
    "\n",
    "\n",
    "---\n",
    "**pass 3**:\n",
    "\n",
    "__compare__\n",
    "\n",
    "> a[0] and a[1] ,if a[0]>a[1]- Swap them\\\n",
    "> a[1] and a[2] ,if a[1]>a[2]- Swap them\\\n",
    "> a[2] and a[3] ,if a[2]>a[3]- Swap them\\\n",
    "> a[3] and a[4] ,if a[3]>a[4]- Swap them\\\n",
    "> a[4] and a[5] ,if a[4]>a[5]- Swap them\\\n",
    ">.\\\n",
    ">.\\\n",
    ">.\\\n",
    "> a[n-4] and a[n-3] ,if a[n-4]>a[n-3]- Swap them __n-2__ is already sorted in pass1\n",
    "\n",
    "---\n",
    "\n",
    "### At the end of pass3 the third biggest element will come at (n-3)th position.\n",
    "\n",
    "\n",
    "\n",
    "---\n",
    "**pass (n-1)**:\n",
    "\n",
    "__compare__\n",
    "\n",
    "> a[0] and a[1] ,if a[0]>a[1]- Swap them\\\n",
    "\n",
    "\n",
    "---\n",
    "\n",
    "### At the end of pass2(n-1) th pass array will be sorted.\n",
    "\n"
   ]
  },
  {
   "cell_type": "markdown",
   "metadata": {},
   "source": [
    "---\n",
    "array is [45,23,59,66,38,12]\n",
    "\n",
    "* pass1: \n",
    "> 23,45,59,66,38,12\\\n",
    "> 23,45,59,38,66,12\\\n",
    "> 23,45,59,38,12,66\n",
    "\n",
    "* pass 2\n",
    "> 23,45,38,59,12,66\\\n",
    "> 23,45,38,12,59,66\n",
    "\n",
    "* pass3\n",
    "> 23,38,45,12,59,66\\\n",
    "> 23,38,12,45,59,66\n",
    "\n",
    "* pass4 \n",
    "> 23,12,38,45,59,66\n",
    "\n",
    "* pass5\n",
    "> 12,23,38,45,59,66\n",
    "\n",
    "---"
   ]
  },
  {
   "cell_type": "code",
   "execution_count": 6,
   "metadata": {},
   "outputs": [
    {
     "name": "stdout",
     "output_type": "stream",
     "text": [
      "12,3,5\n",
      "[3, 5, 12]\n"
     ]
    }
   ],
   "source": [
    "def bubble_sort(array):\n",
    "    for i in range(len(array)-1,0,-1):\n",
    "        for j in range(i):\n",
    "            if array[j]>array[j+1]:\n",
    "                array[j],array[j+1]=array[j+1],array[j]\n",
    "            \n",
    "                \n",
    "            \n",
    "list_a=list(map(int,input().split(',')))\n",
    "bubble_sort(list_a)\n",
    "print(list_a)"
   ]
  },
  {
   "cell_type": "code",
   "execution_count": 7,
   "metadata": {},
   "outputs": [
    {
     "name": "stdout",
     "output_type": "stream",
     "text": [
      "23,8,71,11\n",
      "after pass 0 ------ [8, 23, 71, 11]\n",
      "after pass 1 ------ [8, 23, 71, 11]\n",
      "after pass 2 ------ [8, 23, 11, 71]\n",
      "after sort  3 ------ [8, 23, 11, 71]\n",
      "after pass 0 ------ [8, 23, 11, 71]\n",
      "after pass 1 ------ [8, 11, 23, 71]\n",
      "after sort  2 ------ [8, 11, 23, 71]\n",
      "after pass 0 ------ [8, 11, 23, 71]\n",
      "after sort  1 ------ [8, 11, 23, 71]\n",
      "[8, 11, 23, 71]\n"
     ]
    }
   ],
   "source": [
    "def bubble_sort(array):\n",
    "    for i in range(len(array)-1,0,-1):\n",
    "        for j in range(i):\n",
    "            if array[j]>array[j+1]:\n",
    "                array[j],array[j+1]=array[j+1],array[j]\n",
    "            print('after pass',j,'------',array)\n",
    "        print('after sort ',i,'------',array)\n",
    "                \n",
    "            \n",
    "list_a=list(map(int,input().split(',')))\n",
    "bubble_sort(list_a)\n",
    "print(list_a)"
   ]
  },
  {
   "cell_type": "code",
   "execution_count": 9,
   "metadata": {},
   "outputs": [
    {
     "name": "stdout",
     "output_type": "stream",
     "text": [
      "23,43\n",
      "after pass 0 ------ [23, 43]\n",
      "after sort  1 ------ [23, 43]\n",
      "[23, 43]\n"
     ]
    }
   ],
   "source": [
    "def bubble_sort(array):\n",
    "    for i in range(len(array)-1,0,-1):\n",
    "        for j in range(i):\n",
    "            if array[j]>array[j+1]:\n",
    "                array[j],array[j+1]=array[j+1],array[j]\n",
    "            print('after pass',j,'------',array)\n",
    "        print('after sort ',i,'------',array)\n",
    "                \n",
    "            \n",
    "list_a=list(map(int,input().split(',')))\n",
    "bubble_sort(list_a)\n",
    "print(list_a)"
   ]
  },
  {
   "cell_type": "markdown",
   "metadata": {},
   "source": [
    "---\n",
    "\n",
    "# Improvement in bubble sort\n",
    "\n",
    "---\n",
    "\n",
    "* Array of n elements can become sorted in less than n-1 passes\n",
    "\n",
    "array is [42,21,13,34,65,51]\\\n",
    "pass 1: \n",
    "> [21,42,13,34,65,51]\\\n",
    "> [21,13,42,34,65,51]\\\n",
    "> [21,13,34,42,65,51]\\\n",
    "> [21,13,34,42,51,65]\n",
    "\n",
    "pass 2:\n",
    "> [13,21,34,42,51,65]\n",
    "\n",
    "\n",
    "\n",
    "---\n",
    "* __Count__ the number of passes ,if count=0 then the array has sorted.\n",
    "---\n",
    "\n",
    "\n",
    "---\n",
    "# The following are two programs with flag as swap. Check the difference.\n",
    "---"
   ]
  },
  {
   "cell_type": "code",
   "execution_count": 11,
   "metadata": {},
   "outputs": [
    {
     "name": "stdout",
     "output_type": "stream",
     "text": [
      "flag 3\n",
      "flag 3\n",
      "flag 2\n",
      "flag 0\n",
      "[2, 5, 11, 23, 34, 45, 98]\n"
     ]
    }
   ],
   "source": [
    "def bubble_sort(array):\n",
    "    for i in range(len(array)-1,0,-1):\n",
    "        flag=0\n",
    "        for j in range(i):\n",
    "            if array[j]>array[j+1]:\n",
    "                flag+=1\n",
    "                array[j],array[j+1]=array[j+1],array[j]\n",
    "        print('flag',flag)\n",
    "        if flag==0:\n",
    "            break\n",
    "list_a=[23,34,2,45,5,11,98]\n",
    "bubble_sort(list_a)\n",
    "print(list_a)"
   ]
  },
  {
   "cell_type": "code",
   "execution_count": 12,
   "metadata": {},
   "outputs": [
    {
     "name": "stdout",
     "output_type": "stream",
     "text": [
      "flag 3\n",
      "flag 3\n",
      "flag 2\n",
      "flag 0\n",
      "flag 0\n",
      "flag 0\n",
      "[2, 5, 11, 23, 34, 45, 98]\n"
     ]
    }
   ],
   "source": [
    "def bubble_sort(array):\n",
    "    for i in range(len(array)-1,0,-1):\n",
    "        flag=0\n",
    "        for j in range(i):\n",
    "            if array[j]>array[j+1]:\n",
    "                flag+=1\n",
    "                array[j],array[j+1]=array[j+1],array[j]\n",
    "        print('flag',flag)\n",
    "list_a=[23,34,2,45,5,11,98]\n",
    "bubble_sort(list_a)\n",
    "print(list_a)"
   ]
  },
  {
   "cell_type": "markdown",
   "metadata": {},
   "source": [
    " ---\n",
    " \n",
    " ### Analysis of Bubble Sort\n",
    " \n",
    " \n",
    " 1. Data sensitive sort (performance depends on input data's order.\n",
    " \n",
    " * Data in sorted order  \n",
    " > Only one pass \\\n",
    " > Number of comparisons = (n-1)\\\n",
    " > No swaps\\\n",
    " > Time complexity is O(n)\n",
    " * Data in reverse sorted order\n",
    " > n-1 passes\n",
    " > Number of comparisons=(n-1)+(n-2)+.....+3+2+1=n(n-1)/2\\\n",
    " > O(n*n)\n",
    " > swaps = n(n-1)/2\n",
    " \n",
    " * Data in random order\n",
    " > Total comparisons in ith pass = n-i\\\n",
    " > p passes\\\n",
    " > Number of comparisons \\\n",
    "    = (n-1)+(n-2)+(n-3)+...+(n-p)\\\n",
    "    = (2pn-p*p-p )/2\\\n",
    " > O(n***2)\n",
    " ---"
   ]
  },
  {
   "cell_type": "code",
   "execution_count": null,
   "metadata": {},
   "outputs": [],
   "source": [
    "\n",
    "\n"
   ]
  }
 ],
 "metadata": {
  "kernelspec": {
   "display_name": "Python 3",
   "language": "python",
   "name": "python3"
  },
  "language_info": {
   "codemirror_mode": {
    "name": "ipython",
    "version": 3
   },
   "file_extension": ".py",
   "mimetype": "text/x-python",
   "name": "python",
   "nbconvert_exporter": "python",
   "pygments_lexer": "ipython3",
   "version": "3.7.2"
  }
 },
 "nbformat": 4,
 "nbformat_minor": 2
}
