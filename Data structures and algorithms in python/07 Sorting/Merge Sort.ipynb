{
 "cells": [
  {
   "cell_type": "markdown",
   "metadata": {},
   "source": [
    "## Merging two sorted arrays"
   ]
  },
  {
   "cell_type": "code",
   "execution_count": 6,
   "metadata": {},
   "outputs": [
    {
     "name": "stdout",
     "output_type": "stream",
     "text": [
      "Enter the number of elements in list one4\n",
      "Enter the elements in sorted order\n",
      "Enter the element3\n",
      "Enter the element4\n",
      "Enter the element6\n",
      "Enter the element7\n",
      "Enter the number of elements in list two4\n",
      "Enter the elements in sorted order\n",
      "Enter the element1\n",
      "Enter the element66\n",
      "Enter the element77\n",
      "Enter the element79\n",
      "----------------------------------\n",
      "[1, 3, 4, 6, 7, 66, 77, 79]\n"
     ]
    }
   ],
   "source": [
    "def merge(a1,a2,temp):\n",
    "    i=0\n",
    "    j=0\n",
    "    k=0\n",
    "    n1=len(a1)\n",
    "    n2=len(a2)\n",
    "    \n",
    "    while i<=n1-1 and j<=n2-1:\n",
    "        if a1[i]<a2[j]:\n",
    "            temp[k]=a1[i]\n",
    "            i+=1\n",
    "        else:\n",
    "            temp[k]=a2[j]\n",
    "            j+=1\n",
    "        k+=1\n",
    "        \n",
    "    \n",
    "    while i<=n1-1:\n",
    "        temp[k]=a1[i]\n",
    "        i+=1\n",
    "        k+=1\n",
    "        \n",
    "    while j<=n2-1:\n",
    "        temp[k]=a2[j]\n",
    "        j+=1\n",
    "        k+=1\n",
    "        \n",
    "\n",
    "\n",
    "\n",
    "\n",
    "\n",
    "\n",
    "n1=int(input(\"Enter the number of elements in list one\"))\n",
    "print(\"Enter the elements in sorted order\")\n",
    "a1=[None]*n1\n",
    "for i in range(n1):\n",
    "    a1[i]=int(input(\"Enter the element\")) #can use append too\n",
    "    \n",
    "n2=int(input(\"Enter the number of elements in list two\"))\n",
    "print(\"Enter the elements in sorted order\")\n",
    "a2=[None]*n2\n",
    "for i in range(n2):\n",
    "    a2[i]=int(input(\"Enter the element\")) #can use append too\n",
    "    \n",
    "temp=[None]*(n1+n2) #the third list in which the resultant will be stored.\n",
    "merge(a1,a2,temp)\n",
    "\n",
    "print(\"----------------------------------\")\n",
    "print(temp)\n"
   ]
  },
  {
   "cell_type": "markdown",
   "metadata": {},
   "source": [
    "---\n",
    "# Merging sorted parts of an array into another array\n",
    "---"
   ]
  },
  {
   "cell_type": "code",
   "execution_count": 13,
   "metadata": {},
   "outputs": [
    {
     "name": "stdout",
     "output_type": "stream",
     "text": [
      "--------------------\n",
      "[1, 2, 4, 7, 45, 67, 82, 86]\n"
     ]
    }
   ],
   "source": [
    "def merge(a,temp,low1,up1,low2,up2):\n",
    "    i=low1\n",
    "    j=low2\n",
    "    k=low1\n",
    "    \n",
    "    while i<=up1 and j<=up2:\n",
    "        if a[i]<=a[j]:\n",
    "            temp[k]=a[i]\n",
    "            i+=1\n",
    "        else:\n",
    "            temp[k]=a[j]\n",
    "            j+=1\n",
    "        k+=1\n",
    "        \n",
    "    while i<=up1:\n",
    "        temp[k]=a[i]\n",
    "        i+=1\n",
    "        k+=1\n",
    "        \n",
    "    while j<=up2:\n",
    "        temp[k]=a[j]\n",
    "        j+=1\n",
    "        k+=1\n",
    "        \n",
    "        \n",
    "        \n",
    "a=[1,2,4,86,7,45,67,82]\n",
    "temp=[None]*len(a)\n",
    "\n",
    "merge(a,temp,0,3,4,7)\n",
    "print(\"--------------------\")\n",
    "print(temp)"
   ]
  },
  {
   "cell_type": "code",
   "execution_count": null,
   "metadata": {},
   "outputs": [],
   "source": []
  }
 ],
 "metadata": {
  "kernelspec": {
   "display_name": "Python 3",
   "language": "python",
   "name": "python3"
  },
  "language_info": {
   "codemirror_mode": {
    "name": "ipython",
    "version": 3
   },
   "file_extension": ".py",
   "mimetype": "text/x-python",
   "name": "python",
   "nbconvert_exporter": "python",
   "pygments_lexer": "ipython3",
   "version": "3.7.2"
  }
 },
 "nbformat": 4,
 "nbformat_minor": 2
}
