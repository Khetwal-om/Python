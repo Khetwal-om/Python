{
 "cells": [
  {
   "cell_type": "code",
   "execution_count": null,
   "metadata": {},
   "outputs": [],
   "source": []
  },
  {
   "cell_type": "markdown",
   "metadata": {},
   "source": [
    "# 079 Introduction"
   ]
  },
  {
   "cell_type": "markdown",
   "metadata": {},
   "source": [
    "### Importance\n",
    "\n",
    "1. Faster information retrieval\n"
   ]
  },
  {
   "cell_type": "markdown",
   "metadata": {},
   "source": [
    "#### Sort Pass\n",
    "1. Pass-step in sorting\n",
    "2. After the last pass,data becomes sorted.\n"
   ]
  },
  {
   "cell_type": "markdown",
   "metadata": {},
   "source": [
    "#### In place sort\n",
    "\n",
    "* Sorting methods that are in-place (**Minimal storage sorting methods**)\n",
    " > No need of any extra storage.\\\n",
    " >Might need only constant number of variables - independent of size of data\\\n",
    " > selection sort,bubble sort,insertion sort,shell sort.\n",
    " \n",
    "* Sorting methods that are not in-place\n",
    " > Need extra storage to store intermediate results of the sorting extra storage is proportional to the size of data.\\\n",
    " > merge sort"
   ]
  },
  {
   "cell_type": "markdown",
   "metadata": {},
   "source": [
    "#### Sort Efficiency\n",
    "\n",
    "1. Space requirement\n",
    "2. Run time or execution time\n",
    "\n",
    "> Basic operations in sorting-Comparisions and record movements.\\\n",
    ">Run time efficiency - O notation.\n",
    "\n",
    "3. Data sensitive methods.\n",
    "    * Run time depends on the initial order of elements.\n",
    "  \n",
    "> Input data is in sorted order \\\n",
    "> Input data is in random order\\\n",
    "> Input data is in reverse sorted order."
   ]
  },
  {
   "cell_type": "code",
   "execution_count": null,
   "metadata": {},
   "outputs": [],
   "source": []
  },
  {
   "cell_type": "markdown",
   "metadata": {},
   "source": [
    "# 080 Sort Stability"
   ]
  },
  {
   "cell_type": "markdown",
   "metadata": {},
   "source": [
    "1. Stable sort\n",
    "   * Preservers the relative order of the duplicate keys in the sorted output.\n",
    "   \n",
    "> Records Rx and Ry have equal sort keys\n",
    "> Record Rx preceds record Ry in the input data.\n",
    "> Stable sort-Rx will precede Ry in the sorted output data.\n",
    "> Unstable sort-Rx and Ry can be in any order\n",
    "\n",
    "__Need for stable sort__\n",
    "> Records sorted on one key are sorted on another key"
   ]
  },
  {
   "cell_type": "code",
   "execution_count": null,
   "metadata": {},
   "outputs": [],
   "source": []
  }
 ],
 "metadata": {
  "kernelspec": {
   "display_name": "Python 3",
   "language": "python",
   "name": "python3"
  },
  "language_info": {
   "codemirror_mode": {
    "name": "ipython",
    "version": 3
   },
   "file_extension": ".py",
   "mimetype": "text/x-python",
   "name": "python",
   "nbconvert_exporter": "python",
   "pygments_lexer": "ipython3",
   "version": "3.7.2"
  }
 },
 "nbformat": 4,
 "nbformat_minor": 2
}
