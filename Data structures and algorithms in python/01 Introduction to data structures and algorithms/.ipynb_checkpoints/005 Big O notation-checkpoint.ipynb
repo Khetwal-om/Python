{
 "cells": [
  {
   "cell_type": "code",
   "execution_count": null,
   "metadata": {},
   "outputs": [],
   "source": [
    "'''\n",
    "\n",
    "Asymptotic behaviour of a function -> How fast a function f(n) grows as n becomes large\n",
    "\n",
    "#Defination:\n",
    "    \n",
    "'''"
   ]
  },
  {
   "cell_type": "code",
   "execution_count": null,
   "metadata": {},
   "outputs": [],
   "source": [
    "'''\n",
    "\n",
    "\n",
    "f(n) is O(g(n)) if there exist constants c and n0 such that\n",
    "f(n)<=c g(n) for all n>=n0\n",
    "\n",
    "\n",
    "f(n)=5n+4  constants c and n0      c=6,n0=4 5n+4 is O(n)\n",
    "g(n)=n     5n+4< c n for all n>=n0 5n+4<6n for all n>=4\n",
    "\n",
    "\n",
    "24n+5 is O(n)\n",
    "3n++7 is O(n)\n",
    "23n+57 is O(n)\n",
    "45n is O(n)\n",
    "\n",
    "\n",
    "\n",
    "\n",
    "\n",
    "f(n)=3n*n+4n+7  c=5 and n0=6                       3n**n+4n+7 is O(n**n)\n",
    "g(n)=n**n       3n**n+4*n+7<=5n**n for all n>=6\n",
    "\n",
    "\n",
    "5n**n+3n is O(n**n)\n",
    "n**n+5   is O(n**n)\n",
    "\n",
    "\n",
    "\n",
    "\n",
    "\n",
    "'''"
   ]
  }
 ],
 "metadata": {
  "kernelspec": {
   "display_name": "Python 3",
   "language": "python",
   "name": "python3"
  },
  "language_info": {
   "codemirror_mode": {
    "name": "ipython",
    "version": 3
   },
   "file_extension": ".py",
   "mimetype": "text/x-python",
   "name": "python",
   "nbconvert_exporter": "python",
   "pygments_lexer": "ipython3",
   "version": "3.7.2"
  }
 },
 "nbformat": 4,
 "nbformat_minor": 2
}
