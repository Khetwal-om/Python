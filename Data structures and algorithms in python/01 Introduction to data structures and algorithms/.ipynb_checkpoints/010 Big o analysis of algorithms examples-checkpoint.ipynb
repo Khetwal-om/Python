{
 "cells": [
  {
   "cell_type": "code",
   "execution_count": null,
   "metadata": {},
   "outputs": [],
   "source": [
    "def SomeAlgorithm(int n):\n",
    "    Assignment\n",
    "    \n",
    "    for i in range(n-2,0,-1):\n",
    "        Arithmetic operation\n",
    "    output\n",
    "    \n",
    "    for i in range(n):\n",
    "        Comparison\n",
    "    \n",
    "    for i in range(6):\n",
    "        Assignment"
   ]
  },
  {
   "cell_type": "code",
   "execution_count": null,
   "metadata": {},
   "outputs": [],
   "source": [
    "Ignore Assignment\n",
    "Ignore output statement\n",
    "as these doesn't depend on n\n",
    "Can ignore  -for i in range(6):\n",
    "                Assignment\n",
    "        \n",
    "always execute 6 times only ,it doesn't depend on size of n,\n",
    "even when n becomes 1m it still executes 6 times only\n",
    "\n"
   ]
  },
  {
   "cell_type": "code",
   "execution_count": null,
   "metadata": {},
   "outputs": [],
   "source": [
    " for i in range(n-2,0,-1):\n",
    "        Arithmetic operation\n",
    "    output\n",
    "    \n",
    "# executes n-2 times    \n",
    "    \n",
    "for i in range(n):\n",
    "        Comparison\n",
    "# executes n times\n",
    "\n",
    "    "
   ]
  },
  {
   "cell_type": "code",
   "execution_count": null,
   "metadata": {},
   "outputs": [],
   "source": [
    "T(n)=(n-2)+n=2n-2\n",
    "T(n) is O(n)"
   ]
  },
  {
   "cell_type": "code",
   "execution_count": null,
   "metadata": {},
   "outputs": [],
   "source": [
    "'''EXAMPLE 2'''"
   ]
  },
  {
   "cell_type": "code",
   "execution_count": null,
   "metadata": {},
   "outputs": [],
   "source": [
    "def SomeAlgorithm(int n):\n",
    "    \n",
    "    Input\n",
    "    \n",
    "    for i in range(n,0,-4):\n",
    "        Arithmetic Operation\n",
    "        \n",
    "    output\n",
    "    \n",
    "\n",
    "    \n",
    "T(n)=[n/4]\n",
    "T(n) is O(n)"
   ]
  },
  {
   "cell_type": "code",
   "execution_count": null,
   "metadata": {},
   "outputs": [],
   "source": [
    "def SomeAlgorithm(int n):\n",
    "    \n",
    "    Input\n",
    "    \n",
    "    for i in range(1,n+1,5):\n",
    "        Arithmetic Operation\n",
    "        \n",
    "    output\n",
    "    \n",
    "\n",
    "    \n",
    "T(n)=[n/5]\n",
    "T(n) is O(n)\n",
    "\n"
   ]
  },
  {
   "cell_type": "code",
   "execution_count": null,
   "metadata": {},
   "outputs": [],
   "source": [
    "#EXAMPLE 3\n",
    "\n"
   ]
  },
  {
   "cell_type": "code",
   "execution_count": null,
   "metadata": {},
   "outputs": [],
   "source": [
    "def SomeAlgorithm(int n):\n",
    "    \n",
    "    Assignment\n",
    "    i=n-1\n",
    "    while i>=1:\n",
    "        Arithmetic operation\n",
    "        i=i/2\n",
    "        \n",
    "    \n",
    "    Output\n",
    "    \n",
    "n is 51\n",
    "\n",
    "T(n) is =[log2n]\n",
    "         O[logn]\n",
    "    \n",
    "    \n",
    "def SomeAlgorithm(int n):\n",
    "    \n",
    "    Assignment\n",
    "    i=n-1\n",
    "    while i>=1:\n",
    "        Arithmetic operation\n",
    "        i=i/4\n",
    "        \n",
    "    \n",
    "    Output\n",
    "    \n",
    "n is 51\n",
    "\n",
    "T(n) is =[log2n]\n",
    "         O[logn]    \n",
    "    \n",
    "'''\n",
    "----------------------------------------\n",
    "STILL ANSWER WILL REMAIN SAME\n",
    "'''"
   ]
  },
  {
   "cell_type": "code",
   "execution_count": null,
   "metadata": {},
   "outputs": [],
   "source": [
    "#EXAMPLE 4\n",
    "def SomeAlgorithm(int n):\n",
    "    \n",
    "    Assignment\n",
    "    i=1\n",
    "    while i<n:\n",
    "        Arithmetic operation\n",
    "        i=i*2\n",
    "        \n",
    "    \n",
    "    Output\n",
    "    \n",
    "n is 51\n",
    "\n",
    "T(n) is =[log2n]\n",
    "         O[logn]"
   ]
  },
  {
   "cell_type": "code",
   "execution_count": null,
   "metadata": {},
   "outputs": [],
   "source": [
    "...to be continued 10 2:32"
   ]
  }
 ],
 "metadata": {
  "kernelspec": {
   "display_name": "Python 3",
   "language": "python",
   "name": "python3"
  },
  "language_info": {
   "codemirror_mode": {
    "name": "ipython",
    "version": 3
   },
   "file_extension": ".py",
   "mimetype": "text/x-python",
   "name": "python",
   "nbconvert_exporter": "python",
   "pygments_lexer": "ipython3",
   "version": "3.7.2"
  }
 },
 "nbformat": 4,
 "nbformat_minor": 2
}
