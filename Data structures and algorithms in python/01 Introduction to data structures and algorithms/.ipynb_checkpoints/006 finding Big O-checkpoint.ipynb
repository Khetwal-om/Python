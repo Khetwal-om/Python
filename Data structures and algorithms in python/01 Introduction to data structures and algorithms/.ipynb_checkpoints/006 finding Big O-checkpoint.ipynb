{
 "cells": [
  {
   "cell_type": "code",
   "execution_count": null,
   "metadata": {},
   "outputs": [],
   "source": [
    "'''\n",
    "1.Keep the fastest growing term and discard the lower ter\n",
    "ms and constants .\n",
    "2.Ignore coefficients f(n)=5*n*n ,ignore 5 f(n) is O(n*n)\n",
    "3.If f(n) is constant, then we say that f(n) is O(1)\n",
    "  f(n)=C    => f(n) is O(1)\n",
    "4.Base of algorithm is not important. \n",
    "  f(n)=8log2n=>f(n) is O(logn)\n",
    "  f(n)=23log10n=>f(n) is O(logn)\n",
    "  \n",
    "\n",
    "\n",
    "\n",
    "'''"
   ]
  },
  {
   "cell_type": "code",
   "execution_count": null,
   "metadata": {},
   "outputs": [],
   "source": [
    "007 Tight and loose upper bounds"
   ]
  },
  {
   "cell_type": "code",
   "execution_count": null,
   "metadata": {},
   "outputs": [],
   "source": [
    "f(n) is O(g(n)) if there exists constants c and n0\n",
    "such that f(n)<=cg(n) for all n>=n0\n",
    "\n",
    "\n",
    "for a function f(n) there can be many functions g(n)\n",
    "such that f(n) is O(g(n))\n",
    "\n",
    "\n",
    "f(n) =5n**n+4n+8 is O(n**2) Least upper bound is the tight upper bound\n",
    "                    O(n**3) --\n",
    "                    O(n**4) --      loose upper bounds\n",
    "                    O(n!)   -- \n",
    "            \n",
    "Order of any function that has growth rate  more than\n",
    "---------n**2-----------\n"
   ]
  },
  {
   "cell_type": "code",
   "execution_count": null,
   "metadata": {},
   "outputs": [],
   "source": [
    "\n",
    "008 Big O analysis of algorithms\n",
    "-Express the running time as function of input size(n)  T(n) is Running time in terms of n\n",
    "-Find big O for function T(n)\n",
    "  '''\n",
    "  T(n) = 6n**3+logn+2n  5n+n**2+4  logn+5n+10 3n**2+15\n",
    "          o(n**3)        O(n**2)      O(n)     O(n**2)\n",
    "  '''\n",
    "  Algorithm C is best.\n",
    "    \n",
    "    "
   ]
  },
  {
   "cell_type": "code",
   "execution_count": null,
   "metadata": {},
   "outputs": [],
   "source": [
    "009 "
   ]
  },
  {
   "cell_type": "code",
   "execution_count": null,
   "metadata": {},
   "outputs": [],
   "source": [
    "Calculating time complexity\n",
    "\n",
    "'''\n",
    "Running time is proportional to the number of primitive\n",
    "operations.   \n",
    "            -Comparisons\n",
    "            -Assignments\n",
    "            -Arithmetic Operations\n",
    "            -Input,Output\n",
    "'''\n",
    "To find function T- Express the number of primitive\n",
    "operations executed during run time,in terms of  n."
   ]
  },
  {
   "cell_type": "code",
   "execution_count": null,
   "metadata": {},
   "outputs": [],
   "source": [
    "def SomeAlgorithm(int n):\n",
    "    input                  c1\n",
    "    Assignment             c2\n",
    "    \n",
    "    for i in range(n):\n",
    "        Comparison         c3\n",
    "    \n",
    "    \n",
    "    Arithmetic Operation   c4\n",
    "\n",
    "T(n) = c1+c2+c3*n+c4\n",
    "    "
   ]
  },
  {
   "cell_type": "code",
   "execution_count": null,
   "metadata": {},
   "outputs": [],
   "source": [
    "3  Find big(O)\n",
    "drop the constants and ignore the coefficients.\n",
    "c1 ---ignored   **\n",
    "c2 ---ignored   **       Constants\n",
    "c4 ---ignored   **\n",
    "\n",
    "\n",
    "c3 ---ignored   &&      Coefficient\n",
    "\n",
    "\n",
    "So, T(n) is O(n)"
   ]
  },
  {
   "cell_type": "code",
   "execution_count": null,
   "metadata": {},
   "outputs": [],
   "source": [
    "#How many times that operation is executed."
   ]
  },
  {
   "cell_type": "code",
   "execution_count": null,
   "metadata": {},
   "outputs": [],
   "source": [
    "Writing T---> operations whose number depends on n.\n",
    "n-Operations in loops whose number of iterations depend\n",
    "on n .\n",
    "In above comparison will account for large values of n."
   ]
  }
 ],
 "metadata": {
  "kernelspec": {
   "display_name": "Python 3",
   "language": "python",
   "name": "python3"
  },
  "language_info": {
   "codemirror_mode": {
    "name": "ipython",
    "version": 3
   },
   "file_extension": ".py",
   "mimetype": "text/x-python",
   "name": "python",
   "nbconvert_exporter": "python",
   "pygments_lexer": "ipython3",
   "version": "3.7.2"
  }
 },
 "nbformat": 4,
 "nbformat_minor": 2
}
