{
 "cells": [
  {
   "cell_type": "code",
   "execution_count": null,
   "metadata": {},
   "outputs": [],
   "source": [
    "'''\n",
    "Data structures  :   Represent data efficiently\n",
    "Algorithms       :   Develop a step by step procedure\n",
    "'''\n",
    "\n",
    "\n",
    "\n",
    "# Efficiency depends on \n",
    "  #Running time\n",
    "  #memory"
   ]
  },
  {
   "cell_type": "code",
   "execution_count": null,
   "metadata": {},
   "outputs": [],
   "source": [
    "#Measuring running time of an algorithm\n",
    "\n",
    "\n",
    "'''                    -Experimental Method\n",
    "Measure running time :\n",
    "                       -Analytical Method\n",
    "\n",
    "'''\n",
    "\n",
    "#Experimental Method :\n",
    "'''\n",
    "Implement the algorithm in a language(depends on s/w and h/w)\n",
    "Run it on different inputs\n",
    "Record the exact running time\n",
    "'''\n",
    "\n",
    "\n",
    "    #Run it on different inputs\n",
    "\n",
    "\n",
    "    '''\n",
    "    Limited number of inputs\n",
    "    '''\n",
    "\n",
    "\n",
    "    #Record the exact running time \n",
    "\n",
    "    '''\n",
    "    Not feasible for algorithm that take long time to execute\n",
    "    '''\n",
    "\n",
    "#Analytical method(Asymptotic analysis)\n",
    "    #Analyse running time,based on input size\n",
    "    #Independent of the s/w and h/w\n",
    "    #Consider all possible inputs\n",
    "\n"
   ]
  },
  {
   "cell_type": "code",
   "execution_count": null,
   "metadata": {},
   "outputs": [],
   "source": [
    "004 Asymptotic Analysis"
   ]
  },
  {
   "cell_type": "code",
   "execution_count": null,
   "metadata": {},
   "outputs": [],
   "source": [
    "'''\n",
    "Size of input(n)         <---------   Running time\n",
    "Small input size         Less running time\n",
    "Big input size           More running time\n",
    "Input size is increased  Running time also increases\n",
    "'''\n",
    "\n",
    "\n",
    "#input size is doubled\n",
    "\n",
    "\n",
    "'''\n",
    "Running time might double\n",
    "Running time might quadruple\n",
    "Running time might become 20 times\n",
    "Running time might become 100 times\n",
    "\n",
    "'''\n",
    "\n",
    "'''To determine efficiency of an algorithm ---> \n",
    "   How the algorithm behaves when the input size is increased\n",
    "\n",
    "\n",
    "To find the rate of growth of running time-->Big O notation\n",
    "\n",
    "\n",
    "\n",
    "'''"
   ]
  },
  {
   "cell_type": "code",
   "execution_count": null,
   "metadata": {},
   "outputs": [],
   "source": []
  }
 ],
 "metadata": {
  "kernelspec": {
   "display_name": "Python 3",
   "language": "python",
   "name": "python3"
  },
  "language_info": {
   "codemirror_mode": {
    "name": "ipython",
    "version": 3
   },
   "file_extension": ".py",
   "mimetype": "text/x-python",
   "name": "python",
   "nbconvert_exporter": "python",
   "pygments_lexer": "ipython3",
   "version": "3.7.2"
  }
 },
 "nbformat": 4,
 "nbformat_minor": 2
}
