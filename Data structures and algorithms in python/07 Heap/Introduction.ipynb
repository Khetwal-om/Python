{
 "cells": [
  {
   "cell_type": "markdown",
   "metadata": {},
   "source": [
    "### Heap \n",
    "\n",
    "* Binary tree with these two properties\n",
    "\n",
    "* **Structure Property** \n",
    "\n",
    "  * All levels have maximum number of nodes except possibly the last level. In the last level, all the nodes are to the left\n",
    "  \n",
    "    * Complete binary tree\n",
    "    > Height- [log(n+1)/log2]\n",
    "    \n",
    "* **Heap order property**\n",
    "\n",
    "  * Key in any node N is greater than or equal to the keys in both children of N \n",
    "  * Key in node N is greater than or equal to the keys of all its descendants\n",
    "  * Root node contains the highest key."
   ]
  },
  {
   "cell_type": "code",
   "execution_count": null,
   "metadata": {},
   "outputs": [],
   "source": []
  }
 ],
 "metadata": {
  "kernelspec": {
   "display_name": "Python 3",
   "language": "python",
   "name": "python3"
  },
  "language_info": {
   "codemirror_mode": {
    "name": "ipython",
    "version": 3
   },
   "file_extension": ".py",
   "mimetype": "text/x-python",
   "name": "python",
   "nbconvert_exporter": "python",
   "pygments_lexer": "ipython3",
   "version": "3.7.2"
  }
 },
 "nbformat": 4,
 "nbformat_minor": 2
}
