{
 "cells": [
  {
   "cell_type": "markdown",
   "metadata": {},
   "source": [
    "#### Stacks and queues\n",
    "  \n",
    "  1. Stack\n",
    "        \n",
    "      * Insertion,deletion allowed only at one end\n",
    "      * Last in First out LIFO\n",
    "      \n",
    "  2. Queue\n",
    "  \n",
    "      * Insertion is performed on one end\n",
    "      * Deletion is performed on other end"
   ]
  },
  {
   "cell_type": "code",
   "execution_count": null,
   "metadata": {},
   "outputs": [],
   "source": []
  },
  {
   "cell_type": "code",
   "execution_count": null,
   "metadata": {},
   "outputs": [],
   "source": []
  },
  {
   "cell_type": "markdown",
   "metadata": {},
   "source": [
    "# Stack\n",
    "\n",
    "1. Insertion and deletion allowed only at one end Top\n",
    "\n",
    "   * Insertion Push operation        : Overflow state\n",
    "   * Deletion  Pop operation         : Underflow state"
   ]
  },
  {
   "cell_type": "code",
   "execution_count": null,
   "metadata": {},
   "outputs": [],
   "source": []
  }
 ],
 "metadata": {
  "kernelspec": {
   "display_name": "Python 3",
   "language": "python",
   "name": "python3"
  },
  "language_info": {
   "codemirror_mode": {
    "name": "ipython",
    "version": 3
   },
   "file_extension": ".py",
   "mimetype": "text/x-python",
   "name": "python",
   "nbconvert_exporter": "python",
   "pygments_lexer": "ipython3",
   "version": "3.7.2"
  }
 },
 "nbformat": 4,
 "nbformat_minor": 2
}
