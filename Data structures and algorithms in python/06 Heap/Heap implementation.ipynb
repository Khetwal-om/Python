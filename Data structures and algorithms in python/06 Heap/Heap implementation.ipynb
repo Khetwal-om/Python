{
 "cells": [
  {
   "cell_type": "code",
   "execution_count": null,
   "metadata": {},
   "outputs": [],
   "source": [
    "class HeapEmptyError(Exception):\n",
    "    pass\n",
    "class Heap:\n",
    "    \n",
    "    def __init__(self,maxSize=10):\n",
    "        self.a=[None]*maxSize\n",
    "        self.n=0\n",
    "        self.[0]=99999\n",
    "        \n",
    "    def insert(self,value):\n",
    "        self.n+=1\n",
    "        self.a[self.n]=value\n",
    "        self.restore_up[self.n]\n",
    "        \n",
    "        \n",
    "    def restore_up(self,i):\n",
    "        k=self.a[i]\n",
    "        iparent=i//2\n",
    "        while self.a[iparent]<k: #No sentinel - while (iparent>=1 && self.a[iparent]<k)\n",
    "            self.a[i]=self.a[iparent]\n",
    "            i=iparent\n",
    "            iparent=i//2\n",
    "        self.a[i]=k"
   ]
  },
  {
   "cell_type": "markdown",
   "metadata": {},
   "source": [
    "### Deletion in heap\n",
    "\n",
    "* Heap of size n\n",
    "* Key in the root is stored in some variable\n",
    "* Key in last leaf node is copied to the root node\n",
    "> Key at index n is copied to index 1\n",
    "* Size of heap is decreased to n-1.\n",
    "* restoreDown for key in root node."
   ]
  },
  {
   "cell_type": "markdown",
   "metadata": {},
   "source": [
    "#### RestoreDown for key k, as Key k violates heap order property.\n",
    "\n",
    "* Compare k with its left and right child.\n",
    " * If both children are smaller than k **Nothing to be done**\n",
    " * If one child is greater than k . **This greater child is moved up**.\n",
    " * If both children are greater than k **Larger of the two children is movep up**.\n",
    " \n",
    "## In the bottom two statements- Try to insert key k in place of child that is moved up\n",
    "\n",
    "* Stop when both children are smaller than k or we reach a leaf node."
   ]
  },
  {
   "cell_type": "markdown",
   "metadata": {},
   "source": [
    "---\n",
    "#### Deletion of root node in Heap\n",
    "---\n",
    "\n",
    "* Move from root to a leaf node O(h) O(logn)"
   ]
  },
  {
   "cell_type": "code",
   "execution_count": null,
   "metadata": {},
   "outputs": [],
   "source": [
    "def delete_root(self):\n",
    "    if self.n==0:\n",
    "        raise HeapEmptyError(\"Heap is empty\")\n",
    "    maxValue=self.a[1]\n",
    "    self.a[1]=slef.a[self.n]\n",
    "    self.n-=1\n",
    "    self.restore_down(1)\n",
    "    return maxValue\n",
    "\n",
    "def restore_down(self,i):\n",
    "    k=self.a[i]\n",
    "    lchild=2*i\n",
    "    rchild=2*i+1\n",
    "    \n",
    "    while rchild<=self.n:\n",
    "        if k>=self.a[lchild] and self.a[rchild]:\n",
    "            self.a[i]=k\n",
    "            return \n",
    "        else:\n",
    "            if self.a[lchild]>self.a[rchild]:\n",
    "                self.a[i]=self.a[lchild]\n",
    "                i=lchild\n",
    "            else:\n",
    "                self.a[i]=self.a[rchild]\n",
    "                i=rchild\n",
    "                \n",
    "        lchild=2*i\n",
    "        rchild=lchild+1\n",
    "        \n",
    "    #if no. of nodes is even\n",
    "    \n",
    "    if lchild==self.n and k<self.a[lchild]:\n",
    "        self.a[i]=self.a[lchild]\n",
    "        i=lchild\n",
    "    self.a[i]=k\n",
    "    \n",
    "def display(self):\n",
    "    if self.n==0:\n",
    "        print(\"Heap is empty\")\n",
    "        return\n",
    "    print(\"Heap size\",self.n)\n",
    "    \n",
    "    for i in range(1,self.n+1):\n",
    "        print(self.a[i],' ',end=' ')\n",
    "    print()\n",
    "    "
   ]
  }
 ],
 "metadata": {
  "kernelspec": {
   "display_name": "Python 3",
   "language": "python",
   "name": "python3"
  },
  "language_info": {
   "codemirror_mode": {
    "name": "ipython",
    "version": 3
   },
   "file_extension": ".py",
   "mimetype": "text/x-python",
   "name": "python",
   "nbconvert_exporter": "python",
   "pygments_lexer": "ipython3",
   "version": "3.7.2"
  }
 },
 "nbformat": 4,
 "nbformat_minor": 2
}
