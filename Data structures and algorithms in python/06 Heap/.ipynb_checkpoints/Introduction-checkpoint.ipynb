{
 "cells": [
  {
   "cell_type": "markdown",
   "metadata": {},
   "source": [
    "### Heap \n",
    "\n",
    "* Binary tree with these two properties\n",
    "\n",
    "* **Structure Property** \n",
    "\n",
    "  * All levels have maximum number of nodes except possibly the last level. In the last level, all the nodes are to the left\n",
    "  \n",
    "    * Complete binary tree\n",
    "    > Height- [log(n+1)/log2]\n",
    "    \n",
    "* **Heap order property**\n",
    "\n",
    "  * Key in any node N is greater than or equal to the keys in both children of N \n",
    "  * Key in node N is greater than or equal to the keys of all its descendants\n",
    "  * Root node contains the highest key."
   ]
  },
  {
   "cell_type": "markdown",
   "metadata": {},
   "source": [
    "* Max Heaps : Key in any node N is greater than or equal to the keys in both children of N.\n",
    "* Min Heaps : Key in any node N is smaller than or equal to the keys in both its children."
   ]
  },
  {
   "cell_type": "markdown",
   "metadata": {},
   "source": [
    "### Representation of Heap\n",
    "\n",
    "* root - index 1 of the array.\n",
    "* Left child of node at index i  - index 2i  , if 2i>n   Left child does not exist.\n",
    "* Right child of node at index i - index(2i+1) if 2i+1>n, Right child doesn't exist\n",
    "\n",
    "* Parent of node at index i-index floor(i/2)\n",
    "\n",
    "* Heap size : n\n",
    "* Array a is used to implement heap(Sequential representation for heap is preferred)\n",
    "* a[0], **a[1],a[2],a[3],a[4],...,a[n]**,a[n+1],a[n+2]....a[arraySize-1]"
   ]
  },
  {
   "cell_type": "markdown",
   "metadata": {},
   "source": [
    "---\n",
    "\n",
    "### Insertion in heap\n",
    "\n",
    "---\n",
    "\n",
    "* Heap size :n -> n+1.\n",
    "> We need to change the heap size to follow structural property.\n",
    "* New key is inserted at index(n+1) of the array.\n",
    "\n",
    "\n",
    "---\n",
    "\n",
    "1. Key k violates heap order property- RestoreUp for key k.\n",
    "2. Compare k with the key in parent node\n",
    "> If parent key <k ,move the parent key down.\n",
    "3. Try to insert k in parent't place.\n",
    "4. Stop when we get a parent key that is greater than k or we reach the root."
   ]
  },
  {
   "cell_type": "markdown",
   "metadata": {},
   "source": [
    "### Insertion in Heap\n",
    "\n",
    "* Move from leaf to root node   \n",
    "> O(h)       O(logn)\n",
    "\n",
    "* Worst case   : Key has to be placed in the root node.\n",
    "* Best case    : No need to move the key up."
   ]
  },
  {
   "cell_type": "code",
   "execution_count": null,
   "metadata": {},
   "outputs": [],
   "source": []
  }
 ],
 "metadata": {
  "kernelspec": {
   "display_name": "Python 3",
   "language": "python",
   "name": "python3"
  },
  "language_info": {
   "codemirror_mode": {
    "name": "ipython",
    "version": 3
   },
   "file_extension": ".py",
   "mimetype": "text/x-python",
   "name": "python",
   "nbconvert_exporter": "python",
   "pygments_lexer": "ipython3",
   "version": "3.7.2"
  }
 },
 "nbformat": 4,
 "nbformat_minor": 2
}
