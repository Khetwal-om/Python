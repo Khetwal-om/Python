{
 "cells": [
  {
   "cell_type": "code",
   "execution_count": 6,
   "metadata": {},
   "outputs": [
    {
     "name": "stdout",
     "output_type": "stream",
     "text": [
      "Enter the number of elements2\n",
      "12 9 43 23\n",
      "Enter the element that you want to search for1\n",
      "Element not found\n"
     ]
    }
   ],
   "source": [
    "n=int(input(\"Enter the number of elements\"))\n",
    "values=[int(i) for i in input().split()]\n",
    "element=int(input(\"Enter the element that you want to search for\"))\n",
    "\n",
    "def linear(n,values,element):\n",
    "    for i in range(n):\n",
    "        if element==values[i]:\n",
    "            return i\n",
    "        \n",
    "    return -1\n",
    "k=linear(n,values,element)\n",
    "if k==-1:\n",
    "    print(\"Element not found\")\n",
    "else:\n",
    "    print(\"Element found at index\",k)"
   ]
  },
  {
   "cell_type": "markdown",
   "metadata": {},
   "source": [
    "# Analysis of Linear Search\n",
    "\n",
    "1. Best case : element found at first index   **O(1)**\n",
    "2. Worst case: element is not present **O(n)**\n",
    "3. Average case: element at ith position ,i comparisions are needed\n",
    "> (1+2+3+.....+n)/n=(n+1)/2\n"
   ]
  },
  {
   "cell_type": "markdown",
   "metadata": {},
   "source": [
    "# Linear Search with sorted array\n",
    "\n",
    "1. Array ain't sorted - Check entire array ->search value not present\n",
    "\n",
    "2. Array is sorted    -  Get an element greater than search values    -> search value not present\n",
    "\n",
    "---\n",
    "\n",
    "**Number of comparisions are reduced**\n",
    "\n",
    "---"
   ]
  },
  {
   "cell_type": "code",
   "execution_count": 11,
   "metadata": {},
   "outputs": [
    {
     "name": "stdout",
     "output_type": "stream",
     "text": [
      "Enter the number of elements3\n",
      "12 9 88 7 10 11 4 1\n",
      "Enter the element that you want to search for43\n",
      "**********\n",
      "[1, 4, 7, 9, 10, 11, 12, 88]\n",
      "**********\n",
      "**********\n",
      "Element not found\n"
     ]
    }
   ],
   "source": [
    "n=int(input(\"Enter the number of elements\"))\n",
    "values=[int(i) for i in input().split()]\n",
    "element=int(input(\"Enter the element that you want to search for\"))\n",
    "values.sort()\n",
    "\n",
    "print(\"*\"*10)\n",
    "print(values)\n",
    "\n",
    "print(\"*\"*10)\n",
    "print(\"*\"*10)\n",
    "def linear(n,values,element):\n",
    "    for i in range(n):\n",
    "        if element>values[i]:\n",
    "            return -1\n",
    "\n",
    "    if element==values[i]:\n",
    "        return i\n",
    "        \n",
    "    return -1\n",
    "k=linear(n,values,element)\n",
    "if k==-1:\n",
    "    print(\"Element not found\")\n",
    "else:\n",
    "    print(\"Element found at index\",k)"
   ]
  },
  {
   "cell_type": "code",
   "execution_count": null,
   "metadata": {},
   "outputs": [],
   "source": []
  }
 ],
 "metadata": {
  "kernelspec": {
   "display_name": "Python 3",
   "language": "python",
   "name": "python3"
  },
  "language_info": {
   "codemirror_mode": {
    "name": "ipython",
    "version": 3
   },
   "file_extension": ".py",
   "mimetype": "text/x-python",
   "name": "python",
   "nbconvert_exporter": "python",
   "pygments_lexer": "ipython3",
   "version": "3.7.2"
  }
 },
 "nbformat": 4,
 "nbformat_minor": 2
}
