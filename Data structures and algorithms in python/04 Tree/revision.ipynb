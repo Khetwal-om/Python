{
 "cells": [
  {
   "cell_type": "code",
   "execution_count": null,
   "metadata": {},
   "outputs": [],
   "source": [
    "def preorder(self):\n",
    "    self._preorder(self.root)\n",
    "    print()\n",
    "\n",
    "def _preorder(self,p):\n",
    "    if p is None:\n",
    "        return\n",
    "    \n",
    "    print(p.info,' ',end='')\n",
    "    self._preorder(p.lchild)\n",
    "    self._preorder(p.rchild)\n",
    "    \n",
    "def inorder(self):\n",
    "    self._inorder(self.root)\n",
    "    print()\n",
    "    \n",
    "def _inorder(self,p):\n",
    "    if p is None:\n",
    "        return\n",
    "    \n",
    "    self._inorder(p.lchild)\n",
    "    print(p.info,'  ',end='')\n",
    "    self._inorder(p.rchild)\n",
    "    \n",
    "def postorder(self):\n",
    "    self._postorder(self.root)\n",
    "    print()\n",
    "    \n",
    "def _postorder(self,p):\n",
    "    if p is None:\n",
    "        return\n",
    "    \n",
    "    self._postorder(p.lchild)\n",
    "    self._postorder(p.rchild)\n",
    "    print(p.info,' ',end='')"
   ]
  },
  {
   "cell_type": "code",
   "execution_count": null,
   "metadata": {},
   "outputs": [],
   "source": []
  },
  {
   "cell_type": "code",
   "execution_count": null,
   "metadata": {},
   "outputs": [],
   "source": []
  },
  {
   "cell_type": "code",
   "execution_count": null,
   "metadata": {},
   "outputs": [],
   "source": []
  },
  {
   "cell_type": "code",
   "execution_count": null,
   "metadata": {},
   "outputs": [],
   "source": []
  },
  {
   "cell_type": "code",
   "execution_count": null,
   "metadata": {},
   "outputs": [],
   "source": [
    "def level(self):\n",
    "    if self.root is None:\n",
    "        print(\"No elements are present\")\n",
    "        return\n",
    "    \n",
    "    qu=deque()\n",
    "    qu.append(self.root)\n",
    "    \n",
    "    while len(qu)!=0:\n",
    "        p=qu.popleft()\n",
    "        if p.lchild is not None:\n",
    "            qu.append(p.lchild)\n",
    "        if p.rchild is not None:\n",
    "            qu.append(p.rchild)"
   ]
  },
  {
   "cell_type": "code",
   "execution_count": null,
   "metadata": {},
   "outputs": [],
   "source": []
  },
  {
   "cell_type": "code",
   "execution_count": null,
   "metadata": {},
   "outputs": [],
   "source": []
  },
  {
   "cell_type": "code",
   "execution_count": null,
   "metadata": {},
   "outputs": [],
   "source": []
  },
  {
   "cell_type": "code",
   "execution_count": null,
   "metadata": {},
   "outputs": [],
   "source": []
  },
  {
   "cell_type": "code",
   "execution_count": null,
   "metadata": {},
   "outputs": [],
   "source": [
    "def preorder(self):\n",
    "    self._preorder(self.root)\n",
    "    print()\n",
    "\n",
    "def _preorder(self,p):\n",
    "    if p is None:\n",
    "        return\n",
    "    print(p.info)\n",
    "    preorder(p.lchild)\n",
    "    preorder(p.rchild)"
   ]
  },
  {
   "cell_type": "code",
   "execution_count": null,
   "metadata": {},
   "outputs": [],
   "source": [
    "def inorder(self):\n",
    "    self._inorder(self.root)\n",
    "    print()\n",
    "    \n",
    "def _inorder(self,p):\n",
    "    if p is None:\n",
    "        return\n",
    "    inorder(p.lchild)\n",
    "    print(p.info)\n",
    "    inorder(p.rchild)"
   ]
  },
  {
   "cell_type": "code",
   "execution_count": null,
   "metadata": {},
   "outputs": [],
   "source": [
    "def postorder(self):\n",
    "    self._postorder(self.root)\n",
    "    print()\n",
    "def _postorder(self,p):\n",
    "    if p is None:\n",
    "        return\n",
    "    postorder(p.lchild)\n",
    "    postorder(p.rchild)\n",
    "    print(p.info)\n",
    "    "
   ]
  },
  {
   "cell_type": "code",
   "execution_count": null,
   "metadata": {},
   "outputs": [],
   "source": []
  },
  {
   "cell_type": "code",
   "execution_count": null,
   "metadata": {},
   "outputs": [],
   "source": []
  },
  {
   "cell_type": "code",
   "execution_count": null,
   "metadata": {},
   "outputs": [],
   "source": []
  },
  {
   "cell_type": "code",
   "execution_count": null,
   "metadata": {},
   "outputs": [],
   "source": []
  },
  {
   "cell_type": "code",
   "execution_count": 3,
   "metadata": {},
   "outputs": [
    {
     "ename": "SyntaxError",
     "evalue": "invalid syntax (<ipython-input-3-a8fa624cbd9f>, line 13)",
     "output_type": "error",
     "traceback": [
      "\u001b[1;36m  File \u001b[1;32m\"<ipython-input-3-a8fa624cbd9f>\"\u001b[1;36m, line \u001b[1;32m13\u001b[0m\n\u001b[1;33m    return self.root=None\u001b[0m\n\u001b[1;37m                    ^\u001b[0m\n\u001b[1;31mSyntaxError\u001b[0m\u001b[1;31m:\u001b[0m invalid syntax\n"
     ]
    }
   ],
   "source": [
    "class TreeEmptyError(Exception):\n",
    "    pass\n",
    "class Node:\n",
    "    def __init__(self,value):\n",
    "        self.info=value\n",
    "        self.lchild=None\n",
    "        self.rchild=None\n",
    "class BinarySearchTree:\n",
    "    def __init__(self):\n",
    "        self.root=None\n",
    "        \n",
    "    def is_empty(self):\n",
    "        return self.root=None\n",
    "     \n",
    "    def insert(self,x):\n",
    "        p=self.root\n",
    "        while p is not None:\n",
    "            if x<p.info:\n",
    "                p=p.lchild\n",
    "            elif x>p.info:\n",
    "                p=p.rchild\n",
    "            else:\n",
    "                print(x+\"Already \")\n",
    "                return\n",
    "                "
   ]
  },
  {
   "cell_type": "code",
   "execution_count": null,
   "metadata": {},
   "outputs": [],
   "source": []
  }
 ],
 "metadata": {
  "kernelspec": {
   "display_name": "Python 3",
   "language": "python",
   "name": "python3"
  },
  "language_info": {
   "codemirror_mode": {
    "name": "ipython",
    "version": 3
   },
   "file_extension": ".py",
   "mimetype": "text/x-python",
   "name": "python",
   "nbconvert_exporter": "python",
   "pygments_lexer": "ipython3",
   "version": "3.7.2"
  }
 },
 "nbformat": 4,
 "nbformat_minor": 2
}
