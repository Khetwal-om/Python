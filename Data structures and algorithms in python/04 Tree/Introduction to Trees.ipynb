{
 "cells": [
  {
   "cell_type": "markdown",
   "metadata": {},
   "source": [
    "## Trees\n"
   ]
  },
  {
   "cell_type": "markdown",
   "metadata": {},
   "source": [
    "* Node : each element of tree\n",
    "* Edge : line connecting two nodes\n",
    "* Parent Node : Immediate predecessor of a node\n",
    "* Child Node : Immediate successor of a node\n",
    "* Root Node doesn't have any parent\n",
    "* Leaf Node doesn't have any child\n",
    "* Level :  Distance of that node from the root\n",
    "* Height : Total number of levels in a tree\n",
    "* Siblings : Two or more nodes which have same parent.\n",
    "* Path -  Sequence of nodes n1,n2,..nx such that each node \n",
    "  ni is parent of ni+1 for 1<i<=x\n",
    "* Ancestor : Na is ancestor of node Nx if Na lies in the unique path from root node to Nx\n",
    "* Descendent : If node Na is ancestor of node Nx,then node Nx is descendent of node Na.\n",
    "\n"
   ]
  },
  {
   "cell_type": "markdown",
   "metadata": {},
   "source": [
    "### Subtree\n",
    "* Forest : A forest is a set of n disjoint trees where n>=0\n",
    "* Degree : The number of subtrees or children of a node"
   ]
  },
  {
   "cell_type": "markdown",
   "metadata": {},
   "source": [
    "# Defination of a Tree\n",
    "\n",
    "> A Tree is a finite set of nodes such that :\n",
    "   * There is a distinguished node called root.\n",
    "   * Remaining nodes are partitioned into n>=0 disjoint sets \n",
    "       T1,T2,..,Tn where each of these sets is a tree. The sets\n",
    "       T1,T2 .., Tn are subtrees of root."
   ]
  },
  {
   "cell_type": "code",
   "execution_count": null,
   "metadata": {},
   "outputs": [],
   "source": []
  },
  {
   "cell_type": "code",
   "execution_count": null,
   "metadata": {},
   "outputs": [],
   "source": []
  },
  {
   "cell_type": "code",
   "execution_count": null,
   "metadata": {},
   "outputs": [],
   "source": []
  },
  {
   "cell_type": "markdown",
   "metadata": {},
   "source": [
    "### Binary Tree\n",
    "\n",
    "* A binary tree is a finite set of that is \n",
    "\n",
    "  * either empty or \n",
    "  * consists of a distinguished node known as root and remaining\n",
    "    nodes partitioned into disjoint set T1 and T2 and both of them are binary trees.\n",
    "    T1 is called left subtree and T2 is called right subtree.\n",
    "    "
   ]
  },
  {
   "cell_type": "markdown",
   "metadata": {},
   "source": [
    "* Property 1 - In a binary tree,maximum number of nodes on any\n",
    "  level n is 2**n where n>=0\n",
    "\n",
    "* Property 2 - In a binary tree of height h,maximum number of nodes possible is 2**h - 1\n",
    "\n",
    "* Property 3 - In a binary tree of height h, minimum number of nodes possible is h\n",
    "    * Minimum number of nodes possible at any level is 1\n",
    "      In a tree of height h , there are h levels\n",
    "\n",
    "\n",
    "* Property 4 - For a binary tree with n nodes  \n",
    "   * Maximum height possible is n \n",
    "   * Minimum height possible is [log2(n+1)] i.ie log(n+1)/log2\n",
    "   \n",
    "     * Height can't be more than n - there should be at least one\n",
    "        node at every level \n",
    "     * From propery 2 - If height is h, maximum number of nodes possible is 2**h -1\n",
    "         * n<=2**h-1\n",
    "         * n=5 \n",
    "             * max is 5\n",
    "             * min is log6\n",
    "           \n",
    "\n",
    "\n",
    "* Property 5 - In a non empty binary , if\n",
    "    * if n= number of nodes\n",
    "    * if e= number of edges\n",
    "     > e=n-1\n",
    "     \n",
    "    * Every node has exactly one parent except root node\n",
    "    * n-1 nodes have exactly one parent\n",
    "    * There is only one edge b/w a parent and a child\n",
    "    \n",
    "    \n",
    "* Property 6 - In a non empty binary tree, if\n",
    "    * n0=number of nodes with no child\n",
    "    * n2=number of nodes with two children\n",
    "     > n0=n2+1\n",
    "    \n",
    "        * n=n0+n1+n2\n",
    "        * e=n-1\n",
    "        * e=0*n0+1*n1+2*n2\n",
    "        * e=n1+2n2\n",
    "        * n-1=n1+2n2\n",
    "        * n0+n1+n2-1=n1+2n2\n",
    "        * n0=n2+1\n"
   ]
  },
  {
   "cell_type": "markdown",
   "metadata": {},
   "source": []
  },
  {
   "cell_type": "markdown",
   "metadata": {},
   "source": [
    "### Strictly Binary Tree\n",
    "\n",
    "* A binary tree in which each node is either a leaf node or has two children.\n",
    "* A strictly binary tree with n leaf nodes has n-1 non leaf nodes\n",
    "* A strictly binary tree with n leaf nodes has total 2n-1 nodes "
   ]
  },
  {
   "cell_type": "markdown",
   "metadata": {},
   "source": [
    "### Extended Binary Tree\n",
    "\n",
    "* In a binary tree,if each empty subtree is replaced by a special node then the resulting tree extended binary tree or 2-tree\n",
    "\n",
    "> Special nodes : External nodes , Original nodes: Internal nodes\n",
    "\n",
    "* Path length of a node\n",
    "    * Number of edges traversed from that node to the root node\n",
    "    * Level number of that node\n",
    "       * Internal path length of a binary tree\n",
    "> Sum of path lengths of all internal nodes\n",
    "       \n",
    "       * External path length of a binary tree\n",
    "> Sum of path lengths of all external nodes"
   ]
  },
  {
   "cell_type": "markdown",
   "metadata": {},
   "source": [
    " "
   ]
  },
  {
   "cell_type": "markdown",
   "metadata": {},
   "source": [
    "* Property 7 : In an extended binary tree, if E is the external path length,I is the internal path length and n is the number of internal nodes,then E=I+2n"
   ]
  },
  {
   "cell_type": "markdown",
   "metadata": {},
   "source": []
  },
  {
   "cell_type": "markdown",
   "metadata": {},
   "source": [
    "### Full Binary Tree\n",
    "\n",
    "* A binary tree in which each level has maximum number of nodes\n",
    "* If h is the height of tree,it will have 2**h-1 nodes.\n",
    "* Height of a full binary tree = log(n+1)/log2\n",
    "\n",
    "* For any node k,\n",
    ">Left child is 2k \\\n",
    ">Right child is 2k+1 \\\n",
    ">Parent is floor (k/2)."
   ]
  },
  {
   "cell_type": "markdown",
   "metadata": {},
   "source": [
    "### Complete Binary Tree\n",
    "\n",
    "* All levels have maximum number of nodes except possibly the last level . \n",
    "* In the last level, number of nodes range from 1 to 2**(h-1) and all these nodes are towards left.\n",
    "* Height of a complete binary tree = [log(n+1)] (ceil) (min height possible)\n",
    "   > Height of a complete binary tree with 1,00,0000 =[log(1000001)]\\\n",
    "   =[19.9]\\\n",
    "   =20\n",
    "   \n",
    "* If a node in a complete binary tree is assigned a number k,\n",
    "  where 1<=k<=n, then\n",
    "  * If k=1,then this node is root node. If k>1,then its parent's number is floor(k/2)\n",
    "  * If 2k>n, then   this node has no left child,otherwise the number of left child is 2k."
   ]
  },
  {
   "cell_type": "markdown",
   "metadata": {},
   "source": [
    "---"
   ]
  },
  {
   "cell_type": "markdown",
   "metadata": {},
   "source": [
    "* Property 8 - If height of a complete binary tree is h, h>=1,\n",
    "> Maximum number of nodes possible is 2**h -1\\\n",
    "> Minimum number of nodes possible is 2**(h-1)\n",
    "\n",
    "* Maximum nodes \n",
    "    * Last level also contains maximum nodes\n",
    "    * All levels are full,and so total nodes will be 2**h -1\n",
    "    \n",
    "* Minimum nodes :\n",
    "    * Last level has only one node\n",
    "    * Total nodes will be = Total nodes in a full binary tree of      height(h-1)+one node\n",
    "        * 2**(h-1)+1\n",
    "        * 2**(h-1)\n",
    "    "
   ]
  },
  {
   "cell_type": "markdown",
   "metadata": {},
   "source": []
  },
  {
   "cell_type": "markdown",
   "metadata": {},
   "source": []
  },
  {
   "cell_type": "markdown",
   "metadata": {},
   "source": []
  },
  {
   "cell_type": "markdown",
   "metadata": {},
   "source": []
  },
  {
   "cell_type": "markdown",
   "metadata": {},
   "source": []
  },
  {
   "cell_type": "markdown",
   "metadata": {},
   "source": []
  }
 ],
 "metadata": {
  "kernelspec": {
   "display_name": "Python 3",
   "language": "python",
   "name": "python3"
  },
  "language_info": {
   "codemirror_mode": {
    "name": "ipython",
    "version": 3
   },
   "file_extension": ".py",
   "mimetype": "text/x-python",
   "name": "python",
   "nbconvert_exporter": "python",
   "pygments_lexer": "ipython3",
   "version": "3.7.2"
  }
 },
 "nbformat": 4,
 "nbformat_minor": 2
}
