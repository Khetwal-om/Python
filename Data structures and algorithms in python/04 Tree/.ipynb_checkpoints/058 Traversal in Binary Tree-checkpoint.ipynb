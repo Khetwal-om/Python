{
 "cells": [
  {
   "cell_type": "markdown",
   "metadata": {},
   "source": [
    "## Traversal in Binary Tree\n",
    "\n",
    "1. Visiting the root node N\n",
    "2. Traversing the left subtree L\n",
    "3. Traversing the right subtree R\n",
    "\n",
    "**NRL** **NLR**  **LNR** **LRN** **RNL** **RLN**\n",
    "\n",
    " > Always left subtree is visited before right \n",
    " \n",
    "**NLR LNR LRN**"
   ]
  },
  {
   "cell_type": "markdown",
   "metadata": {},
   "source": [
    "1. Preorder Traversal (NLR)\n",
    "   * Visit the root(N).\n",
    "   * Traverse the left subtree of root of preorder(L).\n",
    "   * Traverse the right subtree of root in preorder(R).\n",
    "   \n",
    "2. Inorder Traversal(LNR)\n",
    "   * Traverse the left subtree of root inorder(L).\n",
    "   * Visit the root(N).\n",
    "   * Traverse the right subtree of root in inorder(R).\n",
    "   \n",
    "3. Postorder Traversal(LRN)\n",
    "   * Traverse the left subtree of root in postorder(L).\n",
    "   * Traverse the right subtree of root in postorder(R).\n",
    "   * Visit the root(N).\n",
    "   \n",
    "4. Level order traversal"
   ]
  },
  {
   "cell_type": "code",
   "execution_count": null,
   "metadata": {},
   "outputs": [],
   "source": []
  },
  {
   "cell_type": "code",
   "execution_count": null,
   "metadata": {},
   "outputs": [],
   "source": []
  },
  {
   "cell_type": "markdown",
   "metadata": {},
   "source": [
    "1. Preorder Traversal (NLR)\n",
    "   * Visit the root(N).\n",
    "   * Traverse the left subtree of root of preorder(L).\n",
    "   * Traverse the right subtree of root in preorder(R).\n"
   ]
  },
  {
   "cell_type": "code",
   "execution_count": null,
   "metadata": {},
   "outputs": [],
   "source": [
    "def preorder(self):\n",
    "    self._preorder(self.root)\n",
    "    print()\n",
    "\n",
    "def _preorder(self,p):\n",
    "    if p is None:\n",
    "        return\n",
    "    print(p.info,' ',end='')\n",
    "    self._preorder(p.lchild)\n",
    "    self._preorder(p.rchild)\n",
    "    \n",
    "def inorder(self):\n",
    "    self._inorder(self.root)\n",
    "    print()\n",
    "\n",
    "    \n",
    "def _inorder(self,p):\n",
    "    if p is None:\n",
    "        return\n",
    "    self._inorder(p.lchild)\n",
    "    print(p.info,' ',end='')\n",
    "    self._inorder(p.rchild)\n",
    "    \n",
    "def postorder(self):\n",
    "    self._postorder(self.root)\n",
    "    print()\n",
    "    \n",
    "def _postorder(self,p):\n",
    "    if p is None:\n",
    "        return\n",
    "    self._postorder(p.lchild)\n",
    "    self._postorder(p.rchild)\n",
    "    self._postorder(p.info,' ',end=' ')"
   ]
  },
  {
   "cell_type": "markdown",
   "metadata": {},
   "source": [
    "## Level order traversal: elements are traversed from left to right\n",
    "\n",
    "* level 0  \n",
    "---\n",
    "* level 1\n",
    "---\n",
    "* level 2\n",
    "---"
   ]
  },
  {
   "cell_type": "markdown",
   "metadata": {},
   "source": [
    "### Level order traversal through Queue\n",
    "\n",
    "1. Insert root node in the queue\n",
    "2. Delete a node from the queue and visit it.\n",
    "3. Insert left child of visited node in the queue.\n",
    "4. Insert right child of visited node in the queue.\n",
    "5. Repeat steps 2,3,4 till queue becomes empty."
   ]
  },
  {
   "cell_type": "code",
   "execution_count": null,
   "metadata": {},
   "outputs": [],
   "source": []
  },
  {
   "cell_type": "code",
   "execution_count": null,
   "metadata": {},
   "outputs": [],
   "source": [
    "from collections import deque\n",
    "def preorder(self):\n",
    "    self._preorder(self.root)\n",
    "    print()\n",
    "\n",
    "def _preorder(self,p):\n",
    "    if p is None:\n",
    "        return\n",
    "    print(p.info,' ',end='')\n",
    "    self._preorder(p.lchild)\n",
    "    self._preorder(p.rchild)\n",
    "    \n",
    "def inorder(self):\n",
    "    self._inorder(self.root)\n",
    "    print()\n",
    "\n",
    "    \n",
    "def _inorder(self,p):\n",
    "    if p is None:\n",
    "        return\n",
    "    self._inorder(p.lchild)\n",
    "    print(p.info,' ',end='')\n",
    "    self._inorder(p.rchild)\n",
    "    \n",
    "def postorder(self):\n",
    "    self._postorder(self.root)\n",
    "    print()\n",
    "    \n",
    "def _postorder(self,p):\n",
    "    if p is None:\n",
    "        return\n",
    "    self._postorder(p.lchild)\n",
    "    self._postorder(p.rchild)\n",
    "    self._postorder(p.info,' ',end=' ')\n",
    "    \n",
    "def level_order(self):\n",
    "    if self.root is None:\n",
    "        print(\"Tree is empty\")\n",
    "        return\n",
    "    qu=deque()\n",
    "    qu.append(self.root)\n",
    "    \n",
    "    while len(qu!=0):\n",
    "        p=qu.popleft()\n",
    "        print(p.info+' '+end='')\n",
    "        if p.child is not None:\n",
    "            qu.append(q.lchild)\n",
    "        if p.rchild is not None:\n",
    "            qu.append(q.rchild) "
   ]
  },
  {
   "cell_type": "code",
   "execution_count": null,
   "metadata": {},
   "outputs": [],
   "source": []
  },
  {
   "cell_type": "markdown",
   "metadata": {},
   "source": [
    "### Height of a Binary Tree\n",
    "\n",
    "* Height of binary tree = 1+greater(hL,hR)\n",
    "* Base case: Height of empty tree is 0"
   ]
  },
  {
   "cell_type": "code",
   "execution_count": null,
   "metadata": {},
   "outputs": [],
   "source": [
    "from collections import deque\n",
    "def preorder(self):\n",
    "    self._preorder(self.root)\n",
    "    print()\n",
    "\n",
    "def _preorder(self,p):\n",
    "    if p is None:\n",
    "        return\n",
    "    print(p.info,' ',end='')\n",
    "    self._preorder(p.lchild)\n",
    "    self._preorder(p.rchild)\n",
    "    \n",
    "def inorder(self):\n",
    "    self._inorder(self.root)\n",
    "    print()\n",
    "\n",
    "    \n",
    "def _inorder(self,p):\n",
    "    if p is None:\n",
    "        return\n",
    "    self._inorder(p.lchild)\n",
    "    print(p.info,' ',end='')\n",
    "    self._inorder(p.rchild)\n",
    "    \n",
    "def postorder(self):\n",
    "    self._postorder(self.root)\n",
    "    print()\n",
    "    \n",
    "def _postorder(self,p):\n",
    "    if p is None:\n",
    "        return\n",
    "    self._postorder(p.lchild)\n",
    "    self._postorder(p.rchild)\n",
    "    self._postorder(p.info,' ',end=' ')\n",
    "    \n",
    "def level_order(self):\n",
    "    if self.root is None:\n",
    "        print(\"Tree is empty\")\n",
    "        return\n",
    "    qu=deque()\n",
    "    qu.append(self.root)\n",
    "    \n",
    "    while len(qu!=0):\n",
    "        p=qu.popleft()\n",
    "        print(p.info+' '+end='')\n",
    "        if p.child is not None:\n",
    "            qu.append(q.lchild)\n",
    "        if p.rchild is not None:\n",
    "            qu.append(q.rchild) \n",
    "            \n",
    "def height(self):\n",
    "    return self._height(self.root)\n",
    "\n",
    "def _height(self,p):\n",
    "    if p is None:\n",
    "        return 0\n",
    "    \n",
    "    hL=self._height(p.lchild)\n",
    "    hR=self._height(p.rchild)\n",
    "    \n",
    "    if hL>hR:\n",
    "        return 1+hL\n",
    "    else:\n",
    "        return 1+hR\n",
    "\n",
    "\n",
    "def create_tree(self):\n",
    "    self.root=Node('P')\n",
    "    self.root.lchild=Node('Q')\n",
    "    self.root.rchild=Node('R')\n",
    "    self.root.lchild.lchild=Node('A')\n",
    "    self.root.lchild.rchild=Node('B')\n",
    "    self.root.rchild.lchild=Node('X')\n",
    "    \n",
    "    \n",
    "bt=BinaryTree()\n",
    "bt.create_tree()"
   ]
  },
  {
   "cell_type": "markdown",
   "metadata": {},
   "source": [
    "---"
   ]
  },
  {
   "cell_type": "markdown",
   "metadata": {},
   "source": [
    "### Constructing a binary tree from Traversals\n",
    "\n",
    "* Inorder and Preorder -> Construct a unique binary tree\n",
    "* Inorder and Postorder -> Construct a unique binary tree\n",
    "* Preorder and Postorder -> **Cannot** construct a unique binary tree\n"
   ]
  },
  {
   "cell_type": "markdown",
   "metadata": {},
   "source": [
    "#### Constructing a Binary tree from Preorder and Inorder Traversals\n",
    "\n",
    "* Preorder Traversal - First node is the Root node.\n",
    "* Remaining Nodes    - Left subtree and right subtree\n",
    "* Inorder Traversal  - Root node is in between nodes of left subtree and nodes of right subtree."
   ]
  },
  {
   "cell_type": "markdown",
   "metadata": {},
   "source": [
    " #### Simple method of consructing a binary tree from preorder and inorder traversals\n",
    " \n",
    "1. Insert the nodes from preorder traversal one by one in the tree,starting from the beginning \n",
    "2. In inorder traversal , mark the nodes which have been inserted.\n",
    "3. A node is inserted according to its position with respect to marked "
   ]
  },
  {
   "cell_type": "markdown",
   "metadata": {},
   "source": [
    "---"
   ]
  },
  {
   "cell_type": "markdown",
   "metadata": {},
   "source": [
    "### Constructing a Binary tree from Postorder and Inorder Traversals \n",
    "\n",
    "* Postorder Traversal - Last Node is the Root node\n",
    "* Remaining Nodes -left subtree and right subtree\n",
    "* Inorder Traversal - Root node is in between nodesof left subtree and nodes of right subtree\n"
   ]
  },
  {
   "cell_type": "markdown",
   "metadata": {},
   "source": [
    "### Simple method of constructing  a binary tree from postorder and inorder traversals\n",
    "\n",
    "1. Insert the nodes from postorder traversal one by one in the tree, starting from the end \n",
    "2. In inorder traversal,mark the nodes which have been inserted\n",
    "3. A node is inserted according to its position with respect to marked nodes in inorder traversal."
   ]
  },
  {
   "cell_type": "markdown",
   "metadata": {},
   "source": []
  },
  {
   "cell_type": "code",
   "execution_count": null,
   "metadata": {},
   "outputs": [],
   "source": []
  }
 ],
 "metadata": {
  "kernelspec": {
   "display_name": "Python 3",
   "language": "python",
   "name": "python3"
  },
  "language_info": {
   "codemirror_mode": {
    "name": "ipython",
    "version": 3
   },
   "file_extension": ".py",
   "mimetype": "text/x-python",
   "name": "python",
   "nbconvert_exporter": "python",
   "pygments_lexer": "ipython3",
   "version": "3.7.2"
  }
 },
 "nbformat": 4,
 "nbformat_minor": 2
}
