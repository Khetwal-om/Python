{
 "cells": [
  {
   "cell_type": "markdown",
   "metadata": {},
   "source": [
    " :+1: :sparkles: :camel: :tada: :rocket: :metal: :octocat: \n",
    "GitHub "
   ]
  },
  {
   "cell_type": "markdown",
   "metadata": {},
   "source": [
    "### Representation of Binary trees in Memory\n",
    "\n",
    "1. Sequential Representation\n",
    "2. Linked Representation "
   ]
  },
  {
   "cell_type": "markdown",
   "metadata": {},
   "source": [
    "1. Sequential Representation of Binary Trees\n",
    "\n",
    "   * Root is stored at index 1\n",
    "                      Node K\n",
    "     >left **2k**\\\n",
    "     >right **2k+1**\\\n",
    "     >parent **floor(k/2)**\n",
    "\n",
    "\n",
    "   * Size of list needed to represent a binary tree of height h \n",
    "     > Maximum number of nodes possible in a binary tree of height h 2**h -1\n",
    "    \n",
    "   * complete binary trees [log(n+1)] \n",
    "     >size of list=2**[log(n+1)] -1\n",
    "   * Skewed Binary tree n\n",
    "     >size of list = 2**n -1\n",
    "     \n",
    "     \n",
    "2. Linked Representation of Binary Trees\n",
    "\n",
    "```python\n",
    "class Node:\n",
    "    def __init__(self,value):\n",
    "        self.info=value\n",
    "        self.lchild=None\n",
    "        self.rchild=None\n",
    "```\n",
    "\n",
    " "
   ]
  },
  {
   "cell_type": "markdown",
   "metadata": {},
   "source": []
  },
  {
   "cell_type": "markdown",
   "metadata": {},
   "source": []
  },
  {
   "cell_type": "markdown",
   "metadata": {},
   "source": []
  },
  {
   "cell_type": "markdown",
   "metadata": {},
   "source": []
  },
  {
   "cell_type": "markdown",
   "metadata": {},
   "source": []
  },
  {
   "cell_type": "markdown",
   "metadata": {},
   "source": []
  },
  {
   "cell_type": "markdown",
   "metadata": {},
   "source": []
  },
  {
   "cell_type": "markdown",
   "metadata": {},
   "source": []
  }
 ],
 "metadata": {
  "kernelspec": {
   "display_name": "Python 3",
   "language": "python",
   "name": "python3"
  },
  "language_info": {
   "codemirror_mode": {
    "name": "ipython",
    "version": 3
   },
   "file_extension": ".py",
   "mimetype": "text/x-python",
   "name": "python",
   "nbconvert_exporter": "python",
   "pygments_lexer": "ipython3",
   "version": "3.7.2"
  }
 },
 "nbformat": 4,
 "nbformat_minor": 2
}
