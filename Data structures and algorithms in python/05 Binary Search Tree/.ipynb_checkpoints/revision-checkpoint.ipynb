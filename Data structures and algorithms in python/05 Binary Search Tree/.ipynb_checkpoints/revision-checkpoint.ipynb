{
 "cells": [
  {
   "cell_type": "markdown",
   "metadata": {},
   "source": [
    "# Recursive method to insert the element in Binary tree."
   ]
  },
  {
   "cell_type": "code",
   "execution_count": null,
   "metadata": {},
   "outputs": [],
   "source": [
    "def insert(self):\n",
    "    self._insert(self.root)\n",
    "\n",
    "\n",
    "def _insert(self,p,x):\n",
    "    if p is None:\n",
    "        p=Node(x)\n",
    "        \n",
    "    elif x<p.info:\n",
    "        p.lchild=self._insert(p.lchild)\n",
    "    elif x>p.info:\n",
    "        p.rchild=self._insert(p.rchild)\n",
    "    else:\n",
    "        print(\"This element is already present in Tree\")\n",
    "        \n",
    "        \n",
    "    return p"
   ]
  },
  {
   "cell_type": "code",
   "execution_count": null,
   "metadata": {},
   "outputs": [],
   "source": []
  },
  {
   "cell_type": "code",
   "execution_count": null,
   "metadata": {},
   "outputs": [],
   "source": []
  },
  {
   "cell_type": "code",
   "execution_count": null,
   "metadata": {},
   "outputs": [],
   "source": []
  },
  {
   "cell_type": "code",
   "execution_count": null,
   "metadata": {},
   "outputs": [],
   "source": [
    "class TreeEmptyError(Exception):\n",
    "    pass\n",
    "class Node:\n",
    "    def __init__(self,value):\n",
    "        self.info=value\n",
    "        self.lchild=None\n",
    "        self.rchild=None\n",
    "        \n",
    "class BinarySearchTree:\n",
    "    def __init__(self):\n",
    "        self.root=None\n",
    "        \n",
    "    def is_empty(self):\n",
    "        return self.root==None\n",
    "    \n",
    "    def insert(self,x):\n",
    "        self.root=self._insert(self.root,x)\n",
    "        \n",
    "    def _insert(self,p,x):\n",
    "        if p is None:\n",
    "            p=Node(x)\n",
    "        elif x<p.info:\n",
    "            p.lchild=self._insert(p.lchild,x)\n",
    "        elif x>p.info:\n",
    "            p.rchild=self._insert(p.rchild,x)\n",
    "        else:\n",
    "            print(x,\"It's already there\")\n",
    "        return p\n",
    "    "
   ]
  },
  {
   "cell_type": "code",
   "execution_count": null,
   "metadata": {},
   "outputs": [],
   "source": [
    "def insert1(self):\n",
    "    p=self.root\n",
    "    par=None\n",
    "    while p is not None:\n",
    "        par=p\n",
    "        if x<p.lchild:\n",
    "            p=p.lchild\n",
    "        elif x>p.rchild:\n",
    "            p=p.rchild\n",
    "        else:\n",
    "            print(x+\"Already present\")\n",
    "            return\n",
    "        \n",
    "    temp=Node(x)\n",
    "    \n",
    "    if par==None:\n",
    "        self.root=temp\n",
    "        \n",
    "    elif x<par.info:\n",
    "        par.lchild=temp\n",
    "    else:\n",
    "        par.rchild=temp"
   ]
  },
  {
   "cell_type": "code",
   "execution_count": null,
   "metadata": {},
   "outputs": [],
   "source": []
  },
  {
   "cell_type": "code",
   "execution_count": 1,
   "metadata": {},
   "outputs": [],
   "source": [
    "def search(self,x):\n",
    "    return self._search(self.root,x)\n",
    "\n",
    "def _search(self,p,x):\n",
    "    if p is None:\n",
    "        return\n",
    "    elif x.info<p:\n",
    "        p=self._search(p.lchild,x)\n",
    "    elif x.info>p:\n",
    "        p=self._search(p.rchild,x)\n",
    "        \n",
    "    return p\n",
    "\n",
    "\n"
   ]
  },
  {
   "cell_type": "raw",
   "metadata": {},
   "source": [
    "def search1(self):\n",
    "    p=self.root\n",
    "    while p is not None:\n",
    "        if x<p.info:\n",
    "            p=p.lchild\n",
    "        elif x>p.info:\n",
    "            p=p.rchild\n",
    "        else:\n",
    "            return True\n",
    "    return False"
   ]
  },
  {
   "cell_type": "code",
   "execution_count": null,
   "metadata": {},
   "outputs": [],
   "source": []
  },
  {
   "cell_type": "code",
   "execution_count": null,
   "metadata": {},
   "outputs": [],
   "source": [
    "def display(self):\n",
    "    self._display(self.root,0)\n",
    "    print()\n",
    "    \n",
    "def _display(self,p,level):\n",
    "    if p is None:\n",
    "        return\n",
    "    self._display(p.rchild,level+1)\n",
    "    print()\n",
    "    for i in range(level):\n",
    "        print(\"   \",end=\"\")\n",
    "    print(p.info)\n",
    "    self._display(p.lchild,level+1)"
   ]
  },
  {
   "cell_type": "code",
   "execution_count": null,
   "metadata": {},
   "outputs": [],
   "source": []
  },
  {
   "cell_type": "code",
   "execution_count": null,
   "metadata": {},
   "outputs": [],
   "source": [
    "bst=BinarySearchTree()\n",
    "\n",
    "while True:\n",
    "    print(\"1. Display Tree\")\n",
    "    print(\"2. Search Iteratively\")\n",
    "    print(\"3. Search Recursively\")\n",
    "    print(\"4. Insert a new node (Iterative)\")\n",
    "    print(\"5. Search a new node (recursive)\")\n",
    "    print(\"6. Delete a node (Iterative)\")\n",
    "    print(\"7. Delete a node (Recursive)\")\n",
    "    print(\"8. Find minimum key Irerative\")\n",
    "    print(\"9. Find minimum keyRecursive\")\n",
    "    print(\"10. Find maximum key Irerative\")\n",
    "    print(\"11. Find maximum keyRecursive\")"
   ]
  },
  {
   "cell_type": "code",
   "execution_count": null,
   "metadata": {},
   "outputs": [],
   "source": []
  },
  {
   "cell_type": "code",
   "execution_count": null,
   "metadata": {},
   "outputs": [],
   "source": []
  },
  {
   "cell_type": "code",
   "execution_count": 4,
   "metadata": {},
   "outputs": [],
   "source": [
    "def min1(self):\n",
    "    if self.is_empty():\n",
    "        raise TreeEmptyError(\"Tree is empty\")\n",
    "    p=self.root\n",
    "    while p.lchild is not None:\n",
    "        p=p.lchild\n",
    "    return p.info\n",
    "\n",
    "def max1(self):\n",
    "    if self.is_empty():\n",
    "        raise TreeEmptyError(\"Tree is empty\")\n",
    "    p=self.root\n",
    "    while p.rchild is not None:\n",
    "        p=p.rchild\n",
    "    return p.info\n",
    "\n",
    "\n",
    "def min2(self):\n",
    "    if self.is_empty():\n",
    "        raise TreeEmptyError(\"Tree is empty\")\n",
    "    return self._min(self.root).info\n",
    "    \n",
    "def _min2(self,p):\n",
    "    \n",
    "    if p.lchild is not None:\n",
    "        return self._min2(p.lchild)\n",
    "    else:\n",
    "        return p\n",
    "    \n",
    "def max2(self):\n",
    "    if self.is_empty():\n",
    "        raise TreeEmptyError(\"Tree is empty\")\n",
    "    return self._max2(self,self.root).info\n",
    "\n",
    "def _max2(self,p):\n",
    "    if p.rchild is None:\n",
    "        return p\n",
    "    return self._max2(p.rchild)\n",
    "    "
   ]
  },
  {
   "cell_type": "code",
   "execution_count": null,
   "metadata": {},
   "outputs": [],
   "source": []
  },
  {
   "cell_type": "markdown",
   "metadata": {},
   "source": [
    "## Insertion"
   ]
  },
  {
   "cell_type": "code",
   "execution_count": null,
   "metadata": {},
   "outputs": [],
   "source": []
  },
  {
   "cell_type": "code",
   "execution_count": null,
   "metadata": {},
   "outputs": [],
   "source": []
  },
  {
   "cell_type": "markdown",
   "metadata": {},
   "source": [
    "# Preorder ,Inorder , Post,level order traversal"
   ]
  },
  {
   "cell_type": "code",
   "execution_count": null,
   "metadata": {},
   "outputs": [],
   "source": [
    "def preorder(self):\n",
    "    self._preorder(self,self.root)\n",
    "    \n",
    "def _preorder(self,p):\n",
    "    if p is None:\n",
    "        return\n",
    "    print(p.info,\" \",end=' ')\n",
    "    self._preorder(p.lchild)\n",
    "    self._preorder(p.rchild)\n",
    "    \n",
    "    \n",
    "def inorder(self):\n",
    "    self._inorder(self,self.root)\n",
    "    \n",
    "def _inorder(self,p):\n",
    "    if p is None:\n",
    "        return\n",
    "    self._inorder(p.lchild)\n",
    "    print(p.info,\" \",end=' ')\n",
    "    self._inorder(p.rchild)\n",
    "    \n",
    "    \n",
    "def postorder(self):\n",
    "    self._postorder(self,self.root)\n",
    "    \n",
    "def _postorder(self,p):\n",
    "    if p is None:\n",
    "        return\n",
    "    self._postorder(p.lchild)\n",
    "    self._postorder(p.rchild)\n",
    "    print(p.info,\" \",end=' ')\n",
    "from collections import deque\n",
    "\n",
    "def level_order(self):\n",
    "    if self.root is None:\n",
    "        return\n",
    "    \n",
    "    \n",
    "    qu=deque()\n",
    "    qu.append(self.root)\n",
    "    while len(qu)!=0:\n",
    "        p=qu.popleft()\n",
    "        print(p.info,'   ')\n",
    "        if p.lchild is not None:\n",
    "            qu.append(p.lchild)\n",
    "        if p.rchild is not None:\n",
    "            qu.append(p.rchild)\n",
    "            \n",
    "    \n",
    "        \n",
    "\n",
    "    \n",
    "    \n",
    "    \n"
   ]
  },
  {
   "cell_type": "markdown",
   "metadata": {},
   "source": [
    "### Level order\n",
    "\n",
    "1. Insert root node in the queue.\n",
    "2. Eliminate root node insert it's\n",
    "3. Left node in queue\n",
    "4. Right node in queue\n",
    "5. DRY 234\n",
    "\n",
    "> Use deque()  \\\n",
    " Add elements to queue search for lchild and right child if both are available append."
   ]
  },
  {
   "cell_type": "code",
   "execution_count": null,
   "metadata": {},
   "outputs": [],
   "source": [
    "def height(self):\n",
    "    return self._height(self.root)\n",
    "    \n",
    "def _height(self,p):\n",
    "    if p is None:\n",
    "        return\n",
    "    \n",
    "    hL=self._height(p.lchild)\n",
    "    hR=self._height(p.rchild)\n",
    "    \n",
    "    if hL>hR:\n",
    "        return 1+hL\n",
    "    else:\n",
    "        return 1+hR "
   ]
  },
  {
   "cell_type": "markdown",
   "metadata": {},
   "source": [
    "## Insertion of elements\n",
    "\n",
    "1. Recursive \n",
    "2. Iterative\n"
   ]
  },
  {
   "cell_type": "code",
   "execution_count": null,
   "metadata": {},
   "outputs": [],
   "source": [
    "def _insert(self,x):\n",
    "    p=self.root\n",
    "    par=None\n",
    "    while p is not None:\n",
    "        par=p\n",
    "        if x<p.info:\n",
    "            p=p.lchild\n",
    "        elif:\n",
    "            p=p.rchild\n",
    "        else:\n",
    "            print(\"It's already present\")\n",
    "            return\n",
    "        \n",
    "    temp=Node(x)\n",
    "    if par==None:\n",
    "        self.root=temp\n",
    "    if x<par.info:\n",
    "        par.lchild=temp\n",
    "    else:\n",
    "        par.rchild=x"
   ]
  },
  {
   "cell_type": "code",
   "execution_count": null,
   "metadata": {},
   "outputs": [],
   "source": [
    "def insert(self,x):\n",
    "    self.root=self._insert(self.root,x)\n",
    "    \n",
    "def _insert(self,p,x):\n",
    "    if p is None:\n",
    "        p=Node(x)\n",
    "    \n",
    "    if x<p.info:\n",
    "        p.lchild=self._insert(p.lchild,x)\n",
    "    if x>p.info:\n",
    "        p.rchild=self.insert(p.rchild,x)\n",
    "    else:\n",
    "        print(\"already present\")\n",
    "    return p"
   ]
  },
  {
   "cell_type": "markdown",
   "metadata": {},
   "source": [
    "# Nodes with minimum key"
   ]
  },
  {
   "cell_type": "code",
   "execution_count": null,
   "metadata": {},
   "outputs": [],
   "source": [
    "def mini(self,x):\n",
    "    p=self.root\n",
    "    \n",
    "    while p is not None:\n",
    "        if x<p.info:\n",
    "            p=p.lchild\n",
    "        if x>p.info:\n",
    "            p=p.rchild\n",
    "            \n",
    "    \n"
   ]
  },
  {
   "cell_type": "code",
   "execution_count": null,
   "metadata": {},
   "outputs": [],
   "source": [
    "# nodes with minimum key  ... recursive\n",
    "def min2(self):\n",
    "    if self.is_empty():\n",
    "        raise TreeEmptyError(\"Tree is empty\")\n",
    "    return self._min(self.root).info\n",
    "\n",
    "def _min(self,p):\n",
    "    if p is None:\n",
    "        return p\n",
    "    \n",
    "    return self._min(p.lchild)\n",
    "\n"
   ]
  },
  {
   "cell_type": "code",
   "execution_count": null,
   "metadata": {},
   "outputs": [],
   "source": [
    "def max2(self):\n",
    "    if self.is_empty():\n",
    "        raise TreeEmptyError(\"Tree is empty\")\n",
    "    return self._max(self.root).info\n",
    "\n",
    "def _max(self,p):\n",
    "    if p.rchild is None:\n",
    "        return p\n",
    "    return self._max(p.rchild)"
   ]
  },
  {
   "cell_type": "code",
   "execution_count": null,
   "metadata": {},
   "outputs": [],
   "source": []
  },
  {
   "cell_type": "code",
   "execution_count": null,
   "metadata": {},
   "outputs": [],
   "source": [
    "def search(self,x):\n",
    "    return self._search(self.root,x)\n",
    "\n",
    "def _search(self,p,x):\n",
    "    if p is None:\n",
    "        return\n",
    "        \n",
    "        \n",
    "    if p.info<x:\n",
    "        self.search(p.lchild,x)\n",
    "        \n",
    "    if p.info>x:\n",
    "        self.search(p.rchild,x)\n",
    "    \n",
    "    if p.info==x:\n",
    "        return p"
   ]
  },
  {
   "cell_type": "code",
   "execution_count": null,
   "metadata": {},
   "outputs": [],
   "source": []
  },
  {
   "cell_type": "markdown",
   "metadata": {},
   "source": [
    "# To find inorder successor ,First move to the right child of p, then keep on moving keep on moving left find node that does not have till left child"
   ]
  },
  {
   "cell_type": "code",
   "execution_count": null,
   "metadata": {},
   "outputs": [],
   "source": []
  },
  {
   "cell_type": "code",
   "execution_count": 3,
   "metadata": {},
   "outputs": [
    {
     "ename": "SyntaxError",
     "evalue": "unexpected EOF while parsing (<ipython-input-3-38af3473425a>, line 7)",
     "output_type": "error",
     "traceback": [
      "\u001b[1;36m  File \u001b[1;32m\"<ipython-input-3-38af3473425a>\"\u001b[1;36m, line \u001b[1;32m7\u001b[0m\n\u001b[1;33m    \u001b[0m\n\u001b[1;37m    ^\u001b[0m\n\u001b[1;31mSyntaxError\u001b[0m\u001b[1;31m:\u001b[0m unexpected EOF while parsing\n"
     ]
    }
   ],
   "source": [
    "def delete1(self,x):\n",
    "    p=self.root\n",
    "    par=None\n",
    "    \n",
    "    while p is not None:\n",
    "        if x==p.info:\n",
    "            break\n",
    "        par=p\n",
    "        if x<p.info:\n",
    "            p=p.lchild\n",
    "        else:\n",
    "            p=p.rchild\n",
    "            \n",
    "    if p==None:\n",
    "        print(\"no existence\")\n",
    "        return\n",
    "    \n",
    "    #Case C : 2 children\n",
    "    # find inorder successor and its parent\n",
    "    if p.lchild is not None and p.rchild is not None:\n",
    "        ps=p\n",
    "        s=p.rchild\n",
    "        \n",
    "        while s.lchild is not None:\n",
    "            ps=s\n",
    "            s=s.lchild\n",
    "            \n",
    "        p.info=s.info\n",
    "        p=s\n",
    "        par=ps\n",
    "        \n",
    "    #case B,A  :1 or no child\n",
    "    \n",
    "    if p.lchild is not None: #node to be deleted has left child\n",
    "        ch=p.lchild\n",
    "    \n",
    "    else:\n",
    "        ch=p.rchild\n",
    "        \n",
    "    if par==None:\n",
    "        self.root=ch\n",
    "    elif p=para.lchild:\n",
    "        par.lchild=ch\n",
    "    else:\n",
    "        par.rchild=ch\n",
    "    \n",
    "            "
   ]
  },
  {
   "cell_type": "code",
   "execution_count": null,
   "metadata": {},
   "outputs": [],
   "source": []
  }
 ],
 "metadata": {
  "kernelspec": {
   "display_name": "Python 3",
   "language": "python",
   "name": "python3"
  },
  "language_info": {
   "codemirror_mode": {
    "name": "ipython",
    "version": 3
   },
   "file_extension": ".py",
   "mimetype": "text/x-python",
   "name": "python",
   "nbconvert_exporter": "python",
   "pygments_lexer": "ipython3",
   "version": "3.7.2"
  }
 },
 "nbformat": 4,
 "nbformat_minor": 2
}
