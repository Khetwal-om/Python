{
 "cells": [
  {
   "cell_type": "markdown",
   "metadata": {},
   "source": [
    "### Deletion in a Binary search Tree\n",
    "\n",
    "* Case A: Node has no child,it is leaf node.\n",
    "* Case B: Node has exactly 1 child.\n",
    "* Case C: Node has exactly 2 children."
   ]
  },
  {
   "cell_type": "markdown",
   "metadata": {},
   "source": [
    "1. Case A: Node is leaf node\n",
    "\n",
    "           * For deleting a leaf node N\n",
    "                      |\n",
    "     Link to node N in its parent in replaced by None\n",
    "     \n",
    "> If N is left child -> Left child of parent becomes None\\\n",
    "> If N is right child -> Right child of parent becomes None"
   ]
  },
  {
   "cell_type": "markdown",
   "metadata": {},
   "source": [
    "2. Case B: Node has only one child\n",
    "\n",
    " * After deletion,single child will come at the place of deleted node.\n",
    "> P :   Node to be deleted\\\n",
    "> PR:   Parent of the node that has to be deleted\\\n",
    "> CH:   Child of the node that has to be deleted.\n",
    "\n",
    " * If P is left child of PR -> CH becomes left child of PR\n",
    " * If p is right child of PR -> CH becomes right child of PR"
   ]
  },
  {
   "cell_type": "markdown",
   "metadata": {},
   "source": [
    "3. Case C : Node has two children\n",
    "\n",
    "  * Find the inorder successor of the node to be deleted.\n",
    "      * Inorder successor of N : Leftmost node in the right subtree of N.\n",
    "        >Inorder successor will have either no child or right child.\n",
    "  \n",
    " * Copy the data of the inorder successor to the node\n",
    " * Delete the inorder successor from the tree.\n"
   ]
  },
  {
   "cell_type": "code",
   "execution_count": null,
   "metadata": {},
   "outputs": [],
   "source": []
  }
 ],
 "metadata": {
  "kernelspec": {
   "display_name": "Python 3",
   "language": "python",
   "name": "python3"
  },
  "language_info": {
   "codemirror_mode": {
    "name": "ipython",
    "version": 3
   },
   "file_extension": ".py",
   "mimetype": "text/x-python",
   "name": "python",
   "nbconvert_exporter": "python",
   "pygments_lexer": "ipython3",
   "version": "3.7.2"
  }
 },
 "nbformat": 4,
 "nbformat_minor": 2
}
