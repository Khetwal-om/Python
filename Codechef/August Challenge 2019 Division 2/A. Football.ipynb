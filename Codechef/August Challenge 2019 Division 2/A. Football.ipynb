{
 "cells": [
  {
   "cell_type": "markdown",
   "metadata": {},
   "source": [
    "---\n",
    "* Codechef solution for problem A\n",
    "---"
   ]
  },
  {
   "cell_type": "code",
   "execution_count": null,
   "metadata": {},
   "outputs": [],
   "source": [
    "def solution(goals,fouls):\n",
    "    up=list(map((lambda x:x*20),goals))\n",
    "    below=list(map((lambda k:k*10),fouls))\n",
    "    print(up)\n",
    "    print(below)\n",
    "    logout=[]\n",
    "    for i in range(len(up)):\n",
    "        for k in range(len(below)):\n",
    "            if i==k:\n",
    "                logout.append(up[i]-below[k])\n",
    "                    \n",
    "    final=max(logout)\n",
    "    if final<0:\n",
    "        return 0\n",
    "    else:\n",
    "        return final\n",
    "\n",
    "\n",
    "t=int(input(\"Enter the number of queries\"))\n",
    "\n",
    "\n",
    "for i in range(t):\n",
    "    n=int(input(\"Enter the number of terms\"))\n",
    "    goals=list(map(int,input().split()))\n",
    "    fouls=list(map(int,input().split()))\n",
    "    print(solution(goals,fouls))\n",
    "\n"
   ]
  }
 ],
 "metadata": {
  "kernelspec": {
   "display_name": "Python 3",
   "language": "python",
   "name": "python3"
  },
  "language_info": {
   "codemirror_mode": {
    "name": "ipython",
    "version": 3
   },
   "file_extension": ".py",
   "mimetype": "text/x-python",
   "name": "python",
   "nbconvert_exporter": "python",
   "pygments_lexer": "ipython3",
   "version": "3.7.2"
  }
 },
 "nbformat": 4,
 "nbformat_minor": 2
}
