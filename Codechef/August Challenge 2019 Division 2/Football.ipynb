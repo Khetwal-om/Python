{
 "cells": [
  {
   "cell_type": "code",
   "execution_count": 7,
   "metadata": {},
   "outputs": [
    {
     "name": "stdout",
     "output_type": "stream",
     "text": [
      "number of test cases0\n",
      "enter number of inputs in this query1\n",
      "Enter goal1\n",
      "Enter fouls committed1\n",
      "[1]\n",
      "[1]\n"
     ]
    },
    {
     "data": {
      "text/plain": [
       "800"
      ]
     },
     "execution_count": 7,
     "metadata": {},
     "output_type": "execute_result"
    }
   ],
   "source": [
    "t=int(input(\"number of test cases\"))\n",
    "n=int(input(\"enter number of inputs in this query\"))\n",
    "a=[]\n",
    "b=[]\n",
    "for i in range(n):\n",
    "    goal=int(input(\"Enter goal\"))\n",
    "    a.append(goal)\n",
    "    foul=int(input(\"Enter fouls committed\"))\n",
    "    b.append(foul)\n",
    "    \n",
    "print(a)\n",
    "print(b)\n",
    "\n",
    "\n",
    "lambda x,y:x*20-y*10\n",
    "\n",
    "def solution(a,b,c,x,y,z):\n",
    "    first=a*20-x*10\n",
    "    second=b*20-y*10\n",
    "    third=c*20-z*10\n",
    "    return max(first,second,third)\n",
    "    \n",
    "\n",
    "solution(40,30,50,2,4,20)"
   ]
  },
  {
   "cell_type": "code",
   "execution_count": 15,
   "metadata": {},
   "outputs": [
    {
     "name": "stdout",
     "output_type": "stream",
     "text": [
      "[[40, 2], [40, 4], [40, 20], [30, 2], [30, 4], [30, 20], [50, 2], [50, 4], [50, 20]]\n",
      "[40, 2]\n",
      "[40, 4]\n",
      "[40, 20]\n",
      "[30, 2]\n",
      "[30, 4]\n",
      "[30, 20]\n",
      "[50, 2]\n",
      "[50, 4]\n",
      "[50, 20]\n"
     ]
    }
   ],
   "source": [
    "possible_choices = [ [drink,food] for drink in ['water', 'tea', 'juice'] for food in ['ham', 'eggs', 'spam'] ]\n",
    "\n",
    "a=[40,30,50]\n",
    "b=[2,4,20]\n",
    "\n",
    "\n",
    "solution=[[goal,foul] for goal in a for foul in b]\n",
    "print(solution)\n",
    "\n",
    "\n"
   ]
  },
  {
   "cell_type": "code",
   "execution_count": null,
   "metadata": {},
   "outputs": [],
   "source": []
  },
  {
   "cell_type": "code",
   "execution_count": 11,
   "metadata": {},
   "outputs": [
    {
     "name": "stdout",
     "output_type": "stream",
     "text": [
      "[5, 7, 97, 77, 23, 73, 61]\n"
     ]
    },
    {
     "ename": "TypeError",
     "evalue": "filter expected 2 arguments, got 1",
     "output_type": "error",
     "traceback": [
      "\u001b[1;31m---------------------------------------------------------------------------\u001b[0m",
      "\u001b[1;31mTypeError\u001b[0m                                 Traceback (most recent call last)",
      "\u001b[1;32m<ipython-input-11-13ac577fcb86>\u001b[0m in \u001b[0;36m<module>\u001b[1;34m\u001b[0m\n\u001b[0;32m      7\u001b[0m \u001b[1;33m\u001b[0m\u001b[0m\n\u001b[0;32m      8\u001b[0m \u001b[0mli\u001b[0m\u001b[1;33m=\u001b[0m\u001b[1;33m[\u001b[0m\u001b[1;33m[\u001b[0m\u001b[1;36m40\u001b[0m\u001b[1;33m,\u001b[0m\u001b[1;36m2\u001b[0m\u001b[1;33m]\u001b[0m\u001b[1;33m,\u001b[0m\u001b[1;33m[\u001b[0m\u001b[1;36m30\u001b[0m\u001b[1;33m,\u001b[0m\u001b[1;36m4\u001b[0m\u001b[1;33m]\u001b[0m\u001b[1;33m,\u001b[0m\u001b[1;33m[\u001b[0m\u001b[1;36m50\u001b[0m\u001b[1;33m,\u001b[0m\u001b[1;36m20\u001b[0m\u001b[1;33m]\u001b[0m\u001b[1;33m]\u001b[0m\u001b[1;33m\u001b[0m\u001b[1;33m\u001b[0m\u001b[0m\n\u001b[1;32m----> 9\u001b[1;33m \u001b[0msolution\u001b[0m\u001b[1;33m=\u001b[0m\u001b[0mlist\u001b[0m\u001b[1;33m(\u001b[0m\u001b[0mfilter\u001b[0m\u001b[1;33m(\u001b[0m\u001b[1;32mlambda\u001b[0m \u001b[0mk\u001b[0m\u001b[1;33m:\u001b[0m\u001b[1;33m(\u001b[0m\u001b[0mli\u001b[0m\u001b[1;33m[\u001b[0m\u001b[1;36m0\u001b[0m\u001b[1;33m]\u001b[0m\u001b[1;33m*\u001b[0m\u001b[1;36m20\u001b[0m\u001b[1;33m-\u001b[0m\u001b[0mli\u001b[0m\u001b[1;33m[\u001b[0m\u001b[1;36m1\u001b[0m\u001b[1;33m]\u001b[0m\u001b[1;33m*\u001b[0m\u001b[1;36m10\u001b[0m\u001b[1;33m)\u001b[0m\u001b[1;33m)\u001b[0m\u001b[1;33m,\u001b[0m\u001b[0mli\u001b[0m\u001b[1;33m)\u001b[0m\u001b[1;33m\u001b[0m\u001b[1;33m\u001b[0m\u001b[0m\n\u001b[0m\u001b[0;32m     10\u001b[0m \u001b[0mprint\u001b[0m\u001b[1;33m(\u001b[0m\u001b[0msolution\u001b[0m\u001b[1;33m)\u001b[0m\u001b[1;33m\u001b[0m\u001b[1;33m\u001b[0m\u001b[0m\n",
      "\u001b[1;31mTypeError\u001b[0m: filter expected 2 arguments, got 1"
     ]
    }
   ],
   "source": [
    "# Python code to illustrate \n",
    "# filter() with lambda() \n",
    "li = [5, 7, 22, 97, 54, 62, 77, 23, 73, 61] \n",
    "final_list = list(filter(lambda x: (x%2 != 0) , li)) \n",
    "print(final_list) \n",
    "\n",
    "\n",
    "li=[[40,2],[30,4],[50,20]]\n",
    "solution=list(filter(lambda k:(li[0]*20-li[1]*10)),li)\n",
    "print(solution)\n"
   ]
  },
  {
   "cell_type": "code",
   "execution_count": null,
   "metadata": {},
   "outputs": [],
   "source": [
    "# Python code to illustrate \n",
    "# map() with lambda() \n",
    "# to get double of a list. \n",
    "li = [5, 7, 22, 97, 54, 62, 77, 23, 73, 61] \n",
    "final_list = list(map(lambda x: x*2 , li)) \n",
    "print(final_list) \n"
   ]
  },
  {
   "cell_type": "code",
   "execution_count": null,
   "metadata": {},
   "outputs": [],
   "source": [
    "# Python code to illustrate \n",
    "# reduce() with lambda() \n",
    "# to get sum of a list \n",
    "from functools import reduce\n",
    "li = [5, 8, 10, 20, 50, 100] \n",
    "sum = reduce((lambda x, y: x + y), li) \n",
    "print (sum) \n"
   ]
  },
  {
   "cell_type": "code",
   "execution_count": 12,
   "metadata": {},
   "outputs": [
    {
     "name": "stdout",
     "output_type": "stream",
     "text": [
      "2\n",
      "3\n",
      "3\n",
      "2\n",
      "1\n",
      "3\n"
     ]
    }
   ],
   "source": [
    "marksheet = []\n",
    "for _ in range(0,int(input())):\n",
    "    marksheet.append([input(), float(input())])\n",
    "\n",
    "second_highest = sorted(list(set([marks for name, marks in marksheet])))[1]\n",
    "print('\\n'.join([a for a,b in sorted(marksheet) if b == second_highest]))"
   ]
  },
  {
   "cell_type": "markdown",
   "metadata": {},
   "source": []
  },
  {
   "cell_type": "code",
   "execution_count": 8,
   "metadata": {},
   "outputs": [
    {
     "name": "stdout",
     "output_type": "stream",
     "text": [
      "0\n",
      "10\n",
      "[0]\n",
      "[100]\n",
      "-100\n"
     ]
    }
   ],
   "source": [
    "goals=list(map(int,input().split()))\n",
    "fouls=list(map(int,input().split()))\n",
    "up=list(map((lambda x:x*20),goals))\n",
    "below=list(map((lambda k:k*10),fouls))\n",
    "print(up)\n",
    "print(below)\n",
    "\n",
    "logout=[]\n",
    "for i in range(len(up)):\n",
    "    for k in range(len(below)):\n",
    "        if i==k:\n",
    "            logout.append(up[i]-below[k])\n",
    "        \n",
    "def solution(goals,fouls):\n",
    "\n",
    "print(max(logout))"
   ]
  },
  {
   "cell_type": "code",
   "execution_count": null,
   "metadata": {},
   "outputs": [],
   "source": [
    "\n",
    "lambda x,y:x*20-y*10\n",
    "\n",
    "def solution(a,b,c,x,y,z):\n",
    "    first=a*20-x*10\n",
    "    second=b*20-y*10\n",
    "    third=c*20-z*10\n",
    "    return max(first,second,third)\n",
    "  "
   ]
  },
  {
   "cell_type": "code",
   "execution_count": 12,
   "metadata": {},
   "outputs": [
    {
     "name": "stdout",
     "output_type": "stream",
     "text": [
      "Enter the number of queries2\n",
      "Enter the number of terms3\n",
      "40 30 50\n",
      "2 4 20\n",
      "[800, 600, 1000]\n",
      "[20, 40, 200]\n",
      "800\n",
      "Enter the number of terms1\n",
      "0\n",
      "10\n",
      "[0]\n",
      "[100]\n",
      "0\n"
     ]
    }
   ],
   "source": [
    "def solution(goals,fouls):\n",
    "    up=list(map((lambda x:x*20),goals))\n",
    "    below=list(map((lambda k:k*10),fouls))\n",
    "    print(up)\n",
    "    print(below)\n",
    "    logout=[]\n",
    "    for i in range(len(up)):\n",
    "        for k in range(len(below)):\n",
    "            if i==k:\n",
    "                logout.append(up[i]-below[k])\n",
    "                    \n",
    "    final=max(logout)\n",
    "    if final<0:\n",
    "        return 0\n",
    "    else:\n",
    "        return final\n",
    "\n",
    "\n",
    "t=int(input(\"Enter the number of queries\"))\n",
    "\n",
    "\n",
    "for i in range(t):\n",
    "    n=int(input(\"Enter the number of terms\"))\n",
    "    goals=list(map(int,input().split()))\n",
    "    fouls=list(map(int,input().split()))\n",
    "    print(solution(goals,fouls))\n",
    "\n"
   ]
  },
  {
   "cell_type": "code",
   "execution_count": null,
   "metadata": {},
   "outputs": [],
   "source": []
  }
 ],
 "metadata": {
  "kernelspec": {
   "display_name": "Python 3",
   "language": "python",
   "name": "python3"
  },
  "language_info": {
   "codemirror_mode": {
    "name": "ipython",
    "version": 3
   },
   "file_extension": ".py",
   "mimetype": "text/x-python",
   "name": "python",
   "nbconvert_exporter": "python",
   "pygments_lexer": "ipython3",
   "version": "3.7.2"
  }
 },
 "nbformat": 4,
 "nbformat_minor": 2
}
