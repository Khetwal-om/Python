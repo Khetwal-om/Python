{
 "cells": [
  {
   "cell_type": "markdown",
   "metadata": {},
   "source": [
    "1. Demonstrating the use of Inheritance"
   ]
  },
  {
   "cell_type": "code",
   "execution_count": 5,
   "metadata": {},
   "outputs": [
    {
     "name": "stdout",
     "output_type": "stream",
     "text": [
      "Enter the namevue\n",
      "Enter the age19\n",
      "Enter the experience1\n",
      "Where do you livegergia\n",
      "Enter the marks90\n",
      "---------------------------\n",
      "Name vue\n",
      "Age 19\n",
      "------------------------------\n",
      "Name vue\n",
      "Age 19\n",
      "exp 1\n",
      "age 19\n",
      "-----------------------------\n",
      "Name vue\n",
      "Age 19\n",
      "The marks are 90\n"
     ]
    }
   ],
   "source": [
    "class Person:\n",
    "    def __init__(self,name,age):\n",
    "        self.name=name\n",
    "        self.age=age\n",
    "        \n",
    "    def displayData(self):\n",
    "        print(\"Name\",self.name)\n",
    "        print(\"Age\",self.age)\n",
    "        \n",
    "class Teacher(Person):\n",
    "    def __init__(self,name,age,exp,area):\n",
    "        Person.__init__(self,name,age)\n",
    "        self.exp=exp\n",
    "        self.area=area\n",
    "    \n",
    "    def display(self):\n",
    "        Person.displayData(self)\n",
    "        print(\"exp\",self.exp)\n",
    "        print(\"age\",self.age)\n",
    "        \n",
    "class Student(Person):\n",
    "    def __init__(self,name,age,marks):\n",
    "        Person.__init__(self,name,age)   # super().__init__(self,name,age)\n",
    "        self.marks=marks\n",
    "        \n",
    "    def display(self):\n",
    "        Person.displayData(self)\n",
    "        print(\"The marks are\",self.marks)\n",
    "        \n",
    "        \n",
    "name=input(\"Enter the name\")\n",
    "age=int(input(\"Enter the age\"))\n",
    "exp=int(input(\"Enter the experience\"))\n",
    "area=input(\"Where do you live\")\n",
    "marks=input(\"Enter the marks\")\n",
    "print('---------------------------')\n",
    "obj_p=Person(name,age)\n",
    "obj_p.displayData()\n",
    "\n",
    "print('------------------------------')\n",
    "obj_t=Teacher(name,age,exp,area)\n",
    "obj_t.display()\n",
    "\n",
    "print('-----------------------------')\n",
    "obj_s=Student(name,age,marks)\n",
    "obj_s.display()\n"
   ]
  },
  {
   "cell_type": "code",
   "execution_count": 6,
   "metadata": {},
   "outputs": [
    {
     "name": "stdout",
     "output_type": "stream",
     "text": [
      "(<class '__main__.Person'>,)\n"
     ]
    }
   ],
   "source": [
    "print(Student.__bases__)"
   ]
  },
  {
   "cell_type": "code",
   "execution_count": 7,
   "metadata": {},
   "outputs": [
    {
     "name": "stdout",
     "output_type": "stream",
     "text": [
      "(<class '__main__.Person'>,)\n"
     ]
    }
   ],
   "source": [
    "print(Teacher.__bases__)"
   ]
  },
  {
   "cell_type": "code",
   "execution_count": 8,
   "metadata": {},
   "outputs": [
    {
     "name": "stdout",
     "output_type": "stream",
     "text": [
      "<class '__main__.Person'>\n"
     ]
    }
   ],
   "source": [
    "print(Student.__base__)"
   ]
  },
  {
   "cell_type": "markdown",
   "metadata": {},
   "source": [
    "* Issue of invoking **\\__init__()**  in case of multiple inheritance"
   ]
  },
  {
   "cell_type": "code",
   "execution_count": 10,
   "metadata": {},
   "outputs": [
    {
     "name": "stdout",
     "output_type": "stream",
     "text": [
      "base class 1\n"
     ]
    }
   ],
   "source": [
    "class Base1(object):\n",
    "    def __init__(self):\n",
    "        print(\"base class 1\")\n",
    "\n",
    "    \n",
    "class Base2(object):\n",
    "    def __init__(self):\n",
    "        print(\"base class 2\")\n",
    "        \n",
    "class Derived(Base1,Base2):\n",
    "    pass\n",
    "        \n",
    "D=Derived()"
   ]
  },
  {
   "cell_type": "markdown",
   "metadata": {},
   "source": [
    "* Subtle change in the above code. Call of super() from- **\\__init__()** of a base class."
   ]
  },
  {
   "cell_type": "code",
   "execution_count": 2,
   "metadata": {},
   "outputs": [
    {
     "name": "stdout",
     "output_type": "stream",
     "text": [
      "base class 1\n",
      "2nd Base \n"
     ]
    }
   ],
   "source": [
    "class Base1(object):\n",
    "    def __init__(self):\n",
    "        print(\"base class 1\")\n",
    "        super(Base1,self).__init__()\n",
    "class Base2(object):\n",
    "    def __init__(self):\n",
    "        print('2nd Base ')\n",
    "class Derived(Base1,Base2):\n",
    "    pass\n",
    "\n",
    "obj=Derived()"
   ]
  },
  {
   "cell_type": "markdown",
   "metadata": {},
   "source": [
    "* How to call **\\__init__()** method of all the classes"
   ]
  },
  {
   "cell_type": "code",
   "execution_count": 1,
   "metadata": {},
   "outputs": [
    {
     "name": "stdout",
     "output_type": "stream",
     "text": [
      "Bas-e 1 cl-ass\n",
      "Base 2 class\n",
      "Derived class\n"
     ]
    }
   ],
   "source": [
    "class Base1(object):\n",
    "    def __init__(self):\n",
    "        print(\"Bas-e 1 cl-ass\")\n",
    "        super(Base1,self).__init__()\n",
    "    \n",
    "class Base2(object):\n",
    "    def __init__(self):\n",
    "        print(\"Base 2 class\")\n",
    "        \n",
    "class Derived(Base1,Base2):\n",
    "    def __init__(self):\n",
    "        super(Derived,self).__init__()\n",
    "        print(\"Derived class\")\n",
    "\n",
    "obj=Derived()"
   ]
  },
  {
   "cell_type": "markdown",
   "metadata": {},
   "source": [
    "---\n",
    "\n",
    "## Types of inheritance\n",
    "\n",
    "---"
   ]
  },
  {
   "cell_type": "code",
   "execution_count": null,
   "metadata": {},
   "outputs": [],
   "source": []
  },
  {
   "cell_type": "code",
   "execution_count": null,
   "metadata": {},
   "outputs": [],
   "source": []
  },
  {
   "cell_type": "code",
   "execution_count": 3,
   "metadata": {},
   "outputs": [
    {
     "name": "stdout",
     "output_type": "stream",
     "text": [
      "Bas-e 1 cl-ass\n",
      "Base 2 class\n",
      "Derived class\n"
     ]
    },
    {
     "data": {
      "text/plain": [
       "<__main__.Derived at 0x20c1e782c88>"
      ]
     },
     "execution_count": 3,
     "metadata": {},
     "output_type": "execute_result"
    }
   ],
   "source": []
  },
  {
   "cell_type": "code",
   "execution_count": null,
   "metadata": {},
   "outputs": [],
   "source": []
  }
 ],
 "metadata": {
  "kernelspec": {
   "display_name": "Python 3",
   "language": "python",
   "name": "python3"
  },
  "language_info": {
   "codemirror_mode": {
    "name": "ipython",
    "version": 3
   },
   "file_extension": ".py",
   "mimetype": "text/x-python",
   "name": "python",
   "nbconvert_exporter": "python",
   "pygments_lexer": "ipython3",
   "version": "3.7.2"
  }
 },
 "nbformat": 4,
 "nbformat_minor": 2
}
