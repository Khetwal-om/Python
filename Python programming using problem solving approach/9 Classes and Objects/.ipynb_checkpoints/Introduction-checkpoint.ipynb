{
 "cells": [
  {
   "cell_type": "markdown",
   "metadata": {},
   "source": [
    "# Creating objects"
   ]
  },
  {
   "cell_type": "markdown",
   "metadata": {},
   "source": [
    "1. Program to access class variable using class object"
   ]
  },
  {
   "cell_type": "code",
   "execution_count": 1,
   "metadata": {},
   "outputs": [
    {
     "name": "stdout",
     "output_type": "stream",
     "text": [
      "10\n"
     ]
    }
   ],
   "source": [
    "class Test:\n",
    "    marks=10\n",
    "    \n",
    "obj=Test()\n",
    "print(obj.marks)"
   ]
  },
  {
   "cell_type": "markdown",
   "metadata": {},
   "source": [
    "1. Data abstraction and hiding through classes\n",
    "\n",
    "    * Any data or fucntion with access level private can be accessed only by the class in which it is declared.\n",
    "      This is the highest level of data protection. In python, private variables are prefixed with **__** a double underscore __dunder__\n",
    "    * instance method require an instance or object of the class to be used."
   ]
  },
  {
   "cell_type": "markdown",
   "metadata": {},
   "source": [
    "2. The **__init__** method (class constructor)\n",
    "    * useful to initialize variable of the class object.\n",
    "    "
   ]
  },
  {
   "cell_type": "markdown",
   "metadata": {},
   "source": [
    "### Class variable and object variable\n",
    "\n",
    "1. If a class has n objects , then there will be n separate copies of the object variable as each object will have\n",
    "   it's own object variable.\n",
    "2. The object variable isn't shared between objects.\n",
    "3. A change made to the object variable by one object will not be reflected in other objects.\n",
    "4. If a class has one variable,then there will be one copy for that variable.All the objects of that class will share the class variable.\n",
    "5. Since there exists a single copy of the class variable ,any change made to the class variable by an object will be reflected in all other objects"
   ]
  },
  {
   "cell_type": "markdown",
   "metadata": {},
   "source": [
    "---\n",
    "\n",
    "\n",
    "\n",
    "* Program to differentiate between class and object variables"
   ]
  },
  {
   "cell_type": "code",
   "execution_count": 2,
   "metadata": {},
   "outputs": [
    {
     "name": "stdout",
     "output_type": "stream",
     "text": [
      "The value of the object is 7\n",
      "The value of the class variable is 1\n",
      "The value of the object is 11\n",
      "The value of the class variable is 2\n",
      "The value of the object is 10\n",
      "The value of the class variable is 3\n"
     ]
    }
   ],
   "source": [
    "class Test():\n",
    "    class_var=0\n",
    "    def __init__(self,value):\n",
    "        Test.class_var+=1\n",
    "        self.var=value\n",
    "        print(\"The value of the object is\",self.var)\n",
    "        print(\"The value of the class variable is\",Test.class_var)\n",
    "        \n",
    "obj_a=Test(7)\n",
    "obj_b=Test(11)\n",
    "obj_c=Test(10)"
   ]
  },
  {
   "cell_type": "markdown",
   "metadata": {},
   "source": [
    "### The __del__ method\n",
    "\n",
    "* The **__del__** method is automatically called when the object is going out of the scope. This is the time when an          object will no longer be used and its occupied resources are returned back to the system so that they can be reused as and when required.\n"
   ]
  },
  {
   "cell_type": "markdown",
   "metadata": {},
   "source": [
    "* Program to mention **\\__del__**"
   ]
  },
  {
   "cell_type": "code",
   "execution_count": 6,
   "metadata": {},
   "outputs": [
    {
     "name": "stdout",
     "output_type": "stream",
     "text": [
      "The object value is 7\n",
      "The class_var is 1\n",
      "The object value is 10\n",
      "The class_var is 2\n",
      "The object value is 11\n",
      "The class_var is 3\n",
      "Object with value  is going out of scope 7\n",
      "Object with value  is going out of scope 10\n",
      "Object with value  is going out of scope 11\n"
     ]
    }
   ],
   "source": [
    "class Test():\n",
    "    class_var=0\n",
    "    def __init__(self,var):\n",
    "        Test.class_var+=1\n",
    "        self.var=var\n",
    "        print(\"The object value is\",self.var)\n",
    "        print(\"The class_var is\",Test.class_var)\n",
    "        \n",
    "    def __del__(self):\n",
    "        Test.class_var-=1\n",
    "        print('Object with value  is going out of scope',self.var)\n",
    "        \n",
    "        \n",
    "obj_a=Test(7)\n",
    "obj_b=Test(10)\n",
    "obj_c=Test(11)\n",
    "del obj_a\n",
    "del obj_b\n",
    "del obj_c"
   ]
  },
  {
   "cell_type": "markdown",
   "metadata": {},
   "source": [
    "---\n",
    "\n",
    "* Other special methods\n",
    "\n",
    "\n",
    " 1.  **\\__repr__()** : This method is built-in function with syntax repr(object). It returns a string representation of an object. The function works on any objecct ,not just class instances . It is similar to **\\__str__** .  \n",
    "\n",
    " 2.  **\\__cmp__()** : This is called to compare two class objects. The function can even compare any two Python objects by using the equality operator (==). \n",
    " \n",
    " 3. **\\__len__()** : This returns length of the object."
   ]
  },
  {
   "cell_type": "code",
   "execution_count": 9,
   "metadata": {},
   "outputs": [
    {
     "name": "stdout",
     "output_type": "stream",
     "text": [
      "Value stored in the object  5\n",
      "Length of the name stored 4\n",
      "-2\n",
      "Second is smaller than the first\n"
     ]
    }
   ],
   "source": [
    "# This illustrate use of above\n",
    "\n",
    "class Check():\n",
    "    def __init__(self,name,var):\n",
    "        self.name=name\n",
    "        self.var=var\n",
    "    def __repr__(self):\n",
    "        return repr(self.var)\n",
    "    \n",
    "    def __len__(self):\n",
    "        return len(self.name)\n",
    "    \n",
    "    def __cmp__(self,obj):\n",
    "        return self.var-obj.var\n",
    "    \n",
    "obj=Check('hola',5)\n",
    "\n",
    "print(\"Value stored in the object \",repr(obj))\n",
    "print(\"Length of the name stored\",len(obj))\n",
    "\n",
    "objeto=Check('james',7)\n",
    "value=obj.__cmp__(objeto)\n",
    "print(value)\n",
    "if value==0:\n",
    "    print(\"Both are equal\")\n",
    "elif value==-1:\n",
    "    print(\"First is smaller than second\")\n",
    "else:\n",
    "    print(\"Second is smaller than the first\")\n",
    "    \n",
    "    \n",
    "# __cmp__ isn't working"
   ]
  },
  {
   "cell_type": "markdown",
   "metadata": {},
   "source": [
    "---\n",
    "\n",
    "* **\\__getitem__()** : method is used for indexing.\n",
    "\n",
    "* **\\__setitem__()** : method is used to assign an item to indexed values.It can be declared as def \\__setitem__(self,key,value)\n",
    "\n",
    "\n",
    "---\n",
    "\n",
    "##### Program to demonstrate above."
   ]
  },
  {
   "cell_type": "code",
   "execution_count": 10,
   "metadata": {},
   "outputs": [
    {
     "name": "stdout",
     "output_type": "stream",
     "text": [
      "enter the numbers1 2 34 4 \n",
      "[1, 2, 34, 4]\n"
     ]
    }
   ],
   "source": [
    "class Numbers:\n",
    "    def __init__(self,mylist):\n",
    "        self.mylist=mylist\n",
    "        \n",
    "    def __getitem__(self,index):\n",
    "        return self.mylist[index]\n",
    "    \n",
    "    def __setitem__(self,index,val):\n",
    "        self.mylist[index]=val\n",
    "        \n",
    "        \n",
    "obj=Numbers(list(map(int,input('enter the numbers').split())))\n",
    "print(obj.mylist)"
   ]
  },
  {
   "cell_type": "code",
   "execution_count": null,
   "metadata": {},
   "outputs": [],
   "source": []
  },
  {
   "cell_type": "markdown",
   "metadata": {},
   "source": [
    "####  private vs public"
   ]
  },
  {
   "cell_type": "markdown",
   "metadata": {},
   "source": []
  },
  {
   "cell_type": "code",
   "execution_count": 15,
   "metadata": {},
   "outputs": [
    {
     "name": "stdout",
     "output_type": "stream",
     "text": [
      "hi within display\n",
      "hola within display\n",
      "hi this is public variable first from outside the fucntion\n"
     ]
    },
    {
     "ename": "AttributeError",
     "evalue": "'Sample' object has no attribute '__second'",
     "output_type": "error",
     "traceback": [
      "\u001b[1;31m---------------------------------------------------------------------------\u001b[0m",
      "\u001b[1;31mAttributeError\u001b[0m                            Traceback (most recent call last)",
      "\u001b[1;32m<ipython-input-15-0e614ee50da7>\u001b[0m in \u001b[0;36m<module>\u001b[1;34m\u001b[0m\n\u001b[0;32m     12\u001b[0m \u001b[1;33m\u001b[0m\u001b[0m\n\u001b[0;32m     13\u001b[0m \u001b[0mprint\u001b[0m\u001b[1;33m(\u001b[0m\u001b[0mobj\u001b[0m\u001b[1;33m.\u001b[0m\u001b[0mfirst\u001b[0m\u001b[1;33m,\u001b[0m\u001b[1;34m'this is public variable first from outside the fucntion'\u001b[0m\u001b[1;33m)\u001b[0m\u001b[1;33m\u001b[0m\u001b[1;33m\u001b[0m\u001b[0m\n\u001b[1;32m---> 14\u001b[1;33m \u001b[0mprint\u001b[0m\u001b[1;33m(\u001b[0m\u001b[0mobj\u001b[0m\u001b[1;33m.\u001b[0m\u001b[0m__second\u001b[0m\u001b[1;33m)\u001b[0m\u001b[1;33m\u001b[0m\u001b[1;33m\u001b[0m\u001b[0m\n\u001b[0m",
      "\u001b[1;31mAttributeError\u001b[0m: 'Sample' object has no attribute '__second'"
     ]
    }
   ],
   "source": [
    "class Sample():\n",
    "    def __init__(self,first,second):\n",
    "        self.first=first\n",
    "        self.__second=second\n",
    "        \n",
    "    def display(self):\n",
    "        print(self.first,'within display')\n",
    "        print(self.__second,'within display')\n",
    "        \n",
    "obj=Sample('hi','hola')\n",
    "obj.display()\n",
    "\n",
    "print(obj.first,'this is public variable first from outside the fucntion')\n",
    "print(obj.__second)"
   ]
  },
  {
   "cell_type": "markdown",
   "metadata": {},
   "source": [
    "\n",
    "---\n",
    "\n",
    "**The proper way to access a private variable outside the class is using**:\n",
    "> objectname._classname__privatevariablename\n",
    "\n",
    "---"
   ]
  },
  {
   "cell_type": "code",
   "execution_count": 20,
   "metadata": {},
   "outputs": [
    {
     "name": "stdout",
     "output_type": "stream",
     "text": [
      "hi within display\n",
      "hola within display\n",
      "hi this is public variable first from outside the fucntion\n",
      "----------\n",
      "hola outside the class\n",
      "----------\n"
     ]
    }
   ],
   "source": [
    "class Sample():\n",
    "    def __init__(self,first,second):\n",
    "        self.first=first\n",
    "        self.__second=second\n",
    "        \n",
    "    def display(self):\n",
    "        print(self.first,'within display')\n",
    "        print(self.__second,'within display')\n",
    "        \n",
    "obj=Sample('hi','hola')\n",
    "obj.display()\n",
    "\n",
    "print(obj.first,'this is public variable first from outside the fucntion')\n",
    "print('-'*10)\n",
    "print(obj._Sample__second,'outside the class')\n",
    "print('-'*10)\n"
   ]
  },
  {
   "cell_type": "markdown",
   "metadata": {},
   "source": [
    "---\n",
    "\n",
    "__Illustrate use of private method outside the class\n",
    "\n",
    "---"
   ]
  },
  {
   "cell_type": "code",
   "execution_count": 35,
   "metadata": {},
   "outputs": [
    {
     "name": "stdout",
     "output_type": "stream",
     "text": [
      "----------\n",
      "Private display method 1\n",
      "----------\n",
      "None\n",
      "{'var': 1}\n"
     ]
    }
   ],
   "source": [
    "class Test():\n",
    "    def __init__(self,var):\n",
    "        self.var=var\n",
    "    \n",
    "    '''Let\"s see the use of private method'''\n",
    "        \n",
    "    def __display(self):\n",
    "        print('-'*10)\n",
    "        print(\"Private display method\",self.var)\n",
    "        print('-'*10)\n",
    "        \n",
    "        \n",
    "obj=Test(1)\n",
    "obj._Test__display()\n",
    "\n",
    "print(obj.__doc__)\n",
    "print(obj.__dict__)\n"
   ]
  },
  {
   "cell_type": "markdown",
   "metadata": {},
   "source": [
    "---\n",
    "\n",
    "## Class method\n",
    "\n",
    "---"
   ]
  },
  {
   "cell_type": "code",
   "execution_count": 40,
   "metadata": {},
   "outputs": [
    {
     "name": "stdout",
     "output_type": "stream",
     "text": [
      "400\n"
     ]
    }
   ],
   "source": [
    "class Rectangle:\n",
    "    def __init__(self,length,breadth):\n",
    "        self.length=length\n",
    "        self.breadth=breadth\n",
    "        \n",
    "    def area(self):\n",
    "        return self.length*self.breadth\n",
    "    \n",
    "    @classmethod\n",
    "    def square(cls,side):\n",
    "        return cls(side,side)\n",
    "    \n",
    "obj=Rectangle.square(20)\n",
    "print(obj.area())"
   ]
  },
  {
   "cell_type": "markdown",
   "metadata": {},
   "source": [
    "**Can't make out of it."
   ]
  },
  {
   "cell_type": "markdown",
   "metadata": {},
   "source": [
    "---\n",
    "## Static method\n",
    "---\n",
    "\n",
    "* Static methods doesn't take extra arguments.\n",
    "\n",
    "**A decorator @staticmethod,  @classmethod   : is a syntactic convenience that takes in a funtion,adds some functionality to it and then returns it. The syntax of a decorator uses @character as a prefix to the function.\n",
    "Using decorators is called metaprogramming because a part of th eprogram tries to modify another part of the program at compile time."
   ]
  },
  {
   "cell_type": "markdown",
   "metadata": {},
   "source": [
    "---\n",
    "* Program to illstrate static method\n",
    "---"
   ]
  },
  {
   "cell_type": "code",
   "execution_count": 43,
   "metadata": {},
   "outputs": [
    {
     "name": "stdout",
     "output_type": "stream",
     "text": [
      "subjects alloted ['dsa', 'sql', 'postgres', 'django', 'python', 'c', 'c++']\n"
     ]
    }
   ],
   "source": [
    "class Choice:\n",
    "    def __init__(self,subjects):\n",
    "        self.subjects=subjects\n",
    "    \n",
    "    @staticmethod\n",
    "    def validate(subjects):\n",
    "        if 'cs' in subjects:\n",
    "            print('Not an option')\n",
    "        else:\n",
    "            return True\n",
    "        \n",
    "subjects=['dsa','sql','postgres','django','python','c','c++']\n",
    "if all(Choice.validate(i) for i in subjects):\n",
    "    ch=Choice(subjects)\n",
    "    print(\"subjects alloted\",subjects)"
   ]
  },
  {
   "cell_type": "code",
   "execution_count": 44,
   "metadata": {},
   "outputs": [
    {
     "name": "stdout",
     "output_type": "stream",
     "text": [
      "Not an option\n"
     ]
    }
   ],
   "source": [
    "class Choice:\n",
    "    def __init__(self,subjects):\n",
    "        self.subjects=subjects\n",
    "    \n",
    "    @staticmethod\n",
    "    def validate(subjects):\n",
    "        if 'cs' in subjects:\n",
    "            print('Not an option')\n",
    "        else:\n",
    "            return True\n",
    "        \n",
    "subjects=['cs','dsa','sql','postgres','django','python','c','c++']\n",
    "if all(Choice.validate(i) for i in subjects):\n",
    "    ch=Choice(subjects)\n",
    "    print(\"subjects alloted\",subjects)"
   ]
  },
  {
   "cell_type": "markdown",
   "metadata": {},
   "source": []
  },
  {
   "cell_type": "markdown",
   "metadata": {},
   "source": []
  },
  {
   "cell_type": "markdown",
   "metadata": {},
   "source": []
  },
  {
   "cell_type": "markdown",
   "metadata": {},
   "source": []
  },
  {
   "cell_type": "markdown",
   "metadata": {},
   "source": []
  }
 ],
 "metadata": {
  "kernelspec": {
   "display_name": "Python 3",
   "language": "python",
   "name": "python3"
  },
  "language_info": {
   "codemirror_mode": {
    "name": "ipython",
    "version": 3
   },
   "file_extension": ".py",
   "mimetype": "text/x-python",
   "name": "python",
   "nbconvert_exporter": "python",
   "pygments_lexer": "ipython3",
   "version": "3.7.2"
  }
 },
 "nbformat": 4,
 "nbformat_minor": 2
}
