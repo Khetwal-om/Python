{
 "cells": [
  {
   "cell_type": "markdown",
   "metadata": {},
   "source": [
    "# Creating objects"
   ]
  },
  {
   "cell_type": "markdown",
   "metadata": {},
   "source": [
    "1. Program to access class variable using class object"
   ]
  },
  {
   "cell_type": "code",
   "execution_count": 1,
   "metadata": {},
   "outputs": [
    {
     "name": "stdout",
     "output_type": "stream",
     "text": [
      "10\n"
     ]
    }
   ],
   "source": [
    "class Test:\n",
    "    marks=10\n",
    "    \n",
    "obj=Test()\n",
    "print(obj.marks)"
   ]
  },
  {
   "cell_type": "markdown",
   "metadata": {},
   "source": [
    "1. Data abstraction and hiding through classes\n",
    "\n",
    "    * Any data or fucntion with access level private can be accessed only by the class in which it is declared.\n",
    "      This is the highest level of data protection. In python, private variables are prefixed with **__** a double underscore __dunder__\n",
    "    * instance method require an instance or object of the class to be used."
   ]
  },
  {
   "cell_type": "markdown",
   "metadata": {},
   "source": [
    "2. The **__init__** method (class constructor)\n",
    "    * useful to initialize variable of the class object.\n",
    "    "
   ]
  },
  {
   "cell_type": "markdown",
   "metadata": {},
   "source": [
    "### Class variable and object variable\n",
    "\n",
    "1. If a class has n objects , then there will be n separate copies of the object variable as each object will have\n",
    "   it's own object variable.\n",
    "2. The object variable isn't shared between objects.\n",
    "3. A change made to the object variable by one object will not be reflected in other objects.\n",
    "4. If a class has one variable,then there will be one copy for that variable.All the objects of that class will share the class variable.\n",
    "5. Since there exists a single copy of the class variable ,any change made to the class variable by an object will be reflected in all other objects"
   ]
  },
  {
   "cell_type": "markdown",
   "metadata": {},
   "source": [
    "---\n",
    "\n",
    "\n",
    "\n",
    "* Program to differentiate between class and object variables"
   ]
  },
  {
   "cell_type": "code",
   "execution_count": 2,
   "metadata": {},
   "outputs": [
    {
     "name": "stdout",
     "output_type": "stream",
     "text": [
      "The value of the object is 7\n",
      "The value of the class variable is 1\n",
      "The value of the object is 11\n",
      "The value of the class variable is 2\n",
      "The value of the object is 10\n",
      "The value of the class variable is 3\n"
     ]
    }
   ],
   "source": [
    "class Test():\n",
    "    class_var=0\n",
    "    def __init__(self,value):\n",
    "        Test.class_var+=1\n",
    "        self.var=value\n",
    "        print(\"The value of the object is\",self.var)\n",
    "        print(\"The value of the class variable is\",Test.class_var)\n",
    "        \n",
    "obj_a=Test(7)\n",
    "obj_b=Test(11)\n",
    "obj_c=Test(10)"
   ]
  },
  {
   "cell_type": "markdown",
   "metadata": {},
   "source": [
    "### The __del__ method\n",
    "\n",
    "* The **__del__** method is automatically called when the object is going out of the scope. This is the time when an          object will no longer be used and its occupied resources are returned back to the system so that they can be reused as and when required.\n"
   ]
  },
  {
   "cell_type": "markdown",
   "metadata": {},
   "source": [
    "* Program to mention **\\__del__**"
   ]
  },
  {
   "cell_type": "code",
   "execution_count": 6,
   "metadata": {},
   "outputs": [
    {
     "name": "stdout",
     "output_type": "stream",
     "text": [
      "The object value is 7\n",
      "The class_var is 1\n",
      "The object value is 10\n",
      "The class_var is 2\n",
      "The object value is 11\n",
      "The class_var is 3\n",
      "Object with value  is going out of scope 7\n",
      "Object with value  is going out of scope 10\n",
      "Object with value  is going out of scope 11\n"
     ]
    }
   ],
   "source": [
    "class Test():\n",
    "    class_var=0\n",
    "    def __init__(self,var):\n",
    "        Test.class_var+=1\n",
    "        self.var=var\n",
    "        print(\"The object value is\",self.var)\n",
    "        print(\"The class_var is\",Test.class_var)\n",
    "        \n",
    "    def __del__(self):\n",
    "        Test.class_var-=1\n",
    "        print('Object with value  is going out of scope',self.var)\n",
    "        \n",
    "        \n",
    "obj_a=Test(7)\n",
    "obj_b=Test(10)\n",
    "obj_c=Test(11)\n",
    "del obj_a\n",
    "del obj_b\n",
    "del obj_c"
   ]
  },
  {
   "cell_type": "code",
   "execution_count": null,
   "metadata": {},
   "outputs": [],
   "source": []
  }
 ],
 "metadata": {
  "kernelspec": {
   "display_name": "Python 3",
   "language": "python",
   "name": "python3"
  },
  "language_info": {
   "codemirror_mode": {
    "name": "ipython",
    "version": 3
   },
   "file_extension": ".py",
   "mimetype": "text/x-python",
   "name": "python",
   "nbconvert_exporter": "python",
   "pygments_lexer": "ipython3",
   "version": "3.7.2"
  }
 },
 "nbformat": 4,
 "nbformat_minor": 2
}
