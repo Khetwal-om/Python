{
 "cells": [
  {
   "cell_type": "markdown",
   "metadata": {},
   "source": [
    "#### A function name can be assigned to a variable"
   ]
  },
  {
   "cell_type": "code",
   "execution_count": 2,
   "metadata": {},
   "outputs": [
    {
     "name": "stdout",
     "output_type": "stream",
     "text": [
      "7\n",
      "20\n"
     ]
    }
   ],
   "source": [
    "def difference(x,y):\n",
    "    return x-y\n",
    "\n",
    "answer=difference\n",
    "print(answer(10,3))\n",
    "print(difference(23,3))"
   ]
  },
  {
   "cell_type": "markdown",
   "metadata": {},
   "source": [
    "### Local and Global variables\n",
    "\n",
    "      \n",
    "      \n",
    "  * Using the global statement"
   ]
  },
  {
   "cell_type": "code",
   "execution_count": 1,
   "metadata": {},
   "outputs": [
    {
     "name": "stdout",
     "output_type": "stream",
     "text": [
      "In function var is  Good\n",
      "Outside the function var 1 morning\n",
      "var is  Good\n"
     ]
    }
   ],
   "source": [
    "var=\"Good\"\n",
    "def show():\n",
    "    global var1\n",
    "    var1='morning'\n",
    "    print(\"In function var is \",var)\n",
    "show()\n",
    "print(\"Outside the function var 1\",var1)\n",
    "print(\"var is \",var)"
   ]
  },
  {
   "cell_type": "markdown",
   "metadata": {},
   "source": [
    "   * Modifying a global variable "
   ]
  },
  {
   "cell_type": "code",
   "execution_count": 4,
   "metadata": {},
   "outputs": [
    {
     "name": "stdout",
     "output_type": "stream",
     "text": [
      "In function var is  bad\n",
      "outside function bad\n"
     ]
    }
   ],
   "source": [
    "var=\"good\"\n",
    "def show():\n",
    "    global var\n",
    "    var='bad'\n",
    "    print(\"In function var is \",var)\n",
    "\n",
    "    \n",
    "show()\n",
    "print(\"outside function\",var)"
   ]
  },
  {
   "cell_type": "markdown",
   "metadata": {},
   "source": [
    "  * Using a local variable with same name as that of global"
   ]
  },
  {
   "cell_type": "code",
   "execution_count": 8,
   "metadata": {},
   "outputs": [
    {
     "ename": "UnboundLocalError",
     "evalue": "local variable 'string' referenced before assignment",
     "output_type": "error",
     "traceback": [
      "\u001b[1;31m---------------------------------------------------------------------------\u001b[0m",
      "\u001b[1;31mUnboundLocalError\u001b[0m                         Traceback (most recent call last)",
      "\u001b[1;32m<ipython-input-8-2983f8d55f9f>\u001b[0m in \u001b[0;36m<module>\u001b[1;34m\u001b[0m\n\u001b[0;32m      5\u001b[0m \u001b[1;33m\u001b[0m\u001b[0m\n\u001b[0;32m      6\u001b[0m \u001b[0mstring\u001b[0m\u001b[1;33m=\u001b[0m\u001b[1;34m'Welcome'\u001b[0m\u001b[1;33m\u001b[0m\u001b[1;33m\u001b[0m\u001b[0m\n\u001b[1;32m----> 7\u001b[1;33m \u001b[0mdisplay\u001b[0m\u001b[1;33m(\u001b[0m\u001b[1;33m)\u001b[0m\u001b[1;33m\u001b[0m\u001b[1;33m\u001b[0m\u001b[0m\n\u001b[0m",
      "\u001b[1;32m<ipython-input-8-2983f8d55f9f>\u001b[0m in \u001b[0;36mdisplay\u001b[1;34m()\u001b[0m\n\u001b[0;32m      1\u001b[0m \u001b[1;32mdef\u001b[0m \u001b[0mdisplay\u001b[0m\u001b[1;33m(\u001b[0m\u001b[1;33m)\u001b[0m\u001b[1;33m:\u001b[0m\u001b[1;33m\u001b[0m\u001b[1;33m\u001b[0m\u001b[0m\n\u001b[1;32m----> 2\u001b[1;33m     \u001b[0mprint\u001b[0m\u001b[1;33m(\u001b[0m\u001b[0mstring\u001b[0m\u001b[1;33m)\u001b[0m   \u001b[1;31m#global\u001b[0m\u001b[1;33m\u001b[0m\u001b[1;33m\u001b[0m\u001b[0m\n\u001b[0m\u001b[0;32m      3\u001b[0m     \u001b[0mstring\u001b[0m\u001b[1;33m=\u001b[0m\u001b[1;34m'hola ahi!'\u001b[0m\u001b[1;33m\u001b[0m\u001b[1;33m\u001b[0m\u001b[0m\n\u001b[0;32m      4\u001b[0m     \u001b[0mprint\u001b[0m\u001b[1;33m(\u001b[0m\u001b[0mstring\u001b[0m\u001b[1;33m)\u001b[0m\u001b[1;33m\u001b[0m\u001b[1;33m\u001b[0m\u001b[0m\n\u001b[0;32m      5\u001b[0m \u001b[1;33m\u001b[0m\u001b[0m\n",
      "\u001b[1;31mUnboundLocalError\u001b[0m: local variable 'string' referenced before assignment"
     ]
    }
   ],
   "source": [
    "def display():\n",
    "    print(string)   #global\n",
    "    string='hola ahi!'\n",
    "    print(string)\n",
    "    \n",
    "string='Welcome'\n",
    "display()"
   ]
  },
  {
   "cell_type": "markdown",
   "metadata": {},
   "source": [
    "   * Solution"
   ]
  },
  {
   "cell_type": "code",
   "execution_count": 10,
   "metadata": {},
   "outputs": [
    {
     "name": "stdout",
     "output_type": "stream",
     "text": [
      "Welcome\n",
      "hola ahi!\n"
     ]
    }
   ],
   "source": [
    "def display():\n",
    "    global string\n",
    "    print(string)  \n",
    "    string='hola ahi!'\n",
    "    print(string)\n",
    "    \n",
    "string='Welcome'\n",
    "display()"
   ]
  },
  {
   "cell_type": "markdown",
   "metadata": {},
   "source": [
    "---"
   ]
  },
  {
   "cell_type": "markdown",
   "metadata": {},
   "source": [
    "## Arguments and Parameters\n",
    "  \n",
    "   1. Required arguments\n",
    "   2. Keyword arguments\n",
    "   3. Default arguments\n",
    "   4. Variable-length arguments"
   ]
  },
  {
   "cell_type": "markdown",
   "metadata": {},
   "source": [
    "---\n",
    "* Required Arguments\n",
    "   * arguments passed to the function are in correct positional order.\n",
    "   * also the number of arguments must match in this case.\n",
    "   \n",
    "---"
   ]
  },
  {
   "cell_type": "markdown",
   "metadata": {},
   "source": [
    " * Keyword Arguments\n",
    "    * When we call a function with some values , the values are assigned to the arguments based  on their position.\n",
    "      With keyword arguments - the value are not assigned to arguments according to their postion but based on their                   name or keyword.\n",
    "      \n",
    "       * Pros:\n",
    "            * If we skip arguments there won't be any problem.\n",
    "            * If in the function call we change the order of parameters."
   ]
  },
  {
   "cell_type": "code",
   "execution_count": 11,
   "metadata": {},
   "outputs": [
    {
     "name": "stdout",
     "output_type": "stream",
     "text": [
      "The string is  hola ahi\n",
      "Integer x 7\n",
      "Interger y 3.1428\n"
     ]
    }
   ],
   "source": [
    "def display(string,int_x,float_y):\n",
    "    print(\"The string is \",string)\n",
    "    print(\"Integer x\",int_x)\n",
    "    print(\"Interger y\",float_y)\n",
    "    \n",
    "    \n",
    "    \n",
    "display(float_y=3.1428,int_x=7,string=\"hola ahi\")"
   ]
  },
  {
   "cell_type": "code",
   "execution_count": 12,
   "metadata": {},
   "outputs": [
    {
     "name": "stdout",
     "output_type": "stream",
     "text": [
      "The string is  Jimmy\n",
      "Integer x 11\n",
      "Interger y 3.34\n"
     ]
    }
   ],
   "source": [
    "def display(string,int_x,float_y):\n",
    "    print(\"The string is \",string)\n",
    "    print(\"Integer x\",int_x)\n",
    "    print(\"Interger y\",float_y)\n",
    "    \n",
    "    \n",
    "n=\"Jimmy\"\n",
    "a=11\n",
    "s=3.34\n",
    "display(int_x=a,float_y=s,string=n)"
   ]
  },
  {
   "cell_type": "code",
   "execution_count": null,
   "metadata": {},
   "outputs": [],
   "source": []
  },
  {
   "cell_type": "markdown",
   "metadata": {},
   "source": [
    "---\n",
    "\n",
    " * Default arguments:"
   ]
  },
  {
   "cell_type": "code",
   "execution_count": 13,
   "metadata": {},
   "outputs": [
    {
     "name": "stdout",
     "output_type": "stream",
     "text": [
      "name James\n",
      "course M Tech\n",
      "name shrayansh\n",
      "course MBA\n"
     ]
    }
   ],
   "source": [
    "def display(name,course='MBA'):\n",
    "    print(\"name\",name)\n",
    "    print(\"course\",course)\n",
    "    \n",
    "display(course='M Tech',name='James')#Keyword argument\n",
    "display(name=\"shrayansh\")            #Default argument"
   ]
  },
  {
   "cell_type": "markdown",
   "metadata": {},
   "source": [
    "---\n",
    "\n",
    " * Variable length argument\n",
    " \n",
    "  ```python\n",
    "    def function_name([arg1,arg2,....]*var_args_tuple):\n",
    "        function_statements\n",
    "        return _any__expression\n",
    "  ```"
   ]
  },
  {
   "cell_type": "code",
   "execution_count": 14,
   "metadata": {},
   "outputs": [
    {
     "name": "stdout",
     "output_type": "stream",
     "text": [
      "hola ahi james\n",
      "Django\n",
      "Python\n",
      "database\n",
      "ML\n"
     ]
    }
   ],
   "source": [
    "def display(name,*favourite):\n",
    "    print('hola ahi',name)\n",
    "    for i in favourite:\n",
    "        print(i)\n",
    "        \n",
    "display('james','Django','Python','database','ML')"
   ]
  },
  {
   "cell_type": "code",
   "execution_count": null,
   "metadata": {},
   "outputs": [],
   "source": []
  },
  {
   "cell_type": "markdown",
   "metadata": {},
   "source": [
    "### Lambda Functions or anonymous functions"
   ]
  },
  {
   "cell_type": "code",
   "execution_count": 15,
   "metadata": {},
   "outputs": [
    {
     "name": "stdout",
     "output_type": "stream",
     "text": [
      "42\n"
     ]
    }
   ],
   "source": [
    "answer=lambda x:x+10\n",
    "print(answer(32))"
   ]
  },
  {
   "cell_type": "markdown",
   "metadata": {},
   "source": [
    "### Documentation  String"
   ]
  },
  {
   "cell_type": "code",
   "execution_count": 17,
   "metadata": {},
   "outputs": [
    {
     "name": "stdout",
     "output_type": "stream",
     "text": [
      "\n",
      "    This is the documention of the function\n",
      "    \n"
     ]
    }
   ],
   "source": [
    "def display():\n",
    "    '''\n",
    "    This is the documention of the function\n",
    "    '''\n",
    "    \n",
    "print(display.__doc__)"
   ]
  },
  {
   "cell_type": "markdown",
   "metadata": {},
   "source": [
    "---"
   ]
  },
  {
   "cell_type": "markdown",
   "metadata": {},
   "source": [
    "---\n",
    "### Recursion\n",
    "---"
   ]
  },
  {
   "cell_type": "markdown",
   "metadata": {},
   "source": [
    "### Example 1: Factorial of a number"
   ]
  },
  {
   "cell_type": "code",
   "execution_count": 18,
   "metadata": {},
   "outputs": [
    {
     "name": "stdout",
     "output_type": "stream",
     "text": [
      "Enter the number5\n",
      "120\n"
     ]
    },
    {
     "data": {
      "text/plain": [
       "120"
      ]
     },
     "execution_count": 18,
     "metadata": {},
     "output_type": "execute_result"
    }
   ],
   "source": [
    "number=int(input(\"Enter the number\"))\n",
    "factorial=1\n",
    "for i in range(number,1,-1):\n",
    "    factorial=factorial*i\n",
    "    \n",
    "print(factorial)\n",
    "\n",
    "5*4*3*2*1"
   ]
  },
  {
   "cell_type": "code",
   "execution_count": 20,
   "metadata": {},
   "outputs": [
    {
     "name": "stdout",
     "output_type": "stream",
     "text": [
      "Enter the number of which you want to find the factorial5\n",
      "120\n"
     ]
    }
   ],
   "source": [
    "def factorial(number):\n",
    "    if number==0 or number==1:\n",
    "        return 1\n",
    "    else:\n",
    "        return factorial(number-1)*number\n",
    "    \n",
    "number=int(input(\"Enter the number of which you want to find the factorial\"))\n",
    "answer=factorial(number)\n",
    "print(answer)"
   ]
  },
  {
   "cell_type": "markdown",
   "metadata": {},
   "source": [
    "### Greatest Common Divisor\n",
    "\n",
    "```python\n",
    "gcd(a,b)    b, if b divides a\n",
    "           gcd(b,a%b) otherwise\n",
    " ```"
   ]
  },
  {
   "cell_type": "code",
   "execution_count": 27,
   "metadata": {},
   "outputs": [
    {
     "name": "stdout",
     "output_type": "stream",
     "text": [
      "Enter the first number55\n",
      "Enter the second number105\n",
      "--\n",
      "55 a\n",
      "105 b\n",
      "--\n",
      "--\n",
      "105 a\n",
      "55 b\n",
      "--\n",
      "--\n",
      "55 a\n",
      "50 b\n",
      "--\n",
      "--\n",
      "50 a\n",
      "5 b\n",
      "--\n",
      "5\n"
     ]
    }
   ],
   "source": [
    "def gcd(a,b):\n",
    "    print('--')\n",
    "    print(a,'a')\n",
    "    print(b,'b')\n",
    "    print('--')\n",
    "    \n",
    "    if a%b==0:\n",
    "        return b\n",
    "    else:\n",
    "        return gcd(b,a%b)\n",
    "    \n",
    "a=int(input(\"Enter the first number\"))\n",
    "b=int(input(\"Enter the second number\"))\n",
    "answer=gcd(a,b)\n",
    "print(answer)"
   ]
  },
  {
   "cell_type": "markdown",
   "metadata": {},
   "source": [
    "### Example 3: Power\n"
   ]
  },
  {
   "cell_type": "code",
   "execution_count": 28,
   "metadata": {},
   "outputs": [
    {
     "name": "stdout",
     "output_type": "stream",
     "text": [
      "Enter the number2\n",
      "Enter the power5\n",
      "32\n"
     ]
    }
   ],
   "source": [
    "def exponent(x,y):\n",
    "    if y==0:\n",
    "        return 1\n",
    "    else:\n",
    "        return x*exponent(x,y-1)\n",
    "    \n",
    "x=int(input(\"Enter the number\"))\n",
    "y=int(input(\"Enter the power\"))\n",
    "solution=exponent(x,y)\n",
    "print(solution)"
   ]
  },
  {
   "cell_type": "markdown",
   "metadata": {},
   "source": [
    "### Example 4: Fibonacci series"
   ]
  },
  {
   "cell_type": "code",
   "execution_count": 33,
   "metadata": {},
   "outputs": [
    {
     "name": "stdout",
     "output_type": "stream",
     "text": [
      "Enter the number upto which you want the fibonacci series10\n",
      "1\n",
      "1\n",
      "2\n",
      "3\n",
      "5\n",
      "8\n",
      "13\n",
      "21\n",
      "34\n",
      "55\n"
     ]
    }
   ],
   "source": [
    "def fibonacci(n):\n",
    "    if n<2:\n",
    "        return 1\n",
    "    else:\n",
    "        return fibonacci(n-1)+fibonacci(n-2)\n",
    "    \n",
    "n=int(input(\"Enter the number upto which you want the fibonacci series\"))\n",
    "\n",
    "for i in range(n):\n",
    "    solution=fibonacci(i)\n",
    "    print(solution)"
   ]
  },
  {
   "cell_type": "code",
   "execution_count": null,
   "metadata": {},
   "outputs": [],
   "source": []
  }
 ],
 "metadata": {
  "kernelspec": {
   "display_name": "Python 3",
   "language": "python",
   "name": "python3"
  },
  "language_info": {
   "codemirror_mode": {
    "name": "ipython",
    "version": 3
   },
   "file_extension": ".py",
   "mimetype": "text/x-python",
   "name": "python",
   "nbconvert_exporter": "python",
   "pygments_lexer": "ipython3",
   "version": "3.7.2"
  }
 },
 "nbformat": 4,
 "nbformat_minor": 2
}
