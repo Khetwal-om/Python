{
 "cells": [
  {
   "cell_type": "markdown",
   "metadata": {},
   "source": [
    "### Print the following patterns\n",
    "\n",
    "---\n",
    "    * * * * * \n",
    "    *       * \n",
    "    *       * \n",
    "    *       * \n",
    "    * * * * * \n",
    "---"
   ]
  },
  {
   "cell_type": "code",
   "execution_count": 13,
   "metadata": {},
   "outputs": [
    {
     "name": "stdout",
     "output_type": "stream",
     "text": [
      "Enter the value of n6\n",
      "* * * * * * \n",
      "*         * \n",
      "*         * \n",
      "*         * \n",
      "*         * \n",
      "* * * * * * \n"
     ]
    }
   ],
   "source": [
    "n=int(input(\"Enter the value of n\"))\n",
    "for i in range(1,n+1):\n",
    "    for j in range(1,n+1):\n",
    "        if i==1 or i==n:    \n",
    "            print('*',end=' ')\n",
    "        else:\n",
    "            if j==1 or j==n:\n",
    "                print('*',end=' ')\n",
    "            else:\n",
    "                print(' ',end=' ')\n",
    "    print()"
   ]
  },
  {
   "cell_type": "code",
   "execution_count": 21,
   "metadata": {},
   "outputs": [
    {
     "name": "stdout",
     "output_type": "stream",
     "text": [
      "Enter the value of n5\n",
      "$ * * * * \n",
      "* $      * \n",
      "*   $    * \n",
      "*     $  * \n",
      "* * * * $ \n"
     ]
    }
   ],
   "source": [
    "n=int(input(\"Enter the value of n\"))\n",
    "for i in range(1,n+1):\n",
    "    for j in range(1,n+1):\n",
    "        if i==1 or i==n:\n",
    "            if i==j:\n",
    "                print('$',end=' ')\n",
    "            else:\n",
    "                print('*',end=' ')\n",
    "        else:\n",
    "            if i==j:\n",
    "                print('$',end='')\n",
    "            else:\n",
    "                print('',end='')\n",
    "            if j==1 or j==n:\n",
    "                print('*',end=' ')\n",
    "            else:\n",
    "                print(' ',end=' ')\n",
    "    print()"
   ]
  },
  {
   "cell_type": "code",
   "execution_count": null,
   "metadata": {},
   "outputs": [],
   "source": []
  }
 ],
 "metadata": {
  "kernelspec": {
   "display_name": "Python 3",
   "language": "python",
   "name": "python3"
  },
  "language_info": {
   "codemirror_mode": {
    "name": "ipython",
    "version": 3
   },
   "file_extension": ".py",
   "mimetype": "text/x-python",
   "name": "python",
   "nbconvert_exporter": "python",
   "pygments_lexer": "ipython3",
   "version": "3.7.2"
  }
 },
 "nbformat": 4,
 "nbformat_minor": 2
}
