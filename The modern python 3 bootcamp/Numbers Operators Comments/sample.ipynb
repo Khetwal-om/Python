{
 "cells": [
  {
   "cell_type": "code",
   "execution_count": 2,
   "metadata": {},
   "outputs": [
    {
     "name": "stdout",
     "output_type": "stream",
     "text": [
      "This is the display function\n"
     ]
    }
   ],
   "source": [
    "def display():   #function defination\n",
    "    print(\"This is the display function\")\n",
    "display()        #function calling"
   ]
  },
  {
   "cell_type": "code",
   "execution_count": 3,
   "metadata": {},
   "outputs": [
    {
     "name": "stdout",
     "output_type": "stream",
     "text": [
      "Enter the nameabc\n"
     ]
    }
   ],
   "source": [
    "name=input(\"Enter the name\")"
   ]
  },
  {
   "cell_type": "code",
   "execution_count": 5,
   "metadata": {},
   "outputs": [
    {
     "name": "stdout",
     "output_type": "stream",
     "text": [
      "Enter the namebuuny\n",
      "buuny\n"
     ]
    }
   ],
   "source": [
    "name=input(\"Enter the name\")\n",
    "def button(name):\n",
    "    print(name)\n",
    "button(name)"
   ]
  },
  {
   "cell_type": "code",
   "execution_count": 6,
   "metadata": {},
   "outputs": [
    {
     "name": "stdout",
     "output_type": "stream",
     "text": [
      "Enter the first number10\n",
      "enter the second number20\n",
      "30\n"
     ]
    }
   ],
   "source": [
    "a=int(input(\"Enter the first number\"))\n",
    "b=int(input(\"enter the second number\"))\n",
    "def addition(a,b):\n",
    "    answer=a+b\n",
    "    print(answer)\n",
    "    \n",
    "addition(a,b)"
   ]
  },
  {
   "cell_type": "code",
   "execution_count": 7,
   "metadata": {},
   "outputs": [
    {
     "name": "stdout",
     "output_type": "stream",
     "text": [
      "Enter the first number3\n",
      "enter the second number2\n",
      "5\n",
      "1\n",
      "6\n",
      "Enter the first number5\n",
      "enter the second number3\n",
      "8\n",
      "2\n",
      "15\n"
     ]
    }
   ],
   "source": [
    "a=int(input(\"Enter the first number\"))\n",
    "b=int(input(\"enter the second number\"))\n",
    "addition=a+b\n",
    "print(addition)\n",
    "subtraction=a-b\n",
    "print(subtraction)\n",
    "product=a*b\n",
    "print(product)\n",
    "x=int(input(\"Enter the first number\"))\n",
    "y=int(input(\"enter the second number\"))\n",
    "addition=x+y\n",
    "subtraction=x-y\n",
    "product=x*y\n",
    "print(addition)\n",
    "print(subtraction)\n",
    "print(product)\n"
   ]
  },
  {
   "cell_type": "code",
   "execution_count": null,
   "metadata": {},
   "outputs": [],
   "source": [
    "def addition(x,y):\n",
    "    print(x+y)\n",
    "    \n",
    "def subtraction(x,y):\n",
    "    print(x-y)\n",
    "    \n",
    "def product(x,y):\n",
    "    print(x*y)\n",
    "    \n",
    "for i in range(1,3):\n",
    "    a=int(input(\"Enter first number\"))\n",
    "    b=int(input(\"enter second number\"))\n",
    "    addition(a,b)\n",
    "    subtraction(a,b)\n",
    "    product(a,b)"
   ]
  }
 ],
 "metadata": {
  "kernelspec": {
   "display_name": "Python 3",
   "language": "python",
   "name": "python3"
  },
  "language_info": {
   "codemirror_mode": {
    "name": "ipython",
    "version": 3
   },
   "file_extension": ".py",
   "mimetype": "text/x-python",
   "name": "python",
   "nbconvert_exporter": "python",
   "pygments_lexer": "ipython3",
   "version": "3.7.2"
  }
 },
 "nbformat": 4,
 "nbformat_minor": 2
}
