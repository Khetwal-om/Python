{
 "cells": [
  {
   "cell_type": "code",
   "execution_count": null,
   "metadata": {},
   "outputs": [],
   "source": [
    "# Ask the user to give the input in km and display the output in miles\n",
    "#  1mile=1.6km\n"
   ]
  },
  {
   "cell_type": "code",
   "execution_count": 3,
   "metadata": {},
   "outputs": [
    {
     "name": "stdout",
     "output_type": "stream",
     "text": [
      "Enter the distance you covered today3\n",
      "You covered1.7647058823529411 today\n",
      "----------\n",
      "you covered  1.7647058823529411 today\n"
     ]
    }
   ],
   "source": [
    "km=int(input(\"Enter the distance you covered today\"))\n",
    "miles=km/1.7\n",
    "print(f\"You covered{ miles} today\")\n",
    "print('-'*10)\n",
    "\n",
    "print('you covered ',miles,\"today\")"
   ]
  },
  {
   "cell_type": "code",
   "execution_count": null,
   "metadata": {},
   "outputs": [],
   "source": []
  }
 ],
 "metadata": {
  "kernelspec": {
   "display_name": "Python 3",
   "language": "python",
   "name": "python3"
  },
  "language_info": {
   "codemirror_mode": {
    "name": "ipython",
    "version": 3
   },
   "file_extension": ".py",
   "mimetype": "text/x-python",
   "name": "python",
   "nbconvert_exporter": "python",
   "pygments_lexer": "ipython3",
   "version": "3.7.2"
  }
 },
 "nbformat": 4,
 "nbformat_minor": 2
}
