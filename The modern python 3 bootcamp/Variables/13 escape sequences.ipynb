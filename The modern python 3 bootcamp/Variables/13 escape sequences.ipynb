{
 "cells": [
  {
   "cell_type": "code",
   "execution_count": 1,
   "metadata": {},
   "outputs": [
    {
     "name": "stdout",
     "output_type": "stream",
     "text": [
      "kjsklfdjkls\n"
     ]
    }
   ],
   "source": [
    "print('kjsklfdjkls')"
   ]
  },
  {
   "cell_type": "code",
   "execution_count": 2,
   "metadata": {},
   "outputs": [
    {
     "name": "stdout",
     "output_type": "stream",
     "text": [
      "hello world! c\"ommon get over it\n"
     ]
    }
   ],
   "source": [
    "print('hello world! c\"ommon get over it')"
   ]
  },
  {
   "cell_type": "code",
   "execution_count": 3,
   "metadata": {},
   "outputs": [
    {
     "name": "stdout",
     "output_type": "stream",
     "text": [
      "hello world!\n",
      " c\"ommon get over it\n"
     ]
    }
   ],
   "source": [
    "print('hello world!\\n c\"ommon get over it')"
   ]
  },
  {
   "cell_type": "code",
   "execution_count": 4,
   "metadata": {},
   "outputs": [
    {
     "name": "stdout",
     "output_type": "stream",
     "text": [
      "My name is bunty I love football\n"
     ]
    }
   ],
   "source": [
    "print(\"My name is bunty I love football\")"
   ]
  },
  {
   "cell_type": "code",
   "execution_count": 5,
   "metadata": {},
   "outputs": [
    {
     "name": "stdout",
     "output_type": "stream",
     "text": [
      "My name is bunty\n",
      " I love football\n"
     ]
    }
   ],
   "source": [
    "print(\"My name is bunty\\n I love football\")"
   ]
  },
  {
   "cell_type": "code",
   "execution_count": 7,
   "metadata": {},
   "outputs": [
    {
     "name": "stdout",
     "output_type": "stream",
     "text": [
      "alskdfjl \u0007\n"
     ]
    }
   ],
   "source": [
    "print('alskdfjl \\a')\n"
   ]
  },
  {
   "cell_type": "code",
   "execution_count": 8,
   "metadata": {},
   "outputs": [
    {
     "name": "stdout",
     "output_type": "stream",
     "text": [
      "sajdkf\b\n"
     ]
    }
   ],
   "source": [
    "print('sajdkf\\b')"
   ]
  },
  {
   "cell_type": "code",
   "execution_count": 10,
   "metadata": {},
   "outputs": [
    {
     "name": "stdout",
     "output_type": "stream",
     "text": [
      "aksjfd,\b\n"
     ]
    }
   ],
   "source": [
    "print('aksjfd',end=',')\n",
    "print('\\b')"
   ]
  },
  {
   "cell_type": "code",
   "execution_count": 11,
   "metadata": {},
   "outputs": [
    {
     "name": "stdout",
     "output_type": "stream",
     "text": [
      "inun\tdate\n"
     ]
    }
   ],
   "source": [
    "print('inun\\tdate')"
   ]
  },
  {
   "cell_type": "code",
   "execution_count": 12,
   "metadata": {},
   "outputs": [
    {
     "name": "stdout",
     "output_type": "stream",
     "text": [
      "inun\u000b",
      "date\n"
     ]
    }
   ],
   "source": [
    "print('inun\\vdate')"
   ]
  },
  {
   "cell_type": "code",
   "execution_count": 13,
   "metadata": {},
   "outputs": [
    {
     "name": "stdout",
     "output_type": "stream",
     "text": [
      "kajsdf\\kjsfdkl\n"
     ]
    }
   ],
   "source": [
    "print('kajsdf\\\\kjsfdkl')"
   ]
  },
  {
   "cell_type": "code",
   "execution_count": 15,
   "metadata": {},
   "outputs": [
    {
     "name": "stdout",
     "output_type": "stream",
     "text": [
      "lksjdf'klfsd\n"
     ]
    }
   ],
   "source": [
    "print('lksjdf\\'klfsd')"
   ]
  },
  {
   "cell_type": "code",
   "execution_count": 17,
   "metadata": {},
   "outputs": [
    {
     "name": "stdout",
     "output_type": "stream",
     "text": [
      "india is the\" greatest\n"
     ]
    }
   ],
   "source": [
    "print(\"india is the\\\" greatest\")"
   ]
  },
  {
   "cell_type": "code",
   "execution_count": 18,
   "metadata": {},
   "outputs": [
    {
     "name": "stdout",
     "output_type": "stream",
     "text": [
      "ksdflksajdf\n",
      "ewlinelksfdl\n"
     ]
    }
   ],
   "source": [
    "print('ksdflksajdf\\newlinelksfdl')"
   ]
  },
  {
   "cell_type": "code",
   "execution_count": 20,
   "metadata": {},
   "outputs": [
    {
     "name": "stdout",
     "output_type": "stream",
     "text": [
      "jksdfj \n",
      "ewline lkjsfdskd\n"
     ]
    }
   ],
   "source": [
    "print('jksdfj \\newline lkjsfdskd')"
   ]
  },
  {
   "cell_type": "code",
   "execution_count": 21,
   "metadata": {},
   "outputs": [
    {
     "name": "stdout",
     "output_type": "stream",
     "text": [
      "\n",
      "ewline\n"
     ]
    }
   ],
   "source": [
    "print('\\newline')"
   ]
  },
  {
   "cell_type": "code",
   "execution_count": 26,
   "metadata": {},
   "outputs": [
    {
     "name": "stdout",
     "output_type": "stream",
     "text": [
      "[100, 98, 96, 94, 92, 90, 88, 86, 84, 82, 80, 78, 76, 74, 72, 70, 68, 66, 64, 62, 60, 58, 56, 54, 52, 50, 48, 46, 44, 42, 40, 38, 36, 34, 32, 30, 28, 26, 24, 22, 20, 18, 16, 14, 12, 10, 8, 6, 4, 2]\n"
     ]
    }
   ],
   "source": [
    "a=[]\n",
    "for i in range(100,1,-2):\n",
    "    a.append(i)\n",
    "    \n",
    "print(a)"
   ]
  },
  {
   "cell_type": "code",
   "execution_count": 36,
   "metadata": {},
   "outputs": [
    {
     "name": "stdout",
     "output_type": "stream",
     "text": [
      "100,98,96,94,92,90,88,86,84,82,80,78,76,74,72,70,68,66,64,62,60,58,56,54,52,50,48,46,44,42,40,38,36,34,32,30,28,26,24,22,20,18,16,14,12,10,8,6,4,2\n"
     ]
    }
   ],
   "source": [
    "a=[]\n",
    "for i in range(100,1,-2):\n",
    "    a.append(str(i))\n",
    "print(','.join(a))\n"
   ]
  },
  {
   "cell_type": "code",
   "execution_count": 39,
   "metadata": {},
   "outputs": [
    {
     "name": "stdout",
     "output_type": "stream",
     "text": [
      "3\n",
      "43\n",
      "5\n",
      "6\n",
      "6\n",
      "34\n"
     ]
    }
   ],
   "source": [
    "b=[3,43,5,6,6,34]\n",
    "for i in b:\n",
    "    print(i)"
   ]
  },
  {
   "cell_type": "code",
   "execution_count": 40,
   "metadata": {},
   "outputs": [
    {
     "name": "stdout",
     "output_type": "stream",
     "text": [
      "this is the {number} number let's see it's working or not\n"
     ]
    }
   ],
   "source": [
    "#Take name as the variable ,take input from the user and print\n",
    "#   hello bunty\n",
    "#String formatting \n",
    "number=34\n",
    "print(\"this is the {number} number let's see it's working or not\")"
   ]
  },
  {
   "cell_type": "code",
   "execution_count": 42,
   "metadata": {},
   "outputs": [
    {
     "name": "stdout",
     "output_type": "stream",
     "text": [
      "this is the 34 let's see it's working or not\n"
     ]
    }
   ],
   "source": [
    "number=34\n",
    "print(f\"this is the {number} let's see it's working or not\")"
   ]
  },
  {
   "cell_type": "code",
   "execution_count": null,
   "metadata": {},
   "outputs": [],
   "source": []
  }
 ],
 "metadata": {
  "kernelspec": {
   "display_name": "Python 3",
   "language": "python",
   "name": "python3"
  },
  "language_info": {
   "codemirror_mode": {
    "name": "ipython",
    "version": 3
   },
   "file_extension": ".py",
   "mimetype": "text/x-python",
   "name": "python",
   "nbconvert_exporter": "python",
   "pygments_lexer": "ipython3",
   "version": "3.7.2"
  }
 },
 "nbformat": 4,
 "nbformat_minor": 2
}
