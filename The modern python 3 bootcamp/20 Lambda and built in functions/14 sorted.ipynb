{
 "cells": [
  {
   "cell_type": "code",
   "execution_count": 1,
   "metadata": {},
   "outputs": [
    {
     "name": "stdout",
     "output_type": "stream",
     "text": [
      "[2, 3, 34, 46, 342, 4646]\n"
     ]
    }
   ],
   "source": [
    "#Sorted function returns a list in which all the items are sorted  from an iterable\n",
    "goals=[34,46,3,4646,342,2]\n",
    "print(sorted(goals))"
   ]
  },
  {
   "cell_type": "code",
   "execution_count": 14,
   "metadata": {},
   "outputs": [
    {
     "data": {
      "text/plain": [
       "'Works for tuple also(too)'"
      ]
     },
     "execution_count": 14,
     "metadata": {},
     "output_type": "execute_result"
    }
   ],
   "source": [
    "'''Works for tuple also(too)'''"
   ]
  },
  {
   "cell_type": "code",
   "execution_count": 15,
   "metadata": {},
   "outputs": [
    {
     "data": {
      "text/plain": [
       "[3, 33, 34, 46, 432, 4646, 342332]"
      ]
     },
     "execution_count": 15,
     "metadata": {},
     "output_type": "execute_result"
    }
   ],
   "source": [
    "goal=(34,46,3,4646,342332,33,432)\n",
    "sorted(goal)"
   ]
  },
  {
   "cell_type": "code",
   "execution_count": 17,
   "metadata": {},
   "outputs": [
    {
     "name": "stdout",
     "output_type": "stream",
     "text": [
      "[3, 32, 34, 44, 45, 53, 64]\n",
      "--------------------\n",
      "[3, 33, 34, 46, 432, 4646, 342332]\n",
      "--------------------\n",
      "(34, 46, 3, 4646, 342332, 33, 432)\n",
      "--------------------\n"
     ]
    }
   ],
   "source": [
    "'''-------------------------------------------------------------------------------------\n",
    "A whole new concept\n",
    "----------------------------------------------------------------------------------------\n",
    "'''\n",
    "score=[45,44,64,34,3,53,32]\n",
    "score.sort()\n",
    "print(score)\n",
    "print('-'*20)\n",
    "\n",
    "goal=(34,46,3,4646,342332,33,432)\n",
    "print(sorted(goal))\n",
    "print('-'*20)\n",
    "print(goal)\n",
    "print('-'*20)\n",
    "\n",
    "\n"
   ]
  },
  {
   "cell_type": "code",
   "execution_count": null,
   "metadata": {},
   "outputs": [],
   "source": [
    "#sort function changes the original iterable on the other hand sorted just displays the result in sorted order"
   ]
  },
  {
   "cell_type": "code",
   "execution_count": 18,
   "metadata": {},
   "outputs": [
    {
     "data": {
      "text/plain": [
       "[342332, 4646, 432, 46, 34, 33, 3]"
      ]
     },
     "execution_count": 18,
     "metadata": {},
     "output_type": "execute_result"
    }
   ],
   "source": [
    "'''Can change the direction'''\n",
    "goal=(34,46,3,4646,342332,33,432)\n",
    "sorted(goal,reverse=True)      #output comes in descending order"
   ]
  },
  {
   "cell_type": "code",
   "execution_count": 19,
   "metadata": {},
   "outputs": [
    {
     "data": {
      "text/plain": [
       "[5, 32, 53, 223]"
      ]
     },
     "execution_count": 19,
     "metadata": {},
     "output_type": "execute_result"
    }
   ],
   "source": [
    "sorted((32,5,223,53))         #remember,sorted function returns a list"
   ]
  },
  {
   "cell_type": "code",
   "execution_count": 20,
   "metadata": {},
   "outputs": [
    {
     "data": {
      "text/plain": [
       "[223, 53, 32, 5]"
      ]
     },
     "execution_count": 20,
     "metadata": {},
     "output_type": "execute_result"
    }
   ],
   "source": [
    "sorted((32,5,223,53),reverse=True)#It gives a list"
   ]
  },
  {
   "cell_type": "code",
   "execution_count": 21,
   "metadata": {},
   "outputs": [
    {
     "data": {
      "text/plain": [
       "[{'username': 'bob123', 'tweets': [], 'num': 10, 'color': 'teal'},\n",
       " {'username': 'doggo_luvr', 'tweets': ['dogs are the best', \"I'm hungry\"]},\n",
       " {'username': 'guitar_gal', 'tweets': []},\n",
       " {'username': 'jeff', 'tweets': [], 'color': 'purple'},\n",
       " {'username': 'katie', 'tweets': ['I love my cat']},\n",
       " {'username': 'samuel',\n",
       "  'tweets': ['I love cake', 'I love pie', 'hello world!']}]"
      ]
     },
     "execution_count": 21,
     "metadata": {},
     "output_type": "execute_result"
    }
   ],
   "source": [
    "users = [\n",
    "    {\"username\": \"samuel\", \"tweets\": [\"I love cake\", \"I love pie\", \"hello world!\"]},\n",
    "    {\"username\": \"katie\", \"tweets\": [\"I love my cat\"]},\n",
    "    {\"username\": \"jeff\", \"tweets\": [], \"color\": \"purple\"},\n",
    "    {\"username\": \"bob123\", \"tweets\": [], \"num\": 10, \"color\": \"teal\"},\n",
    "    {\"username\": \"doggo_luvr\", \"tweets\": [\"dogs are the best\", \"I'm hungry\"]},\n",
    "    {\"username\": \"guitar_gal\", \"tweets\": []}\n",
    "]\n",
    "\n",
    "\n",
    "sorted(users,key=lambda user:user['username'])"
   ]
  },
  {
   "cell_type": "code",
   "execution_count": 22,
   "metadata": {},
   "outputs": [
    {
     "data": {
      "text/plain": [
       "[{'username': 'samuel',\n",
       "  'tweets': ['I love cake', 'I love pie', 'hello world!']},\n",
       " {'username': 'katie', 'tweets': ['I love my cat']},\n",
       " {'username': 'jeff', 'tweets': [], 'color': 'purple'},\n",
       " {'username': 'guitar_gal', 'tweets': []},\n",
       " {'username': 'doggo_luvr', 'tweets': ['dogs are the best', \"I'm hungry\"]},\n",
       " {'username': 'bob123', 'tweets': [], 'num': 10, 'color': 'teal'}]"
      ]
     },
     "execution_count": 22,
     "metadata": {},
     "output_type": "execute_result"
    }
   ],
   "source": [
    "\n",
    "sorted(users,key=lambda user:user['username'],reverse=True)"
   ]
  },
  {
   "cell_type": "code",
   "execution_count": 26,
   "metadata": {},
   "outputs": [
    {
     "data": {
      "text/plain": [
       "[{'title': 'happy birthday', 'playcount': 1},\n",
       " {'title': 'Survive', 'playcount': 6},\n",
       " {'title': 'Toxic', 'playcount': 31},\n",
       " {'title': 'YMCA', 'playcount': 99}]"
      ]
     },
     "execution_count": 26,
     "metadata": {},
     "output_type": "execute_result"
    }
   ],
   "source": [
    "'''---------------------------------------------------------------------------'''\n",
    "songs = [\n",
    "\t{\"title\": \"happy birthday\", \"playcount\": 1},\n",
    "\t{\"title\": \"Survive\", \"playcount\": 6},\n",
    "\t{\"title\": \"YMCA\", \"playcount\": 99},\n",
    "\t{\"title\": \"Toxic\", \"playcount\": 31}\n",
    "]\n",
    "\n",
    "sorted(songs,key=lambda song:song['playcount'])\n",
    "\n"
   ]
  },
  {
   "cell_type": "code",
   "execution_count": null,
   "metadata": {},
   "outputs": [],
   "source": []
  }
 ],
 "metadata": {
  "kernelspec": {
   "display_name": "Python 3",
   "language": "python",
   "name": "python3"
  },
  "language_info": {
   "codemirror_mode": {
    "name": "ipython",
    "version": 3
   },
   "file_extension": ".py",
   "mimetype": "text/x-python",
   "name": "python",
   "nbconvert_exporter": "python",
   "pygments_lexer": "ipython3",
   "version": "3.7.2"
  }
 },
 "nbformat": 4,
 "nbformat_minor": 2
}
