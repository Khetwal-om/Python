{
 "cells": [
  {
   "cell_type": "code",
   "execution_count": 2,
   "metadata": {},
   "outputs": [
    {
     "name": "stdout",
     "output_type": "stream",
     "text": [
      "Same functionalities\n",
      "LIst comprehension: 9024 bytes\n",
      "generator expn : 120 bytes\n"
     ]
    }
   ],
   "source": [
    "import sys\n",
    "\n",
    "\n",
    "list_comp=sys.getsizeof([x*10 for x in range(1000)])\n",
    "gen_exp=sys.getsizeof(x*10 for x in range(1000))\n",
    "\n",
    "print(\"Same functionalities\")\n",
    "print(f'LIst comprehension: {list_comp} bytes')\n",
    "print(f'generator expn : {gen_exp} bytes')"
   ]
  },
  {
   "cell_type": "code",
   "execution_count": null,
   "metadata": {},
   "outputs": [],
   "source": []
  }
 ],
 "metadata": {
  "kernelspec": {
   "display_name": "Python 3",
   "language": "python",
   "name": "python3"
  },
  "language_info": {
   "codemirror_mode": {
    "name": "ipython",
    "version": 3
   },
   "file_extension": ".py",
   "mimetype": "text/x-python",
   "name": "python",
   "nbconvert_exporter": "python",
   "pygments_lexer": "ipython3",
   "version": "3.7.2"
  }
 },
 "nbformat": 4,
 "nbformat_minor": 2
}
