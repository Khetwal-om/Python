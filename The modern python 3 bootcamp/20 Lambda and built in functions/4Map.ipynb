{
 "cells": [
  {
   "cell_type": "code",
   "execution_count": null,
   "metadata": {},
   "outputs": [],
   "source": [
    "#Map takes atleast two arguments \n",
    "'''\n",
    "Function \n",
    "Iterable\n",
    "'''"
   ]
  },
  {
   "cell_type": "code",
   "execution_count": null,
   "metadata": {},
   "outputs": [],
   "source": [
    "'''\n",
    "Runs the lambda for each value in the iterabe and\n",
    "returns a map object which can be converted into another\n",
    "data structure\n",
    "\n",
    "'''\n",
    "#<map object at 0x0000022FF2A800F0> This is map object\n",
    "#Can be converted to iterables\n"
   ]
  },
  {
   "cell_type": "code",
   "execution_count": 8,
   "metadata": {},
   "outputs": [
    {
     "name": "stdout",
     "output_type": "stream",
     "text": [
      "1\n",
      "529\n",
      "9\n",
      "25\n",
      "36\n"
     ]
    }
   ],
   "source": [
    "numbers=[1,23,3,5,6]\n",
    "answer=map(lambda x:x*x,numbers)\n",
    "for i in answer:\n",
    "    print(i)"
   ]
  },
  {
   "cell_type": "code",
   "execution_count": 9,
   "metadata": {},
   "outputs": [
    {
     "name": "stdout",
     "output_type": "stream",
     "text": [
      "<map object at 0x0000022FF2A80278>\n"
     ]
    }
   ],
   "source": [
    "print(answer)"
   ]
  },
  {
   "cell_type": "code",
   "execution_count": 10,
   "metadata": {},
   "outputs": [
    {
     "name": "stdout",
     "output_type": "stream",
     "text": [
      "[]\n"
     ]
    }
   ],
   "source": [
    "'''MAP FUNCTION CAN BE ITERATED ONLY ONCE'''\n",
    "print(list(answer))"
   ]
  },
  {
   "cell_type": "code",
   "execution_count": 11,
   "metadata": {},
   "outputs": [
    {
     "name": "stdout",
     "output_type": "stream",
     "text": [
      "()\n"
     ]
    }
   ],
   "source": [
    "'''MAP FUNCTION CAN BE ITERATED ONLY ONCE'''\n",
    "print(tuple(answer))"
   ]
  },
  {
   "cell_type": "code",
   "execution_count": 12,
   "metadata": {},
   "outputs": [
    {
     "name": "stdout",
     "output_type": "stream",
     "text": [
      "['INDIA', 'SPAIN', 'FRANCE', 'BRAZIL']\n"
     ]
    }
   ],
   "source": [
    "#Take name in a list convert them to uppercase\n",
    "country=['india','spain','france','brazil']\n",
    "answer=map(lambda i:i.upper(),country)\n",
    "print(list(answer))"
   ]
  },
  {
   "cell_type": "code",
   "execution_count": 14,
   "metadata": {},
   "outputs": [
    {
     "name": "stdout",
     "output_type": "stream",
     "text": [
      "['james', 'cristiano', 'mbappe']\n"
     ]
    }
   ],
   "source": [
    "#Let's do something quibble\n",
    "names=[\n",
    "    {'first':'james','last':'anderson'},\n",
    "    \n",
    "    {'first':'cristiano','last':'anderson'},\n",
    "    \n",
    "    {'first':'mbappe','last':'anderson'}\n",
    "]\n",
    "\n",
    "check=map(lambda x:x['first'],names)\n",
    "print(list(check))\n"
   ]
  },
  {
   "cell_type": "code",
   "execution_count": null,
   "metadata": {},
   "outputs": [],
   "source": []
  }
 ],
 "metadata": {
  "kernelspec": {
   "display_name": "Python 3",
   "language": "python",
   "name": "python3"
  },
  "language_info": {
   "codemirror_mode": {
    "name": "ipython",
    "version": 3
   },
   "file_extension": ".py",
   "mimetype": "text/x-python",
   "name": "python",
   "nbconvert_exporter": "python",
   "pygments_lexer": "ipython3",
   "version": "3.7.2"
  }
 },
 "nbformat": 4,
 "nbformat_minor": 2
}
