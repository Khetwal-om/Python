{
 "cells": [
  {
   "cell_type": "code",
   "execution_count": 6,
   "metadata": {},
   "outputs": [
    {
     "name": "stdout",
     "output_type": "stream",
     "text": [
      "['lawendowski', 'leo']\n"
     ]
    }
   ],
   "source": [
    "names=['justin','steve','david','everton','richarlison','mbappe','hazard','reus','lawendowski','leo']\n",
    "answer=list(filter(lambda x:x[0]=='l',names))\n",
    "print(answer)"
   ]
  },
  {
   "cell_type": "code",
   "execution_count": null,
   "metadata": {},
   "outputs": [],
   "source": [
    "#wwwwwwwwwwwwwwwwwwwwwwwwwwwwwooooooooooooooooooooooooooooooow\n",
    "#The difference between map and filter \n",
    "'''\n",
    "Map returns True or false while filter returns the entity which is matched \n",
    "'''"
   ]
  },
  {
   "cell_type": "code",
   "execution_count": 9,
   "metadata": {},
   "outputs": [
    {
     "name": "stdout",
     "output_type": "stream",
     "text": [
      "[False, False, False, False, False, False, False, False, True, True]\n"
     ]
    }
   ],
   "source": [
    "print(list(map(lambda x:x[0]=='l',names)))"
   ]
  },
  {
   "cell_type": "code",
   "execution_count": 11,
   "metadata": {},
   "outputs": [
    {
     "name": "stdout",
     "output_type": "stream",
     "text": [
      "[{'username': 'samuel', 'tweets': ['i love hazard']}, {'username': 'iguna', 'tweets': ['the atmosphere is amazing']}]\n"
     ]
    }
   ],
   "source": [
    "users=[\n",
    "    {'username':'samuel','tweets':['i love hazard']},\n",
    "    {'username':'mbappe','tweets':[]},\n",
    "    {'username':'munich','tweets':[]},\n",
    "    {'username':'iguna','tweets':['the atmosphere is amazing']},\n",
    "]\n",
    "check=list(filter(lambda x:x['tweets'],users))    #Notice here x['tweets']   indicates non-empty list\n",
    "print(check)"
   ]
  },
  {
   "cell_type": "code",
   "execution_count": 13,
   "metadata": {},
   "outputs": [
    {
     "name": "stdout",
     "output_type": "stream",
     "text": [
      "[{'username': 'mbappe', 'tweets': []}, {'username': 'munich', 'tweets': []}]\n"
     ]
    }
   ],
   "source": [
    "users=[\n",
    "    {'username':'samuel','tweets':['i love hazard']},\n",
    "    {'username':'mbappe','tweets':[]},\n",
    "    {'username':'munich','tweets':[]},\n",
    "    {'username':'iguna','tweets':['the atmosphere is amazing']},\n",
    "]\n",
    "check=list(filter(lambda x:len(x['tweets'])==0,users))\n",
    "print(check)"
   ]
  },
  {
   "cell_type": "code",
   "execution_count": 19,
   "metadata": {},
   "outputs": [
    {
     "data": {
      "text/plain": [
       "['mbappe', 'munich']"
      ]
     },
     "execution_count": 19,
     "metadata": {},
     "output_type": "execute_result"
    }
   ],
   "source": [
    "list(map(lambda user:user['username'],filter(lambda u:len(u['tweets'])==0,users)))"
   ]
  },
  {
   "cell_type": "code",
   "execution_count": null,
   "metadata": {},
   "outputs": [],
   "source": [
    "'''\n",
    "Combining filter and map\n",
    "'''\n"
   ]
  },
  {
   "cell_type": "code",
   "execution_count": 15,
   "metadata": {},
   "outputs": [
    {
     "data": {
      "text/plain": [
       "['your instructor is ed']"
      ]
     },
     "execution_count": 15,
     "metadata": {},
     "output_type": "execute_result"
    }
   ],
   "source": [
    "names=['Justin','selena','taylor','ed','khalid']\n",
    "\n",
    "list(map(lambda name:f'your instructor is {name}',filter(lambda value:len(value)<5,names)))"
   ]
  },
  {
   "cell_type": "code",
   "execution_count": 4,
   "metadata": {},
   "outputs": [
    {
     "data": {
      "text/plain": [
       "['ed', 'zayn']"
      ]
     },
     "execution_count": 4,
     "metadata": {},
     "output_type": "execute_result"
    }
   ],
   "source": [
    "'''\n",
    "List comprehension\n",
    "'''\n",
    "\n",
    "singers=['ed','james','julia','khalid','taylor','selena','lil wayne','niall','zayn','zhavia']\n",
    "\n",
    "\n",
    "[f'{singer}'for singer in singers if len(singer)<5]"
   ]
  },
  {
   "cell_type": "code",
   "execution_count": 13,
   "metadata": {},
   "outputs": [
    {
     "name": "stdout",
     "output_type": "stream",
     "text": [
      "['your favourite singer is  ed', 'your favourite singer is  zayn']\n"
     ]
    }
   ],
   "source": [
    "a=map(lambda singer:f'your favourite singer is  {singer}',filter(lambda singer:len(singer)<5,singers))\n",
    "print(list(a))"
   ]
  },
  {
   "cell_type": "code",
   "execution_count": 6,
   "metadata": {},
   "outputs": [
    {
     "name": "stdout",
     "output_type": "stream",
     "text": [
      "['ed', 'zayn']\n"
     ]
    }
   ],
   "source": [
    "b=filter(lambda singer:len(singer)<5,singers)\n",
    "print(list(b))"
   ]
  },
  {
   "cell_type": "code",
   "execution_count": 23,
   "metadata": {},
   "outputs": [
    {
     "data": {
      "text/plain": [
       "[{'username': 'mbappe', 'tweets': []}, {'username': 'munich', 'tweets': []}]"
      ]
     },
     "execution_count": 23,
     "metadata": {},
     "output_type": "execute_result"
    }
   ],
   "source": [
    "users=[\n",
    "    {'username':'samuel','tweets':['i love hazard']},\n",
    "    {'username':'mbappe','tweets':[]},\n",
    "    {'username':'munich','tweets':[]},\n",
    "    {'username':'iguna','tweets':['the atmosphere is amazing']},\n",
    "]\n",
    "\n",
    "\n",
    "[user for user in users if not user['tweets']]\n"
   ]
  },
  {
   "cell_type": "code",
   "execution_count": 22,
   "metadata": {},
   "outputs": [
    {
     "data": {
      "text/plain": [
       "[{'username': 'samuel', 'tweets': ['i love hazard']},\n",
       " {'username': 'iguna', 'tweets': ['the atmosphere is amazing']}]"
      ]
     },
     "execution_count": 22,
     "metadata": {},
     "output_type": "execute_result"
    }
   ],
   "source": [
    "\n",
    "[user for user in users if user['tweets']]"
   ]
  },
  {
   "cell_type": "code",
   "execution_count": 25,
   "metadata": {},
   "outputs": [
    {
     "data": {
      "text/plain": [
       "[{'username': 'samuel', 'tweets': ['i love hazard']},\n",
       " {'username': 'iguna', 'tweets': ['the atmosphere is amazing']}]"
      ]
     },
     "execution_count": 25,
     "metadata": {},
     "output_type": "execute_result"
    }
   ],
   "source": [
    "\n",
    "[user for user in users if user['tweets']]"
   ]
  },
  {
   "cell_type": "code",
   "execution_count": 26,
   "metadata": {},
   "outputs": [
    {
     "data": {
      "text/plain": [
       "['samuel', 'iguna']"
      ]
     },
     "execution_count": 26,
     "metadata": {},
     "output_type": "execute_result"
    }
   ],
   "source": [
    "'''I was looking for this'''\n",
    "\n",
    "[user['username'] for user in users if user['tweets']]"
   ]
  },
  {
   "cell_type": "code",
   "execution_count": 27,
   "metadata": {},
   "outputs": [
    {
     "data": {
      "text/plain": [
       "['mbappe', 'munich']"
      ]
     },
     "execution_count": 27,
     "metadata": {},
     "output_type": "execute_result"
    }
   ],
   "source": [
    "\n",
    "[user['username'] for user in users if not user['tweets']]"
   ]
  },
  {
   "cell_type": "code",
   "execution_count": null,
   "metadata": {},
   "outputs": [],
   "source": []
  }
 ],
 "metadata": {
  "kernelspec": {
   "display_name": "Python 3",
   "language": "python",
   "name": "python3"
  },
  "language_info": {
   "codemirror_mode": {
    "name": "ipython",
    "version": 3
   },
   "file_extension": ".py",
   "mimetype": "text/x-python",
   "name": "python",
   "nbconvert_exporter": "python",
   "pygments_lexer": "ipython3",
   "version": "3.7.2"
  }
 },
 "nbformat": 4,
 "nbformat_minor": 2
}
