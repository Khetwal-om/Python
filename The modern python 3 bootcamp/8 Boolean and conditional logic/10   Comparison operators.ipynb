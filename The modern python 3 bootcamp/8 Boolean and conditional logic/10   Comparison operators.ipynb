{
 "cells": [
  {
   "cell_type": "code",
   "execution_count": null,
   "metadata": {},
   "outputs": [],
   "source": [
    "'''\n",
    "==   equal to\n",
    "!=   not equal to\n",
    "<=   smaller than equal to\n",
    ">=   greater than equal to\n",
    "<\n",
    ">\n",
    "'''\n",
    "\n",
    "\n"
   ]
  },
  {
   "cell_type": "code",
   "execution_count": 6,
   "metadata": {},
   "outputs": [
    {
     "name": "stdout",
     "output_type": "stream",
     "text": [
      "Enter the first one12\n",
      "Enter the second one34\n",
      "They are not equal\n",
      "A is smaller than b\n"
     ]
    }
   ],
   "source": [
    "a=int(input(\"Enter the first one\"))\n",
    "b=int(input(\"Enter the second one\"))\n",
    "if a==b:\n",
    "    print(\"Both are equal \")\n",
    "elif a!=b:\n",
    "    print(\"They are not equal\")\n",
    "    if a<b:\n",
    "        print(\"A is smaller than b\")\n",
    "    elif a>b:\n",
    "        print(\"A is greater than b\")"
   ]
  },
  {
   "cell_type": "code",
   "execution_count": null,
   "metadata": {},
   "outputs": [],
   "source": []
  }
 ],
 "metadata": {
  "kernelspec": {
   "display_name": "Python 3",
   "language": "python",
   "name": "python3"
  },
  "language_info": {
   "codemirror_mode": {
    "name": "ipython",
    "version": 3
   },
   "file_extension": ".py",
   "mimetype": "text/x-python",
   "name": "python",
   "nbconvert_exporter": "python",
   "pygments_lexer": "ipython3",
   "version": "3.7.2"
  }
 },
 "nbformat": 4,
 "nbformat_minor": 2
}
