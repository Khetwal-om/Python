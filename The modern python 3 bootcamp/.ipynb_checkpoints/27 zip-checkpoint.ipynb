{
 "cells": [
  {
   "cell_type": "code",
   "execution_count": 13,
   "metadata": {},
   "outputs": [
    {
     "name": "stdout",
     "output_type": "stream",
     "text": [
      "--------------------before--------------------\n",
      "<class 'zip'>\n",
      "[(1, 4), (2, 5), (3, 6)]\n",
      "<class 'zip'>\n",
      "--------------------after--------------------\n"
     ]
    }
   ],
   "source": [
    "#make an iterator that aggregates elements from each\n",
    "#of the iterables.\n",
    "'''\n",
    "Return an iterator of tuples,where the i-th tuple contains\n",
    "the i-th element from each of the argument sequences or\n",
    "iterables.\n",
    "The iterator stops when the shortest input iterable is\n",
    "exhausted.\n",
    "\n",
    "'''\n",
    "\n",
    "first_zip=zip([1,2,3],[4,5,6])\n",
    "print('-'*20+\"before\"+'-'*20)\n",
    "print(type(first_zip))\n",
    "print(list(first_zip))\n",
    "print(type(first_zip))\n",
    "print('-'*20+\"after\"+'-'*20)\n",
    "\n",
    "\n",
    "\n"
   ]
  },
  {
   "cell_type": "code",
   "execution_count": 6,
   "metadata": {},
   "outputs": [
    {
     "name": "stdout",
     "output_type": "stream",
     "text": [
      "{1: 4, 2: 5, 3: 6}\n"
     ]
    }
   ],
   "source": [
    "first_zip=zip([1,2,3],[4,5,6])\n",
    "print(dict(first_zip))"
   ]
  },
  {
   "cell_type": "code",
   "execution_count": 20,
   "metadata": {},
   "outputs": [
    {
     "data": {
      "text/plain": [
       "<zip at 0x2404b727908>"
      ]
     },
     "execution_count": 20,
     "metadata": {},
     "output_type": "execute_result"
    }
   ],
   "source": [
    "first=[1,2,7,4,5,6,9,3]\n",
    "second=[2,5,6,7,3]\n",
    "zip(first,second)"
   ]
  },
  {
   "cell_type": "code",
   "execution_count": 15,
   "metadata": {},
   "outputs": [
    {
     "name": "stdout",
     "output_type": "stream",
     "text": [
      "<zip object at 0x000002404B747688>\n"
     ]
    }
   ],
   "source": [
    "print(zip(first,second))"
   ]
  },
  {
   "cell_type": "code",
   "execution_count": 18,
   "metadata": {},
   "outputs": [
    {
     "name": "stdout",
     "output_type": "stream",
     "text": [
      "[(1, 2), (2, 5), (3, 6), (4, 7), (5, 3)]\n"
     ]
    }
   ],
   "source": [
    "print(list(zip(first,second)))"
   ]
  },
  {
   "cell_type": "code",
   "execution_count": 22,
   "metadata": {},
   "outputs": [
    {
     "name": "stdout",
     "output_type": "stream",
     "text": [
      "{1: 2, 2: 5, 7: 6, 4: 7, 5: 3}\n"
     ]
    }
   ],
   "source": [
    "a=zip(first,second)\n",
    "print(dict(a))"
   ]
  },
  {
   "cell_type": "code",
   "execution_count": 27,
   "metadata": {},
   "outputs": [
    {
     "name": "stdout",
     "output_type": "stream",
     "text": [
      "[('one', 'a', 'paris'), ('two', 'b', 'straousborg'), ('three', 'c', 'guingamp'), ('four', 'd', 'nice')]\n"
     ]
    }
   ],
   "source": [
    "france=['paris','straousborg','guingamp','nice']\n",
    "one=['one','two','three','four']\n",
    "two=['a','b','c','d']\n",
    "\n",
    "answer=zip(one,two,france)\n",
    "print(list(answer))"
   ]
  },
  {
   "cell_type": "code",
   "execution_count": 28,
   "metadata": {},
   "outputs": [
    {
     "data": {
      "text/plain": [
       "[(0, 1, 2, 3, 4), (1, 2, 3, 4, 5)]"
      ]
     },
     "execution_count": 28,
     "metadata": {},
     "output_type": "execute_result"
    }
   ],
   "source": [
    "# First element in the first tuple\n",
    "# second element in the second tuple\n",
    "\n",
    "tom=[(0,1),(1,2),(2,3),(3,4),(4,5)]\n",
    "list(zip(*tom))"
   ]
  },
  {
   "cell_type": "code",
   "execution_count": null,
   "metadata": {},
   "outputs": [],
   "source": []
  }
 ],
 "metadata": {
  "kernelspec": {
   "display_name": "Python 3",
   "language": "python",
   "name": "python3"
  },
  "language_info": {
   "codemirror_mode": {
    "name": "ipython",
    "version": 3
   },
   "file_extension": ".py",
   "mimetype": "text/x-python",
   "name": "python",
   "nbconvert_exporter": "python",
   "pygments_lexer": "ipython3",
   "version": "3.7.2"
  }
 },
 "nbformat": 4,
 "nbformat_minor": 2
}
