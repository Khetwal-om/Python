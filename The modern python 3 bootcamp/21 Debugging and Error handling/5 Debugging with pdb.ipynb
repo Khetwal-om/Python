{
 "cells": [
  {
   "cell_type": "code",
   "execution_count": 3,
   "metadata": {},
   "outputs": [
    {
     "name": "stdout",
     "output_type": "stream",
     "text": [
      "--Return--\n",
      "> <ipython-input-3-b5356f4e52dd>(6)<module>()->None\n",
      "-> pdb.set_trace()\n",
      "(Pdb) l\n",
      "  1  \timport pdb\n",
      "  2  \t\n",
      "  3  \tfirst=\"first\"\n",
      "  4  \tsecond=\"second\"\n",
      "  5  \tresult=first+second\n",
      "  6  ->\tpdb.set_trace()\n",
      "  7  \tthird='third'\n",
      "  8  \t\n",
      "  9  \t\n",
      " 10  \tresult+=third\n",
      " 11  \tprint(result)\n",
      "(Pdb) c\n",
      "firstsecondthird\n"
     ]
    }
   ],
   "source": [
    "import pdb\n",
    "\n",
    "first=\"first\"\n",
    "second=\"second\"\n",
    "result=first+second\n",
    "pdb.set_trace()\n",
    "third='third'\n",
    "\n",
    "\n",
    "result+=third\n",
    "print(result)"
   ]
  },
  {
   "cell_type": "code",
   "execution_count": 4,
   "metadata": {},
   "outputs": [
    {
     "name": "stdout",
     "output_type": "stream",
     "text": [
      "> <ipython-input-4-c144b85f9bbb>(3)add_number()\n",
      "-> return a+c+d\n",
      "(Pdb) a\n",
      "a = 3\n",
      "c = 34\n",
      "d = 5\n",
      "(Pdb) d\n",
      "*** Newest frame\n",
      "(Pdb) c\n",
      "42\n"
     ]
    }
   ],
   "source": [
    "def add_number(a,c,d):\n",
    "    import pdb; pdb.set_trace()\n",
    "    return a+c+d\n",
    "\n",
    "print(add_number(3,34,5))"
   ]
  },
  {
   "cell_type": "code",
   "execution_count": 5,
   "metadata": {},
   "outputs": [
    {
     "name": "stdout",
     "output_type": "stream",
     "text": [
      "> <ipython-input-5-4eaf3dff7a28>(3)add_number()\n",
      "-> return a+x+z\n",
      "(Pdb) a\n",
      "a = 3\n",
      "z = 34\n",
      "x = 5\n",
      "(Pdb) x\n",
      "5\n",
      "(Pdb) z\n",
      "34\n",
      "(Pdb) a\n",
      "a = 3\n",
      "z = 34\n",
      "x = 5\n",
      "(Pdb) n\n",
      "--Return--\n",
      "> <ipython-input-5-4eaf3dff7a28>(3)add_number()->42\n",
      "-> return a+x+z\n",
      "(Pdb) n\n",
      "--Call--\n",
      "> c:\\users\\khetwal om\\appdata\\local\\programs\\python\\python37\\lib\\site-packages\\ipykernel\\iostream.py(382)write()\n",
      "-> def write(self, string):\n",
      "(Pdb) n\n",
      "> c:\\users\\khetwal om\\appdata\\local\\programs\\python\\python37\\lib\\site-packages\\ipykernel\\iostream.py(383)write()\n",
      "-> if self.echo is not None:\n",
      "(Pdb) n\n",
      "> c:\\users\\khetwal om\\appdata\\local\\programs\\python\\python37\\lib\\site-packages\\ipykernel\\iostream.py(391)write()\n",
      "-> if self.pub_thread is None:\n",
      "(Pdb) n\n",
      "> c:\\users\\khetwal om\\appdata\\local\\programs\\python\\python37\\lib\\site-packages\\ipykernel\\iostream.py(395)write()\n",
      "-> if not isinstance(string, unicode_type):\n",
      "(Pdb) n\n",
      "> c:\\users\\khetwal om\\appdata\\local\\programs\\python\\python37\\lib\\site-packages\\ipykernel\\iostream.py(398)write()\n",
      "-> is_child = (not self._is_master_process())\n",
      "(Pdb) \n",
      "> c:\\users\\khetwal om\\appdata\\local\\programs\\python\\python37\\lib\\site-packages\\ipykernel\\iostream.py(400)write()\n",
      "-> self.pub_thread.schedule(lambda : self._buffer.write(string))\n",
      "(Pdb) n\n",
      "42> c:\\users\\khetwal om\\appdata\\local\\programs\\python\\python37\\lib\\site-packages\\ipykernel\\iostream.py(401)write()\n",
      "-> if is_child:\n",
      "(Pdb) c\n",
      "\n"
     ]
    }
   ],
   "source": [
    "def add_number(a,z,x):\n",
    "    import pdb; pdb.set_trace()\n",
    "    return a+x+z\n",
    "\n",
    "print(add_number(3,34,5))"
   ]
  },
  {
   "cell_type": "code",
   "execution_count": null,
   "metadata": {},
   "outputs": [],
   "source": []
  }
 ],
 "metadata": {
  "kernelspec": {
   "display_name": "Python 3",
   "language": "python",
   "name": "python3"
  },
  "language_info": {
   "codemirror_mode": {
    "name": "ipython",
    "version": 3
   },
   "file_extension": ".py",
   "mimetype": "text/x-python",
   "name": "python",
   "nbconvert_exporter": "python",
   "pygments_lexer": "ipython3",
   "version": "3.7.2"
  }
 },
 "nbformat": 4,
 "nbformat_minor": 2
}
