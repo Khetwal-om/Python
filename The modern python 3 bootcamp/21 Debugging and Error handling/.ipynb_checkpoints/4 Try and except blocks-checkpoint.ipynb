{
 "cells": [
  {
   "cell_type": "code",
   "execution_count": 3,
   "metadata": {},
   "outputs": [
    {
     "name": "stdout",
     "output_type": "stream",
     "text": [
      "name 'foobar' is not defined\n"
     ]
    }
   ],
   "source": [
    "\n",
    "try:\n",
    "    foobar\n",
    "except NameError as err:\n",
    "    print(err)"
   ]
  },
  {
   "cell_type": "code",
   "execution_count": 14,
   "metadata": {},
   "outputs": [
    {
     "name": "stdout",
     "output_type": "stream",
     "text": [
      "'spain'\n"
     ]
    }
   ],
   "source": [
    "d={'france':'madrid'}\n",
    "try:\n",
    "    d['spain']\n",
    "except KeyError as e:\n",
    "    print(e)"
   ]
  },
  {
   "cell_type": "code",
   "execution_count": 13,
   "metadata": {},
   "outputs": [
    {
     "name": "stdout",
     "output_type": "stream",
     "text": [
      "madrid\n",
      "None\n"
     ]
    }
   ],
   "source": [
    "def getme(d,key):\n",
    "    try:\n",
    "        return d[key]\n",
    "    except KeyError:\n",
    "        return None\n",
    "print(getme(d,'france'))\n",
    "print(getme(d,'spain'))"
   ]
  },
  {
   "cell_type": "code",
   "execution_count": null,
   "metadata": {},
   "outputs": [],
   "source": []
  }
 ],
 "metadata": {
  "kernelspec": {
   "display_name": "Python 3",
   "language": "python",
   "name": "python3"
  },
  "language_info": {
   "codemirror_mode": {
    "name": "ipython",
    "version": 3
   },
   "file_extension": ".py",
   "mimetype": "text/x-python",
   "name": "python",
   "nbconvert_exporter": "python",
   "pygments_lexer": "ipython3",
   "version": "3.7.2"
  }
 },
 "nbformat": 4,
 "nbformat_minor": 2
}
