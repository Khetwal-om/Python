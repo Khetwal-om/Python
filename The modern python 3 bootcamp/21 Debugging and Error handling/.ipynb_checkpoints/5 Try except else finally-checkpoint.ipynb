{
 "cells": [
  {
   "cell_type": "code",
   "execution_count": null,
   "metadata": {},
   "outputs": [],
   "source": [
    "# else ELSE WILL RUN WHEN THERE IS NO EXCEPTION"
   ]
  },
  {
   "cell_type": "code",
   "execution_count": 5,
   "metadata": {},
   "outputs": [
    {
     "name": "stdout",
     "output_type": "stream",
     "text": [
      "Enter a number43\n",
      "This is indeed a number i can't get over it \n"
     ]
    }
   ],
   "source": [
    "try:\n",
    "    num=int(input(\"Enter a number\"))\n",
    "    print(\"This is indeed a number i can't get over it \")\n",
    "except:\n",
    "    print(\"This ain't a number bitch\")\n"
   ]
  },
  {
   "cell_type": "code",
   "execution_count": null,
   "metadata": {},
   "outputs": [],
   "source": [
    "'''\n",
    "else is running when there is no exception\n",
    "'''"
   ]
  },
  {
   "cell_type": "code",
   "execution_count": 6,
   "metadata": {},
   "outputs": [
    {
     "name": "stdout",
     "output_type": "stream",
     "text": [
      "Enter a number9\n",
      "This is indeed a number i can't get over it \n",
      "I am in else block\n"
     ]
    }
   ],
   "source": [
    "try:\n",
    "    num=int(input(\"Enter a number\"))\n",
    "    print(\"This is indeed a number i can't get over it \")\n",
    "except:\n",
    "    print(\"This ain't a number bitch\")\n",
    "else:\n",
    "    print(\"I am in else block\")"
   ]
  },
  {
   "cell_type": "code",
   "execution_count": 7,
   "metadata": {},
   "outputs": [
    {
     "name": "stdout",
     "output_type": "stream",
     "text": [
      "Enter a numberdfkj\n",
      "This ain't a number bitch\n"
     ]
    }
   ],
   "source": [
    "try:\n",
    "    num=int(input(\"Enter a number\"))\n",
    "    print(\"This is indeed a number i can't get over it \")\n",
    "except:\n",
    "    print(\"This ain't a number bitch\")\n",
    "else:\n",
    "    print(\"I am in else block\")"
   ]
  },
  {
   "cell_type": "code",
   "execution_count": null,
   "metadata": {},
   "outputs": [],
   "source": [
    "#In the above cell else did'nt run because there was exception"
   ]
  },
  {
   "cell_type": "code",
   "execution_count": 8,
   "metadata": {},
   "outputs": [
    {
     "name": "stdout",
     "output_type": "stream",
     "text": [
      "Enter a number12\n",
      "This is indeed a number i can't get over it \n",
      "I am in else block\n",
      "Forever \n"
     ]
    }
   ],
   "source": [
    "try:\n",
    "    num=int(input(\"Enter a number\"))\n",
    "    print(\"This is indeed a number i can't get over it \")\n",
    "except:\n",
    "    print(\"This ain't a number bitch\")\n",
    "else:\n",
    "    print(\"I am in else block\")\n",
    "finally:\n",
    "    print(\"Forever \")"
   ]
  },
  {
   "cell_type": "code",
   "execution_count": 9,
   "metadata": {},
   "outputs": [
    {
     "name": "stdout",
     "output_type": "stream",
     "text": [
      "Enter a numbersjfdk\n",
      "This ain't a number bitch\n",
      "Forever \n"
     ]
    }
   ],
   "source": [
    "try:\n",
    "    num=int(input(\"Enter a number\"))\n",
    "    print(\"This is indeed a number i can't get over it \")\n",
    "except:\n",
    "    print(\"This ain't a number bitch\")\n",
    "else:\n",
    "    print(\"I am in else block\")\n",
    "finally:\n",
    "    print(\"Forever \")"
   ]
  },
  {
   "cell_type": "code",
   "execution_count": 1,
   "metadata": {},
   "outputs": [
    {
     "name": "stdout",
     "output_type": "stream",
     "text": [
      "Enter the number32\n",
      "Good job ----------Bbbye\n",
      "Runs always\n"
     ]
    }
   ],
   "source": [
    "#This is a beautiful piece of code\n",
    "while True:\n",
    "    try:\n",
    "        num=int(input(\"Enter the number\"))\n",
    "    except:\n",
    "        print(\"That's not a number\")\n",
    "    else:\n",
    "        print(\"Good job ----------Bbbye\")\n",
    "        break\n",
    "    finally:\n",
    "        print('Runs always')"
   ]
  },
  {
   "cell_type": "code",
   "execution_count": null,
   "metadata": {},
   "outputs": [],
   "source": []
  }
 ],
 "metadata": {
  "kernelspec": {
   "display_name": "Python 3",
   "language": "python",
   "name": "python3"
  },
  "language_info": {
   "codemirror_mode": {
    "name": "ipython",
    "version": 3
   },
   "file_extension": ".py",
   "mimetype": "text/x-python",
   "name": "python",
   "nbconvert_exporter": "python",
   "pygments_lexer": "ipython3",
   "version": "3.7.2"
  }
 },
 "nbformat": 4,
 "nbformat_minor": 2
}
