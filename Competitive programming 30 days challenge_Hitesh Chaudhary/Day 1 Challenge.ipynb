{
 "cells": [
  {
   "cell_type": "markdown",
   "metadata": {},
   "source": [
    "### There was a small teacher in a small town who loves coding and he wants to create a program which prints\n",
    "### out the whole multiplication table of an entered number for his students."
   ]
  },
  {
   "cell_type": "markdown",
   "metadata": {},
   "source": [
    "# This is an h1 tag\n",
    "## This is an h2 tag\n",
    "### This is an h3 tag\n",
    "#### This is an h4 tag\n",
    "##### This is an h5 tag\n",
    "###### This is an h6 tag\n",
    "\n",
    "\n",
    "\n",
    "*This text will be italic*\n",
    "_This will make them italic too_\n",
    "\n",
    "**This will be bold**\n",
    "__This is gonna do the same__\n",
    "\n",
    "\n",
    "*you **can** combine them*\n",
    "\n",
    "\n",
    "\n",
    "* item1\n",
    "* item2\n",
    "   *item 2.1\n",
    "   *item 2.2\n",
    "   \n",
    "   \n",
    "1. item1\n",
    "2. item2\n",
    "3. item3\n",
    "   1.item 3.1\n",
    "   \n",
    "\n",
    "\n",
    "![GitHub Logo](/check.png)\n",
    "\n",
    "\n",
    "Format: ![Alt Text](url)\n",
    "\n",
    "\n",
    "\n",
    "\n",
    "http://github.com - automatic!\n",
    "[GitHub](http://github.com)\n",
    "\n",
    "\n",
    "\n",
    "\n",
    "---\n",
    "\n",
    "```python\n",
    "\n",
    "class First:\n",
    "    def display():\n",
    "        print('yeah')\n",
    "\n",
    "```\n",
    "\n",
    "\n",
    "\n"
   ]
  },
  {
   "cell_type": "code",
   "execution_count": null,
   "metadata": {},
   "outputs": [],
   "source": []
  },
  {
   "cell_type": "markdown",
   "metadata": {},
   "source": [
    "## There was a small teacher in a small town who loves coding and he wants to create a program which prints out the whole multiplication table of an entered number for his students."
   ]
  },
  {
   "cell_type": "code",
   "execution_count": null,
   "metadata": {},
   "outputs": [],
   "source": []
  },
  {
   "cell_type": "code",
   "execution_count": 5,
   "metadata": {},
   "outputs": [
    {
     "name": "stdout",
     "output_type": "stream",
     "text": [
      "Enter the number 5\n",
      "5  *  1  =  5\n",
      "5  *  2  =  10\n",
      "5  *  3  =  15\n",
      "5  *  4  =  20\n",
      "5  *  5  =  25\n",
      "5  *  6  =  30\n",
      "5  *  7  =  35\n",
      "5  *  8  =  40\n",
      "5  *  9  =  45\n",
      "5  *  10  =  50\n"
     ]
    }
   ],
   "source": [
    "number=int(input(\"Enter the number \"))\n",
    "product=1\n",
    "\n",
    "for i in range(1,11):\n",
    "    product=number*i\n",
    "    print(number,' * ',i,' = ',product)\n",
    "    \n"
   ]
  },
  {
   "cell_type": "markdown",
   "metadata": {},
   "source": [
    "### Markdown file of above code\n",
    "\n",
    "---\n",
    "\n",
    "\n",
    "```python\n",
    "number=int(input(\"Enter the number \"))\n",
    "product=1\n",
    "\n",
    "for i in range(1,11):\n",
    "    product=number*i\n",
    "    print(number,' * ',i,' = ',product)    \n",
    "```\n",
    "\n",
    "\n",
    "\n",
    "---"
   ]
  },
  {
   "cell_type": "code",
   "execution_count": null,
   "metadata": {},
   "outputs": [],
   "source": []
  }
 ],
 "metadata": {
  "kernelspec": {
   "display_name": "Python 3",
   "language": "python",
   "name": "python3"
  },
  "language_info": {
   "codemirror_mode": {
    "name": "ipython",
    "version": 3
   },
   "file_extension": ".py",
   "mimetype": "text/x-python",
   "name": "python",
   "nbconvert_exporter": "python",
   "pygments_lexer": "ipython3",
   "version": "3.7.2"
  }
 },
 "nbformat": 4,
 "nbformat_minor": 2
}
