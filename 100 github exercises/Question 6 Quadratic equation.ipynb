{
 "cells": [
  {
   "cell_type": "code",
   "execution_count": null,
   "metadata": {},
   "outputs": [],
   "source": [
    "'''\n",
    "Write a program that calculates and prints the value according to the given formula:\n",
    "\n",
    "Q = Square root of [(2 * C * D)/H]\n",
    "\n",
    "Following are the fixed values of C and H:\n",
    "\n",
    "C is 50. H is 30.\n",
    "\n",
    "D is the variable whose values should be input to your program in a\n",
    "comma-separated sequence.For example Let us assume the \n",
    "following comma separated input sequence is given to the program:\n",
    "'''"
   ]
  },
  {
   "cell_type": "code",
   "execution_count": 8,
   "metadata": {},
   "outputs": [
    {
     "name": "stdout",
     "output_type": "stream",
     "text": [
      "24\n"
     ]
    }
   ],
   "source": [
    "C=50\n",
    "H=30\n",
    "# D=input(\"Enter the values of d with comma\".split(','))\n",
    "D=180\n",
    "Q=pow((2*C*D/H),.5)\n",
    "print(round(Q))"
   ]
  },
  {
   "cell_type": "code",
   "execution_count": 9,
   "metadata": {},
   "outputs": [
    {
     "name": "stdout",
     "output_type": "stream",
     "text": [
      "enter34,5,6,34\n",
      "['34', '5', '6', '34']\n"
     ]
    }
   ],
   "source": [
    "x=[i for i in input('enter').split(',')]\n",
    "print(x)"
   ]
  },
  {
   "cell_type": "code",
   "execution_count": 11,
   "metadata": {},
   "outputs": [
    {
     "name": "stdout",
     "output_type": "stream",
     "text": [
      "enter34,4,5\n",
      "[34, 4, 5]\n"
     ]
    }
   ],
   "source": [
    "x=[int(i) for i in input('enter').split(',')]\n",
    "print(x)"
   ]
  },
  {
   "cell_type": "code",
   "execution_count": null,
   "metadata": {},
   "outputs": [],
   "source": [
    "from math import * # importing all math functions\n",
    "\n",
    "C,H = 50,30\n",
    "\n",
    "def calc(D):\n",
    "    return sqrt((2*C*D)/H)\n",
    "\n",
    "D = input().split(',')    # splits in comma position and set up in list\n",
    "D = [int(i) for i in D]   # converts string to integer\n",
    "D = [calc(i) for i in D]  # returns floating value by calc method for every item in D\n",
    "D = [round(i) for i in D] # All the floating values are rounded\n",
    "D = [str(i) for i in D]   # All the integers are converted to string to be able to apply join operation\n",
    "\n",
    "print(\",\".join(D))\n"
   ]
  },
  {
   "cell_type": "code",
   "execution_count": 4,
   "metadata": {},
   "outputs": [
    {
     "name": "stdout",
     "output_type": "stream",
     "text": [
      "Enter the value of d100,150,180\n",
      "[18.257418583505537, 22.360679774997898, 24.49489742783178]\n"
     ]
    }
   ],
   "source": [
    "from math import *\n",
    "C=50\n",
    "H=30\n",
    "\n",
    "#Function defination\n",
    "def calculate(number):\n",
    "    answer=pow((2*C*number/H),.5)\n",
    "    return answer\n",
    "\n",
    "D=input(\"Enter the value of d\").split(',')\n",
    "D=[int(i) for i in D]\n",
    "D=[calculate(i) for i in D]\n",
    "print(D)\n",
    "\n"
   ]
  },
  {
   "cell_type": "code",
   "execution_count": null,
   "metadata": {},
   "outputs": [],
   "source": [
    "'''Print the output in , separated form'''"
   ]
  },
  {
   "cell_type": "code",
   "execution_count": 7,
   "metadata": {},
   "outputs": [
    {
     "name": "stdout",
     "output_type": "stream",
     "text": [
      "Enter the value of d24,35\n",
      "8.94427190999916,10.801234497346433\n"
     ]
    }
   ],
   "source": [
    "from math import *\n",
    "C=50\n",
    "H=30\n",
    "\n",
    "#Function defination\n",
    "def calculate(number):\n",
    "    answer=pow((2*C*number/H),.5)\n",
    "    return answer\n",
    "\n",
    "D=input(\"Enter the value of d\").split(',')\n",
    "D=[int(i) for i in D]\n",
    "D=[calculate(i) for i in D]\n",
    "D=[str(i) for i in D]\n",
    "print(','.join(D))\n",
    "\n"
   ]
  },
  {
   "cell_type": "code",
   "execution_count": null,
   "metadata": {},
   "outputs": [],
   "source": [
    "from math import *\n",
    "C,H = 50,30\n",
    "\n",
    "def calc(D):\n",
    "    return sqrt((2*C*D)/H)\n",
    "    \n",
    "print(\",\".join([str(int(calc(int(i)))) for i in input().split(',')]))"
   ]
  },
  {
   "cell_type": "code",
   "execution_count": 10,
   "metadata": {},
   "outputs": [
    {
     "name": "stdout",
     "output_type": "stream",
     "text": [
      "150,180\n",
      "22,24\n"
     ]
    }
   ],
   "source": [
    "from math import *\n",
    "C=50\n",
    "H=30\n",
    "def calculate(D):\n",
    "    return sqrt((2*C*D)/H)\n",
    "\n",
    "print(\",\".join([str(int(calculate(int(i)))) for i in input().split(',')]))"
   ]
  },
  {
   "cell_type": "code",
   "execution_count": 16,
   "metadata": {},
   "outputs": [
    {
     "ename": "SyntaxError",
     "evalue": "invalid syntax (<ipython-input-16-071cf867ef2e>, line 1)",
     "output_type": "error",
     "traceback": [
      "\u001b[1;36m  File \u001b[1;32m\"<ipython-input-16-071cf867ef2e>\"\u001b[1;36m, line \u001b[1;32m1\u001b[0m\n\u001b[1;33m    [for i in input().split(',')]\u001b[0m\n\u001b[1;37m       ^\u001b[0m\n\u001b[1;31mSyntaxError\u001b[0m\u001b[1;31m:\u001b[0m invalid syntax\n"
     ]
    }
   ],
   "source": [
    "[]"
   ]
  },
  {
   "cell_type": "code",
   "execution_count": null,
   "metadata": {},
   "outputs": [],
   "source": []
  }
 ],
 "metadata": {
  "kernelspec": {
   "display_name": "Python 3",
   "language": "python",
   "name": "python3"
  },
  "language_info": {
   "codemirror_mode": {
    "name": "ipython",
    "version": 3
   },
   "file_extension": ".py",
   "mimetype": "text/x-python",
   "name": "python",
   "nbconvert_exporter": "python",
   "pygments_lexer": "ipython3",
   "version": "3.7.2"
  }
 },
 "nbformat": 4,
 "nbformat_minor": 2
}
