{
 "cells": [
  {
   "cell_type": "code",
   "execution_count": null,
   "metadata": {},
   "outputs": [],
   "source": [
    "'''\n",
    "Define a class which has at least two methods:\n",
    "\n",
    "getString: to get a string from console input\n",
    "printString: to print the string in upper case.\n",
    "Also please include simple test function to test the class methods.\n",
    "\n",
    "'''\n"
   ]
  },
  {
   "cell_type": "code",
   "execution_count": 3,
   "metadata": {},
   "outputs": [
    {
     "name": "stdout",
     "output_type": "stream",
     "text": [
      "Enter the stringkasjdf\n",
      "obj\n"
     ]
    }
   ],
   "source": [
    "#This is the wrong approach\n",
    "class first:\n",
    "    def __init__(self,given_string):\n",
    "        self.given_string=given_string  #simply put self.given_string=''\n",
    "    def getString(self):\n",
    "        given_string=input(\"Enter the string\")   #self.given_string should be used instead \n",
    "         \n",
    "    def printString(self):\n",
    "        print(self.given_string)\n",
    "        \n",
    "obj=first('obj')\n",
    "obj.getString()\n",
    "obj.printString()"
   ]
  },
  {
   "cell_type": "code",
   "execution_count": 5,
   "metadata": {},
   "outputs": [
    {
     "name": "stdout",
     "output_type": "stream",
     "text": [
      "Enter the stringQuibble objection\n",
      "Quibble objection\n"
     ]
    }
   ],
   "source": [
    "class first:\n",
    "    def __init__(self):\n",
    "        self.given_string=\"\"\n",
    "    def getString(self):\n",
    "        self.given_string=input(\"Enter the string\")\n",
    "        \n",
    "    def printString(self):\n",
    "        print(self.given_string)\n",
    "obj=first()\n",
    "obj.getString()\n",
    "obj.printString()"
   ]
  },
  {
   "cell_type": "code",
   "execution_count": null,
   "metadata": {},
   "outputs": [],
   "source": [
    "'''Question is to put the given string in uppercase'''"
   ]
  },
  {
   "cell_type": "code",
   "execution_count": 6,
   "metadata": {},
   "outputs": [
    {
     "name": "stdout",
     "output_type": "stream",
     "text": [
      "Enter the stringQuibble Objection\n",
      "QUIBBLE OBJECTION\n"
     ]
    }
   ],
   "source": [
    "class first:\n",
    "    def __init__(self):\n",
    "        self.given_string=\"\"\n",
    "    def getString(self):\n",
    "        self.given_string=input(\"Enter the string\")\n",
    "        \n",
    "    def printString(self):\n",
    "        print(self.given_string.upper())\n",
    "obj=first()\n",
    "obj.getString()\n",
    "obj.printString()"
   ]
  },
  {
   "cell_type": "code",
   "execution_count": 8,
   "metadata": {},
   "outputs": [
    {
     "name": "stdout",
     "output_type": "stream",
     "text": [
      "Enter the stringKanhaRawat\n",
      "kanharawat\n"
     ]
    }
   ],
   "source": [
    "#write the same program and convert the output string in lowercase\n",
    "class second(object):\n",
    "    def __init__(self):\n",
    "        self.string=''\n",
    "    def getString(self):\n",
    "        self.string=input(\"Enter the string\")\n",
    "    def printString(self):\n",
    "        print(self.string.lower())\n",
    "    \n",
    "obj=second()\n",
    "obj.getString()\n",
    "obj.printString()\n",
    "    "
   ]
  },
  {
   "cell_type": "code",
   "execution_count": null,
   "metadata": {},
   "outputs": [],
   "source": [
    "#Yeah this worked exactly the sameo"
   ]
  }
 ],
 "metadata": {
  "kernelspec": {
   "display_name": "Python 3",
   "language": "python",
   "name": "python3"
  },
  "language_info": {
   "codemirror_mode": {
    "name": "ipython",
    "version": 3
   },
   "file_extension": ".py",
   "mimetype": "text/x-python",
   "name": "python",
   "nbconvert_exporter": "python",
   "pygments_lexer": "ipython3",
   "version": "3.7.2"
  }
 },
 "nbformat": 4,
 "nbformat_minor": 2
}
