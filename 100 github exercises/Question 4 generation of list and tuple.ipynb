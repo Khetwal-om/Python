{
 "cells": [
  {
   "cell_type": "code",
   "execution_count": null,
   "metadata": {},
   "outputs": [],
   "source": [
    "# values = raw_input()\n",
    "# l = values.split(\",\")\n"
   ]
  },
  {
   "cell_type": "code",
   "execution_count": 11,
   "metadata": {},
   "outputs": [
    {
     "name": "stdout",
     "output_type": "stream",
     "text": [
      "Enter the digits1\n",
      "[1]\n",
      "********************\n",
      "(1,)\n"
     ]
    }
   ],
   "source": [
    "list_a=[]\n",
    "tuple_a=[]\n",
    "values=input(\"Enter the digits\").split(',')\n",
    "for i in values:\n",
    "    list_a.append(int(i))\n",
    "print(list_a)\n",
    "tuple_a=tuple(list_a)\n",
    "print('*'*20)\n",
    "print(tuple_a)"
   ]
  },
  {
   "cell_type": "code",
   "execution_count": 12,
   "metadata": {},
   "outputs": [
    {
     "name": "stdout",
     "output_type": "stream",
     "text": [
      "Enter the digits34,'the',345\n",
      "['34', \"'the'\", '345']\n",
      "********************\n",
      "('34', \"'the'\", '345')\n"
     ]
    }
   ],
   "source": [
    "list_a=[]\n",
    "tuple_a=[]\n",
    "values=input(\"Enter the digits\").split(',')\n",
    "for i in values:\n",
    "    list_a.append(i)\n",
    "print(list_a)\n",
    "tuple_a=tuple(list_a)\n",
    "print('*'*20)\n",
    "print(tuple_a)"
   ]
  },
  {
   "cell_type": "code",
   "execution_count": null,
   "metadata": {},
   "outputs": [],
   "source": [
    "# the input is being taken as string and as it is string it has a built in\n",
    "# method name split. ',' inside split function does split where it finds any ','\n",
    "# and save the input as list in lst variable"
   ]
  }
 ],
 "metadata": {
  "kernelspec": {
   "display_name": "Python 3",
   "language": "python",
   "name": "python3"
  },
  "language_info": {
   "codemirror_mode": {
    "name": "ipython",
    "version": 3
   },
   "file_extension": ".py",
   "mimetype": "text/x-python",
   "name": "python",
   "nbconvert_exporter": "python",
   "pygments_lexer": "ipython3",
   "version": "3.7.2"
  }
 },
 "nbformat": 4,
 "nbformat_minor": 2
}
