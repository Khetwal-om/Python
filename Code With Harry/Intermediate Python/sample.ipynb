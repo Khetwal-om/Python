{
 "cells": [
  {
   "cell_type": "code",
   "execution_count": 1,
   "metadata": {},
   "outputs": [
    {
     "name": "stdout",
     "output_type": "stream",
     "text": [
      "['$RECYCLE.BIN', 'books', 'Completed Projects', 'Devesh', 'Django', 'Django Projects', 'Drive These', 'exercise', 'GIT', 'google', 'Harry', 'HOla', 'Intel', 'invertis', 'LOTO', 'OneDrive', 'powerpoint', 'Production', 'PROFILE', 'PROYECTO', 'Python', 'REST_API', 'System Volume Information', 'Udemy', 'Web', 'Youtube']\n"
     ]
    }
   ],
   "source": [
    "import os\n",
    "print(os.listdir('/'))\n",
    "\n",
    "def display():\n",
    "    print(\"This is the display funtion from sample\")"
   ]
  },
  {
   "cell_type": "code",
   "execution_count": null,
   "metadata": {},
   "outputs": [],
   "source": []
  }
 ],
 "metadata": {
  "kernelspec": {
   "display_name": "Python 3",
   "language": "python",
   "name": "python3"
  },
  "language_info": {
   "codemirror_mode": {
    "name": "ipython",
    "version": 3
   },
   "file_extension": ".py",
   "mimetype": "text/x-python",
   "name": "python",
   "nbconvert_exporter": "python",
   "pygments_lexer": "ipython3",
   "version": "3.7.2"
  }
 },
 "nbformat": 4,
 "nbformat_minor": 2
}
