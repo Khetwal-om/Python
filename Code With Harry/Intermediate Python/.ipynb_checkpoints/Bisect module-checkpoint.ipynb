{
 "cells": [
  {
   "cell_type": "markdown",
   "metadata": {},
   "source": [
    "---"
   ]
  },
  {
   "cell_type": "markdown",
   "metadata": {},
   "source": [
    "* Imagine a situation where I want to enter number of goals in the list and I want the list to be sorted . So where exactly I should enter the new number ? Here comes the built in module bisect.\n",
    "\n",
    "* bisect module doesn't check wheter the list is sorted or not.\n",
    "* to sort the list use bisect.insort , otherwise bisect.bisect\n",
    "* implements binary search internally"
   ]
  },
  {
   "cell_type": "code",
   "execution_count": null,
   "metadata": {},
   "outputs": [],
   "source": []
  },
  {
   "cell_type": "code",
   "execution_count": 6,
   "metadata": {},
   "outputs": [
    {
     "name": "stdout",
     "output_type": "stream",
     "text": [
      "Enter goals6\n",
      "0\n",
      "[3, 6, 34, 45, 33]\n"
     ]
    }
   ],
   "source": [
    "import bisect\n",
    "\n",
    "goals=[19,25,27,35,45,67]\n",
    "\n",
    "goal=int(input(\"Enter goals\"))\n",
    "print(bisect.bisect(goals,goal))\n",
    "\n",
    "\n",
    "goalsss=[3,34,45,33]\n",
    "bisect.insort(goalsss,goal)\n",
    "print(goalsss)"
   ]
  },
  {
   "cell_type": "code",
   "execution_count": null,
   "metadata": {},
   "outputs": [],
   "source": []
  }
 ],
 "metadata": {
  "kernelspec": {
   "display_name": "Python 3",
   "language": "python",
   "name": "python3"
  },
  "language_info": {
   "codemirror_mode": {
    "name": "ipython",
    "version": 3
   },
   "file_extension": ".py",
   "mimetype": "text/x-python",
   "name": "python",
   "nbconvert_exporter": "python",
   "pygments_lexer": "ipython3",
   "version": "3.7.2"
  }
 },
 "nbformat": 4,
 "nbformat_minor": 2
}
