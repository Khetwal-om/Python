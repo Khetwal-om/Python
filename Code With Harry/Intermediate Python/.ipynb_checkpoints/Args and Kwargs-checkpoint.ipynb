{
 "cells": [
  {
   "cell_type": "markdown",
   "metadata": {},
   "source": [
    "# *args , **kwargs\n",
    "\n",
    "* We can write the former as *vars while the latter one as \n",
    "  ***   kvars\n",
    "  \n",
    "* If we have variable number of arguments we can take *args and access the elements as args[0],args[1]. \n",
    "    * The above is in the form of tuple i.e args is tuple."
   ]
  },
  {
   "cell_type": "code",
   "execution_count": null,
   "metadata": {},
   "outputs": [],
   "source": []
  },
  {
   "cell_type": "code",
   "execution_count": 1,
   "metadata": {},
   "outputs": [
    {
     "name": "stdout",
     "output_type": "stream",
     "text": [
      "name : vivi\n",
      "age  : 12\n",
      "hobby: tennis\n"
     ]
    }
   ],
   "source": [
    "def display(name,age,hobby):\n",
    "    print('name :',name)\n",
    "    print('age  :',age)\n",
    "    print('hobby:',hobby)\n",
    "    \n",
    "display('vivi',12,'tennis')"
   ]
  },
  {
   "cell_type": "code",
   "execution_count": 3,
   "metadata": {},
   "outputs": [
    {
     "name": "stdout",
     "output_type": "stream",
     "text": [
      "this is the type of args <class 'tuple'>\n",
      "name : vivi\n",
      "age  : 12\n",
      "hobby: tennis\n"
     ]
    }
   ],
   "source": [
    "def display(*args):\n",
    "    print('this is the type of args',type(args))\n",
    "    print('name :',args[0])\n",
    "    print('age  :',args[1])\n",
    "    print('hobby:',args[2])\n",
    "    \n",
    "display('vivi',12,'tennis')"
   ]
  },
  {
   "cell_type": "code",
   "execution_count": 6,
   "metadata": {},
   "outputs": [
    {
     "name": "stdout",
     "output_type": "stream",
     "text": [
      "name : viv\n",
      "age  : 12\n"
     ]
    }
   ],
   "source": [
    "def display(*args):\n",
    "    if len(args)==2:\n",
    "        print('name :',args[0])\n",
    "        print('age  :',args[1])\n",
    "    else:\n",
    "        print('name :',args[0])\n",
    "        print('age  :',args[1])\n",
    "        print('hobby:',args[2])\n",
    "    \n",
    "display('viv',12)"
   ]
  },
  {
   "cell_type": "markdown",
   "metadata": {},
   "source": [
    "**If we call the above function as display(2,'football') , the answer is trivial , the order isn't supposed to be that way**\n",
    "\n",
    "\n",
    "* kwargs is used for key,value pairs"
   ]
  },
  {
   "cell_type": "code",
   "execution_count": null,
   "metadata": {},
   "outputs": [],
   "source": []
  },
  {
   "cell_type": "code",
   "execution_count": null,
   "metadata": {},
   "outputs": [],
   "source": []
  },
  {
   "cell_type": "code",
   "execution_count": 3,
   "metadata": {},
   "outputs": [
    {
     "name": "stdout",
     "output_type": "stream",
     "text": [
      "the type of kwargs <class 'dict'>\n",
      "eden ---------- 34\n",
      "neymar ---------- 25\n",
      "leo ---------- 45\n",
      "cristiano ---------- 50\n"
     ]
    }
   ],
   "source": [
    "goals={'eden':34,'neymar':25,'leo':45,'cristiano':50}\n",
    "\n",
    "def display(**kwargs):\n",
    "    print('the type of kwargs',type(kwargs))\n",
    "    for key,value in kwargs.items():\n",
    "        print(key,'----------',value)\n",
    "        \n",
    "display(**goals)"
   ]
  },
  {
   "cell_type": "code",
   "execution_count": null,
   "metadata": {},
   "outputs": [],
   "source": [
    "\n",
    "\n"
   ]
  },
  {
   "cell_type": "code",
   "execution_count": null,
   "metadata": {},
   "outputs": [],
   "source": []
  },
  {
   "cell_type": "code",
   "execution_count": 6,
   "metadata": {},
   "outputs": [
    {
     "name": "stdout",
     "output_type": "stream",
     "text": [
      "normal\n",
      "(1, 2, 3, 4, 5)\n",
      "{'eden': 34, 'neymar': 25, 'leo': 45, 'cristiano': 50}\n",
      "1\n",
      "2\n",
      "3\n",
      "4\n",
      "5\n",
      "eden ------- 34\n",
      "neymar ------- 25\n",
      "leo ------- 45\n",
      "cristiano ------- 50\n"
     ]
    }
   ],
   "source": [
    "def master(normal,*args,**kwargs):\n",
    "    print(normal)\n",
    "    print(args)\n",
    "    print(kwargs)\n",
    "    \n",
    "    \n",
    "    for arg in args:\n",
    "        print(arg)\n",
    "        \n",
    "\n",
    "    for key,value in kwargs.items():\n",
    "        print(key,'-------',value)\n",
    "        \n",
    "fouls=[1,2,3,4,5]\n",
    "goals={'eden':34,'neymar':25,'leo':45,'cristiano':50}\n",
    "\n",
    "master('normal',*fouls,**goals)\n",
    "        "
   ]
  },
  {
   "cell_type": "code",
   "execution_count": null,
   "metadata": {},
   "outputs": [],
   "source": []
  },
  {
   "cell_type": "code",
   "execution_count": null,
   "metadata": {},
   "outputs": [],
   "source": []
  }
 ],
 "metadata": {
  "kernelspec": {
   "display_name": "Python 3",
   "language": "python",
   "name": "python3"
  },
  "language_info": {
   "codemirror_mode": {
    "name": "ipython",
    "version": 3
   },
   "file_extension": ".py",
   "mimetype": "text/x-python",
   "name": "python",
   "nbconvert_exporter": "python",
   "pygments_lexer": "ipython3",
   "version": "3.7.2"
  }
 },
 "nbformat": 4,
 "nbformat_minor": 2
}
