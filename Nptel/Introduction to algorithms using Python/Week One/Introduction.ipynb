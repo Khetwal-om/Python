{
 "cells": [
  {
   "cell_type": "markdown",
   "metadata": {},
   "source": [
    "## Algorithms ,programing\n",
    "\n",
    "* Algorithm : how to systematically perform a task\n",
    "\n",
    "\n",
    "* Algorithm that manipulate information\n",
    "   \n",
    "   * Compute numerical functions.\n",
    "   * Reorganize data - arrange in ascending order\n",
    "   * Optimization - find the shortest route\n",
    "   * And More....\n",
    "      * Solve Sudoku,play chess\n",
    "      \n",
    "---\n",
    "\n",
    "\n",
    "#### Greatest common divisor\n",
    "\n",
    "---\n",
    "\n",
    "* gcd(m,n)\n",
    "    * Largest k such that k divides m and n.\n",
    "    * gcd(8,12)=4\n",
    "  \n",
    "* 1 divides every number\n",
    "* At least one common divisor for every m,n\n",
    "    \n",
    "---    \n",
    "\n",
    "\n",
    "#### Computing gcd(m,n)\n",
    "\n",
    "---\n",
    "\n",
    "* List out factors of m\n",
    "* List out factors of n\n",
    "* Report the largest number that appears on both lists\n",
    "* Is this a valid algorithm?\n",
    "  * Finite presentation of the 'recipe'\n",
    "  * Terminates after a finite number of steps\n",
    "* Factors of m must be between 1 and m\n",
    "  * Test each number in this range\n",
    "  * If it divides m without a remainder, add it to list of factors\n",
    "\n",
    "* Return largest factor in the list.\n",
    "\n",
    "---\n",
    "\n",
    "\n",
    "### An algorithm for gcd(m,n)\n",
    "\n",
    "---\n",
    "\n",
    "* Use fm,fn for list of factors m,n respectively\n",
    "* For each i from 1 to m,add i to fm if i divides m\n",
    "* For each k from 1 to n,add k to fn if k divides m\n",
    "* use cf for list of common factors\n",
    "* for each f in fm, add f to cf if f also appears in fn\n",
    "* Return largest valuf of cf.\n",
    "\n",
    "---\n",
    "\n",
    "\n"
   ]
  },
  {
   "cell_type": "code",
   "execution_count": 1,
   "metadata": {},
   "outputs": [
    {
     "name": "stdout",
     "output_type": "stream",
     "text": [
      "1 2 3 4 5\n",
      "6 7 8\n",
      "[1, 2, 3, 4, 5]\n",
      "[6, 7, 8]\n",
      "Enter the value of m12\n",
      "Enter the value of n16\n",
      "4\n"
     ]
    }
   ],
   "source": [
    "def gcd(m,n):\n",
    "    fm=[]\n",
    "    fn=[]\n",
    "    cf=[]\n",
    "    for i in range(1,m+1):\n",
    "        if m%i==0:\n",
    "            fm.append(i)\n",
    "            \n",
    "    \n",
    "    for i in range(1,n+1):\n",
    "        if n%i==0:\n",
    "            fn.append(i)\n",
    "        \n",
    "    for k in fm:\n",
    "        if k in fn:\n",
    "            cf.append(k)\n",
    "    return max(cf)\n",
    "            \n",
    "'''    \n",
    "goals=list(map(int,input().split()))\n",
    "fouls=list(map(int,input().split()))\n",
    "\n",
    "x = [int(i) for i in input().split()]\n",
    "'''\n",
    "\n",
    "first=[int(i) for i in input().split()]\n",
    "second=[int(k) for k in input().split()]\n",
    "print(first)\n",
    "print(second)\n",
    "m=int(input(\"Enter the value of m\"))\n",
    "n=int(input(\"Enter the value of n\"))\n",
    "solution=gcd(m,n)\n",
    "print(solution)"
   ]
  },
  {
   "cell_type": "markdown",
   "metadata": {},
   "source": []
  },
  {
   "cell_type": "code",
   "execution_count": null,
   "metadata": {},
   "outputs": [],
   "source": []
  },
  {
   "cell_type": "markdown",
   "metadata": {},
   "source": [
    "# Introduction 2\n",
    "\n",
    "* Can we do better?"
   ]
  },
  {
   "cell_type": "code",
   "execution_count": 1,
   "metadata": {},
   "outputs": [
    {
     "name": "stdout",
     "output_type": "stream",
     "text": [
      "Enter the value of m4\n",
      "Enter the value of n7\n",
      "1\n"
     ]
    }
   ],
   "source": [
    "def gcd(m,n):\n",
    "    cf=[]\n",
    "    for i in range(1,min(m,n)+1):\n",
    "        if m%i==0 and n%i==0:\n",
    "            cf.append(i)\n",
    "            \n",
    "    return cf[-1]\n",
    "\n",
    "m=int(input(\"Enter the value of m\"))\n",
    "n=int(input(\"Enter the value of n\"))\n",
    "print(gcd(m,n))"
   ]
  },
  {
   "cell_type": "markdown",
   "metadata": {},
   "source": [
    "# Do we need list?\n",
    "\n",
    "* mrcf - most common recent factor"
   ]
  },
  {
   "cell_type": "code",
   "execution_count": 2,
   "metadata": {},
   "outputs": [
    {
     "name": "stdout",
     "output_type": "stream",
     "text": [
      "Enter the value of m56\n",
      "Enter the value of n78\n",
      "2\n"
     ]
    }
   ],
   "source": [
    "def gcd(m,n):\n",
    "    for i in range(1,min(m,n)+1):\n",
    "        if m%i==0 and n%i==0:\n",
    "            mrcf=i\n",
    "            \n",
    "    return mrcf\n",
    "\n",
    "m=int(input(\"Enter the value of m\"))\n",
    "n=int(input(\"Enter the value of n\"))\n",
    "print(gcd(m,n))"
   ]
  },
  {
   "cell_type": "markdown",
   "metadata": {},
   "source": [
    "# Scan backwards?"
   ]
  },
  {
   "cell_type": "code",
   "execution_count": 8,
   "metadata": {},
   "outputs": [
    {
     "name": "stdout",
     "output_type": "stream",
     "text": [
      "Enter the value of m12\n",
      "Enter the value of n89\n",
      "1\n"
     ]
    }
   ],
   "source": [
    "def gcd(m,n):\n",
    "    mrcf=1\n",
    "    for i in range(min(m,n),1,-1):\n",
    "        if m%i==0 and n%i==0:\n",
    "            mrcf=i\n",
    "            \n",
    "    return mrcf\n",
    "\n",
    "m=int(input(\"Enter the value of m\"))\n",
    "n=int(input(\"Enter the value of n\"))\n",
    "print(gcd(m,n))"
   ]
  },
  {
   "cell_type": "code",
   "execution_count": 9,
   "metadata": {},
   "outputs": [
    {
     "name": "stdout",
     "output_type": "stream",
     "text": [
      "Enter first number34\n",
      "Enter second one87\n",
      "1\n"
     ]
    }
   ],
   "source": [
    "def gcd(m,n):\n",
    "    i=min(m,n)\n",
    "    while i>0:\n",
    "        if (m%i==0) and (n%i==0):\n",
    "            return i\n",
    "        else:\n",
    "            i=i-1\n",
    "            \n",
    "m=int(input(\"Enter first number\"))\n",
    "n=int(input(\"Enter second one\"))\n",
    "print(gcd(m,n))"
   ]
  },
  {
   "cell_type": "markdown",
   "metadata": {},
   "source": [
    "# Introduction 3"
   ]
  },
  {
   "cell_type": "markdown",
   "metadata": {},
   "source": [
    "* Euclid's algorithms\n",
    "  * suppose d divides both m and n , and m>n\n",
    "  * then m=ad,n=bd.\n",
    "  * so m-n=ad-bd=(a-b)d.\n",
    "  * d divides m-n as well.\n",
    "  * gcd(m,n)=gcd(n,m-n)\n",
    "  \n",
    "     * Consider gcd(m,n)  with m>n\n",
    "     * if n divides m,return n\n",
    "     * otherwise,computer gcd(n,m-n) and return that value.\n",
    "     "
   ]
  },
  {
   "cell_type": "code",
   "execution_count": 10,
   "metadata": {},
   "outputs": [
    {
     "name": "stdout",
     "output_type": "stream",
     "text": [
      "Enter the value of m 45\n",
      "Enter the value of n89\n",
      "1\n"
     ]
    }
   ],
   "source": [
    "def gcd(m,n):\n",
    "    if n>m:\n",
    "        m,n=n,m\n",
    "    if m%n==0:\n",
    "        return n\n",
    "    else:\n",
    "        diff=m-n\n",
    "        return gcd(max(n,diff),min(n,diff))\n",
    "m=int(input(\"Enter the value of m \"))\n",
    "n=int(input(\"Enter the value of n\"))\n",
    "print(gcd(m,n))"
   ]
  },
  {
   "cell_type": "code",
   "execution_count": 11,
   "metadata": {},
   "outputs": [
    {
     "name": "stdout",
     "output_type": "stream",
     "text": [
      "Enter the value of m 3\n",
      "Enter the value of n9\n",
      "3\n"
     ]
    }
   ],
   "source": [
    "def gcd(m,n):\n",
    "    if m<n:\n",
    "        m,n=n,m\n",
    "    while (m%n)!=0:\n",
    "        diff=m-n\n",
    "        m,n=(max(n,diff),min(n,diff))\n",
    "    return n\n",
    "\n",
    "m=int(input(\"Enter the value of m \"))\n",
    "n=int(input(\"Enter the value of n\"))\n",
    "print(gcd(m,n))\n",
    "\n"
   ]
  },
  {
   "cell_type": "markdown",
   "metadata": {},
   "source": [
    "# Even better"
   ]
  },
  {
   "cell_type": "code",
   "execution_count": 4,
   "metadata": {},
   "outputs": [
    {
     "name": "stdout",
     "output_type": "stream",
     "text": [
      "Enter the value of m 15\n",
      "Enter the value of n10\n",
      "5\n"
     ]
    }
   ],
   "source": [
    "def gcd(m,n):\n",
    "    if m<n:\n",
    "        m,n=n,m\n",
    "    if m%n==0:\n",
    "        return n\n",
    "    else:\n",
    "        return gcd(n,m%n)\n",
    "    \n",
    "\n",
    "m=int(input(\"Enter the value of m \"))\n",
    "n=int(input(\"Enter the value of n\"))\n",
    "print(gcd(m,n))\n"
   ]
  },
  {
   "cell_type": "code",
   "execution_count": 1,
   "metadata": {},
   "outputs": [
    {
     "name": "stdout",
     "output_type": "stream",
     "text": [
      "Enter the value of m87\n",
      "Enter the value of n3\n",
      "3\n"
     ]
    }
   ],
   "source": [
    "def gcd(m,n):\n",
    "    if m<n:\n",
    "        m,n=n,m\n",
    "    while (m%n)!=0:\n",
    "        m,n=n,m%n\n",
    "        \n",
    "    return n\n",
    "\n",
    "m=int(input(\"Enter the value of m\"))\n",
    "n=int(input(\"Enter the value of n\"))\n",
    "print(gcd(m,n))"
   ]
  },
  {
   "cell_type": "code",
   "execution_count": null,
   "metadata": {},
   "outputs": [],
   "source": []
  },
  {
   "cell_type": "markdown",
   "metadata": {},
   "source": [
    "# Quiz"
   ]
  },
  {
   "cell_type": "code",
   "execution_count": 3,
   "metadata": {},
   "outputs": [
    {
     "name": "stdout",
     "output_type": "stream",
     "text": [
      "12\n"
     ]
    }
   ],
   "source": [
    "def h(x):\n",
    "    (m,a) = (1,0)\n",
    "    while m <= x:\n",
    "        (m,a) = (m*2,a+1)\n",
    "    return(a)\n",
    "print(h(3231))"
   ]
  },
  {
   "cell_type": "code",
   "execution_count": 4,
   "metadata": {},
   "outputs": [
    {
     "name": "stdout",
     "output_type": "stream",
     "text": [
      "12\n"
     ]
    }
   ],
   "source": [
    "count=0\n",
    "m=1\n",
    "while m<=3231:\n",
    "    m=m*2\n",
    "    count+=1\n",
    "print(count)"
   ]
  },
  {
   "cell_type": "code",
   "execution_count": 10,
   "metadata": {},
   "outputs": [
    {
     "name": "stdout",
     "output_type": "stream",
     "text": [
      "6\n"
     ]
    }
   ],
   "source": [
    "def g(n): \n",
    "    s=0\n",
    "    for i in range(1,n+1):\n",
    "        if n%i == 0:\n",
    "            s = s+1\n",
    "    return(s)\n",
    "\n",
    "answer=g(24)-g(23)\n",
    "print(answer)"
   ]
  },
  {
   "cell_type": "code",
   "execution_count": 9,
   "metadata": {},
   "outputs": [
    {
     "name": "stdout",
     "output_type": "stream",
     "text": [
      "1\n",
      "2\n",
      "3\n",
      "4\n"
     ]
    }
   ],
   "source": [
    "for i in range(1,5):\n",
    "    print(i)"
   ]
  },
  {
   "cell_type": "code",
   "execution_count": 13,
   "metadata": {},
   "outputs": [
    {
     "name": "stdout",
     "output_type": "stream",
     "text": [
      "Enter the no.103\n",
      "False\n"
     ]
    }
   ],
   "source": [
    "def f(n): \n",
    "    s=0\n",
    "    for i in range(1,n+1):\n",
    "        if n%i == 0:\n",
    "            s = s+1\n",
    "    return(s%2 == 1)\n",
    "\n",
    "n=int(input(\"Enter the no.\"))\n",
    "print(f(n))"
   ]
  },
  {
   "cell_type": "code",
   "execution_count": 18,
   "metadata": {},
   "outputs": [
    {
     "name": "stdout",
     "output_type": "stream",
     "text": [
      "Enter the value of m4\n",
      "10\n"
     ]
    }
   ],
   "source": [
    "def f(m):\n",
    "    if m == 0:\n",
    "        return(0)\n",
    "    else:\n",
    "        return(m+f(m-1))\n",
    "m=int(input(\"Enter the value of m\"))\n",
    "answer=f(m)\n",
    "print(answer)"
   ]
  },
  {
   "cell_type": "code",
   "execution_count": null,
   "metadata": {},
   "outputs": [],
   "source": []
  }
 ],
 "metadata": {
  "kernelspec": {
   "display_name": "Python 3",
   "language": "python",
   "name": "python3"
  },
  "language_info": {
   "codemirror_mode": {
    "name": "ipython",
    "version": 3
   },
   "file_extension": ".py",
   "mimetype": "text/x-python",
   "name": "python",
   "nbconvert_exporter": "python",
   "pygments_lexer": "ipython3",
   "version": "3.7.2"
  }
 },
 "nbformat": 4,
 "nbformat_minor": 2
}
