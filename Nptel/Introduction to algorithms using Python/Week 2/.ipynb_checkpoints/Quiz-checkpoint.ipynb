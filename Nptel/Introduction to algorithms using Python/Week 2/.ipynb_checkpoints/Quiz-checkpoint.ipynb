{
 "cells": [
  {
   "cell_type": "code",
   "execution_count": null,
   "metadata": {},
   "outputs": [],
   "source": [
    "'''\n",
    "  x = [1,\"abcd\",2,\"efgh\",[3,4]]  # Statement 1\n",
    "  y = x[0:50]                    # Statement 2\n",
    "  z = y                          # Statement 3\n",
    "  w = x                          # Statement 4\n",
    "  x[1] = x[1] + 'd'              # Statement 5\n",
    "  y[2] = 4                       # Statement 6\n",
    "  x[1][1] = 'y'                  # Statement 7\n",
    "  z[0] = 0                       # Statement 8\n",
    "  w[4][0] = 1000                 # Statement 9\n",
    "  a = (x[4][1] == 4)             # Statement 10\n",
    "\n",
    "'''"
   ]
  },
  {
   "cell_type": "code",
   "execution_count": 4,
   "metadata": {},
   "outputs": [
    {
     "data": {
      "text/plain": [
       "[1, 'abcd', 2, 'efgh', [3, 4]]"
      ]
     },
     "execution_count": 4,
     "metadata": {},
     "output_type": "execute_result"
    }
   ],
   "source": [
    "x=[1,'abcd',2,'efgh',[3,4]]\n",
    "y=x[0:50]\n",
    "y"
   ]
  },
  {
   "cell_type": "code",
   "execution_count": 5,
   "metadata": {},
   "outputs": [
    {
     "data": {
      "text/plain": [
       "[1, 'abcd', 2, 'efgh', [3, 4]]"
      ]
     },
     "execution_count": 5,
     "metadata": {},
     "output_type": "execute_result"
    }
   ],
   "source": [
    "z=y\n",
    "z"
   ]
  },
  {
   "cell_type": "code",
   "execution_count": 6,
   "metadata": {},
   "outputs": [
    {
     "data": {
      "text/plain": [
       "[1, 'abcd', 2, 'efgh', [3, 4]]"
      ]
     },
     "execution_count": 6,
     "metadata": {},
     "output_type": "execute_result"
    }
   ],
   "source": [
    "w=x\n",
    "x"
   ]
  },
  {
   "cell_type": "code",
   "execution_count": 7,
   "metadata": {},
   "outputs": [
    {
     "data": {
      "text/plain": [
       "[1, 'abcdd', 2, 'efgh', [3, 4]]"
      ]
     },
     "execution_count": 7,
     "metadata": {},
     "output_type": "execute_result"
    }
   ],
   "source": [
    "x[1]=x[1]+'d'\n",
    "x"
   ]
  },
  {
   "cell_type": "code",
   "execution_count": 8,
   "metadata": {},
   "outputs": [
    {
     "data": {
      "text/plain": [
       "[1, 'abcd', 4, 'efgh', [3, 4]]"
      ]
     },
     "execution_count": 8,
     "metadata": {},
     "output_type": "execute_result"
    }
   ],
   "source": [
    "y[2]=4\n",
    "y"
   ]
  },
  {
   "cell_type": "code",
   "execution_count": 10,
   "metadata": {},
   "outputs": [
    {
     "name": "stdout",
     "output_type": "stream",
     "text": [
      "b\n"
     ]
    },
    {
     "ename": "TypeError",
     "evalue": "'str' object does not support item assignment",
     "output_type": "error",
     "traceback": [
      "\u001b[1;31m---------------------------------------------------------------------------\u001b[0m",
      "\u001b[1;31mTypeError\u001b[0m                                 Traceback (most recent call last)",
      "\u001b[1;32m<ipython-input-10-c70e986e0a33>\u001b[0m in \u001b[0;36m<module>\u001b[1;34m\u001b[0m\n\u001b[0;32m      1\u001b[0m \u001b[0mprint\u001b[0m\u001b[1;33m(\u001b[0m\u001b[0mx\u001b[0m\u001b[1;33m[\u001b[0m\u001b[1;36m1\u001b[0m\u001b[1;33m]\u001b[0m\u001b[1;33m[\u001b[0m\u001b[1;36m1\u001b[0m\u001b[1;33m]\u001b[0m\u001b[1;33m)\u001b[0m\u001b[1;33m\u001b[0m\u001b[1;33m\u001b[0m\u001b[0m\n\u001b[1;32m----> 2\u001b[1;33m \u001b[0mx\u001b[0m\u001b[1;33m[\u001b[0m\u001b[1;36m1\u001b[0m\u001b[1;33m]\u001b[0m\u001b[1;33m[\u001b[0m\u001b[1;36m1\u001b[0m\u001b[1;33m]\u001b[0m\u001b[1;33m=\u001b[0m\u001b[1;34m'y'\u001b[0m\u001b[1;33m\u001b[0m\u001b[1;33m\u001b[0m\u001b[0m\n\u001b[0m",
      "\u001b[1;31mTypeError\u001b[0m: 'str' object does not support item assignment"
     ]
    }
   ],
   "source": [
    "print(x[1][1])\n",
    "x[1][1]='y'\n"
   ]
  },
  {
   "cell_type": "code",
   "execution_count": 12,
   "metadata": {},
   "outputs": [
    {
     "data": {
      "text/plain": [
       "[0, 'abcd', 4, 'efgh', [3, 4]]"
      ]
     },
     "execution_count": 12,
     "metadata": {},
     "output_type": "execute_result"
    }
   ],
   "source": [
    "z[0]=0\n",
    "z"
   ]
  },
  {
   "cell_type": "code",
   "execution_count": 14,
   "metadata": {},
   "outputs": [
    {
     "data": {
      "text/plain": [
       "[1, 'abcdd', 2, 'efgh', [1000, 4]]"
      ]
     },
     "execution_count": 14,
     "metadata": {},
     "output_type": "execute_result"
    }
   ],
   "source": [
    "w[4][0]=1000\n",
    "w"
   ]
  },
  {
   "cell_type": "code",
   "execution_count": 15,
   "metadata": {},
   "outputs": [
    {
     "data": {
      "text/plain": [
       "True"
      ]
     },
     "execution_count": 15,
     "metadata": {},
     "output_type": "execute_result"
    }
   ],
   "source": [
    "a=(x[4][1]==4)\n",
    "a"
   ]
  },
  {
   "cell_type": "code",
   "execution_count": 27,
   "metadata": {},
   "outputs": [
    {
     "name": "stdout",
     "output_type": "stream",
     "text": [
      "7\n"
     ]
    }
   ],
   "source": [
    "\n",
    "def intreverse(n):\n",
    "    reamainder=0\n",
    "    reverse=0\n",
    "    while n!=0:\n",
    "        remainder=n%10\n",
    "        reverse=reverse*10+remainder\n",
    "        n=n//10\n",
    "        \n",
    "\n",
    "    return reverse\n",
    "    \n",
    "\n",
    "    \n",
    "    \n",
    "def sumprimes(l):\n",
    "    sum=0\n",
    "    for i in l:\n",
    "        if factors(i)==[1,i]:\n",
    "            sum+=i\n",
    "    return sum\n",
    "        \n",
    "        \n",
    "def factors(n):\n",
    "    factorme=[]\n",
    "    for i in range(1,n+1):\n",
    "        if n%i==0:\n",
    "            factorme.append(i)\n",
    "    return factorme\n",
    "            \n",
    "print(sumprimes([5,2]))"
   ]
  },
  {
   "cell_type": "code",
   "execution_count": null,
   "metadata": {},
   "outputs": [],
   "source": [
    "\n",
    "\n",
    "def matched(s):\n",
    "    "
   ]
  },
  {
   "cell_type": "code",
   "execution_count": 32,
   "metadata": {},
   "outputs": [
    {
     "name": "stdout",
     "output_type": "stream",
     "text": [
      "[13, 40, 17, 1000]\n",
      "[4, 17, 1000]\n",
      "[50, 17, 1000]\n",
      "[13, 40, 17, 1000]\n",
      "[50, 17, 1000]\n",
      "[13, 40, 17, 1000]\n",
      "kjsdf 40\n",
      "40\n",
      "4\n"
     ]
    }
   ],
   "source": [
    "x = [13,4,17,1000]\n",
    "w = x[1:]\n",
    "u = x[1:]\n",
    "y = x\n",
    "u[0] = 50\n",
    "y[1] = 40\n",
    "\n",
    "print(x)\n",
    "print(w)\n",
    "print(u)\n",
    "print(y)\n",
    "print(u)\n",
    "print(y)\n",
    "print('kjsdf',x[1])\n",
    "print(y[1])\n",
    "print(w[0])"
   ]
  },
  {
   "cell_type": "code",
   "execution_count": 36,
   "metadata": {},
   "outputs": [
    {
     "name": "stdout",
     "output_type": "stream",
     "text": [
      "h -- \n",
      "h\n",
      "e -- h\n",
      "eh\n",
      "l -- eh\n",
      "leh\n",
      "l -- leh\n",
      "lleh\n",
      "o -- lleh\n",
      "olleh\n",
      "olleh\n"
     ]
    }
   ],
   "source": [
    "startmsg = \"hello\"\n",
    "endmsg = \"\"\n",
    "for i in range(0,len(startmsg)):\n",
    "    print(startmsg[i],'--',endmsg)\n",
    "    endmsg = startmsg[i] + endmsg\n",
    "    print(endmsg)\n",
    "    \n",
    "    \n",
    "    \n",
    "print(endmsg)"
   ]
  },
  {
   "cell_type": "code",
   "execution_count": 37,
   "metadata": {},
   "outputs": [
    {
     "data": {
      "text/plain": [
       "()"
      ]
     },
     "execution_count": 37,
     "metadata": {},
     "output_type": "execute_result"
    }
   ],
   "source": [
    "def mystery(l):\n",
    "    l = l + l\n",
    "    return()\n",
    "\n",
    "mylist = [22,34,57]\n",
    "mystery(mylist)"
   ]
  },
  {
   "cell_type": "code",
   "execution_count": null,
   "metadata": {},
   "outputs": [],
   "source": []
  }
 ],
 "metadata": {
  "kernelspec": {
   "display_name": "Python 3",
   "language": "python",
   "name": "python3"
  },
  "language_info": {
   "codemirror_mode": {
    "name": "ipython",
    "version": 3
   },
   "file_extension": ".py",
   "mimetype": "text/x-python",
   "name": "python",
   "nbconvert_exporter": "python",
   "pygments_lexer": "ipython3",
   "version": "3.7.2"
  }
 },
 "nbformat": 4,
 "nbformat_minor": 2
}
