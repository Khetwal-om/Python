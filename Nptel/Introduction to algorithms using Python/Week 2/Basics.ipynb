{
 "cells": [
  {
   "cell_type": "code",
   "execution_count": 1,
   "metadata": {},
   "outputs": [
    {
     "name": "stdout",
     "output_type": "stream",
     "text": [
      "jupyter\n"
     ]
    }
   ],
   "source": [
    "s='jupyter'\n",
    "print(s)"
   ]
  },
  {
   "cell_type": "code",
   "execution_count": 5,
   "metadata": {},
   "outputs": [
    {
     "name": "stdout",
     "output_type": "stream",
     "text": [
      "Hitch's\n"
     ]
    }
   ],
   "source": [
    "t=\"Hitch's\"\n",
    "print(t)"
   ]
  },
  {
   "cell_type": "code",
   "execution_count": 9,
   "metadata": {},
   "outputs": [
    {
     "data": {
      "text/plain": [
       "'\"Twitchhh\\'s \"'"
      ]
     },
     "execution_count": 9,
     "metadata": {},
     "output_type": "execute_result"
    }
   ],
   "source": [
    "i='''\"Twitchhh's \"'''\n",
    "i"
   ]
  },
  {
   "cell_type": "code",
   "execution_count": 5,
   "metadata": {},
   "outputs": [
    {
     "data": {
      "text/plain": [
       "'first\\nsecond\\nthird'"
      ]
     },
     "execution_count": 5,
     "metadata": {},
     "output_type": "execute_result"
    }
   ],
   "source": [
    "myquote='''first\n",
    "second\n",
    "third'''\n",
    "myquote\n"
   ]
  },
  {
   "cell_type": "code",
   "execution_count": 12,
   "metadata": {},
   "outputs": [
    {
     "name": "stdout",
     "output_type": "stream",
     "text": [
      "hellohola\n",
      "------------\n",
      "hello hola\n"
     ]
    }
   ],
   "source": [
    "a='hello'\n",
    "b='hola'\n",
    "print(a+b)\n",
    "print('-'*12)\n",
    "print(a,b)"
   ]
  },
  {
   "cell_type": "code",
   "execution_count": 13,
   "metadata": {},
   "outputs": [
    {
     "data": {
      "text/plain": [
       "('hi', 'hii')"
      ]
     },
     "execution_count": 13,
     "metadata": {},
     "output_type": "execute_result"
    }
   ],
   "source": [
    "a='hi'\n",
    "b='hii'\n",
    "a,b"
   ]
  },
  {
   "cell_type": "markdown",
   "metadata": {},
   "source": [
    "### Extracting substrings \n",
    "\n",
    "> A slice is a 'segment' of a string\n",
    "\n",
    "  * s='hello'\n",
    "  * s[1:4] is 'ell'"
   ]
  },
  {
   "cell_type": "code",
   "execution_count": 14,
   "metadata": {},
   "outputs": [
    {
     "data": {
      "text/plain": [
       "'ell'"
      ]
     },
     "execution_count": 14,
     "metadata": {},
     "output_type": "execute_result"
    }
   ],
   "source": [
    "s='hello'\n",
    "s[1:4]"
   ]
  },
  {
   "cell_type": "code",
   "execution_count": 15,
   "metadata": {},
   "outputs": [
    {
     "name": "stdout",
     "output_type": "stream",
     "text": [
      "11\n"
     ]
    }
   ],
   "source": [
    "a='viviviviviv'\n",
    "print(len(a))"
   ]
  },
  {
   "cell_type": "code",
   "execution_count": 16,
   "metadata": {},
   "outputs": [
    {
     "data": {
      "text/plain": [
       "''"
      ]
     },
     "execution_count": 16,
     "metadata": {},
     "output_type": "execute_result"
    }
   ],
   "source": [
    "a[3:1]"
   ]
  },
  {
   "cell_type": "code",
   "execution_count": 17,
   "metadata": {},
   "outputs": [
    {
     "data": {
      "text/plain": [
       "'hello'"
      ]
     },
     "execution_count": 17,
     "metadata": {},
     "output_type": "execute_result"
    }
   ],
   "source": [
    "s[0:8]"
   ]
  },
  {
   "cell_type": "code",
   "execution_count": 19,
   "metadata": {},
   "outputs": [
    {
     "name": "stdout",
     "output_type": "stream",
     "text": [
      "2\n",
      "12 43 5\n"
     ]
    },
    {
     "ename": "ValueError",
     "evalue": "invalid literal for int() with base 10: '12 43 5'",
     "output_type": "error",
     "traceback": [
      "\u001b[1;31m---------------------------------------------------------------------------\u001b[0m",
      "\u001b[1;31mValueError\u001b[0m                                Traceback (most recent call last)",
      "\u001b[1;32m<ipython-input-19-361eee8acc54>\u001b[0m in \u001b[0;36m<module>\u001b[1;34m\u001b[0m\n\u001b[0;32m      2\u001b[0m \u001b[1;32mfor\u001b[0m \u001b[0mi\u001b[0m \u001b[1;32min\u001b[0m \u001b[0mrange\u001b[0m\u001b[1;33m(\u001b[0m\u001b[0mt\u001b[0m\u001b[1;33m)\u001b[0m\u001b[1;33m:\u001b[0m\u001b[1;33m\u001b[0m\u001b[1;33m\u001b[0m\u001b[0m\n\u001b[0;32m      3\u001b[0m     \u001b[0mc\u001b[0m\u001b[1;33m=\u001b[0m\u001b[1;33m[\u001b[0m\u001b[1;33m]\u001b[0m\u001b[1;33m\u001b[0m\u001b[1;33m\u001b[0m\u001b[0m\n\u001b[1;32m----> 4\u001b[1;33m     \u001b[0mn\u001b[0m\u001b[1;33m=\u001b[0m\u001b[0mint\u001b[0m\u001b[1;33m(\u001b[0m\u001b[0minput\u001b[0m\u001b[1;33m(\u001b[0m\u001b[1;33m)\u001b[0m\u001b[1;33m)\u001b[0m\u001b[1;33m\u001b[0m\u001b[1;33m\u001b[0m\u001b[0m\n\u001b[0m\u001b[0;32m      5\u001b[0m     \u001b[0ma\u001b[0m\u001b[1;33m=\u001b[0m\u001b[0mlist\u001b[0m\u001b[1;33m(\u001b[0m\u001b[0mmap\u001b[0m\u001b[1;33m(\u001b[0m\u001b[0mint\u001b[0m\u001b[1;33m,\u001b[0m\u001b[0minput\u001b[0m\u001b[1;33m(\u001b[0m\u001b[1;33m)\u001b[0m\u001b[1;33m.\u001b[0m\u001b[0msplit\u001b[0m\u001b[1;33m(\u001b[0m\u001b[1;33m)\u001b[0m\u001b[1;33m)\u001b[0m\u001b[1;33m)\u001b[0m\u001b[1;33m\u001b[0m\u001b[1;33m\u001b[0m\u001b[0m\n\u001b[0;32m      6\u001b[0m     \u001b[0mb\u001b[0m\u001b[1;33m=\u001b[0m\u001b[0mlist\u001b[0m\u001b[1;33m(\u001b[0m\u001b[0mmap\u001b[0m\u001b[1;33m(\u001b[0m\u001b[0mint\u001b[0m\u001b[1;33m,\u001b[0m\u001b[0minput\u001b[0m\u001b[1;33m(\u001b[0m\u001b[1;33m)\u001b[0m\u001b[1;33m.\u001b[0m\u001b[0msplit\u001b[0m\u001b[1;33m(\u001b[0m\u001b[1;33m)\u001b[0m\u001b[1;33m)\u001b[0m\u001b[1;33m)\u001b[0m\u001b[1;33m\u001b[0m\u001b[1;33m\u001b[0m\u001b[0m\n",
      "\u001b[1;31mValueError\u001b[0m: invalid literal for int() with base 10: '12 43 5'"
     ]
    }
   ],
   "source": [
    "t=int(input(\"\"))\n",
    "for i in range(t):\n",
    "    c=[]\n",
    "    n=int(input())\n",
    "    a=list(map(int,input().split()))\n",
    "    b=list(map(int,input().split()))\n",
    "    for i in range(n):\n",
    "        \n",
    "        s=(a[i]*20)-(b[i]*10)\n",
    "        c.append(s)\n",
    "        \n",
    "    if max(c)>0:\n",
    "        print(max(c))\n",
    "    else:\n",
    "        print(0)"
   ]
  },
  {
   "cell_type": "code",
   "execution_count": 20,
   "metadata": {},
   "outputs": [
    {
     "ename": "TypeError",
     "evalue": "'str' object does not support item assignment",
     "output_type": "error",
     "traceback": [
      "\u001b[1;31m---------------------------------------------------------------------------\u001b[0m",
      "\u001b[1;31mTypeError\u001b[0m                                 Traceback (most recent call last)",
      "\u001b[1;32m<ipython-input-20-ee44c858a5c7>\u001b[0m in \u001b[0;36m<module>\u001b[1;34m\u001b[0m\n\u001b[0;32m      1\u001b[0m \u001b[0ms\u001b[0m\u001b[1;33m=\u001b[0m\u001b[1;34m'hi'\u001b[0m\u001b[1;33m\u001b[0m\u001b[1;33m\u001b[0m\u001b[0m\n\u001b[1;32m----> 2\u001b[1;33m \u001b[0ms\u001b[0m\u001b[1;33m[\u001b[0m\u001b[1;36m1\u001b[0m\u001b[1;33m]\u001b[0m\u001b[1;33m=\u001b[0m\u001b[1;34m'no'\u001b[0m\u001b[1;33m\u001b[0m\u001b[1;33m\u001b[0m\u001b[0m\n\u001b[0m",
      "\u001b[1;31mTypeError\u001b[0m: 'str' object does not support item assignment"
     ]
    }
   ],
   "source": [
    "s='hi'\n",
    "s[1]='no'"
   ]
  },
  {
   "cell_type": "markdown",
   "metadata": {},
   "source": [
    "* str is immutable."
   ]
  },
  {
   "cell_type": "code",
   "execution_count": 25,
   "metadata": {},
   "outputs": [
    {
     "name": "stdout",
     "output_type": "stream",
     "text": [
      "2410417277488\n",
      "hihola\n",
      "2410417232448\n"
     ]
    }
   ],
   "source": [
    "s='hiertoiuyt'\n",
    "print(id(s))\n",
    "s=s[0:2]+'hola'\n",
    "print(s)\n",
    "print(id(s))"
   ]
  },
  {
   "cell_type": "markdown",
   "metadata": {},
   "source": [
    "### Lists and strings\n",
    "\n",
    "* For str, both a single position and a slice return strings\n",
    "\n",
    "h= \"hello\"\n",
    "h[0]=h[0:1]==\"h\"\n",
    "\n",
    "* For lists, a single position returns a value, a slice returns a list\n",
    "\n",
    "factors=[1,2,3,4,6]\n",
    "factors[0]==1,factors[0:1]==[1]\n"
   ]
  },
  {
   "cell_type": "code",
   "execution_count": 2,
   "metadata": {},
   "outputs": [
    {
     "name": "stdout",
     "output_type": "stream",
     "text": [
      "h\n",
      "h\n",
      "1\n",
      "[1]\n"
     ]
    }
   ],
   "source": [
    "h='hello'\n",
    "print(h[0])\n",
    "print(h[0:1])\n",
    "factors=[1,2,3,4,5]\n",
    "print(factors[0])\n",
    "print(factors[0:1])\n"
   ]
  },
  {
   "cell_type": "markdown",
   "metadata": {},
   "source": [
    "> Slice returns a list"
   ]
  },
  {
   "cell_type": "markdown",
   "metadata": {},
   "source": [
    "### Nested lists\n",
    "\n",
    "* lists can contain other lists\n",
    "    * nested = [[2,[5]],4,['hi']]\n",
    "    * nested [0] is [2,[37]]\n",
    "    * nested[1] is 4\n",
    "    * nested[2][0][3]"
   ]
  },
  {
   "cell_type": "code",
   "execution_count": 8,
   "metadata": {},
   "outputs": [
    {
     "name": "stdout",
     "output_type": "stream",
     "text": [
      "4\n",
      "[2, [4]]\n",
      "h\n",
      "[[4]]\n"
     ]
    }
   ],
   "source": [
    "nested=[[2,[4]],4,['hiiii']]\n",
    "print(nested[1])\n",
    "print(nested[0])\n",
    "print(nested[2][0][0])\n",
    "print(nested[0][1:2])"
   ]
  },
  {
   "cell_type": "markdown",
   "metadata": {},
   "source": [
    "### list containg list inner list is the value of  outer list is because we have sliced"
   ]
  },
  {
   "cell_type": "code",
   "execution_count": 12,
   "metadata": {},
   "outputs": [
    {
     "data": {
      "text/plain": [
       "[4]"
      ]
     },
     "execution_count": 12,
     "metadata": {},
     "output_type": "execute_result"
    }
   ],
   "source": [
    "nested[0][1]"
   ]
  },
  {
   "cell_type": "markdown",
   "metadata": {},
   "source": [
    "### Updating lists\n",
    "\n",
    "* unlike string,lists can be updated in place\n",
    "\n",
    " * nested=[[3,4,[54]],34]\n",
    " * nested[1]=5\n",
    " * valid\n",
    "\n",
    "\n",
    "> Lists are mutable"
   ]
  },
  {
   "cell_type": "code",
   "execution_count": 17,
   "metadata": {},
   "outputs": [
    {
     "data": {
      "text/plain": [
       "7"
      ]
     },
     "execution_count": 17,
     "metadata": {},
     "output_type": "execute_result"
    }
   ],
   "source": [
    "nested=[[3,4,[54],34]]\n",
    "#change value of 54 to 7\n",
    "nested[0][2][0]=7\n",
    "nested[0][2][0]"
   ]
  },
  {
   "cell_type": "markdown",
   "metadata": {},
   "source": [
    "* Does the value of y change?"
   ]
  },
  {
   "cell_type": "code",
   "execution_count": 20,
   "metadata": {},
   "outputs": [
    {
     "name": "stdout",
     "output_type": "stream",
     "text": [
      "5\n",
      "10\n"
     ]
    }
   ],
   "source": [
    "x=5\n",
    "y=x\n",
    "x=10\n",
    "print(y)\n",
    "print(x) "
   ]
  },
  {
   "cell_type": "markdown",
   "metadata": {},
   "source": [
    "## Mutable vs immutable \n",
    "\n",
    " * Does assignment copy the value or make both names\n",
    "   point to the same value?\n",
    " * For **immutable** values,we can assume that assignment makes a fresh copy of a value\n",
    "     * values of type int, float,bool,str are immutable\n",
    "     \n",
    " * For **mutable** values,assignment **doesn't** make a\n",
    "   fresh copy"
   ]
  },
  {
   "cell_type": "code",
   "execution_count": 22,
   "metadata": {},
   "outputs": [
    {
     "name": "stdout",
     "output_type": "stream",
     "text": [
      "[1, 2, 7, 4]\n",
      "------------------\n",
      "[1, 2, 7, 4]\n",
      "2382712293384\n",
      "2382712293384\n"
     ]
    }
   ],
   "source": [
    "list1=[1,2,3,4]\n",
    "list2=list1\n",
    "list1[2]=7\n",
    "print(list1)\n",
    "print('------------------')\n",
    "print(list2)\n",
    "\n",
    "print(id(list1))\n",
    "print(id(list2))"
   ]
  },
  {
   "cell_type": "markdown",
   "metadata": {},
   "source": [
    "> Wow "
   ]
  },
  {
   "cell_type": "markdown",
   "metadata": {},
   "source": [
    "### Copying lists\n",
    "\n",
    " * how can we make a copy of a list?\n",
    " * A slice creates a new (sub) list from an old one.\n",
    " * Recall l[:k] is l[0:k], l[k:] is l[k:len(l)]\n",
    " * Omitting both end points gives a full slice\n",
    "     l[:]==l[0:len(l)]\n",
    " * **To make a copy of a list use a full slice**\n",
    "     list2=list1[:]"
   ]
  },
  {
   "cell_type": "code",
   "execution_count": 25,
   "metadata": {},
   "outputs": [
    {
     "name": "stdout",
     "output_type": "stream",
     "text": [
      "2382713774600\n",
      "2382712292808\n",
      "----------\n",
      "[1, 7, 3]\n",
      "[1, 2, 3]\n"
     ]
    }
   ],
   "source": [
    "list1=[1,2,3]\n",
    "list2=list1[:]\n",
    "print(id(list1))\n",
    "print(id(list2))\n",
    "\n",
    "list1[1]=7\n",
    "print('-'*10)\n",
    "print(list1)\n",
    "print(list2)"
   ]
  },
  {
   "cell_type": "markdown",
   "metadata": {},
   "source": [
    "## Digression on equality\n",
    "\n",
    "* list1=[1,3,5,7]\n",
    "* list1=[1,3,5,7]\n",
    "* list3=list2   \n",
    "* All are equal but there is a difference\n",
    "   * list1 and list2 are two lists with the same value\n",
    "   * list2 and list3 are two names for same list"
   ]
  },
  {
   "cell_type": "code",
   "execution_count": 26,
   "metadata": {},
   "outputs": [
    {
     "name": "stdout",
     "output_type": "stream",
     "text": [
      "2382713777416\n",
      "2382713764232\n",
      "2382713764232\n"
     ]
    }
   ],
   "source": [
    "list1=[1,2,3]\n",
    "list2=[1,2,3]\n",
    "list3=list2\n",
    "print(id(list1))\n",
    "print(id(list2))\n",
    "print(id(list3))"
   ]
  },
  {
   "cell_type": "markdown",
   "metadata": {},
   "source": [
    "* x **==** y check if x and y have same value\n",
    "* x **is** y checks if x and y refer to same object"
   ]
  },
  {
   "cell_type": "code",
   "execution_count": 30,
   "metadata": {},
   "outputs": [
    {
     "name": "stdout",
     "output_type": "stream",
     "text": [
      "True\n",
      "True\n",
      "True\n",
      "----------\n",
      "False\n",
      "True\n",
      "False\n"
     ]
    }
   ],
   "source": [
    "print(list1==list2)\n",
    "print(list1==list3)\n",
    "print(list2==list3)\n",
    "print('-'*10)\n",
    "print(list1 is list2)\n",
    "print(list2 is list3)\n",
    "print(list1 is list3)"
   ]
  },
  {
   "cell_type": "markdown",
   "metadata": {},
   "source": [
    "### Concatenation\n",
    "\n",
    "* Like strings, lists can be glued together using +\n",
    "    list1=[1,2,4]\n",
    "    list2=[43,9]\n",
    "    list3=list1+list2\n",
    "* **+** Plus always produces a new list."
   ]
  },
  {
   "cell_type": "code",
   "execution_count": 34,
   "metadata": {},
   "outputs": [
    {
     "name": "stdout",
     "output_type": "stream",
     "text": [
      "True\n",
      "[1, 2, 3, 7]\n",
      "[1, 2, 3]\n"
     ]
    }
   ],
   "source": [
    "list1=[1,2,3]\n",
    "list2=list1\n",
    "print(list1 is list2)\n",
    "list1=list1+[7]\n",
    "print(list1)\n",
    "print(list2)\n"
   ]
  },
  {
   "cell_type": "code",
   "execution_count": null,
   "metadata": {},
   "outputs": [],
   "source": []
  },
  {
   "cell_type": "code",
   "execution_count": null,
   "metadata": {},
   "outputs": [],
   "source": []
  },
  {
   "cell_type": "markdown",
   "metadata": {},
   "source": [
    "# Week 2 Lecture 4 : control flow"
   ]
  },
  {
   "cell_type": "code",
   "execution_count": null,
   "metadata": {},
   "outputs": [],
   "source": []
  },
  {
   "cell_type": "code",
   "execution_count": null,
   "metadata": {},
   "outputs": [],
   "source": []
  },
  {
   "cell_type": "markdown",
   "metadata": {},
   "source": [
    "# Summary of the week"
   ]
  },
  {
   "cell_type": "code",
   "execution_count": 42,
   "metadata": {},
   "outputs": [
    {
     "name": "stdout",
     "output_type": "stream",
     "text": [
      "Enter the number5\n",
      "[1, 5]\n",
      "nope\n"
     ]
    }
   ],
   "source": [
    "def factor_n(n):\n",
    "    factors=[]\n",
    "    for i in  range(1,n+1):\n",
    "        if n%i==0:\n",
    "            factors.append(i)\n",
    "    print(factors)\n",
    "\n",
    "def prime(n):\n",
    "    \n",
    "    if factor_n(n)==[1,n]:\n",
    "        print(factor_(n))\n",
    "        print('yes ')\n",
    "    else:\n",
    "        print('nope')\n",
    "\n",
    "    \n",
    "n=int(input(\"Enter the number\"))    \n",
    "prime(n)"
   ]
  },
  {
   "cell_type": "code",
   "execution_count": null,
   "metadata": {},
   "outputs": [],
   "source": []
  },
  {
   "cell_type": "markdown",
   "metadata": {},
   "source": [
    "---\n",
    "# 4. Control flow\n",
    "---"
   ]
  },
  {
   "cell_type": "code",
   "execution_count": 1,
   "metadata": {},
   "outputs": [
    {
     "name": "stdout",
     "output_type": "stream",
     "text": [
      "34\n",
      "5\n",
      "1\n"
     ]
    }
   ],
   "source": [
    "# Euclid's   gcd algorithm using remainder\n",
    "\n",
    "def gcd(m,n):\n",
    "    if m<n:\n",
    "        (m,n)=(n,m)\n",
    "    \n",
    "    while m%n!=0:\n",
    "        m,n=n,m%n\n",
    "    return n\n",
    "m=int(input())\n",
    "n=int(input())\n",
    "print(gcd(m,n))"
   ]
  },
  {
   "cell_type": "markdown",
   "metadata": {},
   "source": [
    "## 5.  \n",
    "\n",
    "* Passing values\n",
    "\n",
    "  * Same rules apply for mutable,immutable values\n",
    " > Immutable value will not be affected at calling point.\n",
    " > Mutable values will be affected\n",
    " \n",
    "---\n",
    "**Copy = immutable**\\\n",
    "**Share= mutable**\n",
    "\n",
    "---"
   ]
  },
  {
   "cell_type": "code",
   "execution_count": 1,
   "metadata": {},
   "outputs": [
    {
     "name": "stdout",
     "output_type": "stream",
     "text": [
      "Enter the index3\n",
      "Enter the value18\n",
      "True\n"
     ]
    }
   ],
   "source": [
    "def update(l,i,v):\n",
    "    if i>=0 and i<len(l):\n",
    "        l[i]=v\n",
    "        return True\n",
    "    else:\n",
    "        v=v+1\n",
    "        return False\n",
    "l=[2,342,34,7,11,19,10]\n",
    "i=int(input(\"Enter the index\"))\n",
    "v=int(input(\"Enter the value\"))\n",
    "print(update(l,i,v))"
   ]
  },
  {
   "cell_type": "code",
   "execution_count": 3,
   "metadata": {},
   "outputs": [
    {
     "name": "stdout",
     "output_type": "stream",
     "text": [
      "Enter the index2\n",
      "Enter the value88\n",
      "True\n",
      "[2, 342, 88, 7, 11, 19, 10]\n"
     ]
    }
   ],
   "source": [
    "def update(l,i,v):\n",
    "    if i>=0 and i<len(l):\n",
    "        l[i]=v\n",
    "        return True\n",
    "    else:\n",
    "        v=v+1\n",
    "        return False\n",
    "l=[2,342,34,7,11,19,10]\n",
    "i=int(input(\"Enter the index\"))\n",
    "v=int(input(\"Enter the value\"))\n",
    "print(update(l,i,v))\n",
    "print(l)\n",
    "\n"
   ]
  },
  {
   "cell_type": "markdown",
   "metadata": {},
   "source": [
    "## Scopes of names\n",
    "\n",
    "* Names within a function have local scope\n",
    "\n"
   ]
  },
  {
   "cell_type": "code",
   "execution_count": 6,
   "metadata": {},
   "outputs": [
    {
     "name": "stdout",
     "output_type": "stream",
     "text": [
      "23 n within function\n",
      "28 within function x\n",
      "9 -----------n outside function\n",
      "28 -----------obj\n"
     ]
    }
   ],
   "source": [
    "def stupid(x):\n",
    "    n=23\n",
    "    print(n,'n within function')\n",
    "    print(x,'within function x')\n",
    "    return x\n",
    "n=9\n",
    "obj=stupid(28)\n",
    "\n",
    "print(n,'-----------n outside function')\n",
    "print(obj,'-----------obj')"
   ]
  },
  {
   "cell_type": "markdown",
   "metadata": {},
   "source": [
    "## Recursive function\n",
    "\n"
   ]
  },
  {
   "cell_type": "code",
   "execution_count": 13,
   "metadata": {},
   "outputs": [
    {
     "name": "stdout",
     "output_type": "stream",
     "text": [
      "Ente rhte number7\n"
     ]
    },
    {
     "data": {
      "text/plain": [
       "5040"
      ]
     },
     "execution_count": 13,
     "metadata": {},
     "output_type": "execute_result"
    }
   ],
   "source": [
    "def factorial(n):\n",
    "    if n<=0:\n",
    "        return 1\n",
    "    else:\n",
    "        return n*factorial(n-1)\n",
    "    \n",
    "n=int(input(\"Ente rhte number\"))\n",
    "factorial(n)\n",
    "\n",
    "#n!=0 is the base case"
   ]
  },
  {
   "cell_type": "code",
   "execution_count": 19,
   "metadata": {},
   "outputs": [
    {
     "name": "stdout",
     "output_type": "stream",
     "text": [
      "Enter number77\n",
      "False\n"
     ]
    }
   ],
   "source": [
    "def isprime(n):\n",
    "    return factors(n)==[1,n]\n",
    "\n",
    "def factors(n):\n",
    "    factor=[]\n",
    "    for i in range(1,n+1):\n",
    "        if n%i==0:\n",
    "            factor.append(i)\n",
    "    return factor\n",
    "\n",
    "n=int(input(\"Enter number\"))\n",
    "print(isprime(n))"
   ]
  },
  {
   "cell_type": "code",
   "execution_count": 20,
   "metadata": {},
   "outputs": [
    {
     "name": "stdout",
     "output_type": "stream",
     "text": [
      "Enter the value of n90\n",
      "[2, 3, 5, 7, 11, 13, 17, 19, 23, 29, 31, 37, 41, 43, 47, 53, 59, 61, 67, 71, 73, 79, 83, 89]\n"
     ]
    }
   ],
   "source": [
    "def primesupto(n):\n",
    "    primelist=[]\n",
    "    for i in range(1,n+1):\n",
    "        if isprime(i):\n",
    "            primelist=primelist+[i]\n",
    "    return primelist\n",
    "\n",
    "n=int(input(\"Enter the value of n\"))\n",
    "print(primesupto(n))"
   ]
  },
  {
   "cell_type": "markdown",
   "metadata": {},
   "source": [
    "# First n primes\n",
    "# List the first n primes"
   ]
  },
  {
   "cell_type": "code",
   "execution_count": 21,
   "metadata": {},
   "outputs": [
    {
     "name": "stdout",
     "output_type": "stream",
     "text": [
      "Enter the value of n87\n",
      "[2, 3, 5, 7, 11, 13, 17, 19, 23, 29, 31, 37, 41, 43, 47, 53, 59, 61, 67, 71, 73, 79, 83, 89, 97, 101, 103, 107, 109, 113, 127, 131, 137, 139, 149, 151, 157, 163, 167, 173, 179, 181, 191, 193, 197, 199, 211, 223, 227, 229, 233, 239, 241, 251, 257, 263, 269, 271, 277, 281, 283, 293, 307, 311, 313, 317, 331, 337, 347, 349, 353, 359, 367, 373, 379, 383, 389, 397, 401, 409, 419, 421, 431, 433, 439, 443, 449]\n"
     ]
    }
   ],
   "source": [
    "def nprimes(n):\n",
    "    count,i,plist=0,1,[]\n",
    "    while count<n:\n",
    "        if isprime(i):\n",
    "            count+=1\n",
    "            plist=plist+[i]\n",
    "        i+=1\n",
    "    return plist\n",
    "\n",
    "n=int(input(\"Enter the value of n\"))\n",
    "print(nprimes(n))"
   ]
  },
  {
   "cell_type": "markdown",
   "metadata": {},
   "source": [
    "---\n",
    "\n",
    "* for and while \n",
    "> for n in range(i,j):\\\n",
    "    statement\n",
    "   \n",
    "```python\n",
    "n=i\n",
    "while n<j:\n",
    "  statement\n",
    "  n=n+1\n",
    "\n",
    "```"
   ]
  },
  {
   "cell_type": "code",
   "execution_count": null,
   "metadata": {},
   "outputs": [],
   "source": [
    "\n"
   ]
  }
 ],
 "metadata": {
  "kernelspec": {
   "display_name": "Python 3",
   "language": "python",
   "name": "python3"
  },
  "language_info": {
   "codemirror_mode": {
    "name": "ipython",
    "version": 3
   },
   "file_extension": ".py",
   "mimetype": "text/x-python",
   "name": "python",
   "nbconvert_exporter": "python",
   "pygments_lexer": "ipython3",
   "version": "3.7.2"
  }
 },
 "nbformat": 4,
 "nbformat_minor": 2
}
