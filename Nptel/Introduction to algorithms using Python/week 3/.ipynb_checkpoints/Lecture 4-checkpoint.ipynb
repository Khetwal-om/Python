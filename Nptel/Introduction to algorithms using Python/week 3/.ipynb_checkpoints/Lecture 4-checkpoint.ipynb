{
 "cells": [
  {
   "cell_type": "markdown",
   "metadata": {},
   "source": [
    "# Arrays\n",
    "\n",
    "* Single block of memory ,elements of uniform type\n",
    "   * Typically size of sequences is fixed in advance\n",
    "* Indexing is fast.\n",
    "   * Access seq[i] in contant time for any i\n",
    "   . Compute offset from start of memory block\n",
    "* Inserting between seq[i] and seq[i+1] is expensive.\n",
    "* Contraction is expensive."
   ]
  },
  {
   "cell_type": "markdown",
   "metadata": {},
   "source": [
    "# Lists \n",
    "\n",
    "* Values scattered in memory.\n",
    "  * Each element points to the next='linked' list.\n",
    "  * Flexible size.\n",
    "  \n",
    "* Follow   i links to access seq[i]\n",
    "   * Const proportional to i.\n",
    "   \n",
    "* Inserting or deleting an element is easy.\n",
    "  * \"plumbing\"\n",
    "   \n",
    "   \n",
    "   \n",
    "   \n",
    "   \n",
    "   \n",
    "   \n",
    "   "
   ]
  },
  {
   "cell_type": "markdown",
   "metadata": {},
   "source": [
    "# Operations\n",
    "\n",
    "* Exchange seq[i] and seq[j]\n",
    "   * Constant time in array,linear time in lists.\n",
    "   \n",
    "* Delete seq[i] or insret v after seq[i]\n",
    "   * Constant time in lists(if we are already at seq[i])\n",
    "   * Linear time in array.\n",
    "   \n",
    "* Algorithms on one data structure may not transfer to another.\n",
    "   * Example : Binary search."
   ]
  },
  {
   "cell_type": "markdown",
   "metadata": {},
   "source": [
    "### Search problem\n",
    "\n",
    "* Is a value v present in a collection seq?\n",
    "* Does the structure of seq matter?\n",
    "  * Array vs list\n",
    "* Does the org. of the information matter?\n",
    "  * Values sorted/unsorted\n",
    "  \n",
    "* Need to scan the entire sequence seq\n",
    "    * Time proportional to length of sequence\n",
    "* Does not matter if seq is array or list."
   ]
  },
  {
   "cell_type": "markdown",
   "metadata": {},
   "source": [
    "###  Search a sorted sequence\n",
    "\n",
    "* Compare v with midpoint of seq.\n",
    "* If midpoint is v,the value is found.\n",
    "* If v<midpoint,search left half of seq.\n",
    "* If v>midpoint,search right half of seq.\n",
    "\n",
    "> **Binary Search**"
   ]
  },
  {
   "cell_type": "code",
   "execution_count": null,
   "metadata": {},
   "outputs": [],
   "source": [
    "def bsearch(seq,v,l,r):\n",
    "    #search for v in seq[l:r], seq is sorted\n",
    "    \n",
    "    if (r-l==0):  #empty slice\n",
    "        return False\n",
    "    mid=(l+r)//2\n",
    "    \n",
    "    if v==seq[mid]:\n",
    "        return True\n",
    "    \n",
    "    if v<seq[mid]:\n",
    "        return bsearch(seq,v,l,mid)\n",
    "    \n",
    "    else:\n",
    "        v>seq[mid]\n",
    "        return bsearch(seq,v,mid+1,r)"
   ]
  },
  {
   "cell_type": "markdown",
   "metadata": {},
   "source": [
    "* Analysis\n",
    "\n",
    "1. T(n): time to search in a list of size n\n",
    "   * T(o)=1\n",
    "   * T(n)=1+T(n/2)\n",
    "   \n",
    "2. Unwind the recurrence\n",
    "   * T(n) = 1+T(n/2)=1+1+T(n/2** )=........\n",
    "   * 1+1+.......+1+T(n/2** k)\n",
    "   * 1+1+........1+T(n/2** logn)=__O(logn)__"
   ]
  },
  {
   "cell_type": "markdown",
   "metadata": {},
   "source": [
    "* Works only for arrays\n",
    "  * Need to look up seq[i] in constant time.\n",
    "  \n",
    "* By seeing only a small fraction of the sequence , we can conclude that an element in not present."
   ]
  },
  {
   "cell_type": "code",
   "execution_count": null,
   "metadata": {},
   "outputs": [],
   "source": []
  }
 ],
 "metadata": {
  "kernelspec": {
   "display_name": "Python 3",
   "language": "python",
   "name": "python3"
  },
  "language_info": {
   "codemirror_mode": {
    "name": "ipython",
    "version": 3
   },
   "file_extension": ".py",
   "mimetype": "text/x-python",
   "name": "python",
   "nbconvert_exporter": "python",
   "pygments_lexer": "ipython3",
   "version": "3.7.2"
  }
 },
 "nbformat": 4,
 "nbformat_minor": 2
}
