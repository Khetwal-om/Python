{
 "cells": [
  {
   "cell_type": "markdown",
   "metadata": {},
   "source": [
    "---\n",
    "\n",
    "### More about range()\n",
    "\n",
    "* Why does range(i,j) stop at j-1?\n",
    "  * Mainly to make it easier to process lists.\n",
    "  * List of length n has positions 0,1,2,3,...n-1\n",
    "  * range(0,len(l)) produces correct range of valid indices.\n",
    "    * **Easier than writing range(0,len(l)-1)**."
   ]
  },
  {
   "cell_type": "markdown",
   "metadata": {},
   "source": [
    "# This is vague.\n",
    "\n",
    "* Compare the following.\n",
    "   * for i in [0,1,2,3,4,5,6,7,8,9]\n",
    "   * for i in range(0,10):\n",
    "   \n",
    "* is range(0,10)==[0,1,2,3,4,5,6,7,8,9]?\n",
    "   * In Python2, yes\n",
    "   * In Python3, no"
   ]
  },
  {
   "cell_type": "code",
   "execution_count": 1,
   "metadata": {},
   "outputs": [
    {
     "data": {
      "text/plain": [
       "False"
      ]
     },
     "execution_count": 1,
     "metadata": {},
     "output_type": "execute_result"
    }
   ],
   "source": [
    "range(0,10)==[0,1,2,3,4,5,6,7,8,9]"
   ]
  },
  {
   "cell_type": "markdown",
   "metadata": {},
   "source": [
    "* range is not list,we can't even manipulate range as of list.\n",
    "* can convert range() to a list using list().\n",
    "  * list(range(0,4))==[0,1,2,3]  (tight conversion)\n",
    "  \n",
    "* "
   ]
  }
 ],
 "metadata": {
  "kernelspec": {
   "display_name": "Python 3",
   "language": "python",
   "name": "python3"
  },
  "language_info": {
   "codemirror_mode": {
    "name": "ipython",
    "version": 3
   },
   "file_extension": ".py",
   "mimetype": "text/x-python",
   "name": "python",
   "nbconvert_exporter": "python",
   "pygments_lexer": "ipython3",
   "version": "3.7.2"
  }
 },
 "nbformat": 4,
 "nbformat_minor": 2
}
