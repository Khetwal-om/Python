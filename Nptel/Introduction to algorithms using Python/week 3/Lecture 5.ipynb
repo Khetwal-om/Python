{
 "cells": [
  {
   "cell_type": "markdown",
   "metadata": {},
   "source": [
    "# Efficiency\n",
    "\n",
    "* Measure time taken by an algorithm as a function __T(n)__ with respect to input size n.\n",
    "* Usually report __worst case__ behaviour.\n",
    "  * Worst case for searching in a sequence is when value is not found.\n",
    "  * Worst case is easier to calculate then 'average' case or other more reasonable measures\n",
    "  \n",
    "* Interested in broad relationship b/w input size and running time.\n",
    "* is __T(n)__ proportional to logn,n,nlogn,n,2**n\n",
    "* Write T(n)=O(__n__),T(n)=O(__nlogn__), to indicate this \n",
    "  * Linear scan of __O(n)__ for arrays and lists.\n",
    "  * Binary search is __O(logn)__ for sorted arrays."
   ]
  },
  {
   "cell_type": "markdown",
   "metadata": {},
   "source": [
    "# Efficiency\n",
    "\n",
    "* Theoretically T(n)=O(n\\**k) is considered efficient. \n",
    "   * Polynomial time\n",
    "* In practice even T(n)=O(n\\**2) has very limited effective range\n",
    "   * Inputs larger than size 5000 take very long."
   ]
  },
  {
   "cell_type": "markdown",
   "metadata": {},
   "source": [
    "# Sorting \n",
    "\n",
    "* Searching for a value\n",
    "  * Unsorted array - linear scan, O(n).\n",
    "  * Sorted array - binary search, O(logn).\n",
    "  \n",
    "* Other advantages of sorting\n",
    "  * Finding median value:midpoint of sorted list\n",
    "  * Checking for duplicated\n",
    "  * Building a frequency table of values"
   ]
  },
  {
   "cell_type": "code",
   "execution_count": null,
   "metadata": {},
   "outputs": [],
   "source": []
  }
 ],
 "metadata": {
  "kernelspec": {
   "display_name": "Python 3",
   "language": "python",
   "name": "python3"
  },
  "language_info": {
   "codemirror_mode": {
    "name": "ipython",
    "version": 3
   },
   "file_extension": ".py",
   "mimetype": "text/x-python",
   "name": "python",
   "nbconvert_exporter": "python",
   "pygments_lexer": "ipython3",
   "version": "3.7.2"
  }
 },
 "nbformat": 4,
 "nbformat_minor": 2
}
