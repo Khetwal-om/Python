{
 "cells": [
  {
   "cell_type": "markdown",
   "metadata": {},
   "source": [
    "# Analysis of merge\n",
    "\n",
    "* Merge A of size m,B of size n into C.\n",
    "* In each iteration,we add one element to C.\n",
    " >Size of C is m+n\\\n",
    " > m+n<=2 max(m,n)\n",
    "* Hence __O(max(m,n))=O(n) if m~~n"
   ]
  },
  {
   "cell_type": "markdown",
   "metadata": {},
   "source": [
    "* T(n): time taken by merge sort on input size n\n",
    "  * let n=2\\**k\n",
    "* T(n): 2T n/2 + n (merge component)\n",
    "  * Two subproblems of size n/2\n",
    "  * Merging solutions requires time __O(n/2+n/2)=O(n).\n",
    "* Solve the recurrence by unwinding."
   ]
  },
  {
   "cell_type": "markdown",
   "metadata": {},
   "source": [
    "* T(1)=1\n",
    "* T(n)=2T(n/2)+n\n",
    " > 2[2T(n/4)+n/2]+n........\n",
    " .\\\n",
    " > 2\\**jT(n/2\\**j)+jn\n",
    " \n",
    "* When j=logn,n/2\\**j=1,so T(n/2\\**j)=1\n",
    "  * logn\n",
    "* T(n)=2\\**jT(n/2\\**j)+jn=2\\**logn+(logn)n=n+nlogn=__O(nlogn)__"
   ]
  },
  {
   "cell_type": "markdown",
   "metadata": {},
   "source": [
    "# Variations on merge\n",
    "\n",
    "* As we have noticed that duplicate elements are present during a merge sort.\n",
    "* Intersection of two sorted lists\n",
    "  * if A[i]<B[j],increment i\n",
    "  * if B[j]<A[i],increment j\n",
    "  * If A[i]==B[j]\n",
    "     * While A[i]==B[j],increment j\n",
    "     * Append A[i] to C and increment i"
   ]
  },
  {
   "cell_type": "markdown",
   "metadata": {},
   "source": [
    "# Perform list difference (Task)"
   ]
  },
  {
   "cell_type": "code",
   "execution_count": null,
   "metadata": {},
   "outputs": [],
   "source": []
  },
  {
   "cell_type": "markdown",
   "metadata": {},
   "source": [
    "* Merging A and B creates a new array C\n",
    "  * No obvious way to efficiently merge in place\n",
    "* Extra storage can be costly\n",
    "* Inherently recursive\n",
    "    * Recursive call and return are expensive."
   ]
  },
  {
   "cell_type": "code",
   "execution_count": null,
   "metadata": {},
   "outputs": [],
   "source": []
  }
 ],
 "metadata": {
  "kernelspec": {
   "display_name": "Python 3",
   "language": "python",
   "name": "python3"
  },
  "language_info": {
   "codemirror_mode": {
    "name": "ipython",
    "version": 3
   },
   "file_extension": ".py",
   "mimetype": "text/x-python",
   "name": "python",
   "nbconvert_exporter": "python",
   "pygments_lexer": "ipython3",
   "version": "3.7.2"
  }
 },
 "nbformat": 4,
 "nbformat_minor": 2
}
