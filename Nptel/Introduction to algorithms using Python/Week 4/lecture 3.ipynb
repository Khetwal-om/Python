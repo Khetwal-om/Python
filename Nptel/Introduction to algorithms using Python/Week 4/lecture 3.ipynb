{
 "cells": [
  {
   "cell_type": "markdown",
   "metadata": {},
   "source": [
    "# Quicksort"
   ]
  },
  {
   "cell_type": "markdown",
   "metadata": {},
   "source": [
    "* Choose a pivot element.\n",
    "  * Typically the first value in the array.\n",
    "* Partition A into lower and upper parts with respect to pivot.\n",
    "* Move pivot between lower and upper partition.\n",
    "* Recursively sort the two partitions."
   ]
  },
  {
   "cell_type": "code",
   "execution_count": null,
   "metadata": {},
   "outputs": [],
   "source": [
    "def Quicksort(A,l,r):\n",
    "    if r-l<=1:\n",
    "        return \n",
    "    yellow=l+1\n",
    "    for green in range(l+1,r):\n",
    "        if A[green]<=A[l]:\n",
    "            A[yellow],A[green]=A[green],A[yellow] #move pivot into place\n",
    "            yellow+=1\n",
    "    A[l],A[yellow-1]=A[yellow-1],A[l]\n",
    "    Quicksort(A,l,yellow-1)\n",
    "    Quicksort(A,yellow,r)\n",
    "    \n",
    "    \n",
    "    \n",
    "    "
   ]
  }
 ],
 "metadata": {
  "kernelspec": {
   "display_name": "Python 3",
   "language": "python",
   "name": "python3"
  },
  "language_info": {
   "codemirror_mode": {
    "name": "ipython",
    "version": 3
   },
   "file_extension": ".py",
   "mimetype": "text/x-python",
   "name": "python",
   "nbconvert_exporter": "python",
   "pygments_lexer": "ipython3",
   "version": "3.7.2"
  }
 },
 "nbformat": 4,
 "nbformat_minor": 2
}
