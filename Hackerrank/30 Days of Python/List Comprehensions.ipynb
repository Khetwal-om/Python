{
 "cells": [
  {
   "cell_type": "code",
   "execution_count": null,
   "metadata": {},
   "outputs": [],
   "source": []
  },
  {
   "cell_type": "code",
   "execution_count": null,
   "metadata": {},
   "outputs": [],
   "source": []
  },
  {
   "cell_type": "code",
   "execution_count": 1,
   "metadata": {},
   "outputs": [
    {
     "name": "stdout",
     "output_type": "stream",
     "text": [
      "X3\n",
      "Y3\n",
      "n2\n",
      "[[0, 0], [0, 1], [0, 3], [1, 0], [1, 2], [1, 3], [2, 1], [2, 2], [2, 3], [3, 0], [3, 1], [3, 2], [3, 3]]\n"
     ]
    }
   ],
   "source": [
    "x=int(input(\"X\"))\n",
    "y=int(input(\"Y\"))\n",
    "n=int(input(\"n\"))\n",
    "ar=[]\n",
    "p=0\n",
    "for i in range(x+1):\n",
    "    for j in range(y+1):\n",
    "        if i+j!=n:\n",
    "            ar.append([])\n",
    "            ar[p]=[i,j]\n",
    "            p=p+1\n",
    "            \n",
    "            \n",
    "print(ar)"
   ]
  },
  {
   "cell_type": "code",
   "execution_count": 3,
   "metadata": {},
   "outputs": [
    {
     "name": "stdout",
     "output_type": "stream",
     "text": [
      "x2\n",
      "y2\n",
      "n2\n",
      "[[0, 0], [0, 1], [1, 0], [1, 2], [2, 1], [2, 2]]\n"
     ]
    }
   ],
   "source": [
    "x=int(input(\"x\"))\n",
    "y=int(input(\"y\"))\n",
    "n=int(input('n'))\n",
    "print([[i,j] for i in range(x+1) for j in range(y+1) if ((i+j)!=n)])"
   ]
  },
  {
   "cell_type": "code",
   "execution_count": 8,
   "metadata": {},
   "outputs": [
    {
     "name": "stdout",
     "output_type": "stream",
     "text": [
      "x2\n",
      "y2\n",
      "z2\n",
      "n2\n",
      "[[0, 0, 0], [0, 0, 1], [0, 1, 0], [0, 1, 2], [0, 2, 1], [0, 2, 2], [1, 0, 0], [1, 0, 2], [1, 1, 1], [1, 1, 2], [1, 2, 0], [1, 2, 1], [1, 2, 2], [2, 0, 1], [2, 0, 2], [2, 1, 0], [2, 1, 1], [2, 1, 2], [2, 2, 0], [2, 2, 1], [2, 2, 2]]\n"
     ]
    }
   ],
   "source": [
    "x=int(input('x'))\n",
    "y=int(input('y'))\n",
    "z=int(input('z'))\n",
    "n=int(input('n'))\n",
    "\n",
    "\n",
    "print([[i,j,k] for i in range(x+1) for j in range(y+1) for k in range(z+1) if ((i+j+k)!=n) ])"
   ]
  },
  {
   "cell_type": "markdown",
   "metadata": {},
   "source": [
    " \n",
    " "
   ]
  },
  {
   "cell_type": "code",
   "execution_count": null,
   "metadata": {},
   "outputs": [],
   "source": []
  },
  {
   "cell_type": "code",
   "execution_count": null,
   "metadata": {},
   "outputs": [],
   "source": [
    "x=int(input(\"x\"))\n",
    "y=int(input(\"y\"))\n",
    "n=int(input('n'))\n",
    "print([[i,j] for i in range(x+1) for j in range(y+1) if ((i+j)!=n)])"
   ]
  }
 ],
 "metadata": {
  "kernelspec": {
   "display_name": "Python 3",
   "language": "python",
   "name": "python3"
  },
  "language_info": {
   "codemirror_mode": {
    "name": "ipython",
    "version": 3
   },
   "file_extension": ".py",
   "mimetype": "text/x-python",
   "name": "python",
   "nbconvert_exporter": "python",
   "pygments_lexer": "ipython3",
   "version": "3.7.2"
  }
 },
 "nbformat": 4,
 "nbformat_minor": 2
}
