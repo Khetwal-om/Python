{
 "cells": [
  {
   "cell_type": "code",
   "execution_count": 4,
   "metadata": {},
   "outputs": [
    {
     "name": "stdout",
     "output_type": "stream",
     "text": [
      "Enter the number5\n",
      "1 2 3 4 5 \n",
      "1 2 3 4 5 \n",
      "1 2 3 4 5 \n",
      "1 2 3 4 5 \n",
      "1 2 3 4 5 \n"
     ]
    }
   ],
   "source": [
    "n=int(input(\"Enter the number\"))\n",
    "for i in range(1,6):\n",
    "    for j in range(1,6):\n",
    "        print(j,end=' ')\n",
    "    print()\n",
    "    "
   ]
  },
  {
   "cell_type": "code",
   "execution_count": 7,
   "metadata": {},
   "outputs": [
    {
     "name": "stdout",
     "output_type": "stream",
     "text": [
      "Enter the number5\n",
      "* * * * * \n",
      "* * * * * \n",
      "* * * * * \n",
      "* * * * * \n",
      "* * * * * \n"
     ]
    }
   ],
   "source": [
    "n=int(input(\"Enter the number\"))\n",
    "for i in range(n):\n",
    "    for j in range(n):\n",
    "        print('*',end=' ')\n",
    "    print()\n",
    "    "
   ]
  },
  {
   "cell_type": "code",
   "execution_count": 11,
   "metadata": {},
   "outputs": [
    {
     "name": "stdout",
     "output_type": "stream",
     "text": [
      "Enter the number5\n",
      "* \n",
      "* * \n",
      "* * * \n",
      "* * * * \n",
      "* * * * * \n"
     ]
    }
   ],
   "source": [
    "n=int(input(\"Enter the number\"))\n",
    "for i in range(1,n+1):\n",
    "    for j in range(i):\n",
    "        print('*',end=' ')\n",
    "    print()\n",
    "    "
   ]
  },
  {
   "cell_type": "code",
   "execution_count": 1,
   "metadata": {},
   "outputs": [
    {
     "name": "stdout",
     "output_type": "stream",
     "text": [
      "Enter the number5\n",
      "1 \n",
      "1 2 \n",
      "1 2 3 \n",
      "1 2 3 4 \n",
      "1 2 3 4 5 \n"
     ]
    }
   ],
   "source": [
    "n=int(input(\"Enter the number\"))\n",
    "for i in range(1,n+1):\n",
    "    for j in range(1,i+1):\n",
    "        print(j,end=' ')\n",
    "    print()\n",
    "    "
   ]
  },
  {
   "cell_type": "code",
   "execution_count": 2,
   "metadata": {},
   "outputs": [
    {
     "name": "stdout",
     "output_type": "stream",
     "text": [
      "Enter the number5\n",
      "1 \n",
      "2 2 \n",
      "3 3 3 \n",
      "4 4 4 4 \n",
      "5 5 5 5 5 \n"
     ]
    }
   ],
   "source": [
    "n=int(input(\"Enter the number\"))\n",
    "for i in range(1,n+1):\n",
    "    for j in range(1,i+1):\n",
    "        print(i,end=' ')\n",
    "    print()\n",
    "    "
   ]
  },
  {
   "cell_type": "code",
   "execution_count": 3,
   "metadata": {},
   "outputs": [
    {
     "name": "stdout",
     "output_type": "stream",
     "text": [
      "Enter the number5\n",
      "0 \n",
      "1 2 \n",
      "3 4 5 \n",
      "6 7 8 9 \n",
      "10 11 12 13 14 \n"
     ]
    }
   ],
   "source": [
    "x=0\n",
    "n=int(input(\"Enter the number\"))\n",
    "for i in range(1,n+1):\n",
    "    for j in range(1,i+1):\n",
    "        print(x,end=' ')\n",
    "        x+=1\n",
    "    print()\n",
    "    "
   ]
  },
  {
   "cell_type": "code",
   "execution_count": 11,
   "metadata": {},
   "outputs": [
    {
     "name": "stdout",
     "output_type": "stream",
     "text": [
      "Enter the number5\n",
      "- - - - 1 \n",
      "- - - 1 2 \n",
      "- - 1 2 3 \n",
      "- 1 2 3 4 \n",
      "1 2 3 4 5 \n"
     ]
    }
   ],
   "source": [
    "n=int(input(\"Enter the number\"))\n",
    "for i in range(1,n+1):\n",
    "    for k in range(n,i,-1):\n",
    "        print('-',end=' ')\n",
    "    for j in range(1,i+1):\n",
    "        print(j,end=' ')\n",
    "    print()\n",
    "    "
   ]
  },
  {
   "cell_type": "code",
   "execution_count": null,
   "metadata": {},
   "outputs": [],
   "source": []
  },
  {
   "cell_type": "code",
   "execution_count": 13,
   "metadata": {},
   "outputs": [
    {
     "name": "stdout",
     "output_type": "stream",
     "text": [
      "Enter the number5\n",
      "- - - - 1 \n",
      "- - - 1 2 1*\n",
      "- - 1 2 3 2*1*\n",
      "- 1 2 3 4 3*2*1*\n",
      "1 2 3 4 5 4*3*2*1*\n"
     ]
    }
   ],
   "source": [
    "n=int(input(\"Enter the number\"))\n",
    "for i in range(1,n+1):\n",
    "    for k in range(n,i,-1):\n",
    "        print('-',end=' ')\n",
    "    for j in range(1,i+1):\n",
    "        print(j,end=' ')\n",
    "    for l in range(i-1,0,-1):\n",
    "        print(l,end='*')\n",
    "    print()\n",
    "    "
   ]
  },
  {
   "cell_type": "code",
   "execution_count": 14,
   "metadata": {},
   "outputs": [
    {
     "name": "stdout",
     "output_type": "stream",
     "text": [
      "Enter the number10\n",
      "                  1 \n",
      "                1 2 1 \n",
      "              1 2 3 2 1 \n",
      "            1 2 3 4 3 2 1 \n",
      "          1 2 3 4 5 4 3 2 1 \n",
      "        1 2 3 4 5 6 5 4 3 2 1 \n",
      "      1 2 3 4 5 6 7 6 5 4 3 2 1 \n",
      "    1 2 3 4 5 6 7 8 7 6 5 4 3 2 1 \n",
      "  1 2 3 4 5 6 7 8 9 8 7 6 5 4 3 2 1 \n",
      "1 2 3 4 5 6 7 8 9 10 9 8 7 6 5 4 3 2 1 \n"
     ]
    }
   ],
   "source": [
    "n=int(input(\"Enter the number\"))\n",
    "for i in range(1,n+1):\n",
    "    for k in range(n,i,-1):\n",
    "        print(' ',end=' ')\n",
    "    for j in range(1,i+1):\n",
    "        print(j,end=' ')\n",
    "    for l in range(i-1,0,-1):\n",
    "        print(l,end=' ')\n",
    "    print()\n",
    "    "
   ]
  },
  {
   "cell_type": "code",
   "execution_count": 15,
   "metadata": {},
   "outputs": [
    {
     "name": "stdout",
     "output_type": "stream",
     "text": [
      "Enter the value of n5\n",
      "        1 \n",
      "      2 2 2 \n",
      "    3 3 3 3 3 \n",
      "  4 4 4 4 4 4 4 \n",
      "5 5 5 5 5 5 5 5 5 \n"
     ]
    }
   ],
   "source": [
    "n=int(input(\"Enter the value of n\"))\n",
    "for i in range(1,n+1):\n",
    "    for k in range(n+1-i,1,-1):\n",
    "        print(\" \",end=' ')\n",
    "    for j in range(1,i+1):\n",
    "        print(i,end=' ')\n",
    "    for l in range(i-1,0,-1):\n",
    "        print(i,end=' ')\n",
    "    print()"
   ]
  },
  {
   "cell_type": "code",
   "execution_count": 5,
   "metadata": {},
   "outputs": [
    {
     "name": "stdout",
     "output_type": "stream",
     "text": [
      "Enter the value of n5\n",
      "    1 \n",
      "   2 2 \n",
      "  3 3 3 \n",
      " 4 4 4 4 \n",
      "5 5 5 5 5 \n"
     ]
    }
   ],
   "source": [
    "n=int(input(\"Enter the value of n\"))\n",
    "for i in range(1,n+1):\n",
    "    for k in range(n,i,-1):\n",
    "        print(\"\",end=' ')\n",
    "    for j in range(1,i+1):\n",
    "        print(i,end=' ')\n",
    "    print()"
   ]
  },
  {
   "cell_type": "code",
   "execution_count": null,
   "metadata": {},
   "outputs": [],
   "source": []
  }
 ],
 "metadata": {
  "kernelspec": {
   "display_name": "Python 3",
   "language": "python",
   "name": "python3"
  },
  "language_info": {
   "codemirror_mode": {
    "name": "ipython",
    "version": 3
   },
   "file_extension": ".py",
   "mimetype": "text/x-python",
   "name": "python",
   "nbconvert_exporter": "python",
   "pygments_lexer": "ipython3",
   "version": "3.7.2"
  }
 },
 "nbformat": 4,
 "nbformat_minor": 2
}
