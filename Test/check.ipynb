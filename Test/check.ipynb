{
 "cells": [
  {
   "cell_type": "code",
   "execution_count": 5,
   "metadata": {},
   "outputs": [
    {
     "name": "stdout",
     "output_type": "stream",
     "text": [
      "hi function before execution\n",
      "Inside function\n",
      "after\n"
     ]
    }
   ],
   "source": [
    "def hello_decorator(func):\n",
    "\n",
    "    def inner1():\n",
    "        print(\"hi function before execution\")\n",
    "\n",
    "        func()\n",
    "        print(\"after\")\n",
    "\n",
    "    return inner1()\n",
    "\n",
    "\n",
    "def function_to_be_used():\n",
    "    print(\"Inside function\")\n",
    "\n",
    "\n",
    "function_to_be_used=hello_decorator(function_to_be_used)\n",
    "\n",
    "\n",
    "\n"
   ]
  },
  {
   "cell_type": "code",
   "execution_count": 10,
   "metadata": {},
   "outputs": [
    {
     "name": "stdout",
     "output_type": "stream",
     "text": [
      "this is the area of function\n",
      "this is my new function\n",
      "this is statements after the function executed\n"
     ]
    }
   ],
   "source": [
    "def student(fun):\n",
    "    def area():\n",
    "        print(\"this is the area of function\")\n",
    "\n",
    "        fun()\n",
    "\n",
    "        print('this is statements after the function executed')\n",
    "\n",
    "    return area()\n",
    "\n",
    "\n",
    "def my_new_fun():\n",
    "    print('this is my new function')\n",
    "\n",
    "\n",
    "\n",
    "my_new_fun=student(my_new_fun)"
   ]
  },
  {
   "cell_type": "code",
   "execution_count": null,
   "metadata": {},
   "outputs": [],
   "source": []
  }
 ],
 "metadata": {
  "kernelspec": {
   "display_name": "Python 3",
   "language": "python",
   "name": "python3"
  },
  "language_info": {
   "codemirror_mode": {
    "name": "ipython",
    "version": 3
   },
   "file_extension": ".py",
   "mimetype": "text/x-python",
   "name": "python",
   "nbconvert_exporter": "python",
   "pygments_lexer": "ipython3",
   "version": "3.7.2"
  }
 },
 "nbformat": 4,
 "nbformat_minor": 2
}
