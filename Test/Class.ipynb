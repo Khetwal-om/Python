{
 "cells": [
  {
   "cell_type": "code",
   "execution_count": 5,
   "metadata": {},
   "outputs": [
    {
     "name": "stdout",
     "output_type": "stream",
     "text": [
      "No of students are 34\n",
      "No of students are 45\n"
     ]
    }
   ],
   "source": [
    "class School:\n",
    "    def __init__(self,number):\n",
    "        self.number=number\n",
    "    def display(self):\n",
    "        print(f'No of students are {self.number}')\n",
    "        \n",
    "ninth=School(34)\n",
    "ninth.display()\n",
    "\n",
    "tenth=School(45)\n",
    "tenth.display()\n",
    "\n"
   ]
  },
  {
   "cell_type": "code",
   "execution_count": 14,
   "metadata": {},
   "outputs": [
    {
     "name": "stdout",
     "output_type": "stream",
     "text": [
      "This is numA of obj method 23\n",
      "This is numB of obj method 43\n",
      "The sum is 66\n",
      "The sum is -20\n",
      "This is numA of shoe method 1\n",
      "This is numB of shoe method 2\n",
      "The sum is 3\n",
      "The sum is -1\n"
     ]
    }
   ],
   "source": [
    "class Calculator:\n",
    "    def __init__(self,numA,numB):\n",
    "        self.numA=numA\n",
    "        self.numB=numB\n",
    "    \n",
    "    def addition(self):\n",
    "        result=self.numA+self.numB\n",
    "        print(\"The sum is\",result)\n",
    "        \n",
    "    \n",
    "    def subtraction(self):\n",
    "        result=self.numA-self.numB\n",
    "        print(\"The sum is\",result)    \n",
    "        \n",
    "        \n",
    "        \n",
    "obj=Calculator(23,43)\n",
    "print(\"This is numA of obj method\",obj.numA)\n",
    "print(\"This is numB of obj method\",obj.numB)\n",
    "obj.addition()\n",
    "obj.subtraction()\n",
    "\n",
    "\n",
    "\n",
    "shoe=Calculator(1,2)\n",
    "\n",
    "print(\"This is numA of shoe method\",shoe.numA)\n",
    "print(\"This is numB of shoe method\",shoe.numB)\n",
    "shoe.addition()\n",
    "shoe.subtraction()"
   ]
  },
  {
   "cell_type": "code",
   "execution_count": null,
   "metadata": {},
   "outputs": [],
   "source": []
  }
 ],
 "metadata": {
  "kernelspec": {
   "display_name": "Python 3",
   "language": "python",
   "name": "python3"
  },
  "language_info": {
   "codemirror_mode": {
    "name": "ipython",
    "version": 3
   },
   "file_extension": ".py",
   "mimetype": "text/x-python",
   "name": "python",
   "nbconvert_exporter": "python",
   "pygments_lexer": "ipython3",
   "version": "3.7.2"
  }
 },
 "nbformat": 4,
 "nbformat_minor": 2
}
