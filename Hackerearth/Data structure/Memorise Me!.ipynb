{
 "cells": [
  {
   "cell_type": "code",
   "execution_count": null,
   "metadata": {},
   "outputs": [
    {
     "name": "stdout",
     "output_type": "stream",
     "text": [
      "Enter the total number shown6\n"
     ]
    }
   ],
   "source": [
    "n=int(input(\"Enter the total number shown\"))\n",
    "array=list(map(int,input().split()))\n",
    "q=int(input(\"Enter the number of integers\"))\n",
    "for i in range(1,q+1):\n",
    "    check=int(input(\"Enter the number\"))"
   ]
  },
  {
   "cell_type": "code",
   "execution_count": 11,
   "metadata": {},
   "outputs": [
    {
     "name": "stdout",
     "output_type": "stream",
     "text": [
      "Enter the number of queries2\n",
      "1 abc\n",
      "1 <class 'int'>\n",
      "abc <class 'str'>\n",
      "2 bca\n",
      "2 <class 'int'>\n",
      "bca <class 'str'>\n"
     ]
    }
   ],
   "source": [
    "q=int(input(\"Enter the number of queries\"))\n",
    "for i in range(q):\n",
    "    k,string=input().split()\n",
    "    k=int(k)\n",
    "    \n",
    "    \n",
    "def perform(string,k):\n",
    "    "
   ]
  },
  {
   "cell_type": "code",
   "execution_count": 44,
   "metadata": {},
   "outputs": [
    {
     "name": "stdout",
     "output_type": "stream",
     "text": [
      "baa\n",
      "aab\n",
      "*************\n",
      "['baa', 'aab']\n"
     ]
    }
   ],
   "source": [
    "answer=[]\n",
    "k=2\n",
    "m='baa'\n",
    "clue=m[k-1]\n",
    "m=m.replace(clue,'',1)\n",
    "m+=clue\n",
    "print(m)\n",
    "answer.append(m)\n",
    "k=k-1\n",
    "m='baa'\n",
    "clue=m[k-1]\n",
    "m=m.replace(clue,'',1)\n",
    "m+=clue\n",
    "print(m)\n",
    "answer.append(m)\n",
    "\n",
    "\n",
    "print(\"*************\")\n",
    "print(answer)\n",
    "\n",
    "\n"
   ]
  },
  {
   "cell_type": "code",
   "execution_count": 50,
   "metadata": {},
   "outputs": [
    {
     "name": "stdout",
     "output_type": "stream",
     "text": [
      "aab\n"
     ]
    }
   ],
   "source": [
    "answer.sort()\n",
    "print(answer[0])"
   ]
  },
  {
   "cell_type": "code",
   "execution_count": 33,
   "metadata": {},
   "outputs": [
    {
     "name": "stdout",
     "output_type": "stream",
     "text": [
      "kajsdkkkf\n",
      "ajsdkkkf\n"
     ]
    }
   ],
   "source": [
    "a='kajsdkkkf'\n",
    "print(a)\n",
    "a=a.replace('k','',1)\n",
    "print(a)"
   ]
  },
  {
   "cell_type": "markdown",
   "metadata": {},
   "source": []
  }
 ],
 "metadata": {
  "kernelspec": {
   "display_name": "Python 3",
   "language": "python",
   "name": "python3"
  },
  "language_info": {
   "codemirror_mode": {
    "name": "ipython",
    "version": 3
   },
   "file_extension": ".py",
   "mimetype": "text/x-python",
   "name": "python",
   "nbconvert_exporter": "python",
   "pygments_lexer": "ipython3",
   "version": "3.7.2"
  }
 },
 "nbformat": 4,
 "nbformat_minor": 2
}
