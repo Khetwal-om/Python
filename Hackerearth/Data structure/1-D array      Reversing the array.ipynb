{
 "cells": [
  {
   "cell_type": "code",
   "execution_count": 2,
   "metadata": {},
   "outputs": [
    {
     "name": "stdout",
     "output_type": "stream",
     "text": [
      "4\n",
      "Enter the number2\n",
      "Enter the number3\n",
      "Enter the number4\n",
      "Enter the number5\n",
      "[2, 3, 4, 5]\n"
     ]
    }
   ],
   "source": [
    "n=int(input())\n",
    "array=[]\n",
    "for i in range(n):\n",
    "    element=int(input(\"Enter the number\"))\n",
    "    array.append(element)\n",
    "    \n",
    "    \n"
   ]
  },
  {
   "cell_type": "markdown",
   "metadata": {},
   "source": [
    "* Using while loop"
   ]
  },
  {
   "cell_type": "code",
   "execution_count": 7,
   "metadata": {},
   "outputs": [
    {
     "name": "stdout",
     "output_type": "stream",
     "text": [
      "3 4 5\n",
      "[3, 4, 5]\n",
      "5 4 3 "
     ]
    }
   ],
   "source": [
    "array=list(map(int,input().split()))\n",
    "print(array)\n",
    "length=len(array)\n",
    "while length!=0:\n",
    "    print(array[length-1],end=' ')\n",
    "    length-=1\n",
    "    "
   ]
  },
  {
   "cell_type": "markdown",
   "metadata": {},
   "source": [
    "* Using reverse() method  ,reverse returns None . It make changes in the original array."
   ]
  },
  {
   "cell_type": "code",
   "execution_count": 10,
   "metadata": {},
   "outputs": [
    {
     "name": "stdout",
     "output_type": "stream",
     "text": [
      "5\n",
      "Enter the number1\n",
      "Enter the number3\n",
      "Enter the number4\n",
      "Enter the number5\n",
      "Enter the number3\n",
      "[3, 5, 4, 3, 1]\n"
     ]
    }
   ],
   "source": [
    "n=int(input())\n",
    "array=[]\n",
    "for i in range(n):\n",
    "    element=int(input(\"Enter the number\"))\n",
    "    array.append(element)\n",
    "    \n",
    "array.reverse()\n",
    "print(array)"
   ]
  },
  {
   "cell_type": "markdown",
   "metadata": {},
   "source": [
    "---\n",
    "\n",
    "* Using slicing\n",
    "\n",
    "\n",
    "---"
   ]
  },
  {
   "cell_type": "code",
   "execution_count": 12,
   "metadata": {},
   "outputs": [
    {
     "name": "stdout",
     "output_type": "stream",
     "text": [
      "12 343 4 34\n"
     ]
    },
    {
     "data": {
      "text/plain": [
       "[34, 4, 343, 12]"
      ]
     },
     "execution_count": 12,
     "metadata": {},
     "output_type": "execute_result"
    }
   ],
   "source": [
    "array=list(map(int,input().split()))\n",
    "array[::-1]"
   ]
  },
  {
   "cell_type": "markdown",
   "metadata": {},
   "source": [
    "---\n",
    "\n",
    "* Creating a reversed iterator()\n",
    "\n",
    "---"
   ]
  },
  {
   "cell_type": "code",
   "execution_count": 14,
   "metadata": {},
   "outputs": [
    {
     "name": "stdout",
     "output_type": "stream",
     "text": [
      "1 2 3 4\n",
      "4 3 2 1 "
     ]
    }
   ],
   "source": [
    "array=list(map(int,input().split()))\n",
    "\n",
    "for item in reversed(array):\n",
    "    print(item,end=' ')"
   ]
  },
  {
   "cell_type": "markdown",
   "metadata": {},
   "source": [
    "---\n",
    "* Using for loop\n",
    "---"
   ]
  },
  {
   "cell_type": "code",
   "execution_count": null,
   "metadata": {},
   "outputs": [],
   "source": [
    "\n",
    "n=int(input())\n",
    "array=[]\n",
    "for i in range(n):\n",
    "    n=int(input())\n",
    "    array.append(n)\n",
    "    \n",
    "\n",
    "for i in range( len(array) - 1, -1, -1) :\n",
    "    print(array[i])"
   ]
  },
  {
   "cell_type": "markdown",
   "metadata": {},
   "source": [
    "---\n",
    "* Using list comprehension\n",
    "---"
   ]
  },
  {
   "cell_type": "code",
   "execution_count": 19,
   "metadata": {},
   "outputs": [
    {
     "name": "stdout",
     "output_type": "stream",
     "text": [
      "1 2 3\n",
      "------------\n",
      "3\n",
      "2\n",
      "1\n"
     ]
    },
    {
     "data": {
      "text/plain": [
       "[None, None, None]"
      ]
     },
     "execution_count": 19,
     "metadata": {},
     "output_type": "execute_result"
    }
   ],
   "source": [
    "array=list(map(int,input().split()))\n",
    "[print(i) for i in reversed(array)]\n",
    "\n",
    "print('------------')\n",
    "[print (i) for i in array[::-1]]"
   ]
  },
  {
   "cell_type": "markdown",
   "metadata": {},
   "source": []
  },
  {
   "cell_type": "markdown",
   "metadata": {},
   "source": [
    "---\n",
    "\n",
    " # All in one\n",
    "---"
   ]
  },
  {
   "cell_type": "code",
   "execution_count": 20,
   "metadata": {},
   "outputs": [
    {
     "name": "stdout",
     "output_type": "stream",
     "text": [
      "['hi', 'hello', 'this', 'that', 'is', 'of']\n",
      "of\n",
      "is\n",
      "that\n",
      "this\n",
      "hello\n",
      "hi\n",
      "*************\n",
      "of\n",
      "is\n",
      "that\n",
      "this\n",
      "hello\n",
      "hi\n",
      "*************\n",
      "of\n",
      "is\n",
      "that\n",
      "this\n",
      "hello\n",
      "hi\n",
      "*************\n",
      "of\n",
      "is\n",
      "that\n",
      "this\n",
      "hello\n",
      "hi\n",
      "*************\n",
      "of\n",
      "is\n",
      "that\n",
      "this\n",
      "hello\n",
      "hi\n"
     ]
    }
   ],
   "source": [
    "def main():\n",
    " \n",
    "    # List of string\n",
    "    wordList = ['hi', 'hello', 'this', 'that', 'is', 'of']\n",
    "    \n",
    "    #print the List\n",
    "    print(wordList)\n",
    "    \n",
    "    '''\n",
    "     Iterate over the list in reverse using while loop\n",
    "    '''\n",
    "    # Point i to the last element in list\n",
    "    i = len(wordList) - 1 \n",
    "    \n",
    "    # Iterate till 1st element and keep on decrementing i\n",
    "    while i >= 0 :\n",
    "        print(wordList[i]) \n",
    "        i -= 1\n",
    "        \n",
    "    print(\"*************\")    \n",
    " \n",
    "    '''\n",
    "     Iterate over the list using for loop and range()\n",
    "    '''\n",
    "    for i in range( len(wordList) - 1, -1, -1) :\n",
    "        print(wordList[i])\n",
    "        \n",
    "    print(\"*************\")    \n",
    "    \n",
    "    '''\n",
    "     Iterate over the list using for loop and reversed()\n",
    "    '''\n",
    "    for i in reversed(wordList) :\n",
    "        print(i)\n",
    "    \n",
    "    print(\"*************\")    \n",
    "    \n",
    "    '''\n",
    "     Iterate over the list using List Comprehension and [::-1]\n",
    "    '''\n",
    "    [print (i) for i in wordList[::-1]]\n",
    "    \n",
    "    print(\"*************\")    \n",
    " \n",
    "    '''\n",
    "     Iterate over the list using List Comprehension and [::-1]\n",
    "    '''\n",
    "    [print (i) for i in reversed(wordList)]\n",
    " \n",
    " \n",
    "if __name__ == \"__main__\":\n",
    "    main()"
   ]
  },
  {
   "cell_type": "code",
   "execution_count": null,
   "metadata": {},
   "outputs": [],
   "source": []
  }
 ],
 "metadata": {
  "kernelspec": {
   "display_name": "Python 3",
   "language": "python",
   "name": "python3"
  },
  "language_info": {
   "codemirror_mode": {
    "name": "ipython",
    "version": 3
   },
   "file_extension": ".py",
   "mimetype": "text/x-python",
   "name": "python",
   "nbconvert_exporter": "python",
   "pygments_lexer": "ipython3",
   "version": "3.7.2"
  }
 },
 "nbformat": 4,
 "nbformat_minor": 2
}
