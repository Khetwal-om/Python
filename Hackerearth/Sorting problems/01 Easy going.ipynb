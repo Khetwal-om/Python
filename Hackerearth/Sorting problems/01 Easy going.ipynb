{
 "cells": [
  {
   "cell_type": "code",
   "execution_count": 20,
   "metadata": {
    "scrolled": true
   },
   "outputs": [
    {
     "name": "stdout",
     "output_type": "stream",
     "text": [
      "85 59\n",
      "816 291 321 704 100 257 170 665 202 598 304 607 196 136 28 707 462 931 679 573 451 962 982 948 218 317 286 20 166 822 669 981 113 341 36 212 597 558 877 151 507 180 757 702 316 136 408 129 67 439 701 517 752 683 816 969 351 453 340 868 275 9 848 387 349 236 950 298 793 826 448 299 358 556 352 673 691 111 153 757 901 854 625 653 888  40 12\n",
      "18164\n"
     ]
    }
   ],
   "source": [
    "# sort this using bubble sort\n",
    "def solution(array,n,m):\n",
    "   \n",
    "    for i in range(len(array)-1,0,-1):\n",
    "        for j in range(i):\n",
    "            if array[j]>array[j+1]:\n",
    "                array[j],array[j+1]=array[j+1],array[j]\n",
    "            \n",
    "    check=n-m\n",
    "    minimum=sum(array[:check])\n",
    "    maximum=sum(array[len(array)-check:])\n",
    "    return maximum-minimum\n",
    "\n",
    "    \n",
    "answer=[]\n",
    "n,m=input().split()\n",
    "n=int(n)\n",
    "m=int(m)\n",
    "array=list(map(int,input().split()))\n",
    "answer.append(solution(array,n,m))\n",
    "    \n",
    "for i in answer:\n",
    "    print(i)\n",
    "\n"
   ]
  },
  {
   "cell_type": "code",
   "execution_count": null,
   "metadata": {},
   "outputs": [],
   "source": [
    "85 59\n",
    "816 291 321 704 100 257 170 665 202 598 304 607 196 136 28 707 462 931 679 573 451 962 982 948 218 317 286 20 166 822 669 981 113 341 36 212 597 558 877 151 507 180 757 702 316 136 408 129 67 439 701 517 752 683 816 969 351 453 340 868 275 9 848 387 349 236 950 298 793 826 448 299 358 556 352 673 691 111 153 757 901 854 625 653 888 \n",
    "40 12"
   ]
  },
  {
   "cell_type": "code",
   "execution_count": 14,
   "metadata": {},
   "outputs": [
    {
     "name": "stdout",
     "output_type": "stream",
     "text": [
      "816 291 321 704 100 257 170 665 202 598 304 607 196 136 28 707 462 931 679 573 451 962 982 948 218 317 286 20 166 822 669 981 113 341 36 212 597 558 877 151 507 180 757 702 316 136 408 129 67 439 701 517 752 683 816 969 351 453 340 868 275 9 848 387 349 236 950 298 793 826 448 299 358 556 352 673 691 111 153 757 901 854 625 653 888  40 12\n"
     ]
    }
   ],
   "source": [
    "a=list(map(int,input().split()))"
   ]
  },
  {
   "cell_type": "code",
   "execution_count": 51,
   "metadata": {},
   "outputs": [
    {
     "name": "stdout",
     "output_type": "stream",
     "text": [
      "5 1\n",
      "5 4 3 2 1\n",
      "4\n"
     ]
    }
   ],
   "source": [
    "# sort this using bubble sort\n",
    "def solution(array,n,m):\n",
    "   \n",
    "    for i in range(len(array)-1,0,-1):\n",
    "        for j in range(i):\n",
    "            if array[j]>array[j+1]:\n",
    "                array[j],array[j+1]=array[j+1],array[j]\n",
    "    check=n-m\n",
    "    minimum=sum(array[:check])\n",
    "    maximum=sum(array[n-check:])\n",
    "\n",
    "    return maximum-minimum\n",
    "\n",
    "    \n",
    "answer=[]\n",
    "n,m=input().split()\n",
    "n=int(n)\n",
    "m=int(m)\n",
    "array=list(map(int,input().split()))\n",
    "answer.append(solution(array,n,m))\n",
    "    \n",
    "for i in answer:\n",
    "    print(i)\n",
    "\n"
   ]
  },
  {
   "cell_type": "code",
   "execution_count": 28,
   "metadata": {},
   "outputs": [
    {
     "name": "stdout",
     "output_type": "stream",
     "text": [
      "3639\n",
      "23165\n"
     ]
    }
   ],
   "source": [
    "x=[9, 12, 20, 28, 36, 40, 67, 100, 111, 113, 129, 136, 136, 151, 153, 166, 170, 180, 196, 202, 212, 218, 236, 257, 275, 286, 291, 298, 299, 304, 316, 317, 321, 340, 341, 349, 351, 352, 358, 387, 408, 439, 448, 451, 453, 462, 507, 517, 556, 558, 573, 597, 598, 607, 625, 653, 665, 669, 673, 679, 683, 691, 701, 702, 704, 707, 752, 757, 757, 793, 816, 816, 822, 826, 848, 854, 868, 877, 888, 901, 931, 948, 950, 962, 969, 981, 982]\n",
    "print(sum(x[:26]))\n",
    "print(sum(x[(85-26):]))\n"
   ]
  },
  {
   "cell_type": "code",
   "execution_count": 23,
   "metadata": {},
   "outputs": [
    {
     "data": {
      "text/plain": [
       "26"
      ]
     },
     "execution_count": 23,
     "metadata": {},
     "output_type": "execute_result"
    }
   ],
   "source": [
    "85-59"
   ]
  },
  {
   "cell_type": "code",
   "execution_count": 26,
   "metadata": {},
   "outputs": [
    {
     "data": {
      "text/plain": [
       "19526"
      ]
     },
     "execution_count": 26,
     "metadata": {},
     "output_type": "execute_result"
    }
   ],
   "source": [
    "23165-3639"
   ]
  },
  {
   "cell_type": "code",
   "execution_count": 37,
   "metadata": {},
   "outputs": [
    {
     "name": "stdout",
     "output_type": "stream",
     "text": [
      "[9, 20, 28, 36, 67, 100, 111, 113, 129, 136, 136, 151, 153, 166, 170, 180, 196, 202, 212, 218, 236, 257, 275, 286, 291, 298, 299, 304, 316, 317, 321, 340, 341, 349, 351, 352, 358, 387, 408, 439, 448, 451, 453, 462, 507, 517, 556, 558, 573, 597, 598, 607, 625, 653, 665, 669, 673, 679, 683, 691, 701, 702, 704, 707, 752, 757, 757, 793, 816, 816, 822, 826, 848, 854, 868, 877, 888, 901, 931, 948, 950, 962, 969, 981, 982]\n",
      "4176\n",
      "21803\n",
      "17627\n"
     ]
    }
   ],
   "source": [
    "answer=[816, 291, 321, 704, 100, 257, 170, 665, 202, 598, 304, 607, 196, 136, 28, 707, 462, 931, 679, 573, 451, 962, 982, 948, 218, 317, 286, 20, 166, 822, 669, 981, 113, 341, 36, 212, 597, 558, 877, 151, 507, 180, 757, 702, 316, 136, 408, 129, 67, 439, 701, 517, 752, 683, 816, 969, 351, 453, 340, 868, 275, 9, 848, 387, 349, 236, 950, 298, 793, 826, 448, 299, 358, 556, 352, 673, 691, 111, 153, 757, 901, 854, 625, 653, 888]\n",
    "answer.sort()\n",
    "print(answer)\n",
    "\n",
    "\n",
    "\n",
    "# x.sort()\n",
    "# for i in x:\n",
    "#     print(i,end=' ')\n",
    "\n",
    "print(sum(answer[:26]))\n",
    "print(sum(answer[(85-26):]))\n",
    "print(sum(answer[(85-26):])-sum(answer[:26]))"
   ]
  },
  {
   "cell_type": "code",
   "execution_count": 38,
   "metadata": {},
   "outputs": [
    {
     "ename": "SyntaxError",
     "evalue": "invalid syntax (<ipython-input-38-4e24fb4a06de>, line 1)",
     "output_type": "error",
     "traceback": [
      "\u001b[1;36m  File \u001b[1;32m\"<ipython-input-38-4e24fb4a06de>\"\u001b[1;36m, line \u001b[1;32m1\u001b[0m\n\u001b[1;33m    590 245 313 457 519 673 656 257 373 243 206 670 35 32 469 685 741 24 388 765 67 851 917 175 751 122 800 403 361 591 376 302 835 688 758 705 712 766 961 84\u001b[0m\n\u001b[1;37m          ^\u001b[0m\n\u001b[1;31mSyntaxError\u001b[0m\u001b[1;31m:\u001b[0m invalid syntax\n"
     ]
    }
   ],
   "source": [
    "590 245 313 457 519 673 656 257 373 243 206 670 35 32 469 685 741 24 388 765 67 851 917 175 751 122 800 403 361 591 376 302 835 688 758 705 712 766 961 84 \n"
   ]
  },
  {
   "cell_type": "code",
   "execution_count": 48,
   "metadata": {},
   "outputs": [
    {
     "name": "stdout",
     "output_type": "stream",
     "text": [
      "[24, 32, 35, 67, 84, 122, 175, 206, 243, 245, 257, 302, 313, 361, 373, 376, 388, 403, 457, 469, 519, 590, 591, 656, 670, 673, 685, 688, 705, 712, 741, 751, 758, 765, 766, 800, 835, 851, 917, 961]\n",
      "10004\n",
      "17774\n",
      "7770\n"
     ]
    }
   ],
   "source": [
    "answer=[590, 245, 313, 457, 519, 673, 656, 257, 373, 243, 206, 670, 35, 32, 469, 685, 741, 24, 388, 765, 67, 851, 917, 175, 751, 122, 800, 403, 361, 591, 376, 302, 835, 688, 758, 705, 712, 766, 961, 84]\n",
    "answer.sort()\n",
    "print(answer)\n",
    "n=40\n",
    "m=12\n",
    "check=n-m\n",
    "print(sum(answer[:check]))\n",
    "print(sum(answer[(40-check):]))\n",
    "print(sum(answer[(40-check):])-sum(answer[:check]))"
   ]
  },
  {
   "cell_type": "code",
   "execution_count": 43,
   "metadata": {},
   "outputs": [
    {
     "data": {
      "text/plain": [
       "28"
      ]
     },
     "execution_count": 43,
     "metadata": {},
     "output_type": "execute_result"
    }
   ],
   "source": [
    "check=n-m\n",
    "minimum=sum(array[:check])\n",
    "maximum=sum(array[n-check:])\n"
   ]
  },
  {
   "cell_type": "code",
   "execution_count": null,
   "metadata": {},
   "outputs": [],
   "source": [
    "# sort this using bubble sort\n",
    "def solution(array,n,m):\n",
    "   \n",
    "    for i in range(len(array)-1,0,-1):\n",
    "        for j in range(i):\n",
    "            if array[j]>array[j+1]:\n",
    "                array[j],array[j+1]=array[j+1],array[j]\n",
    "    check=n-m\n",
    "    minimum=sum(array[:check])\n",
    "    maximum=sum(array[n-check:])\n",
    "\n",
    "    return maximum-minimum\n",
    "\n",
    "    \n",
    "q=int(input())\n",
    "answer=[]\n",
    "for i in range(q):\n",
    "    n,m=input().split()\n",
    "    n=int(n)\n",
    "    m=int(m)\n",
    "    array=list(map(int,input().split()))\n",
    "    answer.append(solution(array,n,m))\n",
    "    \n",
    "for i in answer:\n",
    "    print(i)\n",
    "\n"
   ]
  }
 ],
 "metadata": {
  "kernelspec": {
   "display_name": "Python 3",
   "language": "python",
   "name": "python3"
  },
  "language_info": {
   "codemirror_mode": {
    "name": "ipython",
    "version": 3
   },
   "file_extension": ".py",
   "mimetype": "text/x-python",
   "name": "python",
   "nbconvert_exporter": "python",
   "pygments_lexer": "ipython3",
   "version": "3.7.2"
  }
 },
 "nbformat": 4,
 "nbformat_minor": 2
}
