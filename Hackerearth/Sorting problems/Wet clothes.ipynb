{
 "cells": [
  {
   "cell_type": "code",
   "execution_count": 5,
   "metadata": {},
   "outputs": [
    {
     "name": "stdout",
     "output_type": "stream",
     "text": [
      "3 5 3\n",
      "3 6 9\n",
      "1 1 1 1 1\n"
     ]
    }
   ],
   "source": [
    "n,m,g=input().split()\n",
    "n=int(n)\n",
    "m=int(m)\n",
    "g=int(g)\n",
    "timing=list(map(int,input().split()))\n",
    "clothes=list(map(int,input().split()))\n",
    "\n"
   ]
  },
  {
   "cell_type": "code",
   "execution_count": 12,
   "metadata": {},
   "outputs": [
    {
     "name": "stdout",
     "output_type": "stream",
     "text": [
      "1\n",
      "JamesO\n",
      "3\n"
     ]
    }
   ],
   "source": [
    "t=int(input())\n",
    "answer=[]\n",
    "def solution(s):\n",
    "    count=0\n",
    "    vowel=['a','e','i','o','u','A','E','I','O','U']\n",
    "    for i in s:\n",
    "        if i in vowel:\n",
    "            count+=1\n",
    "    return count\n",
    "\n",
    "\n",
    "for i in range(t):\n",
    "    string=input()\n",
    "    answer.append(solution(string))\n",
    "    \n",
    "\n",
    "\n",
    "for i in answer:\n",
    "    print(i)"
   ]
  },
  {
   "cell_type": "markdown",
   "metadata": {},
   "source": [
    "## Won't allow this way"
   ]
  },
  {
   "cell_type": "code",
   "execution_count": 14,
   "metadata": {},
   "outputs": [
    {
     "name": "stdout",
     "output_type": "stream",
     "text": [
      "3045 3 4598 343 45 2 9 67 7 22\n",
      "Enter the element to search22\n",
      "Element is present at index 9\n"
     ]
    }
   ],
   "source": [
    "def linearsearch(array,element):\n",
    "    for i in range(len(array)):\n",
    "        if element==array[i]:\n",
    "            return i\n",
    "        \n",
    "    return -1\n",
    "\n",
    "array=list(map(int,input().split()))\n",
    "element=int(input(\"Enter the element to search\"))\n",
    "flag=linearsearch(array,element)\n",
    "if flag==-1:\n",
    "    print(\"Not found\")\n",
    "else:\n",
    "    print(\"Element is present at index\",flag)"
   ]
  },
  {
   "cell_type": "code",
   "execution_count": null,
   "metadata": {},
   "outputs": [],
   "source": []
  }
 ],
 "metadata": {
  "kernelspec": {
   "display_name": "Python 3",
   "language": "python",
   "name": "python3"
  },
  "language_info": {
   "codemirror_mode": {
    "name": "ipython",
    "version": 3
   },
   "file_extension": ".py",
   "mimetype": "text/x-python",
   "name": "python",
   "nbconvert_exporter": "python",
   "pygments_lexer": "ipython3",
   "version": "3.7.2"
  }
 },
 "nbformat": 4,
 "nbformat_minor": 2
}
