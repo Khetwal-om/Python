{
 "cells": [
  {
   "cell_type": "code",
   "execution_count": 25,
   "metadata": {},
   "outputs": [
    {
     "name": "stdout",
     "output_type": "stream",
     "text": [
      "[0, 1, 2, 3, 4]\n",
      "4\n",
      "[1, 3, 4, 5, 7]\n",
      "0\n",
      "1\n",
      "2\n",
      "3\n",
      "4\n"
     ]
    }
   ],
   "source": [
    "array=[4,5,3,7,1]\n",
    "store=[]\n",
    "for i in array:\n",
    "    store.append(i)\n",
    "    \n",
    "print(store)\n",
    "\n",
    "\n",
    "array.sort()\n",
    "\n",
    "# nova=[]\n",
    "# for j in array:\n",
    "#     nova.append(store.index(j))\n",
    "\n",
    "# print(nova)\n",
    "print(store[0])\n",
    "\n",
    "print(store[1])\n",
    "print(store[2])\n",
    "print(store[3])\n",
    "print(store[4])"
   ]
  },
  {
   "cell_type": "code",
   "execution_count": 10,
   "metadata": {},
   "outputs": [
    {
     "name": "stdout",
     "output_type": "stream",
     "text": [
      "5\n",
      "1 87 5\n",
      "0 2 1 "
     ]
    }
   ],
   "source": [
    "m=int(input())\n",
    "array=list(map(int,input().split()))\n",
    "store=[]\n",
    "for i in array:\n",
    "    store.append(i)\n",
    "    \n",
    "def bubble(array):\n",
    "    for i in range(len(array)-1,0,-1):\n",
    "        for j in range(i):\n",
    "            if array[j]>array[j+1]:\n",
    "                array[j],array[j+1]=array[j+1],array[j]\n",
    "\n",
    "\n",
    "\n",
    "bubble(array)\n",
    "nova=[]\n",
    "for i in array:\n",
    "    nova.append(store.index(i))\n",
    "    \n",
    "final=[]\n",
    "for i in nova:\n",
    "    if i not in final:\n",
    "        final.append(i)\n",
    "        \n",
    "\n",
    "for i in final:\n",
    "    print(i,end=' ')"
   ]
  },
  {
   "cell_type": "code",
   "execution_count": 3,
   "metadata": {},
   "outputs": [
    {
     "name": "stdout",
     "output_type": "stream",
     "text": [
      "[0, 1, 2, 3, 4]\n"
     ]
    }
   ],
   "source": [
    "array=[4,5,3,7,1]\n",
    "store=array\n",
    "array.sort()\n",
    "nova=[]\n",
    "for i in array:\n",
    "    nova.append(store.index(i))\n",
    "\n",
    "\n",
    "print(nova)"
   ]
  },
  {
   "cell_type": "code",
   "execution_count": null,
   "metadata": {},
   "outputs": [],
   "source": []
  },
  {
   "cell_type": "markdown",
   "metadata": {},
   "source": [
    "# My submission\n",
    "\n"
   ]
  },
  {
   "cell_type": "code",
   "execution_count": null,
   "metadata": {},
   "outputs": [],
   "source": [
    "m=int(input())\n",
    "array=list(map(int,input().split()))\n",
    "store=[]\n",
    "for i in array:\n",
    "    store.append(i)\n",
    "    \n",
    "def bubble(array):\n",
    "    for i in range(len(array)-1,0,-1):\n",
    "        for j in range(i):\n",
    "            if array[j]>array[j+1]:\n",
    "                array[j],array[j+1]=array[j+1],array[j]\n",
    "\n",
    "\n",
    "\n",
    "bubble(array)\n",
    "nova=[]\n",
    "for i in array:\n",
    "    nova.append(store.index(i))\n",
    "    \n",
    "final=[]\n",
    "for i in nova:\n",
    "    if i not in final:\n",
    "        final.append(i)\n",
    "        \n",
    "\n",
    "for i in final:\n",
    "    print(i,end=' ')"
   ]
  },
  {
   "cell_type": "code",
   "execution_count": null,
   "metadata": {},
   "outputs": [],
   "source": [
    "m=int(input())\n",
    "array=list(map(int,input().split()))\n",
    "store=[]\n",
    "for i in array:\n",
    "    store.append(i)\n",
    "    \n",
    "def bubble(array):\n",
    "    for i in range(len(array)-1,0,-1):\n",
    "        for j in range(i):\n",
    "            if array[j]>array[j+1]:\n",
    "                array[j],array[j+1]=array[j+1],array[j]\n",
    "\n",
    "\n",
    "\n",
    "bubble(array)\n",
    "nova=[]\n",
    "for i in array:\n",
    "    nova.append(store.index(i))\n",
    "    \n",
    "\n",
    "for i in nova:\n",
    "    print(i,end=' ')"
   ]
  }
 ],
 "metadata": {
  "kernelspec": {
   "display_name": "Python 3",
   "language": "python",
   "name": "python3"
  },
  "language_info": {
   "codemirror_mode": {
    "name": "ipython",
    "version": 3
   },
   "file_extension": ".py",
   "mimetype": "text/x-python",
   "name": "python",
   "nbconvert_exporter": "python",
   "pygments_lexer": "ipython3",
   "version": "3.7.2"
  }
 },
 "nbformat": 4,
 "nbformat_minor": 2
}
