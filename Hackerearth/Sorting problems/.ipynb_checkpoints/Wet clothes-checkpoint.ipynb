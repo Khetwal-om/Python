{
 "cells": [
  {
   "cell_type": "code",
   "execution_count": 5,
   "metadata": {},
   "outputs": [
    {
     "name": "stdout",
     "output_type": "stream",
     "text": [
      "3 5 3\n",
      "3 6 9\n",
      "1 1 1 1 1\n"
     ]
    }
   ],
   "source": [
    "n,m,g=input().split()\n",
    "n=int(n)\n",
    "m=int(m)\n",
    "g=int(g)\n",
    "timing=list(map(int,input().split()))\n",
    "clothes=list(map(int,input().split()))\n",
    "\n"
   ]
  },
  {
   "cell_type": "code",
   "execution_count": 12,
   "metadata": {},
   "outputs": [
    {
     "name": "stdout",
     "output_type": "stream",
     "text": [
      "1\n",
      "JamesO\n",
      "3\n"
     ]
    }
   ],
   "source": [
    "t=int(input())\n",
    "answer=[]\n",
    "def solution(s):\n",
    "    count=0\n",
    "    vowel=['a','e','i','o','u','A','E','I','O','U']\n",
    "    for i in s:\n",
    "        if i in vowel:\n",
    "            count+=1\n",
    "    return count\n",
    "\n",
    "\n",
    "for i in range(t):\n",
    "    string=input()\n",
    "    answer.append(solution(string))\n",
    "    \n",
    "\n",
    "\n",
    "for i in answer:\n",
    "    print(i)"
   ]
  },
  {
   "cell_type": "markdown",
   "metadata": {},
   "source": [
    "## Won't allow this way"
   ]
  },
  {
   "cell_type": "code",
   "execution_count": null,
   "metadata": {},
   "outputs": [],
   "source": []
  }
 ],
 "metadata": {
  "kernelspec": {
   "display_name": "Python 3",
   "language": "python",
   "name": "python3"
  },
  "language_info": {
   "codemirror_mode": {
    "name": "ipython",
    "version": 3
   },
   "file_extension": ".py",
   "mimetype": "text/x-python",
   "name": "python",
   "nbconvert_exporter": "python",
   "pygments_lexer": "ipython3",
   "version": "3.7.2"
  }
 },
 "nbformat": 4,
 "nbformat_minor": 2
}
