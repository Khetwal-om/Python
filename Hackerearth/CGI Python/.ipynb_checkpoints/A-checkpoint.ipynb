{
 "cells": [
  {
   "cell_type": "code",
   "execution_count": 42,
   "metadata": {},
   "outputs": [
    {
     "name": "stdout",
     "output_type": "stream",
     "text": [
      "100000000\n"
     ]
    },
    {
     "ename": "ValueError",
     "evalue": "not enough values to unpack (expected 2, got 1)",
     "output_type": "error",
     "traceback": [
      "\u001b[1;31m---------------------------------------------------------------------------\u001b[0m",
      "\u001b[1;31mValueError\u001b[0m                                Traceback (most recent call last)",
      "\u001b[1;32m<ipython-input-42-938533b04173>\u001b[0m in \u001b[0;36m<module>\u001b[1;34m\u001b[0m\n\u001b[1;32m----> 1\u001b[1;33m \u001b[0ma\u001b[0m\u001b[1;33m,\u001b[0m\u001b[0mb\u001b[0m\u001b[1;33m=\u001b[0m\u001b[0minput\u001b[0m\u001b[1;33m(\u001b[0m\u001b[1;33m)\u001b[0m\u001b[1;33m.\u001b[0m\u001b[0msplit\u001b[0m\u001b[1;33m(\u001b[0m\u001b[1;33m)\u001b[0m\u001b[1;33m\u001b[0m\u001b[1;33m\u001b[0m\u001b[0m\n\u001b[0m\u001b[0;32m      2\u001b[0m \u001b[0ma\u001b[0m\u001b[1;33m=\u001b[0m\u001b[0mint\u001b[0m\u001b[1;33m(\u001b[0m\u001b[0ma\u001b[0m\u001b[1;33m)\u001b[0m\u001b[1;33m\u001b[0m\u001b[1;33m\u001b[0m\u001b[0m\n\u001b[0;32m      3\u001b[0m \u001b[0mb\u001b[0m\u001b[1;33m=\u001b[0m\u001b[0mint\u001b[0m\u001b[1;33m(\u001b[0m\u001b[0mb\u001b[0m\u001b[1;33m)\u001b[0m\u001b[1;33m\u001b[0m\u001b[1;33m\u001b[0m\u001b[0m\n\u001b[0;32m      4\u001b[0m \u001b[1;33m\u001b[0m\u001b[0m\n\u001b[0;32m      5\u001b[0m \u001b[1;32mif\u001b[0m \u001b[0ma\u001b[0m\u001b[1;33m>\u001b[0m\u001b[0mb\u001b[0m\u001b[1;33m:\u001b[0m\u001b[1;33m\u001b[0m\u001b[1;33m\u001b[0m\u001b[0m\n",
      "\u001b[1;31mValueError\u001b[0m: not enough values to unpack (expected 2, got 1)"
     ]
    }
   ],
   "source": [
    "a,b=input().split()\n",
    "a=int(a)\n",
    "b=int(b)\n",
    "\n",
    "if a>b:\n",
    "    large=a\n",
    "else:\n",
    "    large=b\n",
    "    \n",
    "common=[]\n",
    "for i in range(1,large+1):\n",
    "    if a%i==0 and b%i==0:\n",
    "        common.append(i)\n",
    "print(len(common))       \n",
    "        "
   ]
  },
  {
   "cell_type": "markdown",
   "metadata": {},
   "source": [
    "# array=list(map(int,input().split()))\n",
    "yelp=sum(array)\n",
    "new=0\n",
    "for i in array:\n",
    "    new=new+i\n",
    "if sum(new)<=yelp:\n",
    "    \n",
    "    \n",
    "def Sublime(array):\n",
    "    yelp=sum(array)\n",
    "    f\n"
   ]
  },
  {
   "cell_type": "code",
   "execution_count": 45,
   "metadata": {},
   "outputs": [
    {
     "name": "stdout",
     "output_type": "stream",
     "text": [
      "100 100\n",
      "0\n",
      "1\n"
     ]
    }
   ],
   "source": [
    "count=0\n",
    "def gcd(a,b):\n",
    "    global count\n",
    "    print(count)\n",
    "    count=count+1\n",
    "    if a%b==0:\n",
    "        return 1\n",
    "    else: \n",
    "        return gcd(b,a%b)\n",
    "    \n",
    "a,b=input().split()\n",
    "a=int(a)\n",
    "b=int(b)\n",
    "gcd(a,b)\n",
    "print(count)"
   ]
  },
  {
   "cell_type": "code",
   "execution_count": 34,
   "metadata": {},
   "outputs": [
    {
     "name": "stdout",
     "output_type": "stream",
     "text": [
      "100000000000 10000000000000000\n",
      "1\n"
     ]
    }
   ],
   "source": [
    "count=0\n",
    "def gcd(a,b):\n",
    "    if a==0:\n",
    "        return b\n",
    "    else: \n",
    "        \n",
    "        global count\n",
    "        count=count+1\n",
    "        return gcd(b%a,a)\n",
    "    \n",
    "a,b=input().split()\n",
    "a=int(a)\n",
    "b=int(b)\n",
    "gcd(a,b)\n",
    "print(count)"
   ]
  },
  {
   "cell_type": "code",
   "execution_count": 33,
   "metadata": {},
   "outputs": [
    {
     "name": "stdout",
     "output_type": "stream",
     "text": [
      "10 15\n",
      "2\n"
     ]
    }
   ],
   "source": [
    "count=0\n",
    "def gcd(a,b):\n",
    "    if a%b==0:\n",
    "        return 1\n",
    "    else: \n",
    "        global count\n",
    "        count=count+1\n",
    "   \n",
    "        return gcd(b,a%b)\n",
    "    \n",
    "a,b=input().split()\n",
    "a=int(a)\n",
    "b=int(b)\n",
    "gcd(a,b)\n",
    "print(count)"
   ]
  },
  {
   "cell_type": "code",
   "execution_count": 40,
   "metadata": {},
   "outputs": [
    {
     "name": "stdout",
     "output_type": "stream",
     "text": [
      "Enter the value of m 1000\n",
      "Enter the value of n1000\n",
      "1000\n",
      "1\n"
     ]
    }
   ],
   "source": [
    "count=0\n",
    "def gcd(m,n):\n",
    "    global count\n",
    "  \n",
    "    if m<n:\n",
    "        m,n=n,m\n",
    "    if m%n==0:\n",
    "        count+=1\n",
    "        \n",
    "        return n\n",
    "    else:\n",
    "        count+=1\n",
    "        return gcd(n,m%n)\n",
    "    \n",
    "\n",
    "m=int(input(\"Enter the value of m \"))\n",
    "n=int(input(\"Enter the value of n\"))\n",
    "print(gcd(m,n))\n",
    "print(count)\n"
   ]
  },
  {
   "cell_type": "code",
   "execution_count": null,
   "metadata": {},
   "outputs": [],
   "source": []
  }
 ],
 "metadata": {
  "kernelspec": {
   "display_name": "Python 3",
   "language": "python",
   "name": "python3"
  },
  "language_info": {
   "codemirror_mode": {
    "name": "ipython",
    "version": 3
   },
   "file_extension": ".py",
   "mimetype": "text/x-python",
   "name": "python",
   "nbconvert_exporter": "python",
   "pygments_lexer": "ipython3",
   "version": "3.7.2"
  }
 },
 "nbformat": 4,
 "nbformat_minor": 2
}
