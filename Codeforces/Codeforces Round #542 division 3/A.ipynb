{
 "cells": [
  {
   "cell_type": "code",
   "execution_count": null,
   "metadata": {},
   "outputs": [],
   "source": [
    "line=list(map(int,input().split()))"
   ]
  },
  {
   "cell_type": "code",
   "execution_count": 2,
   "metadata": {},
   "outputs": [
    {
     "name": "stdout",
     "output_type": "stream",
     "text": [
      "43 65\n"
     ]
    }
   ],
   "source": [
    "a,b=input().split()\n",
    "a=int(a)\n",
    "b=int(b)\n",
    "\n",
    "if a==b:\n",
    "    return 0\n",
    "\n",
    "if b%a!=0:\n",
    "    return -1\n"
   ]
  },
  {
   "cell_type": "code",
   "execution_count": 9,
   "metadata": {},
   "outputs": [
    {
     "name": "stdout",
     "output_type": "stream",
     "text": [
      "number51840\n",
      "[120, 240, 360, 480, 720, 960, 1080, 1440, 1920, 2160, 2880, 3240, 4320, 5760, 6480, 8640, 12960, 17280, 25920, 51840]\n",
      "20\n"
     ]
    }
   ],
   "source": [
    "n=int(input(\"number\"))\n",
    "hola=[]\n",
    "count=0\n",
    "for i in range(1,n+1):\n",
    "    if n%i==0 and i%120==0:\n",
    "        count+=1\n",
    "        hola.append(i)\n",
    "        \n",
    "print(hola)\n",
    "print(count)"
   ]
  },
  {
   "cell_type": "code",
   "execution_count": 14,
   "metadata": {},
   "outputs": [
    {
     "name": "stdout",
     "output_type": "stream",
     "text": [
      "432.0\n"
     ]
    }
   ],
   "source": [
    "print(51840/120)"
   ]
  },
  {
   "cell_type": "code",
   "execution_count": 18,
   "metadata": {},
   "outputs": [
    {
     "name": "stdout",
     "output_type": "stream",
     "text": [
      "432.0\n"
     ]
    }
   ],
   "source": [
    "m=51840\n",
    "n=120\n",
    "d=m/n\n",
    "print(d)\n",
    "\n",
    "\n",
    "d=(2**x)*(3**y)    "
   ]
  },
  {
   "cell_type": "code",
   "execution_count": 23,
   "metadata": {},
   "outputs": [
    {
     "name": "stdout",
     "output_type": "stream",
     "text": [
      "51840\n",
      "120\n",
      "0\n",
      "216.0\n",
      "108.0\n",
      "54.0\n",
      "27.0\n",
      "4\n",
      "9.0\n",
      "3.0\n",
      "1.0\n",
      "7\n",
      "7\n"
     ]
    }
   ],
   "source": [
    "a=int(input())\n",
    "b=int(input())\n",
    "result=-1\n",
    "if a%b==0:\n",
    "    result=0\n",
    "    d=m/n\n",
    "    print(result)\n",
    "    while(d%2==0):\n",
    "        d=d/2\n",
    "        print(d)\n",
    "        result+=1\n",
    "    print(result)\n",
    "    while(d%3==0):\n",
    "        d=d/3\n",
    "        print(d)\n",
    "        result+=1\n",
    "    print(result)\n",
    "    if (d!=1):\n",
    "        result=-1\n",
    "        \n",
    "print(result)"
   ]
  },
  {
   "cell_type": "code",
   "execution_count": null,
   "metadata": {},
   "outputs": [],
   "source": []
  }
 ],
 "metadata": {
  "kernelspec": {
   "display_name": "Python 3",
   "language": "python",
   "name": "python3"
  },
  "language_info": {
   "codemirror_mode": {
    "name": "ipython",
    "version": 3
   },
   "file_extension": ".py",
   "mimetype": "text/x-python",
   "name": "python",
   "nbconvert_exporter": "python",
   "pygments_lexer": "ipython3",
   "version": "3.7.2"
  }
 },
 "nbformat": 4,
 "nbformat_minor": 2
}
