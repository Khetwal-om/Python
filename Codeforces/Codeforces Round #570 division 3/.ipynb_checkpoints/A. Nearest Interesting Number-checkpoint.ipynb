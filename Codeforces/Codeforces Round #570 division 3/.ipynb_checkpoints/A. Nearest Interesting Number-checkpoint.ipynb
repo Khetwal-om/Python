{
 "cells": [
  {
   "cell_type": "code",
   "execution_count": 36,
   "metadata": {},
   "outputs": [
    {
     "name": "stdout",
     "output_type": "stream",
     "text": [
      "Enter the number432\n",
      "435\n"
     ]
    }
   ],
   "source": [
    "number=int(input(\"Enter the number\"))\n",
    "temp=number\n",
    "\n",
    "def interesting(number):\n",
    "    addition=0\n",
    "    remainder=0\n",
    "    temp=number\n",
    "    while(number!=0):\n",
    "        remainder=number%10\n",
    "        addition=addition+remainder\n",
    "        number=number//10\n",
    "    \n",
    "    return addition%4\n",
    "\n",
    "    \n",
    "\n",
    "    \n",
    "for i in range(temp,1000):\n",
    "    if interesting(i)==0:\n",
    "        print(i)\n",
    "        break"
   ]
  },
  {
   "cell_type": "code",
   "execution_count": null,
   "metadata": {},
   "outputs": [],
   "source": [
    "number=int(input('enter'))\n",
    "temp=number\n",
    "\n",
    "def interesting(number):\n",
    "    addition=0\n",
    "    remainder=0\n",
    "    temp=number\n",
    "    while(number!=0):\n",
    "        remainder=number%10\n",
    "        addition=addition+remainder\n",
    "        number=number//10\n",
    "    \n",
    "    return addition%4\n",
    "\n",
    "        \n",
    "for i in range(temp,1000):\n",
    "    if interesting(i)==0:\n",
    "        print(i)\n",
    "        break\n",
    "\n"
   ]
  },
  {
   "cell_type": "code",
   "execution_count": null,
   "metadata": {},
   "outputs": [],
   "source": []
  }
 ],
 "metadata": {
  "kernelspec": {
   "display_name": "Python 3",
   "language": "python",
   "name": "python3"
  },
  "language_info": {
   "codemirror_mode": {
    "name": "ipython",
    "version": 3
   },
   "file_extension": ".py",
   "mimetype": "text/x-python",
   "name": "python",
   "nbconvert_exporter": "python",
   "pygments_lexer": "ipython3",
   "version": "3.7.2"
  }
 },
 "nbformat": 4,
 "nbformat_minor": 2
}
