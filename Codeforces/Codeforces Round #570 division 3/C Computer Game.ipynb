{
 "cells": [
  {
   "cell_type": "code",
   "execution_count": 18,
   "metadata": {},
   "outputs": [
    {
     "name": "stdout",
     "output_type": "stream",
     "text": [
      "Enter the amount of battery15\n",
      "Enter the number of turns5\n",
      "Enter value of a amount of battery3\n",
      "Enter value of b amount of battery2\n",
      "----------\n",
      "15\n",
      "value of k within a 12\n",
      "value of count 1\n",
      "value of k within b 10\n",
      "value of count within b 2\n",
      "----------\n",
      "10\n",
      "value of k within a 7\n",
      "value of count 3\n",
      "value of k within b 5\n",
      "value of count within b 4\n",
      "----------\n",
      "5\n",
      "value of k within a 2\n",
      "value of count 5\n",
      "value of k within b 0\n",
      "value of count within b 6\n",
      "value of count before return 6\n",
      "-1\n"
     ]
    }
   ],
   "source": [
    "k=int(input(\"Enter the amount of battery\"))\n",
    "n=int(input(\"Enter the number of turns\"))\n",
    "a=int(input(\"Enter value of a amount of battery\"))\n",
    "b=int(input(\"Enter value of b amount of battery\"))\n",
    "\n",
    "# queries=int(input(\"Enter the number of queries\"))\n",
    "\n",
    "def answer(k,n,a,b):\n",
    "    count=0\n",
    "    for i in range(n+1):\n",
    "        print('----------')\n",
    "        if a<k:\n",
    "    \n",
    "            print(k)\n",
    "            k=k-a\n",
    "            print('value of k within a',k)\n",
    "            count=count+1\n",
    "            print('value of count',count)\n",
    "        if b<a and b<=k:\n",
    "            k=k-b\n",
    "            print('value of k within b',k)\n",
    "            count=count+1\n",
    "            print('value of count within b',count)\n",
    "        if k<=a and k<=b:\n",
    "            print('value of count before return',count)\n",
    "            return -1\n",
    "    print('value of count outside loop',count)\n",
    "\n",
    "\n",
    "print(answer(k,n,a,b))"
   ]
  },
  {
   "cell_type": "code",
   "execution_count": null,
   "metadata": {},
   "outputs": [],
   "source": []
  }
 ],
 "metadata": {
  "kernelspec": {
   "display_name": "Python 3",
   "language": "python",
   "name": "python3"
  },
  "language_info": {
   "codemirror_mode": {
    "name": "ipython",
    "version": 3
   },
   "file_extension": ".py",
   "mimetype": "text/x-python",
   "name": "python",
   "nbconvert_exporter": "python",
   "pygments_lexer": "ipython3",
   "version": "3.7.2"
  }
 },
 "nbformat": 4,
 "nbformat_minor": 2
}
