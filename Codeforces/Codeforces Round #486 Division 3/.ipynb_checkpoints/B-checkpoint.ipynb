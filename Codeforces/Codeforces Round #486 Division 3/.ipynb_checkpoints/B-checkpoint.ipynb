{
 "cells": [
  {
   "cell_type": "code",
   "execution_count": 17,
   "metadata": {},
   "outputs": [
    {
     "name": "stdout",
     "output_type": "stream",
     "text": [
      "2\n",
      "s\n",
      "sd\n",
      "['s', 'sd']\n",
      "['s', 'sd']\n"
     ]
    }
   ],
   "source": [
    "n=int(input())\n",
    "wow=[]\n",
    "for i in range(n):\n",
    "    string=input()\n",
    "    wow.append(string)\n",
    "\n",
    "print(wow)\n",
    "wow.sort()\n",
    "print(wow)\n"
   ]
  },
  {
   "cell_type": "code",
   "execution_count": 4,
   "metadata": {},
   "outputs": [
    {
     "name": "stdout",
     "output_type": "stream",
     "text": [
      "['a', 'aa', 'aaaabaa', 'aabaa']\n",
      "aabaa\n"
     ]
    }
   ],
   "source": [
    "list_a=['aa','aabaa','aaaabaa','a']\n",
    "list_a.sort()\n",
    "print(list_a)\n",
    "print(max(list_a))\n",
    "\n"
   ]
  },
  {
   "cell_type": "code",
   "execution_count": 5,
   "metadata": {},
   "outputs": [
    {
     "data": {
      "text/plain": [
       "True"
      ]
     },
     "execution_count": 5,
     "metadata": {},
     "output_type": "execute_result"
    }
   ],
   "source": [
    "'aabaa' in 'aaaabaa'"
   ]
  },
  {
   "cell_type": "code",
   "execution_count": 7,
   "metadata": {},
   "outputs": [
    {
     "data": {
      "text/plain": [
       "2"
      ]
     },
     "execution_count": 7,
     "metadata": {},
     "output_type": "execute_result"
    }
   ],
   "source": [
    "len('aa')"
   ]
  },
  {
   "cell_type": "code",
   "execution_count": 8,
   "metadata": {},
   "outputs": [
    {
     "data": {
      "text/plain": [
       "7"
      ]
     },
     "execution_count": 8,
     "metadata": {},
     "output_type": "execute_result"
    }
   ],
   "source": [
    "len('aaaabaa')"
   ]
  },
  {
   "cell_type": "code",
   "execution_count": 9,
   "metadata": {},
   "outputs": [
    {
     "data": {
      "text/plain": [
       "5"
      ]
     },
     "execution_count": 9,
     "metadata": {},
     "output_type": "execute_result"
    }
   ],
   "source": [
    "len('aabaa')"
   ]
  },
  {
   "cell_type": "code",
   "execution_count": 25,
   "metadata": {},
   "outputs": [
    {
     "name": "stdout",
     "output_type": "stream",
     "text": [
      "[2, 5, 7, 1, 20]\n",
      "aaaaaaaaaaaabaaaaaaa\n"
     ]
    }
   ],
   "source": [
    "list_a=['aa','aabaa','aaaabaa','a','aaaaaaaaaaaabaaaaaaa']\n",
    "\n",
    "length_list=[]\n",
    "for i in list_a:\n",
    "    length_list.append(len(i))\n",
    "    \n",
    "print(length_list)\n",
    "indexme=length_list.index(max(length_list))\n",
    "\n",
    "base=list_a[indexme]\n",
    "print(base)\n",
    "\n",
    "\n",
    "for i in list_a:\n",
    "    if i not in  base:\n",
    "        print(\"Something fucked me!\")\n",
    "        break\n",
    "    "
   ]
  },
  {
   "cell_type": "code",
   "execution_count": 4,
   "metadata": {},
   "outputs": [
    {
     "name": "stdout",
     "output_type": "stream",
     "text": [
      "[6, 6, 6, 2]\n",
      "qwerty\n",
      "NO\n"
     ]
    }
   ],
   "source": [
    "list_a=['qwerty','qwerty','qwerty','yi']\n",
    "\n",
    "length_list=[]\n",
    "for i in list_a:\n",
    "    length_list.append(len(i))\n",
    "    \n",
    "print(length_list)\n",
    "indexme=length_list.index(max(length_list))\n",
    "\n",
    "base=list_a[indexme]\n",
    "print(base)\n",
    "\n",
    "\n",
    "for i in list_a:\n",
    "    if i not in  base:\n",
    "        print(\"NO\")\n",
    "        break\n",
    "    "
   ]
  },
  {
   "cell_type": "code",
   "execution_count": 29,
   "metadata": {},
   "outputs": [
    {
     "name": "stdout",
     "output_type": "stream",
     "text": [
      "5\n",
      "a\n",
      "aba\n",
      "abacaba\n",
      "ba\n",
      "aba\n",
      "YES\n",
      "a\n",
      "ba\n",
      "aba\n",
      "aba\n",
      "abacaba\n"
     ]
    }
   ],
   "source": [
    "n=int(input())\n",
    "list_a=[]\n",
    "for i in range(n):\n",
    "    string=input(\"\")\n",
    "    list_a.append(string)\n",
    "\n",
    "\n",
    "length_list=[]\n",
    "for i in list_a:\n",
    "    length_list.append(len(i))\n",
    "    \n",
    "indexme=length_list.index(max(length_list))\n",
    "\n",
    "base=list_a[indexme]\n",
    "\n",
    "\n",
    "flag=0\n",
    "\n",
    "for i in list_a:\n",
    "    if i not in  base:\n",
    "        print(\"NO\")\n",
    "        flag=1\n",
    "        break\n",
    "list_a.sort(key=len)\n",
    "        \n",
    "if flag==0:\n",
    "    print(\"YES\")\n",
    "    for i in list_a:\n",
    "        print(i)\n",
    "    "
   ]
  },
  {
   "cell_type": "code",
   "execution_count": 22,
   "metadata": {},
   "outputs": [
    {
     "name": "stdout",
     "output_type": "stream",
     "text": [
      "['a', 'ba', 'aba', 'aba', 'abacaba']\n"
     ]
    }
   ],
   "source": [
    "hola=['a','aba','abacaba','ba','aba']\n",
    "nova=[1,3,7,2,3]\n",
    "answer=sorted(hola,key=len)\n",
    "print(answer)"
   ]
  },
  {
   "cell_type": "code",
   "execution_count": 23,
   "metadata": {},
   "outputs": [
    {
     "name": "stdout",
     "output_type": "stream",
     "text": [
      "['qwerty', 'qwerty', 'qwerty', 'qwerty', 'qwerty']\n"
     ]
    }
   ],
   "source": [
    "hola=['qwerty','qwerty','qwerty','qwerty','qwerty']\n",
    "nova=[1,3,7,2,3]\n",
    "answer=sorted(hola,key=len)\n",
    "print(answer)"
   ]
  },
  {
   "cell_type": "code",
   "execution_count": 27,
   "metadata": {},
   "outputs": [
    {
     "name": "stdout",
     "output_type": "stream",
     "text": [
      "['qwerty', 'qwerty', 'qwerty', 'qwerty', 'qwertyyy']\n"
     ]
    }
   ],
   "source": [
    "hola=['qwertyyy','qwerty','qwerty','qwerty','qwerty']\n",
    "hola.sort(key=len)\n",
    "print(hola)"
   ]
  },
  {
   "cell_type": "code",
   "execution_count": null,
   "metadata": {},
   "outputs": [],
   "source": [
    "n=int(input())\n",
    "list_a=[]\n",
    "for i in range(n):\n",
    "    string=input(\"\")\n",
    "    list_a.append(string)\n",
    "\n",
    "\n",
    "length_list=[]\n",
    "for i in list_a:\n",
    "    length_list.append(len(i))\n",
    "    \n",
    "indexme=length_list.index(max(length_list))\n",
    "\n",
    "base=list_a[indexme]\n",
    "\n",
    "\n",
    "flag=0\n",
    "\n",
    "for i in list_a:\n",
    "    if i not in  base:\n",
    "        print(\"NO\")\n",
    "        flag=1\n",
    "        break\n",
    "list_a.sort(key=len)\n",
    "        \n",
    "if flag==0:\n",
    "    print(\"YES\")\n",
    "    for i in list_a:\n",
    "        print(i)\n",
    "    "
   ]
  },
  {
   "cell_type": "code",
   "execution_count": 38,
   "metadata": {},
   "outputs": [
    {
     "name": "stdout",
     "output_type": "stream",
     "text": [
      "no\n"
     ]
    }
   ],
   "source": [
    "pal=['a','b','ab']\n",
    "minIndex=0\n",
    "for i in range(len(pal)):\n",
    "    for j in range(i+1,len(pal)):\n",
    "        if pal[i] not in pal [i+1]:\n",
    "            print('no')\n",
    "            break\n",
    "    "
   ]
  },
  {
   "cell_type": "code",
   "execution_count": 46,
   "metadata": {},
   "outputs": [
    {
     "name": "stdout",
     "output_type": "stream",
     "text": [
      "['a', 'ba', 'aba', 'aba', 'abacaba']\n",
      "YES\n",
      "a\n",
      "ba\n",
      "aba\n",
      "aba\n",
      "abacaba\n"
     ]
    }
   ],
   "source": [
    "pal=['a','aba','abacaba','ba','aba']\n",
    "pal.sort(key=len)\n",
    "print(pal)\n",
    "minIndex=0\n",
    "flag=0\n",
    "for i in range(len(pal)):\n",
    "    for j in range(i+1,len(pal)):\n",
    "        if pal[minIndex] not in pal [i+1]:\n",
    "            flag=1\n",
    "            print(\"NO\")\n",
    "            break\n",
    "    minIndex+=1\n",
    "    \n",
    "if flag==0:\n",
    "    print(\"YES\")\n",
    "    for i in pal:\n",
    "        print(i)\n"
   ]
  },
  {
   "cell_type": "code",
   "execution_count": 43,
   "metadata": {},
   "outputs": [
    {
     "name": "stdout",
     "output_type": "stream",
     "text": [
      "['a', 'b', 'ba']\n",
      "no\n"
     ]
    }
   ],
   "source": [
    "pal=['a','b','ba']\n",
    "pal.sort(key=len)\n",
    "print(pal)\n",
    "minIndex=0\n",
    "for i in range(len(pal)):\n",
    "    for j in range(i+1,len(pal)):\n",
    "        if pal[minIndex] not in pal [i+1]:\n",
    "            print('no')\n",
    "            break\n",
    "    minIndex+=1\n"
   ]
  },
  {
   "cell_type": "code",
   "execution_count": 48,
   "metadata": {},
   "outputs": [
    {
     "name": "stdout",
     "output_type": "stream",
     "text": [
      "['a', 'ba', 'aba', 'abab', 'abacaba']\n",
      "NO\n"
     ]
    }
   ],
   "source": [
    "pal=['a','abacaba','ba','aba','abab']\n",
    "pal.sort(key=len)\n",
    "print(pal)\n",
    "minIndex=0\n",
    "flag=0\n",
    "for i in range(len(pal)):\n",
    "    for j in range(i+1,len(pal)):\n",
    "        if pal[minIndex] not in pal [i+1]:\n",
    "            flag=1\n",
    "            print(\"NO\")\n",
    "            break\n",
    "    minIndex+=1\n",
    "    \n",
    "if flag==0:\n",
    "    print(\"YES\")\n",
    "    for i in pal:\n",
    "        print(i)\n"
   ]
  },
  {
   "cell_type": "markdown",
   "metadata": {},
   "source": [
    "# Final\n"
   ]
  },
  {
   "cell_type": "code",
   "execution_count": 49,
   "metadata": {},
   "outputs": [
    {
     "name": "stdout",
     "output_type": "stream",
     "text": [
      "5\n",
      "a\n",
      "aba\n",
      "abacaba\n",
      "ba\n",
      "aba\n",
      "['a', 'ba', 'aba', 'aba', 'abacaba']\n",
      "YES\n",
      "a\n",
      "ba\n",
      "aba\n",
      "aba\n",
      "abacaba\n"
     ]
    }
   ],
   "source": [
    "n=int(input())\n",
    "pal=[]\n",
    "for i in range(n):\n",
    "    string=input()\n",
    "    pal.append(string)\n",
    "pal.sort(key=len)\n",
    "minIndex=0\n",
    "flag=0\n",
    "for i in range(len(pal)):\n",
    "    for j in range(i+1,len(pal)):\n",
    "        if pal[minIndex] not in pal [i+1]:\n",
    "            flag=1\n",
    "            print(\"NO\")\n",
    "            break\n",
    "    minIndex+=1\n",
    "    \n",
    "if flag==0:\n",
    "    print(\"YES\")\n",
    "    for i in pal:\n",
    "        print(i)\n"
   ]
  },
  {
   "cell_type": "code",
   "execution_count": null,
   "metadata": {},
   "outputs": [],
   "source": []
  }
 ],
 "metadata": {
  "kernelspec": {
   "display_name": "Python 3",
   "language": "python",
   "name": "python3"
  },
  "language_info": {
   "codemirror_mode": {
    "name": "ipython",
    "version": 3
   },
   "file_extension": ".py",
   "mimetype": "text/x-python",
   "name": "python",
   "nbconvert_exporter": "python",
   "pygments_lexer": "ipython3",
   "version": "3.7.2"
  }
 },
 "nbformat": 4,
 "nbformat_minor": 2
}
