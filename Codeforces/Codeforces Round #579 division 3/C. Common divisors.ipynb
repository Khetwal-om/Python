{
 "cells": [
  {
   "cell_type": "code",
   "execution_count": 16,
   "metadata": {},
   "outputs": [
    {
     "name": "stdout",
     "output_type": "stream",
     "text": [
      "Enter the number of queries1\n",
      "3 6 9 12\n",
      "[1, 3, 1, 2, 3, 6, 1, 3, 9, 1, 2, 3, 4, 6, 12]\n"
     ]
    }
   ],
   "source": [
    "q=int(input(\"Enter the number of digits\"))\n",
    "array=list(map(int,input().split()))\n",
    "count=0\n",
    "flag=[]\n",
    "divisor=[]\n",
    "\n",
    "for i in array:\n",
    "    for j in range(1,i+1):\n",
    "        if i%j==0:\n",
    "            divisor.append(j)\n",
    "                \n",
    "            \n",
    "       \n",
    "      \n",
    "            \n",
    "            \n",
    "print(divisor)\n",
    "\n"
   ]
  },
  {
   "cell_type": "code",
   "execution_count": 20,
   "metadata": {},
   "outputs": [],
   "source": [
    "from collections import Counter\n",
    "answer=[1, 3, 1, 2, 3, 6, 1, 3, 9, 1, 2, 3, 4, 6, 12]\n",
    "\n",
    "dictionary=Counter(answer)\n"
   ]
  },
  {
   "cell_type": "code",
   "execution_count": 23,
   "metadata": {},
   "outputs": [
    {
     "name": "stdout",
     "output_type": "stream",
     "text": [
      "2\n"
     ]
    }
   ],
   "source": [
    "solution=0\n",
    "for key, value in dictionary.items(): \n",
    "    if value==len(array):\n",
    "        solution+=1\n",
    "print(solution)"
   ]
  },
  {
   "cell_type": "markdown",
   "metadata": {},
   "source": [
    "---"
   ]
  },
  {
   "cell_type": "code",
   "execution_count": 27,
   "metadata": {},
   "outputs": [
    {
     "name": "stdout",
     "output_type": "stream",
     "text": [
      "1\n",
      "3 6 9\n"
     ]
    },
    {
     "data": {
      "text/plain": [
       "2"
      ]
     },
     "execution_count": 27,
     "metadata": {},
     "output_type": "execute_result"
    }
   ],
   "source": [
    "q=int(input())\n",
    "array=list(map(int,input().split()))\n",
    "count=0\n",
    "flag=[]\n",
    "divisor=[]\n",
    "\n",
    "for i in array:\n",
    "    for j in range(1,i+1):\n",
    "        if i%j==0:\n",
    "            divisor.append(j)\n",
    "\n",
    "from collections import Counter\n",
    "\n",
    "dictionary=Counter(divisor)\n",
    "\n",
    "def wow():\n",
    "    solution=0\n",
    "    for key, value in dictionary.items(): \n",
    "        if value==len(array):\n",
    "            solution+=1\n",
    "    print(solution)\n",
    "\n",
    "wow()\n",
    "    \n"
   ]
  },
  {
   "cell_type": "code",
   "execution_count": 34,
   "metadata": {},
   "outputs": [
    {
     "name": "stdout",
     "output_type": "stream",
     "text": [
      "3\n",
      "3\n",
      "3\n",
      "3\n"
     ]
    }
   ],
   "source": [
    "def gcd(a, b):\n",
    "    while b > 0:\n",
    "        a, b = b, a % b\n",
    "    return a\n",
    "\n",
    "a = [3, 6, 9, 15]\n",
    "\n",
    "result = a[0]\n",
    "for i in a[1:]:\n",
    "    result = gcd(result, i)\n",
    "\n",
    "print(result)\n"
   ]
  },
  {
   "cell_type": "code",
   "execution_count": 37,
   "metadata": {},
   "outputs": [
    {
     "name": "stdout",
     "output_type": "stream",
     "text": [
      "2\n",
      "12 56 89\n",
      "3\n"
     ]
    }
   ],
   "source": [
    "from math import gcd\n",
    "from math import sqrt\n",
    "def countFactors(n):\n",
    "    s = int(sqrt(n))\n",
    "    c = 0\n",
    "    for i in range(1, s+1):\n",
    "        if (n % i == 0):\n",
    "            if i != n/i: c += 2\n",
    "            else: c += 1\n",
    "    return c\n",
    " \n",
    "n, data = int(input()), [int(i) for i in input().strip().split()]\n",
    "g = data[0]\n",
    "for i in range(1, n): g = gcd(g, data[i])\n",
    "print(countFactors(g))"
   ]
  },
  {
   "cell_type": "code",
   "execution_count": null,
   "metadata": {},
   "outputs": [],
   "source": []
  },
  {
   "cell_type": "code",
   "execution_count": 7,
   "metadata": {},
   "outputs": [
    {
     "name": "stdout",
     "output_type": "stream",
     "text": [
      "Enter the size 3\n",
      "Enter the element1\n",
      "Enter the element2\n",
      "Enter the element3\n",
      "3\n",
      "2\n",
      "1\n"
     ]
    }
   ],
   "source": [
    "n=int(input(\"Enter the size \"))\n",
    "array=[]\n",
    "for i in range(n):\n",
    "    n=int(input(\"Enter the element\"))\n",
    "    array.append(n)\n",
    "    \n",
    "\n",
    "for i in range( len(array) - 1, -1, -1) :\n",
    "    print(array[i])"
   ]
  },
  {
   "cell_type": "code",
   "execution_count": null,
   "metadata": {},
   "outputs": [],
   "source": []
  }
 ],
 "metadata": {
  "kernelspec": {
   "display_name": "Python 3",
   "language": "python",
   "name": "python3"
  },
  "language_info": {
   "codemirror_mode": {
    "name": "ipython",
    "version": 3
   },
   "file_extension": ".py",
   "mimetype": "text/x-python",
   "name": "python",
   "nbconvert_exporter": "python",
   "pygments_lexer": "ipython3",
   "version": "3.7.2"
  }
 },
 "nbformat": 4,
 "nbformat_minor": 2
}
