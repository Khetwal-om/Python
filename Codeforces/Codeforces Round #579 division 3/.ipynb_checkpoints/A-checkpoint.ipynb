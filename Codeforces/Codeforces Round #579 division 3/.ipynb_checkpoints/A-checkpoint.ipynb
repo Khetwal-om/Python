{
 "cells": [
  {
   "cell_type": "code",
   "execution_count": 5,
   "metadata": {},
   "outputs": [
    {
     "name": "stdout",
     "output_type": "stream",
     "text": [
      "ENter the no.of queries1\n",
      "Enter the number of students4\n",
      "1 4 3 2\n",
      "1\n"
     ]
    }
   ],
   "source": [
    "q=int(input(\"ENter the no.of queries\"))\n",
    "for i in range(q):\n",
    "    n=int(input(\"Enter the number of students\"))\n",
    "    p=list(map(int,input().split()))\n",
    "\n",
    "\n",
    "a=p[0]\n",
    "print(a)\n"
   ]
  },
  {
   "cell_type": "code",
   "execution_count": 14,
   "metadata": {},
   "outputs": [
    {
     "name": "stdout",
     "output_type": "stream",
     "text": [
      "[5, 3, 2, 1, 4]\n"
     ]
    },
    {
     "data": {
      "text/plain": [
       "[1, 2, 3, 4, 5]"
      ]
     },
     "execution_count": 14,
     "metadata": {},
     "output_type": "execute_result"
    }
   ],
   "source": [
    "list_a=[5,3,2,1,4]\n",
    "print(list_a)\n",
    "set_a=list(set(list_a))\n",
    "set_a"
   ]
  },
  {
   "cell_type": "code",
   "execution_count": 31,
   "metadata": {},
   "outputs": [
    {
     "name": "stdout",
     "output_type": "stream",
     "text": [
      "6 ----max index\n",
      "0 ----min index\n",
      "7\n",
      "1\n"
     ]
    }
   ],
   "source": [
    "clock=[1,3,4,5,2,6,7]\n",
    "max_index=clock.index(max(clock))\n",
    "min_index=clock.index(min(clock))\n",
    "\n",
    "print(max_index,'----max index')\n",
    "print(min_index,'----min index')\n",
    "\n",
    "print(clock[6])\n",
    "print(clock[0])\n",
    "\n",
    "\n"
   ]
  },
  {
   "cell_type": "code",
   "execution_count": null,
   "metadata": {},
   "outputs": [],
   "source": []
  },
  {
   "cell_type": "code",
   "execution_count": null,
   "metadata": {},
   "outputs": [],
   "source": []
  }
 ],
 "metadata": {
  "kernelspec": {
   "display_name": "Python 3",
   "language": "python",
   "name": "python3"
  },
  "language_info": {
   "codemirror_mode": {
    "name": "ipython",
    "version": 3
   },
   "file_extension": ".py",
   "mimetype": "text/x-python",
   "name": "python",
   "nbconvert_exporter": "python",
   "pygments_lexer": "ipython3",
   "version": "3.7.2"
  }
 },
 "nbformat": 4,
 "nbformat_minor": 2
}
