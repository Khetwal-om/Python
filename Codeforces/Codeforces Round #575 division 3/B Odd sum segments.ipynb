{
 "cells": [
  {
   "cell_type": "code",
   "execution_count": 8,
   "metadata": {},
   "outputs": [
    {
     "name": "stdout",
     "output_type": "stream",
     "text": [
      "12 23 \n",
      "[12, 23]\n"
     ]
    }
   ],
   "source": [
    "x = [int(i) for i in input().split()]\n",
    "print(x)"
   ]
  },
  {
   "cell_type": "code",
   "execution_count": 9,
   "metadata": {},
   "outputs": [
    {
     "name": "stdout",
     "output_type": "stream",
     "text": [
      "34 34\n"
     ]
    }
   ],
   "source": [
    "x = [int(i) for i in input().split()]"
   ]
  },
  {
   "cell_type": "code",
   "execution_count": null,
   "metadata": {},
   "outputs": [],
   "source": [
    "array=list(map(int,input().split()))"
   ]
  },
  {
   "cell_type": "code",
   "execution_count": null,
   "metadata": {},
   "outputs": [],
   "source": [
    "arr = [ int(input()) for i in range(n)]"
   ]
  },
  {
   "cell_type": "code",
   "execution_count": null,
   "metadata": {},
   "outputs": [],
   "source": [
    "queries=int(input(\"Enter the number of queries\"))"
   ]
  },
  {
   "cell_type": "code",
   "execution_count": 10,
   "metadata": {},
   "outputs": [
    {
     "name": "stdout",
     "output_type": "stream",
     "text": [
      "12 3 54 56 57\n",
      "enter the number of divisions3\n"
     ]
    }
   ],
   "source": [
    "#n=int(input(\"Enter the number of elements you want to enter in the array\"))\n",
    "x = [int(i) for i in input().split()]\n",
    "division=int(input(\"enter the number of divisions\"))\n",
    "\n",
    "def solution(x,division):\n",
    "    for i in x:\n",
    "        "
   ]
  },
  {
   "cell_type": "code",
   "execution_count": 13,
   "metadata": {},
   "outputs": [],
   "source": [
    "def sub_lists(list1): \n",
    "    sublist = [[]] \n",
    "    for i in range(len(list1) + 1):    \n",
    "        for j in range(i + 1, len(list1) + 1): \n",
    "            sub = list1[i:j] \n",
    "            sublist.append(sub) \n",
    "    return sublist \n",
    "  \n",
    "l1 = [1, 2, 3, 4] \n",
    "print(sub_lists(l1)) "
   ]
  },
  {
   "cell_type": "code",
   "execution_count": 14,
   "metadata": {},
   "outputs": [
    {
     "name": "stdout",
     "output_type": "stream",
     "text": [
      "[[], [1], [1, 2], [1, 2, 3], [1, 2, 3, 4], [1, 2, 3, 4, 5], [2], [2, 3], [2, 3, 4], [2, 3, 4, 5], [3], [3, 4], [3, 4, 5], [4], [4, 5], [5]]\n"
     ]
    }
   ],
   "source": [
    "def sub_lists(values):\n",
    "    sublist=[[]]\n",
    "    for i in range(len(values)+1):\n",
    "        for j in range(i+1,len(values)+1):\n",
    "            sub=values[i:j]\n",
    "            sublist.append(sub)\n",
    "    return sublist\n",
    "\n",
    "values=[1,2,3,4,5]\n",
    "print(sub_lists(values))"
   ]
  },
  {
   "cell_type": "code",
   "execution_count": 19,
   "metadata": {},
   "outputs": [
    {
     "name": "stdout",
     "output_type": "stream",
     "text": [
      "1\n",
      "[1]\n",
      "3\n",
      "[1, 2]\n",
      "15\n",
      "[1, 2, 3, 4, 5]\n",
      "5\n",
      "[2, 3]\n",
      "9\n",
      "[2, 3, 4]\n",
      "3\n",
      "[3]\n",
      "7\n",
      "[3, 4]\n",
      "9\n",
      "[4, 5]\n",
      "5\n",
      "[5]\n"
     ]
    }
   ],
   "source": [
    "def sub_lists(values):\n",
    "    sublist=[[]]\n",
    "    for i in range(len(values)+1):\n",
    "        for j in range(i+1,len(values)+1):\n",
    "            sub=values[i:j]\n",
    "            sublist.append(sub)\n",
    "    \n",
    "    \n",
    "    for i in sublist:\n",
    "        if sum(i)%2==1:\n",
    "            print(sum(i))\n",
    "            print(i)\n",
    "    \n",
    "\n",
    "values=[1,2,3,4,5]\n",
    "sub_lists(values)"
   ]
  },
  {
   "cell_type": "code",
   "execution_count": null,
   "metadata": {},
   "outputs": [],
   "source": []
  }
 ],
 "metadata": {
  "kernelspec": {
   "display_name": "Python 3",
   "language": "python",
   "name": "python3"
  },
  "language_info": {
   "codemirror_mode": {
    "name": "ipython",
    "version": 3
   },
   "file_extension": ".py",
   "mimetype": "text/x-python",
   "name": "python",
   "nbconvert_exporter": "python",
   "pygments_lexer": "ipython3",
   "version": "3.7.2"
  }
 },
 "nbformat": 4,
 "nbformat_minor": 2
}
