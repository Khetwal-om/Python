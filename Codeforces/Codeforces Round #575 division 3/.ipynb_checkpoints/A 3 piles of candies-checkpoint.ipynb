{
 "cells": [
  {
   "cell_type": "code",
   "execution_count": 1,
   "metadata": {},
   "outputs": [
    {
     "name": "stdout",
     "output_type": "stream",
     "text": [
      "Enter the number of queries1\n",
      "Enter the value of a b and c1,2,3\n",
      "1\n",
      "2\n",
      "3\n"
     ]
    }
   ],
   "source": [
    "q=int(input(\"Enter the number of queries\"))\n",
    "\n",
    "\n",
    "\n",
    "def solution(a,b,c):\n",
    "    alice=a\n",
    "    bob=b\n",
    "    \n",
    "    if alice>bob:\n",
    "        \n",
    "    \n",
    "\n",
    "for i in range(q):\n",
    "    a,b,c=input(\"Enter the value of a b and c\").split(' ')\n",
    "    a=int(a)\n",
    "    b=int(b)\n",
    "    c=int(c)\n",
    "    \n",
    "    \n",
    "    \n",
    "    \n",
    "    \n",
    "    solution(a,b,c)\n",
    "    \n",
    "    \n",
    "print(a)\n",
    "print(b)\n",
    "print(c)"
   ]
  },
  {
   "cell_type": "code",
   "execution_count": 3,
   "metadata": {},
   "outputs": [
    {
     "name": "stdout",
     "output_type": "stream",
     "text": [
      "Enter the number of queries2\n",
      "Enter the value of a b and c1,2,3\n",
      "Enter the value of a b and c2,3,5\n"
     ]
    }
   ],
   "source": [
    "q=int(input(\"Enter the number of queries\"))\n",
    "\n",
    "\n",
    "\n",
    "\n",
    "for i in range(q):\n",
    "    a,b,c=input(\"Enter the value of a b and c\").split(' ')\n",
    "    a=int(a)\n",
    "    b=int(b)\n",
    "    c=int(c)\n",
    " "
   ]
  },
  {
   "cell_type": "code",
   "execution_count": 33,
   "metadata": {},
   "outputs": [
    {
     "name": "stdout",
     "output_type": "stream",
     "text": [
      "Enter the value of a 10000000000000000\n",
      "Enter the value of b10000000000000000\n",
      "Enter the value of c10000000000000000\n",
      "1 Yes,proceed in a>b and (a-b)<c\n",
      "15000000000000000 have candies\n",
      "15000000000000000 have candies\n"
     ]
    }
   ],
   "source": [
    "def solution(a,b,c):\n",
    "    difference=0\n",
    "    alice=a\n",
    "    bob=b\n",
    "    left=c\n",
    "    variation=a-b\n",
    "    c=c-variation\n",
    "    bob=bob+variation\n",
    "    \n",
    "    \n",
    "    if c%2==0:    \n",
    "        alice=alice+c//2\n",
    "        bob=bob+c//2\n",
    " \n",
    "    else:\n",
    "        alice=alice+c//2\n",
    "        bob=bob+c//2\n",
    "        if alice>bob:\n",
    "            difference=alice-bob\n",
    "            print(difference)\n",
    "            alice=alice-difference\n",
    "        else:\n",
    "            difference=bob-alice\n",
    "            print()\n",
    "            bob=bob-difference\n",
    "            \n",
    "            \n",
    "            \n",
    "    alice=alice-difference\n",
    "    bob=bob-difference\n",
    "    \n",
    "    \n",
    "    print(alice,\"have candies\")\n",
    "    print(bob,\"have candies\")\n",
    "    \n",
    "\n",
    "a=int(input(\"Enter the value of a \"))\n",
    "b=int(input(\"Enter the value of b\"))\n",
    "c=int(input(\"Enter the value of c\"))\n",
    "if a>=b and (a-b)<=c:\n",
    "    print(\"1 Yes,proceed in a>b and (a-b)<c\")\n",
    "    solution(a,b,c)\n",
    "elif a>=c and (a-c)<=b:\n",
    "    print(\"2 Yes,proceed in elif of a>c and (a-c)<b\")\n",
    "    solution(a,c,b)\n",
    "elif b>=a and (b-a)<=c:\n",
    "    print(\"3 b>a and (b-a)<c case\")\n",
    "    solution(b,a,c)\n",
    "elif b>=c and (c-b)<=a:\n",
    "    print(\"4 b>c and (b-c)<a case\")\n",
    "    solution(b,c,a)\n",
    "elif c>=a and (c-a)<=b:\n",
    "    print(\"5 c>a and (c-a)>b\")\n",
    "    solution(c,a,b)\n",
    "elif c>=b and (c-b)<=a:\n",
    "    print(\"6 c>b and (c-b)>b\")\n",
    "    solution(c,b,a)\n",
    "else:\n",
    "    print(\"Impossible\")"
   ]
  },
  {
   "cell_type": "code",
   "execution_count": 30,
   "metadata": {},
   "outputs": [
    {
     "name": "stdout",
     "output_type": "stream",
     "text": [
      "1\n",
      "23 34 45\n",
      "51\n"
     ]
    }
   ],
   "source": [
    "def solution(a,b,c):\n",
    "    difference=0\n",
    "    alice=a\n",
    "    bob=b\n",
    "    left=c\n",
    "    variation=a-b\n",
    "    c=c-variation\n",
    "    bob=bob+variation\n",
    "    \n",
    "    \n",
    "    if c%2==0:    \n",
    "        alice=alice+c//2\n",
    "        bob=bob+c//2\n",
    " \n",
    "    else:\n",
    "        alice=alice+c//2\n",
    "        bob=bob+c//2\n",
    "        if alice>bob:\n",
    "            difference=alice-bob\n",
    "            print(difference)\n",
    "            alice=alice-difference\n",
    "        else:\n",
    "            difference=bob-alice\n",
    "            print()\n",
    "            bob=bob-difference\n",
    "            \n",
    "            \n",
    "            \n",
    "    alice=alice-difference\n",
    "    bob=bob-difference\n",
    "    \n",
    "    return bob\n",
    "    \n",
    "\n",
    "q=int(input())\n",
    "for i in range(q):\n",
    "\n",
    "    a,b,c=input().split(' ')\n",
    "    a=int(a)\n",
    "    b=int(b)\n",
    "    c=int(c)\n",
    "    if a>=b and (a-b)<=c:\n",
    "        #print(\"1 Yes,proceed in a>b and (a-b)<c\")\n",
    "        print(solution(a,b,c))\n",
    "    elif a>=c and (a-c)<=b:\n",
    "        #print(\"2 Yes,proceed in elif of a>c and (a-c)<b\")\n",
    "        print(solution(a,c,b))\n",
    "    elif b>=a and (b-a)<=c:\n",
    "        #print(\"3 b>a and (b-a)<c case\")\n",
    "        print(solution(b,a,c))\n",
    "    elif b>=c and (c-b)<=a:\n",
    "        #print(\"4 b>c and (b-c)<a case\")\n",
    "        print(solution(b,c,a))\n",
    "    elif c>=a and (c-a)<=b:\n",
    "        #print(\"5 c>a and (c-a)>b\")\n",
    "        print(solution(c,a,b))\n",
    "    elif c>=b and (c-b)<=a:\n",
    "        #print(\"6 c>b and (c-b)>b\")\n",
    "        print(solution(c,b,a))\n"
   ]
  },
  {
   "cell_type": "markdown",
   "metadata": {},
   "source": []
  }
 ],
 "metadata": {
  "kernelspec": {
   "display_name": "Python 3",
   "language": "python",
   "name": "python3"
  },
  "language_info": {
   "codemirror_mode": {
    "name": "ipython",
    "version": 3
   },
   "file_extension": ".py",
   "mimetype": "text/x-python",
   "name": "python",
   "nbconvert_exporter": "python",
   "pygments_lexer": "ipython3",
   "version": "3.7.2"
  }
 },
 "nbformat": 4,
 "nbformat_minor": 2
}
