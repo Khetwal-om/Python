{
 "cells": [
  {
   "cell_type": "code",
   "execution_count": 24,
   "metadata": {},
   "outputs": [
    {
     "name": "stdout",
     "output_type": "stream",
     "text": [
      "1\n",
      "12 34 35 23 2343\n",
      "[12, 23, 34, 35, 2343]\n",
      "12\n",
      "23\n",
      "2\n"
     ]
    }
   ],
   "source": [
    "k=int(input())\n",
    "\n",
    "data=list(map(int,input().split()))\n",
    "\n",
    "# k elements are less than equal to x\n",
    "# k = 4\n",
    "# data=[3,7,5,1,10,3,20]\n",
    "# 4 elements are less than x\n",
    "\n",
    "data.sort()\n",
    "print(data)\n",
    "for i in data:\n",
    "    if i<30:\n",
    "        count+=1\n",
    "        print(i)\n",
    "        \n",
    "print(count)"
   ]
  },
  {
   "cell_type": "markdown",
   "metadata": {},
   "source": [
    "#### "
   ]
  }
 ],
 "metadata": {
  "kernelspec": {
   "display_name": "Python 3",
   "language": "python",
   "name": "python3"
  },
  "language_info": {
   "codemirror_mode": {
    "name": "ipython",
    "version": 3
   },
   "file_extension": ".py",
   "mimetype": "text/x-python",
   "name": "python",
   "nbconvert_exporter": "python",
   "pygments_lexer": "ipython3",
   "version": "3.7.2"
  }
 },
 "nbformat": 4,
 "nbformat_minor": 2
}
