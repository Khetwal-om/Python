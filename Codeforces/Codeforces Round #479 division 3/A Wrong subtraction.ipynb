{
 "cells": [
  {
   "cell_type": "code",
   "execution_count": 8,
   "metadata": {},
   "outputs": [
    {
     "name": "stdout",
     "output_type": "stream",
     "text": [
      "Enter the number and value of k1000000000 9\n",
      "1\n"
     ]
    }
   ],
   "source": [
    "number,k=input(\"Enter the number and value of k\").split()\n",
    "number=int(number)\n",
    "k=int(k)\n",
    "\n",
    "i=1\n",
    "\n",
    "while i<=k:\n",
    "    if number%10!=0:\n",
    "        number=number-1\n",
    "    else:\n",
    "        number=number//10\n",
    "    i=i+1\n",
    "\n",
    "    \n",
    "print(number)\n",
    "\n"
   ]
  },
  {
   "cell_type": "code",
   "execution_count": 9,
   "metadata": {},
   "outputs": [
    {
     "name": "stdout",
     "output_type": "stream",
     "text": [
      "1000000000 9\n",
      "1\n"
     ]
    }
   ],
   "source": [
    "number,k=input().split()\n",
    "number=int(number)\n",
    "k=int(k)\n",
    "\n",
    "i=1\n",
    "\n",
    "while i<=k:\n",
    "    if number%10!=0:\n",
    "        number=number-1\n",
    "    else:\n",
    "        number=number//10\n",
    "    i=i+1\n",
    "\n",
    "    \n",
    "print(number)\n",
    "\n"
   ]
  },
  {
   "cell_type": "code",
   "execution_count": null,
   "metadata": {},
   "outputs": [],
   "source": []
  },
  {
   "cell_type": "markdown",
   "metadata": {},
   "source": [
    "---\n",
    "```c++\n",
    "int n, k;\n",
    "\tcin >> n >> k;\n",
    "\t\n",
    "\tfor (int i = 0; i < k; ++i) {\n",
    "\t\tif (n % 10 == 0) n /= 10;\n",
    "\t\telse n--;\n",
    "\t}\n",
    "\t\n",
    "\tcout << n << endl;\n",
    "```\n",
    "---"
   ]
  },
  {
   "cell_type": "code",
   "execution_count": null,
   "metadata": {},
   "outputs": [],
   "source": []
  }
 ],
 "metadata": {
  "kernelspec": {
   "display_name": "Python 3",
   "language": "python",
   "name": "python3"
  },
  "language_info": {
   "codemirror_mode": {
    "name": "ipython",
    "version": 3
   },
   "file_extension": ".py",
   "mimetype": "text/x-python",
   "name": "python",
   "nbconvert_exporter": "python",
   "pygments_lexer": "ipython3",
   "version": "3.7.2"
  }
 },
 "nbformat": 4,
 "nbformat_minor": 2
}
